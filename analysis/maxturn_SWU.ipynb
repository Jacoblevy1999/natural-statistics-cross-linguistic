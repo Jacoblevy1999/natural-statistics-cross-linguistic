{
 "cells": [
  {
   "cell_type": "markdown",
   "id": "be4c15b1-1467-4cd3-a4b2-656d556086fb",
   "metadata": {},
   "source": [
    "# Natural Statistics Cross-linguistic: \n",
    "\n",
    "#### Proportion of single-word utterances analysis - maximum vocal turns sample\n",
    "\n",
    "----"
   ]
  },
  {
   "cell_type": "code",
   "execution_count": 1,
   "id": "423068ab-ea07-405a-ac54-68b553215ea8",
   "metadata": {},
   "outputs": [],
   "source": [
    "import pandas as pd\n",
    "import numpy as np\n",
    "import sys\n",
    "sys.path.insert(0, \"data_proc\")\n",
    "import contingent_extraction\n",
    "import warnings\n",
    "warnings.filterwarnings('ignore')"
   ]
  },
  {
   "cell_type": "code",
   "execution_count": 3,
   "id": "175c6aeb-ffcf-42d7-90f1-d956928ad3ea",
   "metadata": {},
   "outputs": [],
   "source": [
    "maxturn_dat_inc = pd.read_csv(\"../data/maxturn_dat_inc_master.csv\",index_col=0,low_memory=False)\n",
    "maxturn_dat_inc=maxturn_dat_inc[maxturn_dat_inc[\"language\"]!=\"ara\"]\n",
    "maxturn_dat_inc=maxturn_dat_inc[(maxturn_dat_inc[\"target_child_age\"]>=5) & (maxturn_dat_inc[\"target_child_age\"]<=30)]\n",
    "maxturn_dat_inc_cg = maxturn_dat_inc[maxturn_dat_inc[\"caregiver\"]==\"caregiver\"]\n",
    "\n",
    "maxturn_dat_inc_cg[\"contingent\"] = np.where(maxturn_dat_inc_cg[\"contingent\"]==1, \"contingent\", \"non-contingent\")\n",
    "\n",
    "maxturn_dat_inc_cg = maxturn_dat_inc_cg[maxturn_dat_inc_cg[\"gloss\"].notna()]\n",
    "maxturn_dat_inc_cg = maxturn_dat_inc_cg[maxturn_dat_inc_cg[\"gloss\"]!=\"xxx\"]\n",
    "maxturn_dat_inc_cg = maxturn_dat_inc_cg[maxturn_dat_inc_cg[\"gloss\"]!=\"yyy\"]\n",
    "maxturn_dat_inc_cg = maxturn_dat_inc_cg[maxturn_dat_inc_cg[\"gloss\"]!=\"www\"]\n",
    "\n",
    "maxturn_dat_inc_cg[\"swu\"]=np.where(maxturn_dat_inc_cg[\"num_tokens\"]==1,1,0)"
   ]
  },
  {
   "cell_type": "code",
   "execution_count": 4,
   "id": "f65ed7ea-3df1-441d-b191-814935a1775e",
   "metadata": {},
   "outputs": [],
   "source": [
    "maxturn_swu_stats = (maxturn_dat_inc_cg.groupby([\"Language_name\",\"target_child_id\",\"transcript_id\",\"contingent\"])\n",
    "                                  .swu\n",
    "                                  .agg([\"mean\"])\n",
    "                                  .reset_index())\n",
    "maxturn_swu_stats =  maxturn_swu_stats.rename({'mean': 'means'}, axis=1)"
   ]
  },
  {
   "cell_type": "markdown",
   "id": "36e09952-be89-486a-89e1-d09775fd3c55",
   "metadata": {},
   "source": [
    "----\n",
    "#### Proportion single-word utterances plot"
   ]
  },
  {
   "cell_type": "code",
   "execution_count": 5,
   "id": "9f9e1884-b919-4286-bca7-85d2a5f0423d",
   "metadata": {},
   "outputs": [],
   "source": [
    "%load_ext rpy2.ipython"
   ]
  },
  {
   "cell_type": "code",
   "execution_count": 5,
   "id": "1aaac7fc-3305-4fc4-aaaf-b8059f8aa12f",
   "metadata": {},
   "outputs": [],
   "source": [
    "%%R -i maxturn_swu_stats\n",
    "\n",
    "library('ggplot2')\n",
    "library('repr')\n",
    "options(repr.plot.width=6, repr.plot.height=12)\n",
    "\n",
    "# # ara_label <- data.frame(means=c(.9),contingent = c(1.5),language=\"ara\")\n",
    "deu_label <- data.frame(means=c(.47),contingent = c(1.5),Language_name=\"German\")\n",
    "# deu_ns_label <- data.frame(means=c(.5),contingent = c(1.5),Language_name=\"German\")\n",
    "eng_label <- data.frame(means=c(.47),contingent = c(1.5),Language_name=\"English\")\n",
    "est_label <- data.frame(means=c(.47),contingent = c(1.5),Language_name=\"Estonian\")\n",
    "# est_ns_label <- data.frame(means=c(.5),contingent = c(1.5),Language_name=\"Estonian\")\n",
    "fas_label <- data.frame(means=c(.5),contingent = c(1.5),Language_name=\"Persian\")\n",
    "fra_label <- data.frame(means=c(.47),contingent = c(1.5),Language_name=\"French\")\n",
    "hrv_label <- data.frame(means=c(.47),contingent = c(1.5),Language_name=\"Croatian\")\n",
    "jpn_label <- data.frame(means=c(.47),contingent = c(1.5),Language_name=\"Japanese\")\n",
    "kor_label <- data.frame(means=c(.47),contingent = c(1.5),Language_name=\"Korean\")\n",
    "nor_label <- data.frame(means=c(.47),contingent = c(1.5),Language_name=\"Norwegian\")\n",
    "pol_label <- data.frame(means=c(.47),contingent = c(1.5),Language_name=\"Polish\")\n",
    "por_label <- data.frame(means=c(.47),contingent = c(1.5),Language_name=\"Portuguese\")\n",
    "spa_label <- data.frame(means=c(.47),contingent = c(1.5),Language_name=\"Spanish\")\n",
    "swe_label <- data.frame(means=c(.47),contingent = c(1.5),Language_name=\"Swedish\")\n",
    "zho_label <- data.frame(means=c(.5),contingent = c(1.5),Language_name=\"Mandarin\")\n",
    "\n",
    "\n",
    "p <- ggplot(maxturn_swu_stats, aes(x = contingent, y = means, color = Language_name)) +\n",
    "     stat_summary(fun.y=mean, geom=\"point\", shape=19, size=1.75) + \n",
    "     stat_summary(fun.data = mean_se, geom = \"errorbar\", size=1.25, width = .5) +\n",
    "     facet_wrap(. ~ Language_name,ncol = 7) + \n",
    "     geom_text(data = deu_label,label = \"***\",size=8,color=\"black\") +\n",
    "#      geom_text(data = deu_ns_label,label = \"ns\",size=4,color=\"black\",fontface = \"italic\") +\n",
    "     geom_text(data = eng_label,label = \"***\",size=8,color=\"black\") +  \n",
    "#      geom_text(data = est_ns_label,label = \"ns\",size=4,color=\"black\",fontface = \"italic\") +  \n",
    "     geom_text(data = est_label,label = \"***\", size=8,color=\"black\") +  \n",
    "     geom_text(data = fas_label,label = \"ns\", size=4,color=\"black\",fontface = \"italic\") + \n",
    "     geom_text(data = fra_label,label = \"***\",size=8,color=\"black\") +  \n",
    "     geom_text(data = hrv_label,label = \"***\",size=8,color=\"black\") + \n",
    "     geom_text(data = jpn_label,label = \"***\",size=8,color=\"black\") + \n",
    "     geom_text(data = kor_label,label = \"***\",size=8,color=\"black\") +  \n",
    "     geom_text(data = nor_label,label = \"***\",size=8,color=\"black\") +  \n",
    "     geom_text(data = pol_label,label = \"ns\", size=4,color=\"black\",fontface = \"italic\") +    \n",
    "     geom_text(data = por_label,label = \"***\",size=8,color=\"black\") +  \n",
    "     geom_text(data = spa_label,label = \"***\",size=8,color=\"black\") + \n",
    "     geom_text(data = swe_label,label = \"***\",size=8,color=\"black\") + \n",
    "     geom_text(data = zho_label,label = \"ns\", size=4, color=\"black\",fontface = \"italic\") +\n",
    "     ylim(0, .5) +\n",
    "     labs(# title = \"Proportion of single-word utterances\",\n",
    "       # subtitle = \"Using CHILDES Token counts\",\n",
    "       y = \"Prop. single word utt.\", x = \"\") +\n",
    "     theme_classic() +\n",
    "     theme(text = element_text(size=16),\n",
    "           axis.text.x = element_text(angle = 90, vjust = 0.5, hjust=1),\n",
    "           legend.title = element_blank(),\n",
    "           legend.background = element_rect(fill=alpha(\"white\",0.90),\n",
    "                                                            size=0, linetype=\"dotted\",\n",
    "                                                            colour = \"white\"),\n",
    "           legend.text=element_text(size=16))\n",
    "     ggsave(\"../figures/token_swu_maxturn.pdf\", width = 11.7, height = 6.2)"
   ]
  },
  {
   "cell_type": "markdown",
   "id": "d81f167b-752a-46c6-97e6-57d26b33e8ef",
   "metadata": {},
   "source": [
    "Plot + effect estimates"
   ]
  },
  {
   "cell_type": "code",
   "execution_count": 6,
   "id": "9d5f0e07-c3b7-4cce-bee4-a6f9c4b448b6",
   "metadata": {},
   "outputs": [],
   "source": [
    "%%R\n",
    "\n",
    "deu_est_label <- data.frame(means=c(.02),contingent = c(1),Language_name=\"German\")\n",
    "eng_est_label <- data.frame(means=c(.02),contingent = c(1),Language_name=\"English\")\n",
    "est_est_label <- data.frame(means=c(.02),contingent = c(1),Language_name=\"Estonian\")\n",
    "fra_est_label <- data.frame(means=c(.02),contingent = c(1),Language_name=\"French\")\n",
    "hrv_est_label <- data.frame(means=c(.02),contingent = c(1),Language_name=\"Croatian\")\n",
    "jpn_est_label <- data.frame(means=c(.02),contingent = c(1),Language_name=\"Japanese\")\n",
    "kor_est_label <- data.frame(means=c(.02),contingent = c(1),Language_name=\"Korean\")\n",
    "nor_est_label <- data.frame(means=c(.02),contingent = c(1),Language_name=\"Norwegian\")\n",
    "por_est_label <- data.frame(means=c(.02),contingent = c(1),Language_name=\"Portuguese\")\n",
    "spa_est_label <- data.frame(means=c(.02),contingent = c(1),Language_name=\"Spanish\")\n",
    "swe_est_label <- data.frame(means=c(.02),contingent = c(1),Language_name=\"Swedish\")\n",
    "\n",
    "p <- p + geom_text(data = deu_est_label,label = \"est=.09\",size=4,color=\"black\") +\n",
    "         geom_text(data = eng_est_label,label = \"est=.09\",size=4,color=\"black\") +\n",
    "         geom_text(data = est_est_label,label = \"est=.06\",size=4,color=\"black\") +\n",
    "         geom_text(data = fra_est_label,label = \"est=.04\",size=4,color=\"black\") +\n",
    "         geom_text(data = hrv_est_label,label = \"est=.07\",size=4,color=\"black\") +\n",
    "         geom_text(data = jpn_est_label,label = \"est=.18\",size=4,color=\"black\") +\n",
    "         geom_text(data = kor_est_label,label = \"est=.08\",size=4,color=\"black\") +\n",
    "         geom_text(data = nor_est_label,label = \"est=.03\",size=4,color=\"black\") +\n",
    "         geom_text(data = por_est_label,label = \"est=.09\",size=4,color=\"black\") +\n",
    "         geom_text(data = spa_est_label,label = \"est=.05\",size=4,color=\"black\") +\n",
    "         geom_text(data = swe_est_label,label = \"est=.14\",size=4,color=\"black\")\n",
    "         \n",
    "ggsave(\"../figures/token_swu_maxturn_eff.pdf\", width = 11.7, height = 6.2)"
   ]
  },
  {
   "cell_type": "markdown",
   "id": "a19a12ec-042a-4c9f-82a9-e9fc8b1d3b2a",
   "metadata": {},
   "source": [
    "\\+ sample size"
   ]
  },
  {
   "cell_type": "code",
   "execution_count": 7,
   "id": "f5a842f3-03a0-4a2a-aebd-230b2912243d",
   "metadata": {},
   "outputs": [],
   "source": [
    "%%R\n",
    "\n",
    "deu_n_label <- data.frame(means=c(.02),contingent = c(1.7),Language_name=\"German\")\n",
    "eng_n_label <- data.frame(means=c(.02),contingent = c(1.7),Language_name=\"English\")\n",
    "est_n_label <- data.frame(means=c(.02),contingent = c(1.7),Language_name=\"Estonian\")\n",
    "fas_n_label <- data.frame(means=c(.02),contingent = c(1.7),Language_name=\"Persian\")\n",
    "fra_n_label <- data.frame(means=c(.02),contingent = c(1.7),Language_name=\"French\")\n",
    "hrv_n_label <- data.frame(means=c(.02),contingent = c(1.7),Language_name=\"Croatian\")\n",
    "jpn_n_label <- data.frame(means=c(.02),contingent = c(1.7),Language_name=\"Japanese\")\n",
    "kor_n_label <- data.frame(means=c(.02),contingent = c(1.7),Language_name=\"Korean\")\n",
    "nor_n_label <- data.frame(means=c(.02),contingent = c(1.7),Language_name=\"Norwegian\")\n",
    "pol_n_label <- data.frame(means=c(.02),contingent = c(1.7),Language_name=\"Polish\")\n",
    "por_n_label <- data.frame(means=c(.02),contingent = c(1.7),Language_name=\"Portuguese\")\n",
    "spa_n_label <- data.frame(means=c(.02),contingent = c(1.7),Language_name=\"Spanish\")\n",
    "swe_n_label <- data.frame(means=c(.02),contingent = c(1.7),Language_name=\"Swedish\")\n",
    "zho_n_label <- data.frame(means=c(.02),contingent = c(1.7),Language_name=\"Mandarin\")\n",
    "\n",
    "deu_sz_label <- data.frame(means=c(.02),contingent = c(2.1),Language_name=\"German\")\n",
    "eng_sz_label <- data.frame(means=c(.02),contingent = c(2.1),Language_name=\"English\")\n",
    "est_sz_label <- data.frame(means=c(.02),contingent = c(2.1),Language_name=\"Estonian\")\n",
    "fas_sz_label <- data.frame(means=c(.02),contingent = c(2.1),Language_name=\"Persian\")\n",
    "fra_sz_label <- data.frame(means=c(.02),contingent = c(2.1),Language_name=\"French\")\n",
    "hrv_sz_label <- data.frame(means=c(.02),contingent = c(2.1),Language_name=\"Croatian\")\n",
    "jpn_sz_label <- data.frame(means=c(.02),contingent = c(2.1),Language_name=\"Japanese\")\n",
    "kor_sz_label <- data.frame(means=c(.02),contingent = c(2.1),Language_name=\"Korean\")\n",
    "nor_sz_label <- data.frame(means=c(.02),contingent = c(2.1),Language_name=\"Norwegian\")\n",
    "pol_sz_label <- data.frame(means=c(.02),contingent = c(2.1),Language_name=\"Polish\")\n",
    "por_sz_label <- data.frame(means=c(.02),contingent = c(2.1),Language_name=\"Portuguese\")\n",
    "spa_sz_label <- data.frame(means=c(.02),contingent = c(2.1),Language_name=\"Spanish\")\n",
    "swe_sz_label <- data.frame(means=c(.02),contingent = c(2.1),Language_name=\"Swedish\")\n",
    "zho_sz_label <- data.frame(means=c(.02),contingent = c(2.1),Language_name=\"Mandarin\")\n",
    "\n",
    "p <- p + geom_text(data = deu_n_label,label = \"n\",size=4,color=\"black\",fontface = \"italic\") +\n",
    "         geom_text(data = eng_n_label,label = \"n\",size=4,color=\"black\",fontface = \"italic\") +\n",
    "         geom_text(data = est_n_label,label = \"n\",size=4,color=\"black\",fontface = \"italic\") +\n",
    "         geom_text(data = fas_n_label,label = \"n\",size=4,color=\"black\",fontface = \"italic\") +\n",
    "         geom_text(data = fra_n_label,label = \"n\",size=4,color=\"black\",fontface = \"italic\") +\n",
    "         geom_text(data = hrv_n_label,label = \"n\",size=4,color=\"black\",fontface = \"italic\") +\n",
    "         geom_text(data = jpn_n_label,label = \"n\",size=4,color=\"black\",fontface = \"italic\") +\n",
    "         geom_text(data = kor_n_label,label = \"n\",size=4,color=\"black\",fontface = \"italic\") +\n",
    "         geom_text(data = nor_n_label,label = \"n\",size=4,color=\"black\",fontface = \"italic\") +\n",
    "         geom_text(data = pol_n_label,label = \"n\",size=4,color=\"black\",fontface = \"italic\") +\n",
    "         geom_text(data = por_n_label,label = \"n\",size=4,color=\"black\",fontface = \"italic\") +\n",
    "         geom_text(data = spa_n_label,label = \"n\",size=4,color=\"black\",fontface = \"italic\") +\n",
    "         geom_text(data = swe_n_label,label = \"n\",size=4,color=\"black\",fontface = \"italic\") +\n",
    "         geom_text(data = zho_n_label,label = \"n\",size=4,color=\"black\",fontface = \"italic\") +\n",
    "         geom_text(data = deu_sz_label,label = \" = 39\",size=4,color=\"black\") +\n",
    "         geom_text(data = eng_sz_label,label = \" =1010\",size=4,color=\"black\") +\n",
    "         geom_text(data = est_sz_label,label = \" = 22\",size=4,color=\"black\") +\n",
    "         geom_text(data = fas_sz_label,label = \" = 12\",size=4,color=\"black\") +\n",
    "         geom_text(data = fra_sz_label,label = \" = 258\",size=4,color=\"black\") +\n",
    "         geom_text(data = hrv_sz_label,label = \" = 79\",size=4,color=\"black\") +\n",
    "         geom_text(data = jpn_sz_label,label = \" = 139\",size=4,color=\"black\") +\n",
    "         geom_text(data = kor_sz_label,label = \" = 37\",size=4,color=\"black\") +\n",
    "         geom_text(data = nor_sz_label,label = \" = 56\",size=4,color=\"black\") +\n",
    "         geom_text(data = pol_sz_label,label = \" = 1\",size=4,color=\"black\") +\n",
    "         geom_text(data = por_sz_label,label = \" = 24\",size=4,color=\"black\") +\n",
    "         geom_text(data = spa_sz_label,label = \" = 31\",size=4,color=\"black\") +\n",
    "         geom_text(data = swe_sz_label,label = \" = 16\",size=4,color=\"black\") +\n",
    "         geom_text(data = zho_sz_label,label = \" = 2\",size=4,color=\"black\")\n",
    "         \n",
    "\n",
    "ggsave(\"../figures/token_swu_maxturn_eff_n.pdf\", width = 11.7, height = 6.2)"
   ]
  },
  {
   "cell_type": "markdown",
   "id": "195507dc-9382-40f5-9e6d-790978c64787",
   "metadata": {},
   "source": [
    "----\n",
    "\n",
    "#### SWU mixed models"
   ]
  },
  {
   "cell_type": "code",
   "execution_count": 6,
   "id": "7dfed4de-8179-47e1-937b-5165582fc099",
   "metadata": {},
   "outputs": [],
   "source": [
    "deu=maxturn_dat_inc_cg[['language','swu','contingent','transcript_id','target_child_id']][maxturn_dat_inc_cg[\"language\"]==\"deu\"]\n",
    "eng=maxturn_dat_inc_cg[['language','swu','contingent','transcript_id','target_child_id']][maxturn_dat_inc_cg[\"language\"]==\"eng\"]\n",
    "est=maxturn_dat_inc_cg[['language','swu','contingent','transcript_id','target_child_id']][maxturn_dat_inc_cg[\"language\"]==\"est\"]\n",
    "fas=maxturn_dat_inc_cg[['language','swu','contingent','transcript_id','target_child_id']][maxturn_dat_inc_cg[\"language\"]==\"fas\"]\n",
    "fra=maxturn_dat_inc_cg[['language','swu','contingent','transcript_id','target_child_id']][maxturn_dat_inc_cg[\"language\"]==\"fra\"]\n",
    "hrv=maxturn_dat_inc_cg[['language','swu','contingent','transcript_id','target_child_id']][maxturn_dat_inc_cg[\"language\"]==\"hrv\"]\n",
    "jpn=maxturn_dat_inc_cg[['language','swu','contingent','transcript_id','target_child_id']][maxturn_dat_inc_cg[\"language\"]==\"jpn\"]\n",
    "kor=maxturn_dat_inc_cg[['language','swu','contingent','transcript_id','target_child_id']][maxturn_dat_inc_cg[\"language\"]==\"kor\"]\n",
    "nor=maxturn_dat_inc_cg[['language','swu','contingent','transcript_id','target_child_id']][maxturn_dat_inc_cg[\"language\"]==\"nor\"]\n",
    "pol=maxturn_dat_inc_cg[['language','swu','contingent','transcript_id','target_child_id']][maxturn_dat_inc_cg[\"language\"]==\"pol\"]\n",
    "por=maxturn_dat_inc_cg[['language','swu','contingent','transcript_id','target_child_id']][maxturn_dat_inc_cg[\"language\"]==\"por\"]\n",
    "spa=maxturn_dat_inc_cg[['language','swu','contingent','transcript_id','target_child_id']][maxturn_dat_inc_cg[\"language\"]==\"spa\"]\n",
    "swe=maxturn_dat_inc_cg[['language','swu','contingent','transcript_id','target_child_id']][maxturn_dat_inc_cg[\"language\"]==\"swe\"]\n",
    "zho=maxturn_dat_inc_cg[['language','swu','contingent','transcript_id','target_child_id']][maxturn_dat_inc_cg[\"language\"]==\"zho\"]"
   ]
  },
  {
   "cell_type": "code",
   "execution_count": 8,
   "id": "62962802-5891-4725-9a3d-2c111c9ad3eb",
   "metadata": {
    "tags": []
   },
   "outputs": [],
   "source": [
    "%%R\n",
    "\n",
    "library(\"lme4\")\n",
    "library(\"broom\")\n",
    "library(\"emmeans\")\n",
    "library(\"lmerTest\")\n",
    "library(\"tidyverse\")\n",
    "\n",
    "effect_sizes <- read.csv(\"../data/SWU_effect_sizes.csv\")\n",
    "\n",
    "effect_sizes[\"max_turn_effect_size\"] <- NA"
   ]
  },
  {
   "cell_type": "code",
   "execution_count": 9,
   "id": "63f39612-eaf3-473c-9c17-44685b7813f1",
   "metadata": {},
   "outputs": [
    {
     "name": "stderr",
     "output_type": "stream",
     "text": [
      "R[write to console]: Note: D.f. calculations have been disabled because the number of observations exceeds 3000.\n",
      "To enable adjustments, add the argument 'pbkrtest.limit = 5287' (or larger)\n",
      "[or, globally, 'set emm_options(pbkrtest.limit = 5287)' or larger];\n",
      "but be warned that this may result in large computation time and memory use.\n",
      "\n",
      "R[write to console]: Note: D.f. calculations have been disabled because the number of observations exceeds 3000.\n",
      "To enable adjustments, add the argument 'lmerTest.limit = 5287' (or larger)\n",
      "[or, globally, 'set emm_options(lmerTest.limit = 5287)' or larger];\n",
      "but be warned that this may result in large computation time and memory use.\n",
      "\n"
     ]
    },
    {
     "name": "stdout",
     "output_type": "stream",
     "text": [
      "[[1]]\n",
      " contrast                      estimate     SE  df z.ratio p.value\n",
      " contingent - (non-contingent)    0.086 0.0113 Inf 7.604   <.0001 \n",
      "\n",
      "Degrees-of-freedom method: asymptotic \n",
      "\n",
      "[[2]]\n",
      "[1] 2.877465e-14\n",
      "\n",
      "[1] 4.028451e-13\n"
     ]
    },
    {
     "name": "stderr",
     "output_type": "stream",
     "text": [
      "R[write to console]: Since 'object' is a list, we are using the contrasts already present.\n",
      "\n"
     ]
    },
    {
     "name": "stdout",
     "output_type": "stream",
     "text": [
      "   Language_name rand_effect_size max_voc_effect_size max_turn_effect_size\n",
      "1            deu       0.17637894           0.2092186            0.2148297\n",
      "2            eng       0.26132217           0.2586518                   NA\n",
      "3            est       0.09026104           0.1718871                   NA\n",
      "4            fas               NA                  NA                   NA\n",
      "5            fra       0.10166887           0.1104040                   NA\n",
      "6            hrv       0.17609065           0.1905610                   NA\n",
      "7            jpn       0.37964019           0.3503237                   NA\n",
      "8            kor       0.25125284           0.2379528                   NA\n",
      "9            nor       0.16761078           0.2302313                   NA\n",
      "10           pol               NA                  NA                   NA\n",
      "11           por       0.17936983           0.3122990                   NA\n",
      "12           spa       0.21785360           0.1744664                   NA\n",
      "13           swe       0.31652717           0.3257713                   NA\n",
      "14           zho               NA                  NA                   NA\n"
     ]
    }
   ],
   "source": [
    "%%R -i deu\n",
    "\n",
    "lm2_1 <- lmer(swu ~ contingent + (1|target_child_id) + (1|transcript_id),data=deu)\n",
    "emm2_1<-emmeans(lm2_1,pairwise~contingent)\n",
    "pval<-summary(emm2_1$contrasts)$p.value\n",
    "print(c(emm2_1$contrasts, pval))\n",
    "print(p.adjust(pval, \"holm\", 14))\n",
    "# plot(emm2_1)\n",
    "# summary(emmeans(lm2_1,\"contingent\",infer=TRUE)) #group means\n",
    "# test(contrast(emmeans(lm2_1,\"contingent\"), \"trt.vs.ctrl\"), joint = TRUE) #main effect - are any groups different\n",
    "\n",
    "deu_lname <- deu$language[1]\n",
    "\n",
    "deu_eff <- eff_size(emm2_1,sigma = sigma(lm2_1), edf = df.residual(lm2_1))\n",
    "\n",
    "deu_eff <- summary(deu_eff)$effect.size\n",
    "\n",
    "effect_sizes[effect_sizes$Language_name==deu_lname,\"max_turn_effect_size\"] <- deu_eff\n",
    "effect_sizes"
   ]
  },
  {
   "cell_type": "code",
   "execution_count": 10,
   "id": "e61edd70-cfd3-41a7-aa5a-190329503017",
   "metadata": {},
   "outputs": [
    {
     "name": "stderr",
     "output_type": "stream",
     "text": [
      "R[write to console]: Note: D.f. calculations have been disabled because the number of observations exceeds 3000.\n",
      "To enable adjustments, add the argument 'pbkrtest.limit = 123279' (or larger)\n",
      "[or, globally, 'set emm_options(pbkrtest.limit = 123279)' or larger];\n",
      "but be warned that this may result in large computation time and memory use.\n",
      "\n",
      "R[write to console]: Note: D.f. calculations have been disabled because the number of observations exceeds 3000.\n",
      "To enable adjustments, add the argument 'lmerTest.limit = 123279' (or larger)\n",
      "[or, globally, 'set emm_options(lmerTest.limit = 123279)' or larger];\n",
      "but be warned that this may result in large computation time and memory use.\n",
      "\n"
     ]
    },
    {
     "name": "stdout",
     "output_type": "stream",
     "text": [
      "[[1]]\n",
      " contrast                      estimate      SE  df z.ratio p.value\n",
      " contingent - (non-contingent)    0.108 0.00312 Inf 34.649  <.0001 \n",
      "\n",
      "Degrees-of-freedom method: asymptotic \n",
      "\n",
      "[[2]]\n",
      "[1] 4.668348e-263\n",
      "\n",
      "[1] 6.535687e-262\n"
     ]
    },
    {
     "name": "stderr",
     "output_type": "stream",
     "text": [
      "R[write to console]: Since 'object' is a list, we are using the contrasts already present.\n",
      "\n"
     ]
    },
    {
     "name": "stdout",
     "output_type": "stream",
     "text": [
      "   Language_name rand_effect_size max_voc_effect_size max_turn_effect_size\n",
      "1            deu       0.17637894           0.2092186            0.2148297\n",
      "2            eng       0.26132217           0.2586518            0.2675167\n",
      "3            est       0.09026104           0.1718871                   NA\n",
      "4            fas               NA                  NA                   NA\n",
      "5            fra       0.10166887           0.1104040                   NA\n",
      "6            hrv       0.17609065           0.1905610                   NA\n",
      "7            jpn       0.37964019           0.3503237                   NA\n",
      "8            kor       0.25125284           0.2379528                   NA\n",
      "9            nor       0.16761078           0.2302313                   NA\n",
      "10           pol               NA                  NA                   NA\n",
      "11           por       0.17936983           0.3122990                   NA\n",
      "12           spa       0.21785360           0.1744664                   NA\n",
      "13           swe       0.31652717           0.3257713                   NA\n",
      "14           zho               NA                  NA                   NA\n"
     ]
    }
   ],
   "source": [
    "%%R -i eng\n",
    "\n",
    "lm3_1 <- lmer(swu ~ contingent + (1|target_child_id) + (1|transcript_id),data=eng, REML= FALSE)\n",
    "emm3_1<-emmeans(lm3_1,pairwise~contingent)\n",
    "pval<-summary(emm3_1$contrasts)$p.value\n",
    "print(c(emm3_1$contrasts, pval))\n",
    "print(p.adjust(pval, \"holm\", 14))\n",
    "# summary(emmeans(lm3_1,\"contingent\",infer=TRUE)) #group means\n",
    "# test(contrast(emmeans(lm3_1,\"contingent\"), \"trt.vs.ctrl\"), joint = TRUE) #main effect - are any groups different\n",
    "\n",
    "eng_lname <- eng$language[1]\n",
    "\n",
    "eng_eff <- eff_size(emm3_1,sigma = sigma(lm3_1), edf = df.residual(lm3_1))\n",
    "\n",
    "eng_eff <- summary(eng_eff)$effect.size\n",
    "\n",
    "effect_sizes[effect_sizes$Language_name==eng_lname,\"max_turn_effect_size\"] <- eng_eff\n",
    "effect_sizes"
   ]
  },
  {
   "cell_type": "code",
   "execution_count": 11,
   "id": "d2a654ae-6f01-4b14-a3d2-29130049b5d6",
   "metadata": {},
   "outputs": [
    {
     "name": "stdout",
     "output_type": "stream",
     "text": [
      "[[1]]\n",
      " contrast                      estimate     SE   df t.ratio p.value\n",
      " contingent - (non-contingent)   0.0668 0.0138 2688 4.844   <.0001 \n",
      "\n",
      "Degrees-of-freedom method: kenward-roger \n",
      "\n",
      "[[2]]\n",
      "[1] 1.344248e-06\n",
      "\n",
      "[1] 1.881947e-05\n"
     ]
    },
    {
     "name": "stderr",
     "output_type": "stream",
     "text": [
      "R[write to console]: Since 'object' is a list, we are using the contrasts already present.\n",
      "\n"
     ]
    },
    {
     "name": "stdout",
     "output_type": "stream",
     "text": [
      "   Language_name rand_effect_size max_voc_effect_size max_turn_effect_size\n",
      "1            deu       0.17637894           0.2092186            0.2148297\n",
      "2            eng       0.26132217           0.2586518            0.2675167\n",
      "3            est       0.09026104           0.1718871            0.1939326\n",
      "4            fas               NA                  NA                   NA\n",
      "5            fra       0.10166887           0.1104040                   NA\n",
      "6            hrv       0.17609065           0.1905610                   NA\n",
      "7            jpn       0.37964019           0.3503237                   NA\n",
      "8            kor       0.25125284           0.2379528                   NA\n",
      "9            nor       0.16761078           0.2302313                   NA\n",
      "10           pol               NA                  NA                   NA\n",
      "11           por       0.17936983           0.3122990                   NA\n",
      "12           spa       0.21785360           0.1744664                   NA\n",
      "13           swe       0.31652717           0.3257713                   NA\n",
      "14           zho               NA                  NA                   NA\n"
     ]
    }
   ],
   "source": [
    "%%R -i est\n",
    "\n",
    "lm4_1 <- lmer(swu ~ contingent + (1|target_child_id) + (1|transcript_id),data=est, REML= FALSE)\n",
    "emm4_1<-emmeans(lm4_1,pairwise~contingent)\n",
    "pval<-summary(emm4_1$contrasts)$p.value\n",
    "print(c(emm4_1$contrasts, pval))\n",
    "print(p.adjust(pval, \"holm\", 14))\n",
    "# summary(emmeans(lm4_1,\"contingent\",infer=TRUE)) #group means\n",
    "# test(contrast(emmeans(lm4_1,\"contingent\"), \"trt.vs.ctrl\"), joint = TRUE) #main effect - are any groups different\n",
    "\n",
    "est_lname <- est$language[1]\n",
    "\n",
    "est_eff <- eff_size(emm4_1,sigma = sigma(lm4_1), edf = df.residual(lm4_1))\n",
    "\n",
    "est_eff <- summary(est_eff)$effect.size\n",
    "\n",
    "effect_sizes[effect_sizes$Language_name==est_lname,\"max_turn_effect_size\"] <- est_eff\n",
    "effect_sizes"
   ]
  },
  {
   "cell_type": "code",
   "execution_count": 13,
   "id": "afc0167c-2574-40f5-9e79-e79eb7aa77c3",
   "metadata": {},
   "outputs": [
    {
     "name": "stdout",
     "output_type": "stream",
     "text": [
      "[[1]]\n",
      " contrast                      estimate     SE  df t.ratio p.value\n",
      " contingent - (non-contingent)   0.0122 0.0324 712 0.376   0.7073 \n",
      "\n",
      "Degrees-of-freedom method: kenward-roger \n",
      "\n",
      "[[2]]\n",
      "[1] 0.7073194\n",
      "\n",
      "[1] 1\n",
      "   Language_name rand_effect_size max_voc_effect_size max_turn_effect_size\n",
      "1            deu       0.17637894           0.2092186            0.2148297\n",
      "2            eng       0.26132217           0.2586518            0.2675167\n",
      "3            est       0.09026104           0.1718871            0.1939326\n",
      "4            fas               NA                  NA                  NaN\n",
      "5            fra       0.10166887           0.1104040                   NA\n",
      "6            hrv       0.17609065           0.1905610                   NA\n",
      "7            jpn       0.37964019           0.3503237                   NA\n",
      "8            kor       0.25125284           0.2379528                   NA\n",
      "9            nor       0.16761078           0.2302313                   NA\n",
      "10           pol               NA                  NA                   NA\n",
      "11           por       0.17936983           0.3122990                   NA\n",
      "12           spa       0.21785360           0.1744664                   NA\n",
      "13           swe       0.31652717           0.3257713                   NA\n",
      "14           zho               NA                  NA                   NA\n"
     ]
    }
   ],
   "source": [
    "%%R -i fas\n",
    "\n",
    "lm5_1 <- lmer(swu ~ contingent + (1|transcript_id),data=fas, REML= FALSE)\n",
    "emm5_1<-emmeans(lm5_1,pairwise~contingent)\n",
    "pval<-summary(emm5_1$contrasts)$p.value\n",
    "print(c(emm5_1$contrasts, pval))\n",
    "print(p.adjust(pval, \"holm\", 14))\n",
    "# summary(emmeans(lm5_1,\"contingent\",infer=TRUE)) #group means\n",
    "# test(contrast(emmeans(lm5_1,\"contingent\"), \"trt.vs.ctrl\"), joint = TRUE) #main effect - are any groups different\n",
    "\n",
    "fas_lname <- fas$language[1]\n",
    "\n",
    "effect_sizes[effect_sizes$Language_name==fas_lname,\"max_turn_effect_size\"] <- NaN\n",
    "effect_sizes"
   ]
  },
  {
   "cell_type": "code",
   "execution_count": 14,
   "id": "a93d7d76-6322-408f-a063-d46288422c14",
   "metadata": {},
   "outputs": [
    {
     "name": "stderr",
     "output_type": "stream",
     "text": [
      "R[write to console]: Note: D.f. calculations have been disabled because the number of observations exceeds 3000.\n",
      "To enable adjustments, add the argument 'pbkrtest.limit = 26424' (or larger)\n",
      "[or, globally, 'set emm_options(pbkrtest.limit = 26424)' or larger];\n",
      "but be warned that this may result in large computation time and memory use.\n",
      "\n",
      "R[write to console]: Note: D.f. calculations have been disabled because the number of observations exceeds 3000.\n",
      "To enable adjustments, add the argument 'lmerTest.limit = 26424' (or larger)\n",
      "[or, globally, 'set emm_options(lmerTest.limit = 26424)' or larger];\n",
      "but be warned that this may result in large computation time and memory use.\n",
      "\n"
     ]
    },
    {
     "name": "stdout",
     "output_type": "stream",
     "text": [
      "[[1]]\n",
      " contrast                      estimate      SE  df z.ratio p.value\n",
      " contingent - (non-contingent)   0.0448 0.00553 Inf 8.099   <.0001 \n",
      "\n",
      "Degrees-of-freedom method: asymptotic \n",
      "\n",
      "[[2]]\n",
      "[1] 5.542442e-16\n",
      "\n",
      "[1] 7.759419e-15\n"
     ]
    },
    {
     "name": "stderr",
     "output_type": "stream",
     "text": [
      "R[write to console]: Since 'object' is a list, we are using the contrasts already present.\n",
      "\n"
     ]
    },
    {
     "name": "stdout",
     "output_type": "stream",
     "text": [
      "   Language_name rand_effect_size max_voc_effect_size max_turn_effect_size\n",
      "1            deu       0.17637894           0.2092186            0.2148297\n",
      "2            eng       0.26132217           0.2586518            0.2675167\n",
      "3            est       0.09026104           0.1718871            0.1939326\n",
      "4            fas               NA                  NA                  NaN\n",
      "5            fra       0.10166887           0.1104040            0.1136619\n",
      "6            hrv       0.17609065           0.1905610                   NA\n",
      "7            jpn       0.37964019           0.3503237                   NA\n",
      "8            kor       0.25125284           0.2379528                   NA\n",
      "9            nor       0.16761078           0.2302313                   NA\n",
      "10           pol               NA                  NA                   NA\n",
      "11           por       0.17936983           0.3122990                   NA\n",
      "12           spa       0.21785360           0.1744664                   NA\n",
      "13           swe       0.31652717           0.3257713                   NA\n",
      "14           zho               NA                  NA                   NA\n"
     ]
    }
   ],
   "source": [
    "%%R -i fra\n",
    "lm6_1 <- lmer(swu ~ contingent + (1|target_child_id) + (1|transcript_id),data=fra, REML= FALSE)\n",
    "emm6_1<-emmeans(lm6_1,pairwise~contingent)\n",
    "pval<-summary(emm6_1$contrasts)$p.value\n",
    "print(c(emm6_1$contrasts, pval))\n",
    "print(p.adjust(pval, \"holm\", 14))\n",
    "# summary(emmeans(lm6_1,\"contingent\",infer=TRUE)) #group means\n",
    "# test(contrast(emmeans(lm6_1,\"contingent\"), \"trt.vs.ctrl\"), joint = TRUE) #main effect - are any groups different\n",
    "\n",
    "fra_lname <- fra$language[1]\n",
    "\n",
    "fra_eff <- eff_size(emm6_1,sigma = sigma(lm6_1), edf = df.residual(lm6_1))\n",
    "\n",
    "fra_eff <- summary(fra_eff)$effect.size\n",
    "\n",
    "effect_sizes[effect_sizes$Language_name==fra_lname,\"max_turn_effect_size\"] <- fra_eff\n",
    "effect_sizes"
   ]
  },
  {
   "cell_type": "code",
   "execution_count": 15,
   "id": "280e4780-e181-48ec-bac1-59535c653dcd",
   "metadata": {},
   "outputs": [
    {
     "name": "stderr",
     "output_type": "stream",
     "text": [
      "R[write to console]: Note: D.f. calculations have been disabled because the number of observations exceeds 3000.\n",
      "To enable adjustments, add the argument 'pbkrtest.limit = 7375' (or larger)\n",
      "[or, globally, 'set emm_options(pbkrtest.limit = 7375)' or larger];\n",
      "but be warned that this may result in large computation time and memory use.\n",
      "\n",
      "R[write to console]: Note: D.f. calculations have been disabled because the number of observations exceeds 3000.\n",
      "To enable adjustments, add the argument 'lmerTest.limit = 7375' (or larger)\n",
      "[or, globally, 'set emm_options(lmerTest.limit = 7375)' or larger];\n",
      "but be warned that this may result in large computation time and memory use.\n",
      "\n"
     ]
    },
    {
     "name": "stdout",
     "output_type": "stream",
     "text": [
      "[[1]]\n",
      " contrast                      estimate      SE  df z.ratio p.value\n",
      " contingent - (non-contingent)   0.0763 0.00971 Inf 7.859   <.0001 \n",
      "\n",
      "Degrees-of-freedom method: asymptotic \n",
      "\n",
      "[[2]]\n",
      "[1] 3.874507e-15\n",
      "\n",
      "[1] 5.42431e-14\n"
     ]
    },
    {
     "name": "stderr",
     "output_type": "stream",
     "text": [
      "R[write to console]: Since 'object' is a list, we are using the contrasts already present.\n",
      "\n"
     ]
    },
    {
     "name": "stdout",
     "output_type": "stream",
     "text": [
      "   Language_name rand_effect_size max_voc_effect_size max_turn_effect_size\n",
      "1            deu       0.17637894           0.2092186            0.2148297\n",
      "2            eng       0.26132217           0.2586518            0.2675167\n",
      "3            est       0.09026104           0.1718871            0.1939326\n",
      "4            fas               NA                  NA                  NaN\n",
      "5            fra       0.10166887           0.1104040            0.1136619\n",
      "6            hrv       0.17609065           0.1905610            0.1869155\n",
      "7            jpn       0.37964019           0.3503237                   NA\n",
      "8            kor       0.25125284           0.2379528                   NA\n",
      "9            nor       0.16761078           0.2302313                   NA\n",
      "10           pol               NA                  NA                   NA\n",
      "11           por       0.17936983           0.3122990                   NA\n",
      "12           spa       0.21785360           0.1744664                   NA\n",
      "13           swe       0.31652717           0.3257713                   NA\n",
      "14           zho               NA                  NA                   NA\n"
     ]
    }
   ],
   "source": [
    "%%R -i hrv\n",
    "\n",
    "lm7_1 <- lmer(swu ~ contingent + (1|target_child_id) + (1|transcript_id),data=hrv, REML= FALSE)\n",
    "emm7_1<-emmeans(lm7_1,pairwise~contingent)\n",
    "pval<-summary(emm7_1$contrasts)$p.value\n",
    "print(c(emm7_1$contrasts, pval))\n",
    "print(p.adjust(pval, \"holm\", 14))\n",
    "# summary(emmeans(lm7_1,\"contingent\",infer=TRUE)) #group means\n",
    "# test(contrast(emmeans(lm7_1,\"contingent\"), \"trt.vs.ctrl\"), joint = TRUE) #main effect - are any groups different\n",
    "\n",
    "hrv_lname <- hrv$language[1]\n",
    "\n",
    "hrv_eff <- eff_size(emm7_1,sigma = sigma(lm7_1), edf = df.residual(lm7_1))\n",
    "\n",
    "hrv_eff <- summary(hrv_eff)$effect.size\n",
    "\n",
    "effect_sizes[effect_sizes$Language_name==hrv_lname,\"max_turn_effect_size\"] <- hrv_eff\n",
    "effect_sizes"
   ]
  },
  {
   "cell_type": "code",
   "execution_count": 16,
   "id": "95758979-d1ab-4f1e-a30e-1ba2c01b9a81",
   "metadata": {},
   "outputs": [
    {
     "name": "stderr",
     "output_type": "stream",
     "text": [
      "R[write to console]: Note: D.f. calculations have been disabled because the number of observations exceeds 3000.\n",
      "To enable adjustments, add the argument 'pbkrtest.limit = 23841' (or larger)\n",
      "[or, globally, 'set emm_options(pbkrtest.limit = 23841)' or larger];\n",
      "but be warned that this may result in large computation time and memory use.\n",
      "\n",
      "R[write to console]: Note: D.f. calculations have been disabled because the number of observations exceeds 3000.\n",
      "To enable adjustments, add the argument 'lmerTest.limit = 23841' (or larger)\n",
      "[or, globally, 'set emm_options(lmerTest.limit = 23841)' or larger];\n",
      "but be warned that this may result in large computation time and memory use.\n",
      "\n"
     ]
    },
    {
     "name": "stdout",
     "output_type": "stream",
     "text": [
      "[[1]]\n",
      " contrast                      estimate      SE  df z.ratio p.value\n",
      " contingent - (non-contingent)     0.18 0.00636 Inf 28.248  <.0001 \n",
      "\n",
      "Degrees-of-freedom method: asymptotic \n",
      "\n",
      "[[2]]\n",
      "[1] 1.523675e-175\n",
      "\n",
      "[1] 2.133145e-174\n"
     ]
    },
    {
     "name": "stderr",
     "output_type": "stream",
     "text": [
      "R[write to console]: Since 'object' is a list, we are using the contrasts already present.\n",
      "\n"
     ]
    },
    {
     "name": "stdout",
     "output_type": "stream",
     "text": [
      "   Language_name rand_effect_size max_voc_effect_size max_turn_effect_size\n",
      "1            deu       0.17637894           0.2092186            0.2148297\n",
      "2            eng       0.26132217           0.2586518            0.2675167\n",
      "3            est       0.09026104           0.1718871            0.1939326\n",
      "4            fas               NA                  NA                  NaN\n",
      "5            fra       0.10166887           0.1104040            0.1136619\n",
      "6            hrv       0.17609065           0.1905610            0.1869155\n",
      "7            jpn       0.37964019           0.3503237            0.3772449\n",
      "8            kor       0.25125284           0.2379528                   NA\n",
      "9            nor       0.16761078           0.2302313                   NA\n",
      "10           pol               NA                  NA                   NA\n",
      "11           por       0.17936983           0.3122990                   NA\n",
      "12           spa       0.21785360           0.1744664                   NA\n",
      "13           swe       0.31652717           0.3257713                   NA\n",
      "14           zho               NA                  NA                   NA\n"
     ]
    }
   ],
   "source": [
    "%%R -i jpn\n",
    "\n",
    "lm8_1 <- lmer(swu ~ contingent + (1|target_child_id) + (1|transcript_id),data=jpn, REML= FALSE)\n",
    "emm8_1<-emmeans(lm8_1,pairwise~contingent)\n",
    "pval<-summary(emm8_1$contrasts)$p.value\n",
    "print(c(emm8_1$contrasts, pval))\n",
    "print(p.adjust(pval, \"holm\", 14))\n",
    "# summary(emmeans(lm8_1,\"contingent\",infer=TRUE)) #group means\n",
    "# test(contrast(emmeans(lm8_1,\"contingent\"), \"trt.vs.ctrl\"), joint = TRUE) #main effect - are any groups different\n",
    "\n",
    "jpn_lname <- jpn$language[1]\n",
    "\n",
    "jpn_eff <- eff_size(emm8_1,sigma = sigma(lm8_1), edf = df.residual(lm8_1))\n",
    "\n",
    "jpn_eff <- summary(jpn_eff)$effect.size\n",
    "\n",
    "effect_sizes[effect_sizes$Language_name==jpn_lname,\"max_turn_effect_size\"] <- jpn_eff\n",
    "effect_sizes"
   ]
  },
  {
   "cell_type": "code",
   "execution_count": 17,
   "id": "76877aa6-d3fe-4386-a544-28cc5926fea8",
   "metadata": {},
   "outputs": [
    {
     "name": "stderr",
     "output_type": "stream",
     "text": [
      "R[write to console]: Note: D.f. calculations have been disabled because the number of observations exceeds 3000.\n",
      "To enable adjustments, add the argument 'pbkrtest.limit = 4902' (or larger)\n",
      "[or, globally, 'set emm_options(pbkrtest.limit = 4902)' or larger];\n",
      "but be warned that this may result in large computation time and memory use.\n",
      "\n",
      "R[write to console]: Note: D.f. calculations have been disabled because the number of observations exceeds 3000.\n",
      "To enable adjustments, add the argument 'lmerTest.limit = 4902' (or larger)\n",
      "[or, globally, 'set emm_options(lmerTest.limit = 4902)' or larger];\n",
      "but be warned that this may result in large computation time and memory use.\n",
      "\n"
     ]
    },
    {
     "name": "stdout",
     "output_type": "stream",
     "text": [
      "[[1]]\n",
      " contrast                      estimate    SE  df z.ratio p.value\n",
      " contingent - (non-contingent)   0.0874 0.011 Inf 7.956   <.0001 \n",
      "\n",
      "Degrees-of-freedom method: asymptotic \n",
      "\n",
      "[[2]]\n",
      "[1] 1.782353e-15\n",
      "\n",
      "[1] 2.495294e-14\n"
     ]
    },
    {
     "name": "stderr",
     "output_type": "stream",
     "text": [
      "R[write to console]: Since 'object' is a list, we are using the contrasts already present.\n",
      "\n"
     ]
    },
    {
     "name": "stdout",
     "output_type": "stream",
     "text": [
      "   Language_name rand_effect_size max_voc_effect_size max_turn_effect_size\n",
      "1            deu       0.17637894           0.2092186            0.2148297\n",
      "2            eng       0.26132217           0.2586518            0.2675167\n",
      "3            est       0.09026104           0.1718871            0.1939326\n",
      "4            fas               NA                  NA                  NaN\n",
      "5            fra       0.10166887           0.1104040            0.1136619\n",
      "6            hrv       0.17609065           0.1905610            0.1869155\n",
      "7            jpn       0.37964019           0.3503237            0.3772449\n",
      "8            kor       0.25125284           0.2379528            0.2399801\n",
      "9            nor       0.16761078           0.2302313                   NA\n",
      "10           pol               NA                  NA                   NA\n",
      "11           por       0.17936983           0.3122990                   NA\n",
      "12           spa       0.21785360           0.1744664                   NA\n",
      "13           swe       0.31652717           0.3257713                   NA\n",
      "14           zho               NA                  NA                   NA\n"
     ]
    }
   ],
   "source": [
    "%%R -i kor\n",
    "\n",
    "lm9_1 <- lmer(swu ~ contingent + (1|transcript_id),data=kor, REML= FALSE)\n",
    "emm9_1<-emmeans(lm9_1,pairwise~contingent)\n",
    "pval<-summary(emm9_1$contrasts)$p.value\n",
    "print(c(emm9_1$contrasts, pval))\n",
    "print(p.adjust(pval, \"holm\", 14))\n",
    "# summary(emmeans(lm9_1,\"contingent\",infer=TRUE)) #group means\n",
    "# test(contrast(emmeans(lm9_1,\"contingent\"), \"trt.vs.ctrl\"), joint = TRUE) #main effect - are any groups different\n",
    "\n",
    "kor_lname <- kor$language[1]\n",
    "\n",
    "kor_eff <- eff_size(emm9_1,sigma = sigma(lm9_1), edf = df.residual(lm9_1))\n",
    "\n",
    "kor_eff <- summary(kor_eff)$effect.size\n",
    "\n",
    "effect_sizes[effect_sizes$Language_name==kor_lname,\"max_turn_effect_size\"] <- kor_eff\n",
    "effect_sizes"
   ]
  },
  {
   "cell_type": "code",
   "execution_count": 18,
   "id": "60faf26b-55ab-444e-bca9-765ff7a64320",
   "metadata": {},
   "outputs": [
    {
     "name": "stderr",
     "output_type": "stream",
     "text": [
      "R[write to console]: boundary (singular) fit: see ?isSingular\n",
      "\n",
      "R[write to console]: boundary (singular) fit: see ?isSingular\n",
      "\n"
     ]
    },
    {
     "name": "stdout",
     "output_type": "stream",
     "text": [
      "[[1]]\n",
      " contrast                      estimate     SE   df t.ratio p.value\n",
      " contingent - (non-contingent)   0.0735 0.0183 2460 4.011   0.0001 \n",
      "\n",
      "Degrees-of-freedom method: kenward-roger \n",
      "\n",
      "[[2]]\n",
      "[1] 6.215192e-05\n",
      "\n",
      "[1] 0.0008701269\n"
     ]
    },
    {
     "name": "stderr",
     "output_type": "stream",
     "text": [
      "R[write to console]: Since 'object' is a list, we are using the contrasts already present.\n",
      "\n"
     ]
    },
    {
     "name": "stdout",
     "output_type": "stream",
     "text": [
      "   Language_name rand_effect_size max_voc_effect_size max_turn_effect_size\n",
      "1            deu       0.17637894           0.2092186            0.2148297\n",
      "2            eng       0.26132217           0.2586518            0.2675167\n",
      "3            est       0.09026104           0.1718871            0.1939326\n",
      "4            fas               NA                  NA                  NaN\n",
      "5            fra       0.10166887           0.1104040            0.1136619\n",
      "6            hrv       0.17609065           0.1905610            0.1869155\n",
      "7            jpn       0.37964019           0.3503237            0.3772449\n",
      "8            kor       0.25125284           0.2379528            0.2399801\n",
      "9            nor       0.16761078           0.2302313            0.1775366\n",
      "10           pol               NA                  NA                   NA\n",
      "11           por       0.17936983           0.3122990                   NA\n",
      "12           spa       0.21785360           0.1744664                   NA\n",
      "13           swe       0.31652717           0.3257713                   NA\n",
      "14           zho               NA                  NA                   NA\n"
     ]
    }
   ],
   "source": [
    "%%R -i nor\n",
    "\n",
    "lm10_1 <- lmer(swu ~ contingent + (1|target_child_id) + (1|transcript_id),data=nor, REML= FALSE)\n",
    "emm10_1<-emmeans(lm10_1,pairwise~contingent)\n",
    "pval<-summary(emm10_1$contrasts)$p.value\n",
    "print(c(emm10_1$contrasts, pval))\n",
    "print(p.adjust(pval, \"holm\", 14))\n",
    "# summary(emmeans(lm10_1,\"contingent\",infer=TRUE)) #group means\n",
    "# test(contrast(emmeans(lm10_1,\"contingent\"), \"trt.vs.ctrl\"), joint = TRUE) #main effect - are any groups different\n",
    "\n",
    "nor_lname <- nor$language[1]\n",
    "\n",
    "nor_eff <- eff_size(emm10_1,sigma = sigma(lm10_1), edf = df.residual(lm10_1))\n",
    "\n",
    "nor_eff <- summary(nor_eff)$effect.size\n",
    "\n",
    "effect_sizes[effect_sizes$Language_name==nor_lname,\"max_turn_effect_size\"] <- nor_eff\n",
    "effect_sizes"
   ]
  },
  {
   "cell_type": "code",
   "execution_count": 19,
   "id": "7132f922-d4c8-4c9d-839b-b93b11edfadd",
   "metadata": {},
   "outputs": [
    {
     "name": "stdout",
     "output_type": "stream",
     "text": [
      "[[1]]\n",
      " contrast                      estimate     SE df t.ratio p.value\n",
      " contingent - (non-contingent)  -0.0278 0.0769 94 -0.362  0.7182 \n",
      "\n",
      "\n",
      "[[2]]\n",
      "[1] 0.718246\n",
      "\n",
      "[1] 1\n",
      "   Language_name rand_effect_size max_voc_effect_size max_turn_effect_size\n",
      "1            deu       0.17637894           0.2092186            0.2148297\n",
      "2            eng       0.26132217           0.2586518            0.2675167\n",
      "3            est       0.09026104           0.1718871            0.1939326\n",
      "4            fas               NA                  NA                  NaN\n",
      "5            fra       0.10166887           0.1104040            0.1136619\n",
      "6            hrv       0.17609065           0.1905610            0.1869155\n",
      "7            jpn       0.37964019           0.3503237            0.3772449\n",
      "8            kor       0.25125284           0.2379528            0.2399801\n",
      "9            nor       0.16761078           0.2302313            0.1775366\n",
      "10           pol               NA                  NA                  NaN\n",
      "11           por       0.17936983           0.3122990                   NA\n",
      "12           spa       0.21785360           0.1744664                   NA\n",
      "13           swe       0.31652717           0.3257713                   NA\n",
      "14           zho               NA                  NA                   NA\n"
     ]
    }
   ],
   "source": [
    "%%R -i pol\n",
    " \n",
    "# simple linear model (no random effects, because only 1 transcript from 1 sub)\n",
    "\n",
    "lm11_1 <- lm(swu ~ contingent,data=pol, REML= FALSE)\n",
    "emm11_1<-emmeans(lm11_1,pairwise~contingent)\n",
    "pval<-summary(emm11_1$contrasts)$p.value\n",
    "print(c(emm11_1$contrasts, pval))\n",
    "print(p.adjust(pval, \"holm\", 14))\n",
    "# summary(emmeans(lm11_1,\"contingent\",infer=TRUE)) #group means\n",
    "# test(contrast(emmeans(lm11_1,\"contingent\"), \"trt.vs.ctrl\"), joint = TRUE) #main effect - are any groups different\n",
    "\n",
    "pol_lname <- pol$language[1]\n",
    "\n",
    "effect_sizes[effect_sizes$Language_name==pol_lname,\"max_turn_effect_size\"] <- NaN\n",
    "effect_sizes"
   ]
  },
  {
   "cell_type": "code",
   "execution_count": 20,
   "id": "0b9f4079-fd6e-4aa2-bd74-a00a42fabfd8",
   "metadata": {},
   "outputs": [
    {
     "name": "stderr",
     "output_type": "stream",
     "text": [
      "R[write to console]: Note: D.f. calculations have been disabled because the number of observations exceeds 3000.\n",
      "To enable adjustments, add the argument 'pbkrtest.limit = 3586' (or larger)\n",
      "[or, globally, 'set emm_options(pbkrtest.limit = 3586)' or larger];\n",
      "but be warned that this may result in large computation time and memory use.\n",
      "\n",
      "R[write to console]: Note: D.f. calculations have been disabled because the number of observations exceeds 3000.\n",
      "To enable adjustments, add the argument 'lmerTest.limit = 3586' (or larger)\n",
      "[or, globally, 'set emm_options(lmerTest.limit = 3586)' or larger];\n",
      "but be warned that this may result in large computation time and memory use.\n",
      "\n"
     ]
    },
    {
     "name": "stdout",
     "output_type": "stream",
     "text": [
      "[[1]]\n",
      " contrast                      estimate     SE  df z.ratio p.value\n",
      " contingent - (non-contingent)   0.0957 0.0123 Inf 7.779   <.0001 \n",
      "\n",
      "Degrees-of-freedom method: asymptotic \n",
      "\n",
      "[[2]]\n",
      "[1] 7.297768e-15\n",
      "\n",
      "[1] 1.021688e-13\n"
     ]
    },
    {
     "name": "stderr",
     "output_type": "stream",
     "text": [
      "R[write to console]: Since 'object' is a list, we are using the contrasts already present.\n",
      "\n"
     ]
    },
    {
     "name": "stdout",
     "output_type": "stream",
     "text": [
      "   Language_name rand_effect_size max_voc_effect_size max_turn_effect_size\n",
      "1            deu       0.17637894           0.2092186            0.2148297\n",
      "2            eng       0.26132217           0.2586518            0.2675167\n",
      "3            est       0.09026104           0.1718871            0.1939326\n",
      "4            fas               NA                  NA                  NaN\n",
      "5            fra       0.10166887           0.1104040            0.1136619\n",
      "6            hrv       0.17609065           0.1905610            0.1869155\n",
      "7            jpn       0.37964019           0.3503237            0.3772449\n",
      "8            kor       0.25125284           0.2379528            0.2399801\n",
      "9            nor       0.16761078           0.2302313            0.1775366\n",
      "10           pol               NA                  NA                  NaN\n",
      "11           por       0.17936983           0.3122990            0.2638239\n",
      "12           spa       0.21785360           0.1744664                   NA\n",
      "13           swe       0.31652717           0.3257713                   NA\n",
      "14           zho               NA                  NA                   NA\n"
     ]
    }
   ],
   "source": [
    "%%R -i por\n",
    "\n",
    "lm12_1 <- lmer(swu ~ contingent + (1|target_child_id) + (1|transcript_id),data=por, REML= FALSE)\n",
    "emm12_1<-emmeans(lm12_1,pairwise~contingent)\n",
    "pval<-summary(emm12_1$contrasts)$p.value\n",
    "print(c(emm12_1$contrasts, pval))\n",
    "print(p.adjust(pval, \"holm\", 14))\n",
    "# summary(emmeans(lm12_1,\"contingent\",infer=TRUE)) #group means\n",
    "# test(contrast(emmeans(lm12_1,\"contingent\"), \"trt.vs.ctrl\"), joint = TRUE) #main effect - are any groups different\n",
    "\n",
    "por_lname <- por$language[1]\n",
    "\n",
    "por_eff <- eff_size(emm12_1,sigma = sigma(lm12_1), edf = df.residual(lm12_1))\n",
    "\n",
    "por_eff <- summary(por_eff)$effect.size\n",
    "\n",
    "effect_sizes[effect_sizes$Language_name==por_lname,\"max_turn_effect_size\"] <- por_eff\n",
    "effect_sizes"
   ]
  },
  {
   "cell_type": "code",
   "execution_count": 21,
   "id": "dd1e32b0-05db-4ce3-bd7e-32fb57268a72",
   "metadata": {},
   "outputs": [
    {
     "name": "stderr",
     "output_type": "stream",
     "text": [
      "R[write to console]: Note: D.f. calculations have been disabled because the number of observations exceeds 3000.\n",
      "To enable adjustments, add the argument 'pbkrtest.limit = 5409' (or larger)\n",
      "[or, globally, 'set emm_options(pbkrtest.limit = 5409)' or larger];\n",
      "but be warned that this may result in large computation time and memory use.\n",
      "\n",
      "R[write to console]: Note: D.f. calculations have been disabled because the number of observations exceeds 3000.\n",
      "To enable adjustments, add the argument 'lmerTest.limit = 5409' (or larger)\n",
      "[or, globally, 'set emm_options(lmerTest.limit = 5409)' or larger];\n",
      "but be warned that this may result in large computation time and memory use.\n",
      "\n"
     ]
    },
    {
     "name": "stdout",
     "output_type": "stream",
     "text": [
      "[[1]]\n",
      " contrast                      estimate     SE  df z.ratio p.value\n",
      " contingent - (non-contingent)   0.0592 0.0114 Inf 5.182   <.0001 \n",
      "\n",
      "Degrees-of-freedom method: asymptotic \n",
      "\n",
      "[[2]]\n",
      "[1] 2.200413e-07\n",
      "\n",
      "[1] 3.080578e-06\n"
     ]
    },
    {
     "name": "stderr",
     "output_type": "stream",
     "text": [
      "R[write to console]: Since 'object' is a list, we are using the contrasts already present.\n",
      "\n"
     ]
    },
    {
     "name": "stdout",
     "output_type": "stream",
     "text": [
      "   Language_name rand_effect_size max_voc_effect_size max_turn_effect_size\n",
      "1            deu       0.17637894           0.2092186            0.2148297\n",
      "2            eng       0.26132217           0.2586518            0.2675167\n",
      "3            est       0.09026104           0.1718871            0.1939326\n",
      "4            fas               NA                  NA                  NaN\n",
      "5            fra       0.10166887           0.1104040            0.1136619\n",
      "6            hrv       0.17609065           0.1905610            0.1869155\n",
      "7            jpn       0.37964019           0.3503237            0.3772449\n",
      "8            kor       0.25125284           0.2379528            0.2399801\n",
      "9            nor       0.16761078           0.2302313            0.1775366\n",
      "10           pol               NA                  NA                  NaN\n",
      "11           por       0.17936983           0.3122990            0.2638239\n",
      "12           spa       0.21785360           0.1744664            0.1449862\n",
      "13           swe       0.31652717           0.3257713                   NA\n",
      "14           zho               NA                  NA                   NA\n"
     ]
    }
   ],
   "source": [
    "%%R -i spa\n",
    "\n",
    "\n",
    "lm13_1 <- lmer(swu ~ contingent + (1|target_child_id) + (1|transcript_id),data=spa, REML= FALSE)\n",
    "emm13_1<-emmeans(lm13_1,pairwise~contingent)\n",
    "pval<-summary(emm13_1$contrasts)$p.value\n",
    "print(c(emm13_1$contrasts, pval))\n",
    "print(p.adjust(pval, \"holm\", 14))\n",
    "# summary(emmeans(lm13_1,\"contingent\",infer=TRUE)) #group means\n",
    "# test(contrast(emmeans(lm13_1,\"contingent\"), \"trt.vs.ctrl\"), joint = TRUE) #main effect - are any groups different\n",
    "\n",
    "spa_lname <- spa$language[1]\n",
    "\n",
    "spa_eff <- eff_size(emm13_1,sigma = sigma(lm13_1), edf = df.residual(lm13_1))\n",
    "\n",
    "spa_eff <- summary(spa_eff)$effect.size\n",
    "\n",
    "effect_sizes[effect_sizes$Language_name==spa_lname,\"max_turn_effect_size\"] <- spa_eff\n",
    "effect_sizes"
   ]
  },
  {
   "cell_type": "code",
   "execution_count": 22,
   "id": "bca7da9a-22ac-4b8b-a663-2f8486d10632",
   "metadata": {},
   "outputs": [
    {
     "name": "stdout",
     "output_type": "stream",
     "text": [
      "[[1]]\n",
      " contrast                      estimate     SE   df t.ratio p.value\n",
      " contingent - (non-contingent)    0.138 0.0172 2754 8.013   <.0001 \n",
      "\n",
      "Degrees-of-freedom method: kenward-roger \n",
      "\n",
      "[[2]]\n",
      "[1] 1.630746e-15\n",
      "\n",
      "[1] 2.283045e-14\n"
     ]
    },
    {
     "name": "stderr",
     "output_type": "stream",
     "text": [
      "R[write to console]: Since 'object' is a list, we are using the contrasts already present.\n",
      "\n"
     ]
    },
    {
     "name": "stdout",
     "output_type": "stream",
     "text": [
      "   Language_name rand_effect_size max_voc_effect_size max_turn_effect_size\n",
      "1            deu       0.17637894           0.2092186            0.2148297\n",
      "2            eng       0.26132217           0.2586518            0.2675167\n",
      "3            est       0.09026104           0.1718871            0.1939326\n",
      "4            fas               NA                  NA                  NaN\n",
      "5            fra       0.10166887           0.1104040            0.1136619\n",
      "6            hrv       0.17609065           0.1905610            0.1869155\n",
      "7            jpn       0.37964019           0.3503237            0.3772449\n",
      "8            kor       0.25125284           0.2379528            0.2399801\n",
      "9            nor       0.16761078           0.2302313            0.1775366\n",
      "10           pol               NA                  NA                  NaN\n",
      "11           por       0.17936983           0.3122990            0.2638239\n",
      "12           spa       0.21785360           0.1744664            0.1449862\n",
      "13           swe       0.31652717           0.3257713            0.3201906\n",
      "14           zho               NA                  NA                   NA\n"
     ]
    }
   ],
   "source": [
    "%%R -i swe\n",
    "\n",
    "\n",
    "lm14_1 <- lmer(swu ~ contingent + (1|target_child_id) + (1|transcript_id),data=swe, REML= FALSE)\n",
    "emm14_1<-emmeans(lm14_1,pairwise~contingent)\n",
    "pval<-summary(emm14_1$contrasts)$p.value\n",
    "print(c(emm14_1$contrasts, pval))\n",
    "print(p.adjust(pval, \"holm\", 14))\n",
    "# summary(emmeans(lm14_1,\"contingent\",infer=TRUE)) #group means\n",
    "# test(contrast(emmeans(lm14_1,\"contingent\"), \"trt.vs.ctrl\"), joint = TRUE) #main effect - are any groups different\n",
    "\n",
    "swe_lname <- swe$language[1]\n",
    "\n",
    "swe_eff <- eff_size(emm14_1,sigma = sigma(lm14_1), edf = df.residual(lm14_1))\n",
    "\n",
    "swe_eff <- summary(swe_eff)$effect.size\n",
    "\n",
    "effect_sizes[effect_sizes$Language_name==swe_lname,\"max_turn_effect_size\"] <- swe_eff\n",
    "effect_sizes"
   ]
  },
  {
   "cell_type": "code",
   "execution_count": 23,
   "id": "a133d423-6b1b-4fbc-913a-c6377e5be9fc",
   "metadata": {},
   "outputs": [
    {
     "name": "stdout",
     "output_type": "stream",
     "text": [
      "[[1]]\n",
      " contrast                      estimate     SE  df t.ratio p.value\n",
      " contingent - (non-contingent)   0.0569 0.0355 431 1.605   0.1092 \n",
      "\n",
      "Degrees-of-freedom method: kenward-roger \n",
      "\n",
      "[[2]]\n",
      "[1] 0.1092234\n",
      "\n",
      "[1] 1\n",
      "   Language_name rand_effect_size max_voc_effect_size max_turn_effect_size\n",
      "1            deu       0.17637894           0.2092186            0.2148297\n",
      "2            eng       0.26132217           0.2586518            0.2675167\n",
      "3            est       0.09026104           0.1718871            0.1939326\n",
      "4            fas               NA                  NA                  NaN\n",
      "5            fra       0.10166887           0.1104040            0.1136619\n",
      "6            hrv       0.17609065           0.1905610            0.1869155\n",
      "7            jpn       0.37964019           0.3503237            0.3772449\n",
      "8            kor       0.25125284           0.2379528            0.2399801\n",
      "9            nor       0.16761078           0.2302313            0.1775366\n",
      "10           pol               NA                  NA                  NaN\n",
      "11           por       0.17936983           0.3122990            0.2638239\n",
      "12           spa       0.21785360           0.1744664            0.1449862\n",
      "13           swe       0.31652717           0.3257713            0.3201906\n",
      "14           zho               NA                  NA                  NaN\n"
     ]
    }
   ],
   "source": [
    "%%R -i zho\n",
    "\n",
    "lm15_1 <- lmer(swu ~ contingent + (1|transcript_id),data=zho, REML= FALSE)\n",
    "emm15_1<-emmeans(lm15_1,pairwise~contingent)\n",
    "pval<-summary(emm15_1$contrasts)$p.value\n",
    "print(c(emm15_1$contrasts, pval))\n",
    "print(p.adjust(pval, \"holm\", 14))\n",
    "# summary(emmeans(lm15_1,\"contingent\",infer=TRUE)) #group means\n",
    "# test(contrast(emmeans(lm15_1,\"contingent\"), \"trt.vs.ctrl\"), joint = TRUE) #main effect - are any groups different\n",
    "\n",
    "zho_lname <- zho$language[1]\n",
    "\n",
    "effect_sizes[effect_sizes$Language_name==zho_lname,\"max_turn_effect_size\"] <- NaN\n",
    "effect_sizes"
   ]
  },
  {
   "cell_type": "code",
   "execution_count": 24,
   "id": "a2c1a042-f2c8-4413-aa1a-60f9579b88d4",
   "metadata": {},
   "outputs": [],
   "source": [
    "%%R\n",
    "write.csv(x=effect_sizes,'../data/SWU_effect_sizes.csv', row.names = FALSE)"
   ]
  },
  {
   "cell_type": "code",
   "execution_count": null,
   "id": "78bd5dbe-218f-425a-8eec-1fcd3377532e",
   "metadata": {},
   "outputs": [],
   "source": []
  }
 ],
 "metadata": {
  "kernelspec": {
   "display_name": "Python 3",
   "language": "python",
   "name": "python3"
  },
  "language_info": {
   "codemirror_mode": {
    "name": "ipython",
    "version": 3
   },
   "file_extension": ".py",
   "mimetype": "text/x-python",
   "name": "python",
   "nbconvert_exporter": "python",
   "pygments_lexer": "ipython3",
   "version": "3.8.10"
  }
 },
 "nbformat": 4,
 "nbformat_minor": 5
}
