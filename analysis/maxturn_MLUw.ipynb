{
 "cells": [
  {
   "cell_type": "markdown",
   "id": "0d57753d-5b42-4b7c-a79a-d990d12fe5b9",
   "metadata": {},
   "source": [
    "# Natural Statistics Cross-linguistic: \n",
    "\n",
    "#### MLUw analysis - maximum vocal turn taking sample\n",
    "\n",
    "----"
   ]
  },
  {
   "cell_type": "code",
   "execution_count": 1,
   "id": "6354ce81-c6bd-4ee2-8bb3-699667875361",
   "metadata": {},
   "outputs": [],
   "source": [
    "import pandas as pd\n",
    "import numpy as np\n",
    "import sys\n",
    "sys.path.insert(0, \"data_proc\")\n",
    "import contingent_extraction\n",
    "import warnings\n",
    "warnings.filterwarnings('ignore')"
   ]
  },
  {
   "cell_type": "code",
   "execution_count": 2,
   "id": "e0e0b6ba-c345-4952-b7e0-0172fcf10113",
   "metadata": {},
   "outputs": [],
   "source": [
    "maxturn_dat_inc = pd.read_csv(\"../data/maxturn_dat_inc_master.csv\",index_col=0,low_memory=False)\n",
    "maxturn_dat_inc=maxturn_dat_inc[maxturn_dat_inc[\"language\"]!=\"ara\"]\n",
    "maxturn_dat_inc=maxturn_dat_inc[(maxturn_dat_inc[\"target_child_age\"]>=5) & (maxturn_dat_inc[\"target_child_age\"]<=30)]\n",
    "\n",
    "maxturn_dat_inc_cg = maxturn_dat_inc[maxturn_dat_inc[\"caregiver\"]==\"caregiver\"]\n",
    "\n",
    "maxturn_dat_inc_cg[\"contingent\"] = np.where(maxturn_dat_inc_cg[\"contingent\"]==1, \"contingent\", \"non-contingent\")\n",
    "\n",
    "maxturn_dat_inc_cg = maxturn_dat_inc_cg[maxturn_dat_inc_cg[\"gloss\"].notna()]\n",
    "maxturn_dat_inc_cg = maxturn_dat_inc_cg[maxturn_dat_inc_cg[\"gloss\"]!=\"xxx\"]\n",
    "maxturn_dat_inc_cg = maxturn_dat_inc_cg[maxturn_dat_inc_cg[\"gloss\"]!=\"yyy\"]\n",
    "maxturn_dat_inc_cg = maxturn_dat_inc_cg[maxturn_dat_inc_cg[\"gloss\"]!=\"www\"]"
   ]
  },
  {
   "cell_type": "code",
   "execution_count": 3,
   "id": "fae11fb1-39f8-479d-9833-e00cbc4b8fc5",
   "metadata": {},
   "outputs": [],
   "source": [
    "# create language_name column\n",
    "\n",
    "# language_labels = pd.read_csv(\"../data/language_labels.csv\")\n",
    "\n",
    "# language_labels=language_labels.rename(columns={\"Language\":\"language\"})\n",
    "\n",
    "# maxturn_dat_inc_cg=maxturn_dat_inc_cg.merge(language_labels,on='language',how=\"right\")"
   ]
  },
  {
   "cell_type": "code",
   "execution_count": 4,
   "id": "54563555-87e0-45fe-8607-839be5a88825",
   "metadata": {},
   "outputs": [],
   "source": [
    "maxturn_mlu_stats = (maxturn_dat_inc_cg.groupby([\"Language_name\",\"target_child_id\",\"transcript_id\",\"contingent\"])\n",
    "                                  .num_tokens\n",
    "                                  .agg([\"mean\"])\n",
    "                                  .reset_index())\n",
    "maxturn_mlu_sumstats =  maxturn_mlu_stats.rename({'mean': 'means'}, axis=1)"
   ]
  },
  {
   "cell_type": "markdown",
   "id": "b159e64b-433c-4f81-80ce-4fd069c8e0a4",
   "metadata": {},
   "source": [
    "----\n",
    "#### MLUw plot"
   ]
  },
  {
   "cell_type": "code",
   "execution_count": 5,
   "id": "8658b9ef-2fac-4d27-9f4f-a5121255d03e",
   "metadata": {},
   "outputs": [],
   "source": [
    "%load_ext rpy2.ipython"
   ]
  },
  {
   "cell_type": "markdown",
   "id": "eccc425c-2ac3-462b-b7ed-5b480324b967",
   "metadata": {},
   "source": [
    "Simple plot"
   ]
  },
  {
   "cell_type": "code",
   "execution_count": 33,
   "id": "434fd33b-c6bf-4fc8-acc4-5f6b5a931ab1",
   "metadata": {},
   "outputs": [],
   "source": [
    "%%R -i maxturn_mlu_sumstats\n",
    "\n",
    "library('ggplot2')\n",
    "library('repr')\n",
    "options(repr.plot.width=6, repr.plot.height=12)\n",
    "\n",
    "# ara_label <- data.frame(means=c(0),contingent = c(1.5),language=\"ara\") # no adult speech transcribed\n",
    "deu_label <- data.frame(means=c(5.8),contingent = c(1.5),Language_name=\"German\")\n",
    "eng_label <- data.frame(means=c(5.8),contingent = c(1.5),Language_name=\"English\")\n",
    "est_label <- data.frame(means=c(5.8),contingent = c(1.5),Language_name=\"Estonian\")\n",
    "# fas_label <- data.frame(means=c(5.8),contingent = c(1.5),Language_name=\"Persian\")\n",
    "fas_ns_label <- data.frame(means=c(6),contingent = c(1.5),Language_name=\"Persian\")\n",
    "fra_label <- data.frame(means=c(5.8),contingent = c(1.5),Language_name=\"French\")\n",
    "hrv_label <- data.frame(means=c(5.8),contingent = c(1.5),Language_name=\"Croatian\")\n",
    "jpn_label <- data.frame(means=c(5.8),contingent = c(1.5),Language_name=\"Japanese\")\n",
    "kor_label <- data.frame(means=c(5.8),contingent = c(1.5),Language_name=\"Korean\")\n",
    "# nor_label <- data.frame(means=c(5.8),contingent = c(1.5),Language_name=\"Norwegian\")\n",
    "nor_ns_label <- data.frame(means=c(6),contingent = c(1.5),Language_name=\"Norwegian\")\n",
    "pol_label <- data.frame(means=c(6),contingent = c(1.5),Language_name=\"Polish\")\n",
    "por_label <- data.frame(means=c(5.8),contingent = c(1.5),Language_name=\"Portuguese\")\n",
    "spa_label <- data.frame(means=c(5.8),contingent = c(1.5),Language_name=\"Spanish\")\n",
    "swe_label <- data.frame(means=c(5.8),contingent = c(1.5),Language_name=\"Swedish\")\n",
    "zho_label <- data.frame(means=c(5.8),contingent = c(1.5),Language_name=\"Mandarin\")\n",
    "# zho_ns_label <- data.frame(means=c(6),contingent = c(1.5),Language_name=\"Mandarin\")\n",
    "\n",
    "\n",
    "p <- ggplot(maxturn_mlu_sumstats, aes(x = contingent, y = means, color = Language_name)) +\n",
    "     stat_summary(fun.y=mean, geom=\"point\", shape=19, size=1.75) + \n",
    "     stat_summary(fun.data = mean_se, geom = \"errorbar\", size=1.25, width = .5) +\n",
    "     facet_wrap(. ~ Language_name,ncol = 7) + \n",
    "     geom_text(data = deu_label,label = \"***\",size=8,color=\"black\") + \n",
    "     geom_text(data = eng_label,label = \"***\",size=8,color=\"black\") +  \n",
    "     geom_text(data = est_label,label = \"***\",size=8,color=\"black\") +  \n",
    "     geom_text(data = fas_ns_label,label = \"ns\",size=4,color=\"black\",fontface = \"italic\") +\n",
    "#      geom_text(data = fas_label,label = \"*\",size=8, color=\"black\") +\n",
    "     geom_text(data = fra_label,label = \"***\",size=8,color=\"black\") +  \n",
    "     geom_text(data = hrv_label,label = \"***\",size=8,color=\"black\") + \n",
    "     geom_text(data = jpn_label,label = \"***\",size=8,color=\"black\") + \n",
    "     geom_text(data = kor_label,label = \"***\",size=8,color=\"black\") +  \n",
    "     geom_text(data = nor_ns_label,label = \"ns\",size=4,color=\"black\",fontface = \"italic\") +  \n",
    "     geom_text(data = pol_label,label = \"ns\", size=4,color=\"black\",fontface = \"italic\") +  \n",
    "     geom_text(data = por_label,label = \"***\",size=8,color=\"black\") +  \n",
    "     geom_text(data = spa_label,label = \"***\",size=8,color=\"black\") + \n",
    "     geom_text(data = swe_label,label = \"***\",size=8,color=\"black\") + \n",
    "#      geom_text(data = zho_ns_label,label = \"ns\",size=4,color=\"black\",fontface = \"italic\") +\n",
    "     geom_text(data = zho_label,label = \"**\",size=8, color=\"black\") +\n",
    "     ylim(0, 6) +\n",
    "     labs(# title = \"Mean length of utterance in words\",\n",
    "       # subtitle = \"Using CHILDES Token counts\",\n",
    "       y = \"MLUw\", x = \"\") +\n",
    "     theme_classic() +\n",
    "     theme(text = element_text(size=16),\n",
    "           axis.text.x = element_text(angle = 90, vjust = 0.5, hjust=1),\n",
    "           legend.title = element_blank(),\n",
    "           legend.background = element_rect(fill=alpha(\"white\",0.90),\n",
    "                                                            size=0, linetype=\"dotted\",\n",
    "                                                            colour = \"white\"),\n",
    "           legend.text=element_text(size=16))\n",
    "     ggsave(\"../figures/token_mlu_maxturn.pdf\", width = 11.7, height = 6.2)"
   ]
  },
  {
   "cell_type": "markdown",
   "id": "8f19faa7-3d1e-4487-a564-a529b007afc0",
   "metadata": {},
   "source": [
    "Plot + effect estimates"
   ]
  },
  {
   "cell_type": "code",
   "execution_count": 34,
   "id": "7de37497-2b73-4c5a-be8b-9a69084c3f52",
   "metadata": {},
   "outputs": [],
   "source": [
    "%%R\n",
    "\n",
    "deu_est_label <- data.frame(means=c(.25),contingent = c(1),Language_name=\"German\")\n",
    "eng_est_label <- data.frame(means=c(.25),contingent = c(1),Language_name=\"English\")\n",
    "est_est_label <- data.frame(means=c(.25),contingent = c(1),Language_name=\"Estonian\")\n",
    "fra_est_label <- data.frame(means=c(.25),contingent = c(1),Language_name=\"French\")\n",
    "hrv_est_label <- data.frame(means=c(.25),contingent = c(1),Language_name=\"Croatian\")\n",
    "jpn_est_label <- data.frame(means=c(.25),contingent = c(1),Language_name=\"Japanese\")\n",
    "kor_est_label <- data.frame(means=c(.25),contingent = c(1),Language_name=\"Korean\")\n",
    "nor_est_label <- data.frame(means=c(.25),contingent = c(1),Language_name=\"Norwegian\")\n",
    "por_est_label <- data.frame(means=c(.25),contingent = c(1),Language_name=\"Portuguese\")\n",
    "spa_est_label <- data.frame(means=c(.25),contingent = c(1),Language_name=\"Spanish\")\n",
    "swe_est_label <- data.frame(means=c(.25),contingent = c(1),Language_name=\"Swedish\")\n",
    "zho_est_label <- data.frame(means=c(.25),contingent = c(1),Language_name=\"Mandarin\")\n",
    "\n",
    "p <- p + geom_text(data = deu_est_label,label = \"est=-.92\",size=4,color=\"black\") +\n",
    "         geom_text(data = eng_est_label,label = \"est=-.57\",size=4,color=\"black\") +\n",
    "         geom_text(data = est_est_label,label = \"est=-.64\",size=4,color=\"black\") +\n",
    "         geom_text(data = fra_est_label,label = \"est=-.32\",size=4,color=\"black\") +\n",
    "         geom_text(data = hrv_est_label,label = \"est=-.49\",size=4,color=\"black\") +\n",
    "         geom_text(data = jpn_est_label,label = \"est=-.64\",size=4,color=\"black\") +\n",
    "         geom_text(data = kor_est_label,label = \"est=-.52\",size=4,color=\"black\") +\n",
    "#          geom_text(data = nor_est_label,label = \"est=-.68\",size=4,color=\"black\") +\n",
    "         geom_text(data = por_est_label,label = \"est=-.73\",size=4,color=\"black\") +\n",
    "         geom_text(data = spa_est_label,label = \"est=-.39\",size=4,color=\"black\") +\n",
    "         geom_text(data = swe_est_label,label = \"est=-.61\",size=4,color=\"black\") +\n",
    "         geom_text(data = zho_est_label,label = \"est=-.93\",size=4,color=\"black\")\n",
    "         \n",
    "\n",
    "ggsave(\"../figures/token_mlu_maxturn_eff.pdf\", width = 11.7, height = 6.2)"
   ]
  },
  {
   "cell_type": "markdown",
   "id": "de9fa72d-12ec-4877-8031-5b9d8bf24303",
   "metadata": {},
   "source": [
    "\\+ sample size"
   ]
  },
  {
   "cell_type": "code",
   "execution_count": 35,
   "id": "627724a4-e39a-4e94-ac1d-0ee0afcb4f2d",
   "metadata": {},
   "outputs": [],
   "source": [
    "%%R\n",
    "\n",
    "deu_n_label <- data.frame(means=c(.25),contingent = c(1.7),Language_name=\"German\")\n",
    "eng_n_label <- data.frame(means=c(.25),contingent = c(1.7),Language_name=\"English\")\n",
    "est_n_label <- data.frame(means=c(.25),contingent = c(1.7),Language_name=\"Estonian\")\n",
    "fas_n_label <- data.frame(means=c(.25),contingent = c(1.7),Language_name=\"Persian\")\n",
    "fra_n_label <- data.frame(means=c(.25),contingent = c(1.7),Language_name=\"French\")\n",
    "hrv_n_label <- data.frame(means=c(.25),contingent = c(1.7),Language_name=\"Croatian\")\n",
    "jpn_n_label <- data.frame(means=c(.25),contingent = c(1.7),Language_name=\"Japanese\")\n",
    "kor_n_label <- data.frame(means=c(.25),contingent = c(1.7),Language_name=\"Korean\")\n",
    "nor_n_label <- data.frame(means=c(.25),contingent = c(1.7),Language_name=\"Norwegian\")\n",
    "pol_n_label <- data.frame(means=c(.25),contingent = c(1.7),Language_name=\"Polish\")\n",
    "por_n_label <- data.frame(means=c(.25),contingent = c(1.7),Language_name=\"Portuguese\")\n",
    "spa_n_label <- data.frame(means=c(.25),contingent = c(1.7),Language_name=\"Spanish\")\n",
    "swe_n_label <- data.frame(means=c(.25),contingent = c(1.7),Language_name=\"Swedish\")\n",
    "zho_n_label <- data.frame(means=c(.25),contingent = c(1.7),Language_name=\"Mandarin\")\n",
    "\n",
    "deu_sz_label <- data.frame(means=c(.25),contingent = c(2.1),Language_name=\"German\")\n",
    "eng_sz_label <- data.frame(means=c(.25),contingent = c(2.1),Language_name=\"English\")\n",
    "est_sz_label <- data.frame(means=c(.25),contingent = c(2.1),Language_name=\"Estonian\")\n",
    "fas_sz_label <- data.frame(means=c(.25),contingent = c(2.1),Language_name=\"Persian\")\n",
    "fra_sz_label <- data.frame(means=c(.25),contingent = c(2.1),Language_name=\"French\")\n",
    "hrv_sz_label <- data.frame(means=c(.25),contingent = c(2.1),Language_name=\"Croatian\")\n",
    "jpn_sz_label <- data.frame(means=c(.25),contingent = c(2.1),Language_name=\"Japanese\")\n",
    "kor_sz_label <- data.frame(means=c(.25),contingent = c(2.1),Language_name=\"Korean\")\n",
    "nor_sz_label <- data.frame(means=c(.25),contingent = c(2.1),Language_name=\"Norwegian\")\n",
    "pol_sz_label <- data.frame(means=c(.25),contingent = c(2.1),Language_name=\"Polish\")\n",
    "por_sz_label <- data.frame(means=c(.25),contingent = c(2.1),Language_name=\"Portuguese\")\n",
    "spa_sz_label <- data.frame(means=c(.25),contingent = c(2.1),Language_name=\"Spanish\")\n",
    "swe_sz_label <- data.frame(means=c(.25),contingent = c(2.1),Language_name=\"Swedish\")\n",
    "zho_sz_label <- data.frame(means=c(.25),contingent = c(2.1),Language_name=\"Mandarin\")\n",
    "\n",
    "p <- p + geom_text(data = deu_n_label,label = \"n\",size=4,color=\"black\",fontface = \"italic\") +\n",
    "         geom_text(data = eng_n_label,label = \"n\",size=4,color=\"black\",fontface = \"italic\") +\n",
    "         geom_text(data = est_n_label,label = \"n\",size=4,color=\"black\",fontface = \"italic\") +\n",
    "         geom_text(data = fas_n_label,label = \"n\",size=4,color=\"black\",fontface = \"italic\") +\n",
    "         geom_text(data = fra_n_label,label = \"n\",size=4,color=\"black\",fontface = \"italic\") +\n",
    "         geom_text(data = hrv_n_label,label = \"n\",size=4,color=\"black\",fontface = \"italic\") +\n",
    "         geom_text(data = jpn_n_label,label = \"n\",size=4,color=\"black\",fontface = \"italic\") +\n",
    "         geom_text(data = kor_n_label,label = \"n\",size=4,color=\"black\",fontface = \"italic\") +\n",
    "         geom_text(data = nor_n_label,label = \"n\",size=4,color=\"black\",fontface = \"italic\") +\n",
    "         geom_text(data = pol_n_label,label = \"n\",size=4,color=\"black\",fontface = \"italic\") +\n",
    "         geom_text(data = por_n_label,label = \"n\",size=4,color=\"black\",fontface = \"italic\") +\n",
    "         geom_text(data = spa_n_label,label = \"n\",size=4,color=\"black\",fontface = \"italic\") +\n",
    "         geom_text(data = swe_n_label,label = \"n\",size=4,color=\"black\",fontface = \"italic\") +\n",
    "         geom_text(data = zho_n_label,label = \"n\",size=4,color=\"black\",fontface = \"italic\") +\n",
    "         geom_text(data = deu_sz_label,label = \" = 39\",size=4,color=\"black\") +\n",
    "         geom_text(data = eng_sz_label,label = \" =1010\",size=4,color=\"black\") +\n",
    "         geom_text(data = est_sz_label,label = \" = 22\",size=4,color=\"black\") +\n",
    "         geom_text(data = fas_sz_label,label = \" = 12\",size=4,color=\"black\") +\n",
    "         geom_text(data = fra_sz_label,label = \" = 258\",size=4,color=\"black\") +\n",
    "         geom_text(data = hrv_sz_label,label = \" = 79\",size=4,color=\"black\") +\n",
    "         geom_text(data = jpn_sz_label,label = \" = 139\",size=4,color=\"black\") +\n",
    "         geom_text(data = kor_sz_label,label = \" = 37\",size=4,color=\"black\") +\n",
    "         geom_text(data = nor_sz_label,label = \" = 56\",size=4,color=\"black\") +\n",
    "         geom_text(data = pol_sz_label,label = \" = 1\",size=4,color=\"black\") +\n",
    "         geom_text(data = por_sz_label,label = \" = 24\",size=4,color=\"black\") +\n",
    "         geom_text(data = spa_sz_label,label = \" = 31\",size=4,color=\"black\") +\n",
    "         geom_text(data = swe_sz_label,label = \" = 16\",size=4,color=\"black\") +\n",
    "         geom_text(data = zho_sz_label,label = \" = 2\",size=4,color=\"black\")\n",
    "         \n",
    "\n",
    "ggsave(\"../figures/token_mlu_maxturn_eff_n.pdf\", width = 11.7, height = 6.2)"
   ]
  },
  {
   "cell_type": "markdown",
   "id": "0656da80-c8aa-48b8-97d4-7e08e439e166",
   "metadata": {},
   "source": [
    "----\n",
    "\n",
    "#### MLUw mixed models"
   ]
  },
  {
   "cell_type": "code",
   "execution_count": 6,
   "id": "34a04e85-bfa4-462b-9a0e-14ba2c66d40d",
   "metadata": {},
   "outputs": [],
   "source": [
    "# ara=maxturn_dat_inc_cg[['language','num_tokens','contingent','transcript_id','target_child_id']][maxturn_dat_inc_cg[\"language\"]==\"ara\"] # no adult speech transcribed\n",
    "deu=maxturn_dat_inc_cg[['language','num_tokens','contingent','transcript_id','target_child_id']][maxturn_dat_inc_cg[\"language\"]==\"deu\"]\n",
    "eng=maxturn_dat_inc_cg[['language','num_tokens','contingent','transcript_id','target_child_id']][maxturn_dat_inc_cg[\"language\"]==\"eng\"]\n",
    "est=maxturn_dat_inc_cg[['language','num_tokens','contingent','transcript_id','target_child_id']][maxturn_dat_inc_cg[\"language\"]==\"est\"]\n",
    "fas=maxturn_dat_inc_cg[['language','num_tokens','contingent','transcript_id','target_child_id']][maxturn_dat_inc_cg[\"language\"]==\"fas\"]\n",
    "fra=maxturn_dat_inc_cg[['language','num_tokens','contingent','transcript_id','target_child_id']][maxturn_dat_inc_cg[\"language\"]==\"fra\"]\n",
    "hrv=maxturn_dat_inc_cg[['language','num_tokens','contingent','transcript_id','target_child_id']][maxturn_dat_inc_cg[\"language\"]==\"hrv\"]\n",
    "jpn=maxturn_dat_inc_cg[['language','num_tokens','contingent','transcript_id','target_child_id']][maxturn_dat_inc_cg[\"language\"]==\"jpn\"]\n",
    "kor=maxturn_dat_inc_cg[['language','num_tokens','contingent','transcript_id','target_child_id']][maxturn_dat_inc_cg[\"language\"]==\"kor\"]\n",
    "nor=maxturn_dat_inc_cg[['language','num_tokens','contingent','transcript_id','target_child_id']][maxturn_dat_inc_cg[\"language\"]==\"nor\"]\n",
    "pol=maxturn_dat_inc_cg[['language','num_tokens','contingent','transcript_id','target_child_id']][maxturn_dat_inc_cg[\"language\"]==\"pol\"]\n",
    "por=maxturn_dat_inc_cg[['language','num_tokens','contingent','transcript_id','target_child_id']][maxturn_dat_inc_cg[\"language\"]==\"por\"]\n",
    "spa=maxturn_dat_inc_cg[['language','num_tokens','contingent','transcript_id','target_child_id']][maxturn_dat_inc_cg[\"language\"]==\"spa\"]\n",
    "swe=maxturn_dat_inc_cg[['language','num_tokens','contingent','transcript_id','target_child_id']][maxturn_dat_inc_cg[\"language\"]==\"swe\"]\n",
    "zho=maxturn_dat_inc_cg[['language','num_tokens','contingent','transcript_id','target_child_id']][maxturn_dat_inc_cg[\"language\"]==\"zho\"]"
   ]
  },
  {
   "cell_type": "code",
   "execution_count": 7,
   "id": "88a3245f-b8d0-40c1-af98-514d89fe9bf8",
   "metadata": {},
   "outputs": [
    {
     "name": "stderr",
     "output_type": "stream",
     "text": [
      "R[write to console]: Loading required package: Matrix\n",
      "\n",
      "R[write to console]: \n",
      "Attaching package: ‘lmerTest’\n",
      "\n",
      "\n",
      "R[write to console]: The following object is masked from ‘package:lme4’:\n",
      "\n",
      "    lmer\n",
      "\n",
      "\n",
      "R[write to console]: The following object is masked from ‘package:stats’:\n",
      "\n",
      "    step\n",
      "\n",
      "\n",
      "R[write to console]: ── \u001b[1mAttaching packages\u001b[22m ─────────────────────────────────────── tidyverse 1.3.1 ──\n",
      "\n",
      "R[write to console]: \u001b[32m✔\u001b[39m \u001b[34mggplot2\u001b[39m 3.3.5     \u001b[32m✔\u001b[39m \u001b[34mpurrr  \u001b[39m 0.3.4\n",
      "\u001b[32m✔\u001b[39m \u001b[34mtibble \u001b[39m 3.1.5     \u001b[32m✔\u001b[39m \u001b[34mdplyr  \u001b[39m 1.0.7\n",
      "\u001b[32m✔\u001b[39m \u001b[34mtidyr  \u001b[39m 1.1.3     \u001b[32m✔\u001b[39m \u001b[34mstringr\u001b[39m 1.4.0\n",
      "\u001b[32m✔\u001b[39m \u001b[34mreadr  \u001b[39m 1.4.0     \u001b[32m✔\u001b[39m \u001b[34mforcats\u001b[39m 0.5.1\n",
      "\n",
      "R[write to console]: ── \u001b[1mConflicts\u001b[22m ────────────────────────────────────────── tidyverse_conflicts() ──\n",
      "\u001b[31m✖\u001b[39m \u001b[34mtidyr\u001b[39m::\u001b[32mexpand()\u001b[39m masks \u001b[34mMatrix\u001b[39m::expand()\n",
      "\u001b[31m✖\u001b[39m \u001b[34mdplyr\u001b[39m::\u001b[32mfilter()\u001b[39m masks \u001b[34mstats\u001b[39m::filter()\n",
      "\u001b[31m✖\u001b[39m \u001b[34mdplyr\u001b[39m::\u001b[32mlag()\u001b[39m    masks \u001b[34mstats\u001b[39m::lag()\n",
      "\u001b[31m✖\u001b[39m \u001b[34mtidyr\u001b[39m::\u001b[32mpack()\u001b[39m   masks \u001b[34mMatrix\u001b[39m::pack()\n",
      "\u001b[31m✖\u001b[39m \u001b[34mtidyr\u001b[39m::\u001b[32munpack()\u001b[39m masks \u001b[34mMatrix\u001b[39m::unpack()\n",
      "\n"
     ]
    }
   ],
   "source": [
    "%%R\n",
    "\n",
    "library(\"lme4\")\n",
    "library(\"emmeans\")\n",
    "library(\"lmerTest\")\n",
    "library(\"tidyverse\")\n",
    "\n",
    "effect_sizes <- read.csv(\"../data/MLUw_effect_sizes.csv\")\n",
    "\n",
    "effect_sizes[\"max_turn_effect_size\"] <- NA"
   ]
  },
  {
   "cell_type": "code",
   "execution_count": 8,
   "id": "1dd035eb-1c55-4164-bc19-3ddc90966955",
   "metadata": {},
   "outputs": [
    {
     "name": "stderr",
     "output_type": "stream",
     "text": [
      "R[write to console]: Note: D.f. calculations have been disabled because the number of observations exceeds 3000.\n",
      "To enable adjustments, add the argument 'pbkrtest.limit = 5287' (or larger)\n",
      "[or, globally, 'set emm_options(pbkrtest.limit = 5287)' or larger];\n",
      "but be warned that this may result in large computation time and memory use.\n",
      "\n",
      "R[write to console]: Note: D.f. calculations have been disabled because the number of observations exceeds 3000.\n",
      "To enable adjustments, add the argument 'lmerTest.limit = 5287' (or larger)\n",
      "[or, globally, 'set emm_options(lmerTest.limit = 5287)' or larger];\n",
      "but be warned that this may result in large computation time and memory use.\n",
      "\n"
     ]
    },
    {
     "name": "stdout",
     "output_type": "stream",
     "text": [
      "[[1]]\n",
      " contrast                      estimate    SE  df z.ratio p.value\n",
      " contingent - (non-contingent)   -0.888 0.091 Inf -9.766  <.0001 \n",
      "\n",
      "Degrees-of-freedom method: asymptotic \n",
      "\n",
      "[[2]]\n",
      "[1] 1.581746e-22\n",
      "\n",
      "[1] 2.214445e-21\n"
     ]
    },
    {
     "name": "stderr",
     "output_type": "stream",
     "text": [
      "R[write to console]: Since 'object' is a list, we are using the contrasts already present.\n",
      "\n"
     ]
    },
    {
     "name": "stdout",
     "output_type": "stream",
     "text": [
      "   Language_name rand_effect_size max_voc_effect_size max_turn_effect_size\n",
      "1            deu       -0.2014434          -0.2921636           -0.2769452\n",
      "2            eng       -0.2136242          -0.2056120                   NA\n",
      "3            est       -0.1484433          -0.2174693                   NA\n",
      "4            fas               NA                  NA                   NA\n",
      "5            fra       -0.1424092          -0.1191522                   NA\n",
      "6            hrv       -0.1661630          -0.1725226                   NA\n",
      "7            jpn       -0.3211032          -0.3044613                   NA\n",
      "8            kor       -0.2469108          -0.2712496                   NA\n",
      "9            nor       -0.1823449          -0.2682480                   NA\n",
      "10           pol               NA                  NA                   NA\n",
      "11           por       -0.2390893          -0.2981426                   NA\n",
      "12           spa       -0.2410338          -0.2353482                   NA\n",
      "13           swe       -0.2695666          -0.2685154                   NA\n",
      "14           zho               NA                  NA                   NA\n"
     ]
    }
   ],
   "source": [
    "%%R -i deu\n",
    "\n",
    "lm2 <- lmer(num_tokens ~ contingent + (1|target_child_id) + (1|transcript_id),data=deu, REML= FALSE)\n",
    "emm2<-emmeans(lm2,pairwise~contingent)\n",
    "pval<-summary(emm2$contrasts)$p.value\n",
    "print(c(emm2$contrasts, pval))\n",
    "print(p.adjust(pval, \"holm\", 14)) # create big vector of p-values and ajdust those\n",
    "# summary(emmeans(lm2,\"contingent\",contr=\"pairwise\"),infer=TRUE) #group means\n",
    "# test(contrast(emmeans(lm2,\"contingent\"), \"trt.vs.ctrl\"), joint = TRUE) #main effect - are any groups different\n",
    "\n",
    "deu_lname <- deu$language[1]\n",
    "\n",
    "deu_eff <- eff_size(emm2,sigma = sigma(lm2), edf = df.residual(lm2))\n",
    "\n",
    "deu_eff <- summary(deu_eff)$effect.size\n",
    "\n",
    "effect_sizes[effect_sizes$Language_name==deu_lname,\"max_turn_effect_size\"] <- deu_eff\n",
    "effect_sizes"
   ]
  },
  {
   "cell_type": "code",
   "execution_count": 9,
   "id": "0c7475df-f7d0-4e79-9308-eeef6df2c0e7",
   "metadata": {},
   "outputs": [
    {
     "name": "stderr",
     "output_type": "stream",
     "text": [
      "R[write to console]: Note: D.f. calculations have been disabled because the number of observations exceeds 3000.\n",
      "To enable adjustments, add the argument 'pbkrtest.limit = 123279' (or larger)\n",
      "[or, globally, 'set emm_options(pbkrtest.limit = 123279)' or larger];\n",
      "but be warned that this may result in large computation time and memory use.\n",
      "\n",
      "R[write to console]: Note: D.f. calculations have been disabled because the number of observations exceeds 3000.\n",
      "To enable adjustments, add the argument 'lmerTest.limit = 123279' (or larger)\n",
      "[or, globally, 'set emm_options(lmerTest.limit = 123279)' or larger];\n",
      "but be warned that this may result in large computation time and memory use.\n",
      "\n"
     ]
    },
    {
     "name": "stdout",
     "output_type": "stream",
     "text": [
      "[[1]]\n",
      " contrast                      estimate     SE  df z.ratio p.value\n",
      " contingent - (non-contingent)   -0.614 0.0223 Inf -27.499 <.0001 \n",
      "\n",
      "Degrees-of-freedom method: asymptotic \n",
      "\n",
      "[[2]]\n",
      "[1] 1.788067e-166\n",
      "\n",
      "[1] 2.503294e-165\n"
     ]
    },
    {
     "name": "stderr",
     "output_type": "stream",
     "text": [
      "R[write to console]: Since 'object' is a list, we are using the contrasts already present.\n",
      "\n"
     ]
    },
    {
     "name": "stdout",
     "output_type": "stream",
     "text": [
      "   Language_name rand_effect_size max_voc_effect_size max_turn_effect_size\n",
      "1            deu       -0.2014434          -0.2921636           -0.2769452\n",
      "2            eng       -0.2136242          -0.2056120           -0.2133768\n",
      "3            est       -0.1484433          -0.2174693                   NA\n",
      "4            fas               NA                  NA                   NA\n",
      "5            fra       -0.1424092          -0.1191522                   NA\n",
      "6            hrv       -0.1661630          -0.1725226                   NA\n",
      "7            jpn       -0.3211032          -0.3044613                   NA\n",
      "8            kor       -0.2469108          -0.2712496                   NA\n",
      "9            nor       -0.1823449          -0.2682480                   NA\n",
      "10           pol               NA                  NA                   NA\n",
      "11           por       -0.2390893          -0.2981426                   NA\n",
      "12           spa       -0.2410338          -0.2353482                   NA\n",
      "13           swe       -0.2695666          -0.2685154                   NA\n",
      "14           zho               NA                  NA                   NA\n"
     ]
    }
   ],
   "source": [
    "%%R -i eng\n",
    "\n",
    "lm3 <- lmer(num_tokens ~ contingent + (1|target_child_id) + (1|transcript_id),data=eng, REML= FALSE)\n",
    "emm3<-emmeans(lm3,pairwise~contingent)\n",
    "pval<-summary(emm3$contrasts)$p.value\n",
    "print(c(emm3$contrasts, pval))\n",
    "print(p.adjust(pval, \"holm\", 14))\n",
    "# summary(emmeans(lm3,\"contingent\",infer=TRUE)) #group means\n",
    "# test(contrast(emmeans(lm3,\"contingent\"), \"trt.vs.ctrl\"), joint = TRUE) #main effect - are any groups different\n",
    "\n",
    "eng_lname <- eng$language[1]\n",
    "\n",
    "eng_eff <- eff_size(emm3,sigma = sigma(lm3), edf = df.residual(lm3))\n",
    "\n",
    "eng_eff <- summary(eng_eff)$effect.size\n",
    "\n",
    "effect_sizes[effect_sizes$Language_name==eng_lname,\"max_turn_effect_size\"] <- eng_eff\n",
    "effect_sizes"
   ]
  },
  {
   "cell_type": "code",
   "execution_count": 10,
   "id": "be32b20e-6de8-453a-8335-5bcba12526f2",
   "metadata": {},
   "outputs": [
    {
     "name": "stdout",
     "output_type": "stream",
     "text": [
      "[[1]]\n",
      " contrast                      estimate   SE   df t.ratio p.value\n",
      " contingent - (non-contingent)   -0.645 0.12 2721 -5.359  <.0001 \n",
      "\n",
      "Degrees-of-freedom method: kenward-roger \n",
      "\n",
      "[[2]]\n",
      "[1] 9.066389e-08\n",
      "\n",
      "[1] 1.269294e-06\n"
     ]
    },
    {
     "name": "stderr",
     "output_type": "stream",
     "text": [
      "R[write to console]: Since 'object' is a list, we are using the contrasts already present.\n",
      "\n"
     ]
    },
    {
     "name": "stdout",
     "output_type": "stream",
     "text": [
      "   Language_name rand_effect_size max_voc_effect_size max_turn_effect_size\n",
      "1            deu       -0.2014434          -0.2921636           -0.2769452\n",
      "2            eng       -0.2136242          -0.2056120           -0.2133768\n",
      "3            est       -0.1484433          -0.2174693           -0.2147865\n",
      "4            fas               NA                  NA                   NA\n",
      "5            fra       -0.1424092          -0.1191522                   NA\n",
      "6            hrv       -0.1661630          -0.1725226                   NA\n",
      "7            jpn       -0.3211032          -0.3044613                   NA\n",
      "8            kor       -0.2469108          -0.2712496                   NA\n",
      "9            nor       -0.1823449          -0.2682480                   NA\n",
      "10           pol               NA                  NA                   NA\n",
      "11           por       -0.2390893          -0.2981426                   NA\n",
      "12           spa       -0.2410338          -0.2353482                   NA\n",
      "13           swe       -0.2695666          -0.2685154                   NA\n",
      "14           zho               NA                  NA                   NA\n"
     ]
    }
   ],
   "source": [
    "%%R -i est\n",
    "\n",
    "lm4 <- lmer(num_tokens ~ contingent + (1|target_child_id) + (1|transcript_id),data=est, REML= FALSE)\n",
    "emm4<-emmeans(lm4,pairwise~contingent)\n",
    "pval<-summary(emm4$contrasts)$p.value\n",
    "print(c(emm4$contrasts, pval))\n",
    "print(p.adjust(pval, \"holm\", 14))\n",
    "# summary(emmeans(lm4,\"contingent\",infer=TRUE)) #group means\n",
    "# test(contrast(emmeans(lm4,\"contingent\"), \"trt.vs.ctrl\"), joint = TRUE) #main effect - are any groups different\n",
    "\n",
    "est_lname <- est$language[1]\n",
    "\n",
    "est_eff <- eff_size(emm4,sigma = sigma(lm4), edf = df.residual(lm4))\n",
    "\n",
    "est_eff <- summary(est_eff)$effect.size\n",
    "\n",
    "effect_sizes[effect_sizes$Language_name==est_lname,\"max_turn_effect_size\"] <- est_eff\n",
    "effect_sizes"
   ]
  },
  {
   "cell_type": "code",
   "execution_count": 11,
   "id": "1a7fa371-e72d-4d3a-8a2a-b1aa09955bc5",
   "metadata": {},
   "outputs": [
    {
     "name": "stdout",
     "output_type": "stream",
     "text": [
      "[[1]]\n",
      " contrast                      estimate    SE  df t.ratio p.value\n",
      " contingent - (non-contingent)   -0.243 0.142 726 -1.710  0.0876 \n",
      "\n",
      "Degrees-of-freedom method: kenward-roger \n",
      "\n",
      "[[2]]\n",
      "[1] 0.08761943\n",
      "\n",
      "[1] 1\n",
      "   Language_name rand_effect_size max_voc_effect_size max_turn_effect_size\n",
      "1            deu       -0.2014434          -0.2921636           -0.2769452\n",
      "2            eng       -0.2136242          -0.2056120           -0.2133768\n",
      "3            est       -0.1484433          -0.2174693           -0.2147865\n",
      "4            fas               NA                  NA                  NaN\n",
      "5            fra       -0.1424092          -0.1191522                   NA\n",
      "6            hrv       -0.1661630          -0.1725226                   NA\n",
      "7            jpn       -0.3211032          -0.3044613                   NA\n",
      "8            kor       -0.2469108          -0.2712496                   NA\n",
      "9            nor       -0.1823449          -0.2682480                   NA\n",
      "10           pol               NA                  NA                   NA\n",
      "11           por       -0.2390893          -0.2981426                   NA\n",
      "12           spa       -0.2410338          -0.2353482                   NA\n",
      "13           swe       -0.2695666          -0.2685154                   NA\n",
      "14           zho               NA                  NA                   NA\n"
     ]
    }
   ],
   "source": [
    "%%R -i fas\n",
    "\n",
    "lm5 <- lmer(num_tokens ~ contingent + (1|transcript_id),data=fas, REML= FALSE)\n",
    "emm5<-emmeans(lm5,pairwise~contingent)\n",
    "pval<-summary(emm5$contrasts)$p.value\n",
    "print(c(emm5$contrasts, pval))\n",
    "print(p.adjust(pval, \"holm\", 14))\n",
    "# summary(emmeans(lm5,\"contingent\",infer=TRUE)) #group means\n",
    "# test(contrast(emmeans(lm5,\"contingent\"), \"trt.vs.ctrl\"), joint = TRUE) #main effect - are any groups different\n",
    "\n",
    "fas_lname <- fas$language[1]\n",
    "\n",
    "effect_sizes[effect_sizes$Language_name==fas_lname,\"max_turn_effect_size\"] <- NaN\n",
    "effect_sizes"
   ]
  },
  {
   "cell_type": "code",
   "execution_count": 12,
   "id": "4a2a8c01-5bdf-40a7-8143-88b520230367",
   "metadata": {},
   "outputs": [
    {
     "name": "stderr",
     "output_type": "stream",
     "text": [
      "R[write to console]: Note: D.f. calculations have been disabled because the number of observations exceeds 3000.\n",
      "To enable adjustments, add the argument 'pbkrtest.limit = 26424' (or larger)\n",
      "[or, globally, 'set emm_options(pbkrtest.limit = 26424)' or larger];\n",
      "but be warned that this may result in large computation time and memory use.\n",
      "\n",
      "R[write to console]: Note: D.f. calculations have been disabled because the number of observations exceeds 3000.\n",
      "To enable adjustments, add the argument 'lmerTest.limit = 26424' (or larger)\n",
      "[or, globally, 'set emm_options(lmerTest.limit = 26424)' or larger];\n",
      "but be warned that this may result in large computation time and memory use.\n",
      "\n"
     ]
    },
    {
     "name": "stdout",
     "output_type": "stream",
     "text": [
      "[[1]]\n",
      " contrast                      estimate     SE  df z.ratio p.value\n",
      " contingent - (non-contingent)   -0.383 0.0433 Inf -8.853  <.0001 \n",
      "\n",
      "Degrees-of-freedom method: asymptotic \n",
      "\n",
      "[[2]]\n",
      "[1] 8.529171e-19\n",
      "\n",
      "[1] 1.194084e-17\n"
     ]
    },
    {
     "name": "stderr",
     "output_type": "stream",
     "text": [
      "R[write to console]: Since 'object' is a list, we are using the contrasts already present.\n",
      "\n"
     ]
    },
    {
     "name": "stdout",
     "output_type": "stream",
     "text": [
      "   Language_name rand_effect_size max_voc_effect_size max_turn_effect_size\n",
      "1            deu       -0.2014434          -0.2921636           -0.2769452\n",
      "2            eng       -0.2136242          -0.2056120           -0.2133768\n",
      "3            est       -0.1484433          -0.2174693           -0.2147865\n",
      "4            fas               NA                  NA                  NaN\n",
      "5            fra       -0.1424092          -0.1191522           -0.1244815\n",
      "6            hrv       -0.1661630          -0.1725226                   NA\n",
      "7            jpn       -0.3211032          -0.3044613                   NA\n",
      "8            kor       -0.2469108          -0.2712496                   NA\n",
      "9            nor       -0.1823449          -0.2682480                   NA\n",
      "10           pol               NA                  NA                   NA\n",
      "11           por       -0.2390893          -0.2981426                   NA\n",
      "12           spa       -0.2410338          -0.2353482                   NA\n",
      "13           swe       -0.2695666          -0.2685154                   NA\n",
      "14           zho               NA                  NA                   NA\n"
     ]
    }
   ],
   "source": [
    "%%R -i fra\n",
    "\n",
    "lm6 <- lmer(num_tokens ~ contingent + (1|target_child_id) + (1|transcript_id),data=fra, REML= FALSE)\n",
    "emm6<-emmeans(lm6,pairwise~contingent)\n",
    "pval<-summary(emm6$contrasts)$p.value\n",
    "print(c(emm6$contrasts, pval))\n",
    "print(p.adjust(pval, \"holm\", 14))\n",
    "# summary(emmeans(lm6,\"contingent\",infer=TRUE)) #group means\n",
    "# test(contrast(emmeans(lm6,\"contingent\"), \"trt.vs.ctrl\"), joint = TRUE) #main effect - are any groups different\n",
    "\n",
    "fra_lname <- fra$language[1]\n",
    "\n",
    "fra_eff <- eff_size(emm6,sigma = sigma(lm6), edf = df.residual(lm6))\n",
    "\n",
    "fra_eff <- summary(fra_eff)$effect.size\n",
    "\n",
    "effect_sizes[effect_sizes$Language_name==fra_lname,\"max_turn_effect_size\"] <- fra_eff\n",
    "effect_sizes"
   ]
  },
  {
   "cell_type": "code",
   "execution_count": 13,
   "id": "1995c171-906f-40da-9a6c-a5eec8861bc5",
   "metadata": {},
   "outputs": [
    {
     "name": "stderr",
     "output_type": "stream",
     "text": [
      "R[write to console]: boundary (singular) fit: see ?isSingular\n",
      "\n",
      "R[write to console]: Note: D.f. calculations have been disabled because the number of observations exceeds 3000.\n",
      "To enable adjustments, add the argument 'pbkrtest.limit = 7375' (or larger)\n",
      "[or, globally, 'set emm_options(pbkrtest.limit = 7375)' or larger];\n",
      "but be warned that this may result in large computation time and memory use.\n",
      "\n",
      "R[write to console]: Note: D.f. calculations have been disabled because the number of observations exceeds 3000.\n",
      "To enable adjustments, add the argument 'lmerTest.limit = 7375' (or larger)\n",
      "[or, globally, 'set emm_options(lmerTest.limit = 7375)' or larger];\n",
      "but be warned that this may result in large computation time and memory use.\n",
      "\n"
     ]
    },
    {
     "name": "stdout",
     "output_type": "stream",
     "text": [
      "[[1]]\n",
      " contrast                      estimate    SE  df z.ratio p.value\n",
      " contingent - (non-contingent)   -0.499 0.067 Inf -7.452  <.0001 \n",
      "\n",
      "Degrees-of-freedom method: asymptotic \n",
      "\n",
      "[[2]]\n",
      "[1] 9.225791e-14\n",
      "\n",
      "[1] 1.291611e-12\n"
     ]
    },
    {
     "name": "stderr",
     "output_type": "stream",
     "text": [
      "R[write to console]: Since 'object' is a list, we are using the contrasts already present.\n",
      "\n"
     ]
    },
    {
     "name": "stdout",
     "output_type": "stream",
     "text": [
      "   Language_name rand_effect_size max_voc_effect_size max_turn_effect_size\n",
      "1            deu       -0.2014434          -0.2921636           -0.2769452\n",
      "2            eng       -0.2136242          -0.2056120           -0.2133768\n",
      "3            est       -0.1484433          -0.2174693           -0.2147865\n",
      "4            fas               NA                  NA                  NaN\n",
      "5            fra       -0.1424092          -0.1191522           -0.1244815\n",
      "6            hrv       -0.1661630          -0.1725226           -0.1776837\n",
      "7            jpn       -0.3211032          -0.3044613                   NA\n",
      "8            kor       -0.2469108          -0.2712496                   NA\n",
      "9            nor       -0.1823449          -0.2682480                   NA\n",
      "10           pol               NA                  NA                   NA\n",
      "11           por       -0.2390893          -0.2981426                   NA\n",
      "12           spa       -0.2410338          -0.2353482                   NA\n",
      "13           swe       -0.2695666          -0.2685154                   NA\n",
      "14           zho               NA                  NA                   NA\n"
     ]
    }
   ],
   "source": [
    "%%R -i hrv\n",
    "\n",
    "lm7 <- lmer(num_tokens ~ contingent + (1|target_child_id) + (1|transcript_id),data=hrv, REML= FALSE)\n",
    "emm7<-emmeans(lm7,pairwise~contingent)\n",
    "pval<-summary(emm7$contrasts)$p.value\n",
    "print(c(emm7$contrasts, pval))\n",
    "print(p.adjust(pval, \"holm\", 14))\n",
    "# summary(emmeans(lm7,\"contingent\",infer=TRUE)) #group means\n",
    "# test(contrast(emmeans(lm7,\"contingent\"), \"trt.vs.ctrl\"), joint = TRUE) #main effect - are any groups different\n",
    "\n",
    "hrv_lname <- hrv$language[1]\n",
    "\n",
    "hrv_eff <- eff_size(emm7,sigma = sigma(lm7), edf = df.residual(lm7))\n",
    "\n",
    "hrv_eff <- summary(hrv_eff)$effect.size\n",
    "\n",
    "effect_sizes[effect_sizes$Language_name==hrv_lname,\"max_turn_effect_size\"] <- hrv_eff\n",
    "effect_sizes"
   ]
  },
  {
   "cell_type": "code",
   "execution_count": 14,
   "id": "2ca4a66e-98fd-4913-ae3f-a08bce85cc01",
   "metadata": {},
   "outputs": [
    {
     "name": "stderr",
     "output_type": "stream",
     "text": [
      "R[write to console]: Note: D.f. calculations have been disabled because the number of observations exceeds 3000.\n",
      "To enable adjustments, add the argument 'pbkrtest.limit = 23841' (or larger)\n",
      "[or, globally, 'set emm_options(pbkrtest.limit = 23841)' or larger];\n",
      "but be warned that this may result in large computation time and memory use.\n",
      "\n",
      "R[write to console]: Note: D.f. calculations have been disabled because the number of observations exceeds 3000.\n",
      "To enable adjustments, add the argument 'lmerTest.limit = 23841' (or larger)\n",
      "[or, globally, 'set emm_options(lmerTest.limit = 23841)' or larger];\n",
      "but be warned that this may result in large computation time and memory use.\n",
      "\n"
     ]
    },
    {
     "name": "stdout",
     "output_type": "stream",
     "text": [
      "[[1]]\n",
      " contrast                      estimate     SE  df z.ratio p.value\n",
      " contingent - (non-contingent)     -0.6 0.0256 Inf -23.432 <.0001 \n",
      "\n",
      "Degrees-of-freedom method: asymptotic \n",
      "\n",
      "[[2]]\n",
      "[1] 2.013252e-121\n",
      "\n",
      "[1] 2.818553e-120\n"
     ]
    },
    {
     "name": "stderr",
     "output_type": "stream",
     "text": [
      "R[write to console]: Since 'object' is a list, we are using the contrasts already present.\n",
      "\n"
     ]
    },
    {
     "name": "stdout",
     "output_type": "stream",
     "text": [
      "   Language_name rand_effect_size max_voc_effect_size max_turn_effect_size\n",
      "1            deu       -0.2014434          -0.2921636           -0.2769452\n",
      "2            eng       -0.2136242          -0.2056120           -0.2133768\n",
      "3            est       -0.1484433          -0.2174693           -0.2147865\n",
      "4            fas               NA                  NA                  NaN\n",
      "5            fra       -0.1424092          -0.1191522           -0.1244815\n",
      "6            hrv       -0.1661630          -0.1725226           -0.1776837\n",
      "7            jpn       -0.3211032          -0.3044613           -0.3131328\n",
      "8            kor       -0.2469108          -0.2712496                   NA\n",
      "9            nor       -0.1823449          -0.2682480                   NA\n",
      "10           pol               NA                  NA                   NA\n",
      "11           por       -0.2390893          -0.2981426                   NA\n",
      "12           spa       -0.2410338          -0.2353482                   NA\n",
      "13           swe       -0.2695666          -0.2685154                   NA\n",
      "14           zho               NA                  NA                   NA\n"
     ]
    }
   ],
   "source": [
    "%%R -i jpn\n",
    "\n",
    "lm8 <- lmer(num_tokens ~ contingent + (1|target_child_id) + (1|transcript_id),data=jpn, REML= FALSE)\n",
    "emm8<-emmeans(lm8,pairwise~contingent)\n",
    "pval<-summary(emm8$contrasts)$p.value\n",
    "print(c(emm8$contrasts, pval))\n",
    "print(p.adjust(pval, \"holm\", 14))\n",
    "# summary(emmeans(lm8,\"contingent\",infer=TRUE)) #group means\n",
    "# test(contrast(emmeans(lm8,\"contingent\"), \"trt.vs.ctrl\"), joint = TRUE) #main effect - are any groups different\n",
    "\n",
    "jpn_lname <- jpn$language[1]\n",
    "\n",
    "jpn_eff <- eff_size(emm8,sigma = sigma(lm8), edf = df.residual(lm8))\n",
    "\n",
    "jpn_eff <- summary(jpn_eff)$effect.size\n",
    "\n",
    "effect_sizes[effect_sizes$Language_name==jpn_lname,\"max_turn_effect_size\"] <- jpn_eff\n",
    "effect_sizes"
   ]
  },
  {
   "cell_type": "code",
   "execution_count": 15,
   "id": "4f500576-e7e5-451d-b762-26d4bc7dc353",
   "metadata": {},
   "outputs": [
    {
     "name": "stderr",
     "output_type": "stream",
     "text": [
      "R[write to console]: Note: D.f. calculations have been disabled because the number of observations exceeds 3000.\n",
      "To enable adjustments, add the argument 'pbkrtest.limit = 4902' (or larger)\n",
      "[or, globally, 'set emm_options(pbkrtest.limit = 4902)' or larger];\n",
      "but be warned that this may result in large computation time and memory use.\n",
      "\n",
      "R[write to console]: Note: D.f. calculations have been disabled because the number of observations exceeds 3000.\n",
      "To enable adjustments, add the argument 'lmerTest.limit = 4902' (or larger)\n",
      "[or, globally, 'set emm_options(lmerTest.limit = 4902)' or larger];\n",
      "but be warned that this may result in large computation time and memory use.\n",
      "\n"
     ]
    },
    {
     "name": "stdout",
     "output_type": "stream",
     "text": [
      "[[1]]\n",
      " contrast                      estimate     SE  df z.ratio p.value\n",
      " contingent - (non-contingent)   -0.525 0.0636 Inf -8.255  <.0001 \n",
      "\n",
      "Degrees-of-freedom method: asymptotic \n",
      "\n",
      "[[2]]\n",
      "[1] 1.520125e-16\n",
      "\n",
      "[1] 2.128175e-15\n"
     ]
    },
    {
     "name": "stderr",
     "output_type": "stream",
     "text": [
      "R[write to console]: Since 'object' is a list, we are using the contrasts already present.\n",
      "\n"
     ]
    },
    {
     "name": "stdout",
     "output_type": "stream",
     "text": [
      "   Language_name rand_effect_size max_voc_effect_size max_turn_effect_size\n",
      "1            deu       -0.2014434          -0.2921636           -0.2769452\n",
      "2            eng       -0.2136242          -0.2056120           -0.2133768\n",
      "3            est       -0.1484433          -0.2174693           -0.2147865\n",
      "4            fas               NA                  NA                  NaN\n",
      "5            fra       -0.1424092          -0.1191522           -0.1244815\n",
      "6            hrv       -0.1661630          -0.1725226           -0.1776837\n",
      "7            jpn       -0.3211032          -0.3044613           -0.3131328\n",
      "8            kor       -0.2469108          -0.2712496           -0.2503841\n",
      "9            nor       -0.1823449          -0.2682480                   NA\n",
      "10           pol               NA                  NA                   NA\n",
      "11           por       -0.2390893          -0.2981426                   NA\n",
      "12           spa       -0.2410338          -0.2353482                   NA\n",
      "13           swe       -0.2695666          -0.2685154                   NA\n",
      "14           zho               NA                  NA                   NA\n"
     ]
    }
   ],
   "source": [
    "%%R -i kor\n",
    "\n",
    "lm9 <- lmer(num_tokens ~ contingent + (1|transcript_id), data=kor, REML= FALSE)\n",
    "emm9<-emmeans(lm9,pairwise~contingent)\n",
    "pval<-summary(emm9$contrasts)$p.value\n",
    "print(c(emm9$contrasts, pval))\n",
    "print(p.adjust(pval, \"holm\", 14))\n",
    "# summary(emmeans(lm9,\"contingent\",infer=TRUE)) #group means\n",
    "# test(contrast(emmeans(lm9,\"contingent\"), \"trt.vs.ctrl\"), joint = TRUE) #main effect - are any groups different\n",
    "\n",
    "kor_lname <- kor$language[1]\n",
    "\n",
    "kor_eff <- eff_size(emm9,sigma = sigma(lm9), edf = df.residual(lm9))\n",
    "\n",
    "kor_eff <- summary(kor_eff)$effect.size\n",
    "\n",
    "effect_sizes[effect_sizes$Language_name==kor_lname,\"max_turn_effect_size\"] <- kor_eff\n",
    "effect_sizes"
   ]
  },
  {
   "cell_type": "code",
   "execution_count": 16,
   "id": "2521dd61-5281-44df-9cb6-d523d052d581",
   "metadata": {},
   "outputs": [
    {
     "name": "stderr",
     "output_type": "stream",
     "text": [
      "R[write to console]: boundary (singular) fit: see ?isSingular\n",
      "\n"
     ]
    },
    {
     "name": "stdout",
     "output_type": "stream",
     "text": [
      "[[1]]\n",
      " contrast                      estimate    SE   df t.ratio p.value\n",
      " contingent - (non-contingent)    -0.57 0.116 2399 -4.931  <.0001 \n",
      "\n",
      "Degrees-of-freedom method: kenward-roger \n",
      "\n",
      "[[2]]\n",
      "[1] 8.727116e-07\n",
      "\n",
      "[1] 1.221796e-05\n"
     ]
    },
    {
     "name": "stderr",
     "output_type": "stream",
     "text": [
      "R[write to console]: Since 'object' is a list, we are using the contrasts already present.\n",
      "\n"
     ]
    },
    {
     "name": "stdout",
     "output_type": "stream",
     "text": [
      "   Language_name rand_effect_size max_voc_effect_size max_turn_effect_size\n",
      "1            deu       -0.2014434          -0.2921636           -0.2769452\n",
      "2            eng       -0.2136242          -0.2056120           -0.2133768\n",
      "3            est       -0.1484433          -0.2174693           -0.2147865\n",
      "4            fas               NA                  NA                  NaN\n",
      "5            fra       -0.1424092          -0.1191522           -0.1244815\n",
      "6            hrv       -0.1661630          -0.1725226           -0.1776837\n",
      "7            jpn       -0.3211032          -0.3044613           -0.3131328\n",
      "8            kor       -0.2469108          -0.2712496           -0.2503841\n",
      "9            nor       -0.1823449          -0.2682480           -0.2172485\n",
      "10           pol               NA                  NA                   NA\n",
      "11           por       -0.2390893          -0.2981426                   NA\n",
      "12           spa       -0.2410338          -0.2353482                   NA\n",
      "13           swe       -0.2695666          -0.2685154                   NA\n",
      "14           zho               NA                  NA                   NA\n"
     ]
    }
   ],
   "source": [
    "%%R -i nor\n",
    "\n",
    "lm10 <- lmer(num_tokens ~ contingent + (1|target_child_id) + (1|transcript_id),data=nor, REML= FALSE)\n",
    "emm10<-emmeans(lm10,pairwise~contingent)\n",
    "pval<-summary(emm10$contrasts)$p.value\n",
    "print(c(emm10$contrasts, pval))\n",
    "print(p.adjust(pval, \"holm\", 14))\n",
    "# summary(emmeans(lm10,\"contingent\",infer=TRUE)) #group means\n",
    "# test(contrast(emmeans(lm10,\"contingent\"), \"trt.vs.ctrl\"), joint = TRUE) #main effect - are any groups different\n",
    "\n",
    "nor_lname <- nor$language[1]\n",
    "\n",
    "nor_eff <- eff_size(emm10,sigma = sigma(lm10), edf = df.residual(lm10))\n",
    "\n",
    "nor_eff <- summary(nor_eff)$effect.size\n",
    "\n",
    "effect_sizes[effect_sizes$Language_name==nor_lname,\"max_turn_effect_size\"] <- nor_eff\n",
    "effect_sizes"
   ]
  },
  {
   "cell_type": "code",
   "execution_count": 17,
   "id": "1ddc00c4-0523-49ba-9712-fb70e686ba93",
   "metadata": {},
   "outputs": [
    {
     "name": "stdout",
     "output_type": "stream",
     "text": [
      "[[1]]\n",
      " contrast                      estimate    SE df t.ratio p.value\n",
      " contingent - (non-contingent)    0.432 0.395 94 1.095   0.2765 \n",
      "\n",
      "\n",
      "[[2]]\n",
      "[1] 0.2764529\n",
      "\n",
      "[1] 1\n",
      "   Language_name rand_effect_size max_voc_effect_size max_turn_effect_size\n",
      "1            deu       -0.2014434          -0.2921636           -0.2769452\n",
      "2            eng       -0.2136242          -0.2056120           -0.2133768\n",
      "3            est       -0.1484433          -0.2174693           -0.2147865\n",
      "4            fas               NA                  NA                  NaN\n",
      "5            fra       -0.1424092          -0.1191522           -0.1244815\n",
      "6            hrv       -0.1661630          -0.1725226           -0.1776837\n",
      "7            jpn       -0.3211032          -0.3044613           -0.3131328\n",
      "8            kor       -0.2469108          -0.2712496           -0.2503841\n",
      "9            nor       -0.1823449          -0.2682480           -0.2172485\n",
      "10           pol               NA                  NA                  NaN\n",
      "11           por       -0.2390893          -0.2981426                   NA\n",
      "12           spa       -0.2410338          -0.2353482                   NA\n",
      "13           swe       -0.2695666          -0.2685154                   NA\n",
      "14           zho               NA                  NA                   NA\n"
     ]
    }
   ],
   "source": [
    "%%R -i pol\n",
    "\n",
    "# simple linear model (no random effects, because only 1 transcript from 1 sub)\n",
    "\n",
    "lm11 <- lm(num_tokens ~ contingent ,data=pol, REML= FALSE)\n",
    "emm11<-emmeans(lm11,pairwise~contingent)\n",
    "pval<-summary(emm11$contrasts)$p.value\n",
    "print(c(emm11$contrasts, pval))\n",
    "print(p.adjust(pval, \"holm\", 14))\n",
    "# summary(emmeans(lm11,\"contingent\",infer=TRUE)) #group means\n",
    "# test(contrast(emmeans(lm11,\"contingent\"), \"trt.vs.ctrl\"), joint = TRUE) #main effect - are any groups different\n",
    "\n",
    "pol_lname <- pol$language[1]\n",
    "\n",
    "\n",
    "effect_sizes[effect_sizes$Language_name==pol_lname,\"max_turn_effect_size\"] <- NaN\n",
    "effect_sizes"
   ]
  },
  {
   "cell_type": "code",
   "execution_count": 18,
   "id": "11a5279c-6154-435b-b539-9908c3cc2b5e",
   "metadata": {},
   "outputs": [
    {
     "name": "stderr",
     "output_type": "stream",
     "text": [
      "R[write to console]: Note: D.f. calculations have been disabled because the number of observations exceeds 3000.\n",
      "To enable adjustments, add the argument 'pbkrtest.limit = 3586' (or larger)\n",
      "[or, globally, 'set emm_options(pbkrtest.limit = 3586)' or larger];\n",
      "but be warned that this may result in large computation time and memory use.\n",
      "\n",
      "R[write to console]: Note: D.f. calculations have been disabled because the number of observations exceeds 3000.\n",
      "To enable adjustments, add the argument 'lmerTest.limit = 3586' (or larger)\n",
      "[or, globally, 'set emm_options(lmerTest.limit = 3586)' or larger];\n",
      "but be warned that this may result in large computation time and memory use.\n",
      "\n"
     ]
    },
    {
     "name": "stdout",
     "output_type": "stream",
     "text": [
      "[[1]]\n",
      " contrast                      estimate    SE  df z.ratio p.value\n",
      " contingent - (non-contingent)   -0.826 0.098 Inf -8.435  <.0001 \n",
      "\n",
      "Degrees-of-freedom method: asymptotic \n",
      "\n",
      "[[2]]\n",
      "[1] 3.29969e-17\n",
      "\n",
      "[1] 4.619565e-16\n"
     ]
    },
    {
     "name": "stderr",
     "output_type": "stream",
     "text": [
      "R[write to console]: Since 'object' is a list, we are using the contrasts already present.\n",
      "\n"
     ]
    },
    {
     "name": "stdout",
     "output_type": "stream",
     "text": [
      "   Language_name rand_effect_size max_voc_effect_size max_turn_effect_size\n",
      "1            deu       -0.2014434          -0.2921636           -0.2769452\n",
      "2            eng       -0.2136242          -0.2056120           -0.2133768\n",
      "3            est       -0.1484433          -0.2174693           -0.2147865\n",
      "4            fas               NA                  NA                  NaN\n",
      "5            fra       -0.1424092          -0.1191522           -0.1244815\n",
      "6            hrv       -0.1661630          -0.1725226           -0.1776837\n",
      "7            jpn       -0.3211032          -0.3044613           -0.3131328\n",
      "8            kor       -0.2469108          -0.2712496           -0.2503841\n",
      "9            nor       -0.1823449          -0.2682480           -0.2172485\n",
      "10           pol               NA                  NA                  NaN\n",
      "11           por       -0.2390893          -0.2981426           -0.2863360\n",
      "12           spa       -0.2410338          -0.2353482                   NA\n",
      "13           swe       -0.2695666          -0.2685154                   NA\n",
      "14           zho               NA                  NA                   NA\n"
     ]
    }
   ],
   "source": [
    "%%R -i por\n",
    "\n",
    "lm12 <- lmer(num_tokens ~ contingent + (1|target_child_id) + (1|transcript_id),data=por, REML= FALSE)\n",
    "emm12<-emmeans(lm12,pairwise~contingent)\n",
    "pval<-summary(emm12$contrasts)$p.value\n",
    "print(c(emm12$contrasts, pval))\n",
    "print(p.adjust(pval, \"holm\", 14))\n",
    "# summary(emmeans(lm12,\"contingent\",infer=TRUE)) #group means\n",
    "# test(contrast(emmeans(lm12,\"contingent\"), \"trt.vs.ctrl\"), joint = TRUE) #main effect - are any groups different\n",
    "\n",
    "por_lname <- por$language[1]\n",
    "\n",
    "por_eff <- eff_size(emm12,sigma = sigma(lm12), edf = df.residual(lm12))\n",
    "\n",
    "por_eff <- summary(por_eff)$effect.size\n",
    "\n",
    "effect_sizes[effect_sizes$Language_name==por_lname,\"max_turn_effect_size\"] <- por_eff\n",
    "effect_sizes"
   ]
  },
  {
   "cell_type": "code",
   "execution_count": 19,
   "id": "1801e460-cd10-41a8-be16-59ad10d91828",
   "metadata": {},
   "outputs": [
    {
     "name": "stderr",
     "output_type": "stream",
     "text": [
      "R[write to console]: Note: D.f. calculations have been disabled because the number of observations exceeds 3000.\n",
      "To enable adjustments, add the argument 'pbkrtest.limit = 5409' (or larger)\n",
      "[or, globally, 'set emm_options(pbkrtest.limit = 5409)' or larger];\n",
      "but be warned that this may result in large computation time and memory use.\n",
      "\n",
      "R[write to console]: Note: D.f. calculations have been disabled because the number of observations exceeds 3000.\n",
      "To enable adjustments, add the argument 'lmerTest.limit = 5409' (or larger)\n",
      "[or, globally, 'set emm_options(lmerTest.limit = 5409)' or larger];\n",
      "but be warned that this may result in large computation time and memory use.\n",
      "\n"
     ]
    },
    {
     "name": "stdout",
     "output_type": "stream",
     "text": [
      "[[1]]\n",
      " contrast                      estimate     SE  df z.ratio p.value\n",
      " contingent - (non-contingent)   -0.389 0.0641 Inf -6.074  <.0001 \n",
      "\n",
      "Degrees-of-freedom method: asymptotic \n",
      "\n",
      "[[2]]\n",
      "[1] 1.24428e-09\n",
      "\n",
      "[1] 1.741992e-08\n"
     ]
    },
    {
     "name": "stderr",
     "output_type": "stream",
     "text": [
      "R[write to console]: Since 'object' is a list, we are using the contrasts already present.\n",
      "\n"
     ]
    },
    {
     "name": "stdout",
     "output_type": "stream",
     "text": [
      "   Language_name rand_effect_size max_voc_effect_size max_turn_effect_size\n",
      "1            deu       -0.2014434          -0.2921636           -0.2769452\n",
      "2            eng       -0.2136242          -0.2056120           -0.2133768\n",
      "3            est       -0.1484433          -0.2174693           -0.2147865\n",
      "4            fas               NA                  NA                  NaN\n",
      "5            fra       -0.1424092          -0.1191522           -0.1244815\n",
      "6            hrv       -0.1661630          -0.1725226           -0.1776837\n",
      "7            jpn       -0.3211032          -0.3044613           -0.3131328\n",
      "8            kor       -0.2469108          -0.2712496           -0.2503841\n",
      "9            nor       -0.1823449          -0.2682480           -0.2172485\n",
      "10           pol               NA                  NA                  NaN\n",
      "11           por       -0.2390893          -0.2981426           -0.2863360\n",
      "12           spa       -0.2410338          -0.2353482           -0.1706379\n",
      "13           swe       -0.2695666          -0.2685154                   NA\n",
      "14           zho               NA                  NA                   NA\n"
     ]
    }
   ],
   "source": [
    "%%R -i spa\n",
    "\n",
    "lm13 <- lmer(num_tokens ~ contingent + (1|target_child_id) + (1|transcript_id),data=spa, REML= FALSE)\n",
    "emm13<-emmeans(lm13,pairwise~contingent)\n",
    "pval<-summary(emm13$contrasts)$p.value\n",
    "print(c(emm13$contrasts, pval))\n",
    "print(p.adjust(pval, \"holm\", 14))\n",
    "# summary(emmeans(lm13,\"contingent\",infer=TRUE)) #group means\n",
    "# test(contrast(emmeans(lm13,\"contingent\"), \"trt.vs.ctrl\"), joint = TRUE) #main effect - are any groups different\n",
    "\n",
    "spa_lname <- spa$language[1]\n",
    "\n",
    "spa_eff <- eff_size(emm13,sigma = sigma(lm13), edf = df.residual(lm13))\n",
    "\n",
    "spa_eff <- summary(spa_eff)$effect.size\n",
    "\n",
    "effect_sizes[effect_sizes$Language_name==spa_lname,\"max_turn_effect_size\"] <- spa_eff\n",
    "effect_sizes"
   ]
  },
  {
   "cell_type": "code",
   "execution_count": 20,
   "id": "1de3ac70-62ef-401f-bce7-c5389a746520",
   "metadata": {},
   "outputs": [
    {
     "name": "stdout",
     "output_type": "stream",
     "text": [
      "[[1]]\n",
      " contrast                      estimate     SE   df t.ratio p.value\n",
      " contingent - (non-contingent)   -0.548 0.0917 2838 -5.973  <.0001 \n",
      "\n",
      "Degrees-of-freedom method: kenward-roger \n",
      "\n",
      "[[2]]\n",
      "[1] 2.61628e-09\n",
      "\n",
      "[1] 3.662791e-08\n"
     ]
    },
    {
     "name": "stderr",
     "output_type": "stream",
     "text": [
      "R[write to console]: Since 'object' is a list, we are using the contrasts already present.\n",
      "\n"
     ]
    },
    {
     "name": "stdout",
     "output_type": "stream",
     "text": [
      "   Language_name rand_effect_size max_voc_effect_size max_turn_effect_size\n",
      "1            deu       -0.2014434          -0.2921636           -0.2769452\n",
      "2            eng       -0.2136242          -0.2056120           -0.2133768\n",
      "3            est       -0.1484433          -0.2174693           -0.2147865\n",
      "4            fas               NA                  NA                  NaN\n",
      "5            fra       -0.1424092          -0.1191522           -0.1244815\n",
      "6            hrv       -0.1661630          -0.1725226           -0.1776837\n",
      "7            jpn       -0.3211032          -0.3044613           -0.3131328\n",
      "8            kor       -0.2469108          -0.2712496           -0.2503841\n",
      "9            nor       -0.1823449          -0.2682480           -0.2172485\n",
      "10           pol               NA                  NA                  NaN\n",
      "11           por       -0.2390893          -0.2981426           -0.2863360\n",
      "12           spa       -0.2410338          -0.2353482           -0.1706379\n",
      "13           swe       -0.2695666          -0.2685154           -0.2385378\n",
      "14           zho               NA                  NA                   NA\n"
     ]
    }
   ],
   "source": [
    "%%R -i swe\n",
    "\n",
    "lm14 <- lmer(num_tokens ~ contingent + (1|target_child_id) + (1|transcript_id),data=swe, REML= FALSE)\n",
    "emm14<-emmeans(lm14,pairwise~contingent)\n",
    "pval<-summary(emm14$contrasts)$p.value\n",
    "print(c(emm14$contrasts, pval))\n",
    "print(p.adjust(pval, \"holm\", 14))\n",
    "# summary(emmeans(lm14,\"contingent\",infer=TRUE)) #group means\n",
    "# test(contrast(emmeans(lm14,\"contingent\"), \"trt.vs.ctrl\"), joint = TRUE) #main effect - are any groups different\n",
    "\n",
    "swe_lname <- swe$language[1]\n",
    "\n",
    "swe_eff <- eff_size(emm14,sigma = sigma(lm14), edf = df.residual(lm14))\n",
    "\n",
    "swe_eff <- summary(swe_eff)$effect.size\n",
    "\n",
    "effect_sizes[effect_sizes$Language_name==swe_lname,\"max_turn_effect_size\"] <- swe_eff\n",
    "effect_sizes"
   ]
  },
  {
   "cell_type": "code",
   "execution_count": 21,
   "id": "7578ba64-11e5-422f-af7e-69c2d147e958",
   "metadata": {},
   "outputs": [
    {
     "name": "stdout",
     "output_type": "stream",
     "text": [
      "[[1]]\n",
      " contrast                      estimate    SE  df t.ratio p.value\n",
      " contingent - (non-contingent)   -0.899 0.274 430 -3.278  0.0011 \n",
      "\n",
      "Degrees-of-freedom method: kenward-roger \n",
      "\n",
      "[[2]]\n",
      "[1] 0.001128671\n",
      "\n",
      "[1] 0.01580139\n"
     ]
    },
    {
     "name": "stderr",
     "output_type": "stream",
     "text": [
      "R[write to console]: Since 'object' is a list, we are using the contrasts already present.\n",
      "\n"
     ]
    },
    {
     "name": "stdout",
     "output_type": "stream",
     "text": [
      "   Language_name rand_effect_size max_voc_effect_size max_turn_effect_size\n",
      "1            deu       -0.2014434          -0.2921636           -0.2769452\n",
      "2            eng       -0.2136242          -0.2056120           -0.2133768\n",
      "3            est       -0.1484433          -0.2174693           -0.2147865\n",
      "4            fas               NA                  NA                  NaN\n",
      "5            fra       -0.1424092          -0.1191522           -0.1244815\n",
      "6            hrv       -0.1661630          -0.1725226           -0.1776837\n",
      "7            jpn       -0.3211032          -0.3044613           -0.3131328\n",
      "8            kor       -0.2469108          -0.2712496           -0.2503841\n",
      "9            nor       -0.1823449          -0.2682480           -0.2172485\n",
      "10           pol               NA                  NA                  NaN\n",
      "11           por       -0.2390893          -0.2981426           -0.2863360\n",
      "12           spa       -0.2410338          -0.2353482           -0.1706379\n",
      "13           swe       -0.2695666          -0.2685154           -0.2385378\n",
      "14           zho               NA                  NA           -0.3454597\n"
     ]
    }
   ],
   "source": [
    "%%R -i zho\n",
    "\n",
    "lm15 <- lmer(num_tokens ~ contingent + (1|transcript_id),data=zho, REML= FALSE)\n",
    "emm15<-emmeans(lm15,pairwise~contingent)\n",
    "pval<-summary(emm15$contrasts)$p.value\n",
    "print(c(emm15$contrasts, pval))\n",
    "print(p.adjust(pval, \"holm\", 14))\n",
    "# summary(emmeans(lm15,\"contingent\",infer=TRUE)) #group means\n",
    "# test(contrast(emmeans(lm15,\"contingent\"), \"trt.vs.ctrl\"), joint = TRUE) #main effect - are any groups different\n",
    "\n",
    "zho_lname <- zho$language[1]\n",
    "\n",
    "zho_eff <- eff_size(emm15,sigma = sigma(lm15), edf = df.residual(lm15))\n",
    "\n",
    "zho_eff <- summary(zho_eff)$effect.size\n",
    "\n",
    "effect_sizes[effect_sizes$Language_name==zho_lname,\"max_turn_effect_size\"] <- zho_eff\n",
    "effect_sizes"
   ]
  },
  {
   "cell_type": "code",
   "execution_count": 22,
   "id": "d523b1f2-d504-4ae2-8d6d-7dfe8ad38acf",
   "metadata": {},
   "outputs": [],
   "source": [
    "%%R\n",
    "write.csv(x=effect_sizes,'../data/MLUw_effect_sizes.csv', row.names = FALSE)"
   ]
  },
  {
   "cell_type": "code",
   "execution_count": null,
   "id": "7d0eac14-4139-43fd-aae9-304244bb7385",
   "metadata": {},
   "outputs": [],
   "source": []
  }
 ],
 "metadata": {
  "kernelspec": {
   "display_name": "Python 3",
   "language": "python",
   "name": "python3"
  },
  "language_info": {
   "codemirror_mode": {
    "name": "ipython",
    "version": 3
   },
   "file_extension": ".py",
   "mimetype": "text/x-python",
   "name": "python",
   "nbconvert_exporter": "python",
   "pygments_lexer": "ipython3",
   "version": "3.8.10"
  }
 },
 "nbformat": 4,
 "nbformat_minor": 5
}
