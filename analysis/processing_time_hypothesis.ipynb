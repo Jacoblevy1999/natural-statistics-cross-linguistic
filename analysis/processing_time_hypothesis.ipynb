{
 "cells": [
  {
   "cell_type": "markdown",
   "id": "closed-energy",
   "metadata": {},
   "source": [
    "# Natural Statistics Cross-linguistic: \n",
    "\n",
    "#### Processing time hypothesis test\n",
    "\n",
    "----"
   ]
  },
  {
   "cell_type": "code",
   "execution_count": 22,
   "id": "personal-december",
   "metadata": {},
   "outputs": [],
   "source": [
    "import pandas as pd\n",
    "import numpy as np\n",
    "import sys\n",
    "sys.path.insert(0, \"data_proc\")\n",
    "import analytic_proc\n",
    "import warnings\n",
    "warnings.filterwarnings('ignore')"
   ]
  },
  {
   "cell_type": "code",
   "execution_count": 23,
   "id": "oriental-blind",
   "metadata": {},
   "outputs": [],
   "source": [
    "rand_dat_inc = pd.read_csv(\"../data/rand_dat_inc_master.csv\",index_col=0,low_memory=False)"
   ]
  },
  {
   "cell_type": "code",
   "execution_count": 24,
   "id": "e231babd-b2d3-45fd-9088-d800692fe4c9",
   "metadata": {},
   "outputs": [],
   "source": [
    "rand_dat_inc = rand_dat_inc.sort_values(by=['transcript_id','media_start','caregiver']).reset_index(drop=True)"
   ]
  },
  {
   "cell_type": "code",
   "execution_count": 25,
   "id": "d4c2b447-a1ba-46c0-b19d-87ae9ff50efc",
   "metadata": {},
   "outputs": [],
   "source": [
    "# swap 51136 and 51137\n",
    "# this way the infant vocalization is the row directly before its num_tokens response\n",
    "\n",
    "c = rand_dat_inc.iloc[51136]\n",
    "\n",
    "temp = rand_dat_inc.iloc[51137].copy()\n",
    "rand_dat_inc.iloc[51137] = c\n",
    "rand_dat_inc.iloc[51136] = temp"
   ]
  },
  {
   "cell_type": "code",
   "execution_count": 26,
   "id": "accessory-village",
   "metadata": {},
   "outputs": [],
   "source": [
    "# subset to all contingent caregiver utterances & the previous target_child vocalization\n",
    "\n",
    "proc_t_dat = rand_dat_inc[(rand_dat_inc[\"contingent\"].shift(-1)==1) | (rand_dat_inc[\"contingent\"]==1)]"
   ]
  },
  {
   "cell_type": "code",
   "execution_count": 27,
   "id": "dietary-egyptian",
   "metadata": {},
   "outputs": [],
   "source": [
    "# subtract onsets from onsets to get latency\n",
    "\n",
    "proc_t_dat[\"latency\"] = proc_t_dat[\"media_start\"]-proc_t_dat[\"media_start\"].shift(-1)\n",
    "proc_t_dat[\"latency\"] = proc_t_dat[\"latency\"].shift(1)"
   ]
  },
  {
   "cell_type": "code",
   "execution_count": 28,
   "id": "forty-nutrition",
   "metadata": {},
   "outputs": [],
   "source": [
    "# detect any instances where infants' vocalization was not detected\n",
    "\n",
    "# move media_start and media_end to furthest rightmost for debugging\n",
    "\n",
    "cols = list(proc_t_dat.columns.values) \n",
    "cols.pop(cols.index('media_start')) \n",
    "cols.pop(cols.index('media_end')) \n",
    "proc_t_dat = proc_t_dat[cols+['media_start','media_end']] \n",
    "\n",
    "cols = list(rand_dat_inc.columns.values) \n",
    "cols.pop(cols.index('media_start')) \n",
    "cols.pop(cols.index('media_end')) \n",
    "rand_dat_inc = rand_dat_inc[cols+['media_start','media_end']]"
   ]
  },
  {
   "cell_type": "code",
   "execution_count": 29,
   "id": "flush-civilian",
   "metadata": {},
   "outputs": [],
   "source": [
    "debug=proc_t_dat[(proc_t_dat[\"caregiver\"]==proc_t_dat[\"caregiver\"].shift(-1))]"
   ]
  },
  {
   "cell_type": "code",
   "execution_count": 30,
   "id": "warming-writing",
   "metadata": {},
   "outputs": [],
   "source": [
    "# convert child latencies to nans just to be safe \n",
    "\n",
    "proc_t_dat.loc[proc_t_dat[\"caregiver\"]==\"target_child\",\"latency\"]=np.nan"
   ]
  },
  {
   "cell_type": "code",
   "execution_count": 31,
   "id": "d18f93bd-673f-4e4d-938d-d1a9472e3882",
   "metadata": {},
   "outputs": [],
   "source": [
    "proc_t_dat = proc_t_dat[proc_t_dat[\"caregiver\"]==\"caregiver\"]"
   ]
  },
  {
   "cell_type": "code",
   "execution_count": 32,
   "id": "1900f39c-b79f-4203-9c75-3b7fa0dc89ae",
   "metadata": {},
   "outputs": [],
   "source": [
    "# # subset using a buffer time\n",
    "\n",
    "# buffer = -.3 # use 300 milliseconds\n",
    "# proc_t_dat = proc_t_dat[proc_t_dat[\"latency\"]<buffer] # if less than buffer, it was likely preplanned"
   ]
  },
  {
   "cell_type": "code",
   "execution_count": 33,
   "id": "11120158-5843-44af-8258-92f71721ef25",
   "metadata": {},
   "outputs": [
    {
     "data": {
      "text/plain": [
       "num_tokens         int64\n",
       "Language_name     object\n",
       "latency          float64\n",
       "dtype: object"
      ]
     },
     "execution_count": 33,
     "metadata": {},
     "output_type": "execute_result"
    }
   ],
   "source": [
    "latency = proc_t_dat[[\"num_tokens\",\"Language_name\",\"latency\"]]\n",
    "latency[\"Language_name\"] = latency[\"Language_name\"].astype(object)\n",
    "latency.dtypes"
   ]
  },
  {
   "cell_type": "code",
   "execution_count": 34,
   "id": "6141508d-34c3-4db5-8d4a-4b8318036767",
   "metadata": {},
   "outputs": [],
   "source": [
    "latency[\"latency\"] = latency[\"latency\"]*(-1)"
   ]
  },
  {
   "cell_type": "markdown",
   "id": "b1ba80bf-4b64-42be-9a45-6ec4fd900785",
   "metadata": {},
   "source": [
    "----\n",
    "### Figures & Statistics"
   ]
  },
  {
   "cell_type": "markdown",
   "id": "9fee0263-2fbb-4091-a09a-1c6199b7f619",
   "metadata": {},
   "source": [
    "\n",
    "#### Utterance level"
   ]
  },
  {
   "cell_type": "code",
   "execution_count": 35,
   "id": "6195931f-6857-4a7a-8135-b756c90faf36",
   "metadata": {},
   "outputs": [
    {
     "name": "stdout",
     "output_type": "stream",
     "text": [
      "The rpy2.ipython extension is already loaded. To reload it, use:\n",
      "  %reload_ext rpy2.ipython\n"
     ]
    }
   ],
   "source": [
    "%load_ext rpy2.ipython"
   ]
  },
  {
   "cell_type": "code",
   "execution_count": 36,
   "id": "fae43abd-5da9-43e5-98c8-9ee7c5d713a4",
   "metadata": {
    "tags": []
   },
   "outputs": [
    {
     "name": "stderr",
     "output_type": "stream",
     "text": [
      "R[write to console]: `geom_smooth()` using formula 'y ~ x'\n",
      "\n"
     ]
    }
   ],
   "source": [
    "%%R -i latency\n",
    "\n",
    "library('ggplot2')\n",
    "library('repr')\n",
    "options(repr.plot.width=8.27, repr.plot.height=11.69, repr.plot.res = 1200)\n",
    "\n",
    "p <- ggplot(latency, aes(x=latency,\n",
    "                    y=num_tokens,\n",
    "                    color = Language_name)) +\n",
    "     geom_point(shape=21,\n",
    "                size=2) +\n",
    "     facet_wrap(. ~ Language_name,ncol = 7) +\n",
    "     geom_smooth(method='lm',\n",
    "                 se = FALSE,\n",
    "                 colour=\"black\") +\n",
    "     xlim(0, 3) +\n",
    "     labs(y = \"Length of Utterance\", x = \"Latency to Respond to Babbling\") +\n",
    "     theme_classic() +\n",
    "     theme(text = element_text(size=16),\n",
    "           axis.text.x = element_text(vjust = 0.5, hjust=1),\n",
    "           aspect.ratio=1,\n",
    "           legend.position = \"bottom\",\n",
    "           legend.title = element_blank(),\n",
    "           legend.background = element_rect(fill=alpha(\"white\",0.90),\n",
    "                                            size=0, linetype=\"dotted\",\n",
    "                                            colour = \"white\"),\n",
    "           legend.text=element_text(size=16))\n",
    "    \n",
    "     ggsave(\"../figures/latency_x_utterance_length_utt_level.pdf\", width = 11.69, height = 8.27)\n",
    "#     ggsave(\"../figures/latency_x_utterance_length_utt_level_w_buffer.pdf\", width = 11.69, height = 8.27)"
   ]
  },
  {
   "cell_type": "code",
   "execution_count": 37,
   "id": "64a12061-cae6-4346-b384-585dec1ff9b3",
   "metadata": {},
   "outputs": [
    {
     "name": "stderr",
     "output_type": "stream",
     "text": [
      "R[write to console]: `geom_smooth()` using formula 'y ~ x'\n",
      "\n"
     ]
    }
   ],
   "source": [
    "%%R -i latency\n",
    "\n",
    "library('ggplot2')\n",
    "library('repr')\n",
    "options(repr.plot.width=6, repr.plot.height=12)\n",
    "\n",
    "deu_label <- data.frame(latency=c(1.5),num_tokens = c(35),Language_name=\"German\")\n",
    "eng_label <- data.frame(latency=c(1.5),num_tokens = c(35),Language_name=\"English\")\n",
    "est_ns_label <- data.frame(latency=c(1.5),num_tokens = c(35),Language_name=\"Estonian\")\n",
    "fas_ns_label <- data.frame(latency=c(1.5),num_tokens = c(35),Language_name=\"Persian\")\n",
    "fra_label <- data.frame(latency=c(1.5),num_tokens = c(35),Language_name=\"French\")\n",
    "hrv_label <- data.frame(latency=c(1.5),num_tokens = c(35),Language_name=\"Croatian\")\n",
    "jpn_label <- data.frame(latency=c(1.5),num_tokens = c(35),Language_name=\"Japanese\")\n",
    "kor_label <- data.frame(latency=c(1.5),num_tokens = c(35),Language_name=\"Korean\")\n",
    "nor_label <- data.frame(latency=c(1.5),num_tokens = c(35),Language_name=\"Norwegian\")\n",
    "pol_ns_label <- data.frame(latency=c(1.5),num_tokens = c(35),Language_name=\"Polish\")\n",
    "por_ns_label <- data.frame(latency=c(1.5),num_tokens = c(35),Language_name=\"Portuguese\")\n",
    "spa_label <- data.frame(latency=c(1.5),num_tokens = c(35),Language_name=\"Spanish\")\n",
    "swe_label <- data.frame(latency=c(1.5),num_tokens = c(35),Language_name=\"Swedish\")\n",
    "zho_label <- data.frame(latency=c(1.5),num_tokens = c(35),Language_name=\"Mandarin\")\n",
    "\n",
    "\n",
    "p <- ggplot(latency, aes(x=latency, y=num_tokens, color = Language_name)) +\n",
    "     geom_point(shape=21, size=2) +\n",
    "     facet_wrap(. ~ Language_name,ncol = 7) +\n",
    "#      with buffer:\n",
    "#      geom_text(data = deu_label,label = \"*\",size=8,color=\"black\") +\n",
    "#      geom_text(data = eng_label,label = \"***\",size=8,color=\"black\") +\n",
    "#      geom_text(data = est_ns_label,label = \"ns\",size=4,color=\"black\",fontface = \"italic\") + \n",
    "#      geom_text(data = fas_ns_label,label = \"ns\",size=4,color=\"black\",fontface = \"italic\") +\n",
    "#      geom_text(data = fra_label,label = \"ns\",size=4,color=\"black\",fontface = \"italic\") +\n",
    "#      geom_text(data = hrv_label,label = \"ns\",size=4,color=\"black\",fontface = \"italic\") +\n",
    "#      geom_text(data = jpn_label,label = \"***\",size=8,color=\"black\") + \n",
    "#      geom_text(data = kor_label,label = \"ns\",size=4,color=\"black\",fontface = \"italic\") +  \n",
    "#      geom_text(data = nor_label,label = \"***\",size=8,color=\"black\") +  \n",
    "#      geom_text(data = pol_ns_label,label = \"\", size=4,color=\"black\",fontface = \"italic\") +  \n",
    "#      geom_text(data = por_ns_label,label = \"ns\", size=4,color=\"black\",fontface = \"italic\") +  \n",
    "#      geom_text(data = spa_label,label = \"***\",size=8,color=\"black\") + \n",
    "#      geom_text(data = swe_label,label = \"ns\", size=4,color=\"black\",fontface = \"italic\") + \n",
    "#      geom_text(data = zho_label,label = \"ns\", size=4,color=\"black\",fontface = \"italic\") +\n",
    "#      no buffer:\n",
    "     geom_text(data = deu_label,label = \"ns\",size=4,color=\"black\",fontface = \"italic\") +\n",
    "     geom_text(data = eng_label,label = \"***\",size=8,color=\"black\") +\n",
    "     geom_text(data = est_ns_label,label = \"ns\",size=4,color=\"black\",fontface = \"italic\") + \n",
    "     geom_text(data = fas_ns_label,label = \"ns\",size=4,color=\"black\",fontface = \"italic\") +\n",
    "     geom_text(data = fra_label,label = \"ns\",size=4,color=\"black\",fontface = \"italic\") +\n",
    "     geom_text(data = hrv_label,label = \"ns\",size=4,color=\"black\",fontface = \"italic\") +\n",
    "     geom_text(data = jpn_label,label = \"ns\",size=4,color=\"black\",fontface = \"italic\") + \n",
    "     geom_text(data = kor_label,label = \"ns\",size=4,color=\"black\",fontface = \"italic\") +  \n",
    "     geom_text(data = nor_label,label = \"***\",size=8,color=\"black\") +  \n",
    "     geom_text(data = pol_ns_label,label = \"\", size=4,color=\"black\",fontface = \"italic\") +  \n",
    "     geom_text(data = por_ns_label,label = \"ns\", size=4,color=\"black\",fontface = \"italic\") +  \n",
    "     geom_text(data = spa_label,label = \"***\",size=8,color=\"black\") + \n",
    "     geom_text(data = swe_label,label = \"ns\", size=4,color=\"black\",fontface = \"italic\") + \n",
    "     geom_text(data = zho_label,label = \"ns\", size=4,color=\"black\",fontface = \"italic\") +\n",
    "     geom_smooth(method='lm', se = FALSE, colour=\"black\") +\n",
    "     xlim(0, 3) +\n",
    "     labs(y = \"Length of Utterance\", x = \"Latency to Respond to Babbling\") +\n",
    "     theme_classic() +\n",
    "     theme(text = element_text(size=16),\n",
    "           axis.text.x = element_text(vjust = 0.5, hjust=1),\n",
    "           aspect.ratio=1,\n",
    "           legend.position = \"bottom\",\n",
    "           legend.title = element_blank(),\n",
    "           legend.background = element_rect(fill=alpha(\"white\",0.90),\n",
    "                                            size=0, linetype=\"dotted\",\n",
    "                                            colour = \"white\"),\n",
    "           legend.text=element_text(size=16))\n",
    "     ggsave(\"../figures/latency_x_utterance_length_utt_level_stat.pdf\", width = 11.69, height = 8.27)\n",
    "#      ggsave(\"../figures/latency_x_utterance_length_utt_level_w_buffer_stat.pdf\", width = 11.69, height = 8.27)"
   ]
  },
  {
   "cell_type": "code",
   "execution_count": 38,
   "id": "d668cc45-a643-4aeb-a1f7-36763daf287f",
   "metadata": {},
   "outputs": [
    {
     "name": "stderr",
     "output_type": "stream",
     "text": [
      "R[write to console]: `geom_smooth()` using formula 'y ~ x'\n",
      "\n"
     ]
    }
   ],
   "source": [
    "%%R\n",
    "\n",
    "deu_est_label <- data.frame(latency=c(.5),num_tokens = c(45),Language_name=\"German\")\n",
    "eng_est_label <- data.frame(latency=c(.5),num_tokens = c(45),Language_name=\"English\")\n",
    "est_est_label <- data.frame(latency=c(.5),num_tokens = c(45),Language_name=\"Estonian\")\n",
    "fas_est_label <- data.frame(latency=c(.5),num_tokens = c(45),Language_name=\"Persian\")\n",
    "fra_est_label <- data.frame(latency=c(.5),num_tokens = c(45),Language_name=\"French\")\n",
    "hrv_est_label <- data.frame(latency=c(.5),num_tokens = c(45),Language_name=\"Croatian\")\n",
    "jpn_est_label <- data.frame(latency=c(.5),num_tokens = c(45),Language_name=\"Japanese\")\n",
    "kor_est_label <- data.frame(latency=c(.5),num_tokens = c(45),Language_name=\"Korean\")\n",
    "nor_est_label <- data.frame(latency=c(.5),num_tokens = c(45),Language_name=\"Norwegian\")\n",
    "por_est_label <- data.frame(latency=c(.5),num_tokens = c(45),Language_name=\"Portuguese\")\n",
    "spa_est_label <- data.frame(latency=c(.5),num_tokens = c(45),Language_name=\"Spanish\")\n",
    "swe_est_label <- data.frame(latency=c(.5),num_tokens = c(45),Language_name=\"Swedish\")\n",
    "zho_est_label <- data.frame(latency=c(.5),num_tokens = c(45),Language_name=\"Mandarin\")\n",
    "\n",
    "# with buffer:\n",
    "# p <- p + geom_text(data = deu_est_label,label = \"r = .08\",size=4,color=\"black\") +\n",
    "#          geom_text(data = eng_est_label,label = \"r = .08\",size=4,color=\"black\") +\n",
    "#          geom_text(data = est_est_label,label = \"\",size=4,color=\"black\") +\n",
    "#          geom_text(data = fas_est_label,label = \"\",size=4,color=\"black\") +\n",
    "#          geom_text(data = fra_est_label,label = \"\",size=4,color=\"black\") +\n",
    "#          geom_text(data = hrv_est_label,label = \"\",size=4,color=\"black\") +\n",
    "#          geom_text(data = jpn_est_label,label = \"r = .04\",size=4,color=\"black\") +\n",
    "#          geom_text(data = kor_est_label,label = \"\",size=4,color=\"black\") +\n",
    "#          geom_text(data = nor_est_label,label = \"r = -.08\",size=4,color=\"black\") +\n",
    "#          geom_text(data = por_est_label,label = \"\",size=4,color=\"black\") +\n",
    "#          geom_text(data = spa_est_label,label = \"r = .08\",size=4,color=\"black\") +\n",
    "#          geom_text(data = swe_est_label,label = \"\",size=4,color=\"black\") +\n",
    "#          geom_text(data = zho_est_label,label = \"\",size=4,color=\"black\")\n",
    "\n",
    "# no buffer:\n",
    "p <- p + geom_text(data = deu_est_label,label = \"\",size=4,color=\"black\") +\n",
    "         geom_text(data = eng_est_label,label = \"r = .08\",size=4,color=\"black\") +\n",
    "         geom_text(data = est_est_label,label = \"\",size=4,color=\"black\") +\n",
    "         geom_text(data = fas_est_label,label = \"\",size=4,color=\"black\") +\n",
    "         geom_text(data = fra_est_label,label = \"\",size=4,color=\"black\") +\n",
    "         geom_text(data = hrv_est_label,label = \"\",size=4,color=\"black\") +\n",
    "         geom_text(data = jpn_est_label,label = \"\",size=4,color=\"black\") +\n",
    "         geom_text(data = kor_est_label,label = \"\",size=4,color=\"black\") +\n",
    "         geom_text(data = nor_est_label,label = \"r = -.1\",size=4,color=\"black\") +\n",
    "         geom_text(data = por_est_label,label = \"\",size=4,color=\"black\") +\n",
    "         geom_text(data = spa_est_label,label = \"r = .08\",size=4,color=\"black\") +\n",
    "         geom_text(data = swe_est_label,label = \"\",size=4,color=\"black\") +\n",
    "         geom_text(data = zho_est_label,label = \"\",size=4,color=\"black\")\n",
    "         \n",
    "ggsave(\"../figures/latency_x_utterance_length_utt_level_stat_r.pdf\", width = 11.69, height = 8.27)\n",
    "# ggsave(\"../figures/latency_x_utterance_length_utt_level_w_buffer_stat_r.pdf\", width = 11.69, height = 8.27)"
   ]
  },
  {
   "cell_type": "code",
   "execution_count": 39,
   "id": "3062ff1e-6a7c-47ad-b190-c6ba4d07a786",
   "metadata": {},
   "outputs": [
    {
     "name": "stderr",
     "output_type": "stream",
     "text": [
      "R[write to console]: `geom_smooth()` using formula 'y ~ x'\n",
      "\n"
     ]
    }
   ],
   "source": [
    "%%R\n",
    "\n",
    "deu_n_label <- data.frame(latency=c(2),num_tokens = c(45),Language_name=\"German\")\n",
    "eng_n_label <- data.frame(latency=c(1.8),num_tokens = c(45),Language_name=\"English\")\n",
    "est_n_label <- data.frame(latency=c(2),num_tokens = c(45),Language_name=\"Estonian\")\n",
    "fas_n_label <- data.frame(latency=c(2),num_tokens = c(45),Language_name=\"Persian\")\n",
    "fra_n_label <- data.frame(latency=c(1.8),num_tokens = c(45),Language_name=\"French\")\n",
    "hrv_n_label <- data.frame(latency=c(2),num_tokens = c(45),Language_name=\"Croatian\")\n",
    "jpn_n_label <- data.frame(latency=c(1.8),num_tokens = c(45),Language_name=\"Japanese\")\n",
    "kor_n_label <- data.frame(latency=c(2),num_tokens = c(45),Language_name=\"Korean\")\n",
    "nor_n_label <- data.frame(latency=c(2),num_tokens = c(45),Language_name=\"Norwegian\")\n",
    "pol_n_label <- data.frame(latency=c(2),num_tokens = c(45),Language_name=\"Polish\")\n",
    "por_n_label <- data.frame(latency=c(2),num_tokens = c(45),Language_name=\"Portuguese\")\n",
    "spa_n_label <- data.frame(latency=c(2),num_tokens = c(45),Language_name=\"Spanish\")\n",
    "swe_n_label <- data.frame(latency=c(2),num_tokens = c(45),Language_name=\"Swedish\")\n",
    "zho_n_label <- data.frame(latency=c(2),num_tokens = c(45),Language_name=\"Mandarin\")\n",
    "\n",
    "deu_sz_label <- data.frame(latency=c(2.5),num_tokens = c(45),Language_name=\"German\")\n",
    "eng_sz_label <- data.frame(latency=c(2.5),num_tokens = c(45),Language_name=\"English\")\n",
    "est_sz_label <- data.frame(latency=c(2.5),num_tokens = c(45),Language_name=\"Estonian\")\n",
    "fas_sz_label <- data.frame(latency=c(2.5),num_tokens = c(45),Language_name=\"Persian\")\n",
    "fra_sz_label <- data.frame(latency=c(2.5),num_tokens = c(45),Language_name=\"French\")\n",
    "hrv_sz_label <- data.frame(latency=c(2.5),num_tokens = c(45),Language_name=\"Croatian\")\n",
    "jpn_sz_label <- data.frame(latency=c(2.5),num_tokens = c(45),Language_name=\"Japanese\")\n",
    "kor_sz_label <- data.frame(latency=c(2.5),num_tokens = c(45),Language_name=\"Korean\")\n",
    "nor_sz_label <- data.frame(latency=c(2.5),num_tokens = c(45),Language_name=\"Norwegian\")\n",
    "pol_sz_label <- data.frame(latency=c(2.5),num_tokens = c(45),Language_name=\"Polish\")\n",
    "por_sz_label <- data.frame(latency=c(2.5),num_tokens = c(45),Language_name=\"Portuguese\")\n",
    "spa_sz_label <- data.frame(latency=c(2.5),num_tokens = c(45),Language_name=\"Spanish\")\n",
    "swe_sz_label <- data.frame(latency=c(2.5),num_tokens = c(45),Language_name=\"Swedish\")\n",
    "zho_sz_label <- data.frame(latency=c(2.5),num_tokens = c(45),Language_name=\"Mandarin\")\n",
    "\n",
    "p <- p + geom_text(data = deu_n_label,label = \"n\",size=4,color=\"black\",fontface = \"italic\") +\n",
    "         geom_text(data = eng_n_label,label = \"n\",size=4,color=\"black\",fontface = \"italic\") +\n",
    "         geom_text(data = est_n_label,label = \"n\",size=4,color=\"black\",fontface = \"italic\") +\n",
    "         geom_text(data = fas_n_label,label = \"n\",size=4,color=\"black\",fontface = \"italic\") +\n",
    "         geom_text(data = fra_n_label,label = \"n\",size=4,color=\"black\",fontface = \"italic\") +\n",
    "         geom_text(data = hrv_n_label,label = \"n\",size=4,color=\"black\",fontface = \"italic\") +\n",
    "         geom_text(data = jpn_n_label,label = \"n\",size=4,color=\"black\",fontface = \"italic\") +\n",
    "         geom_text(data = kor_n_label,label = \"n\",size=4,color=\"black\",fontface = \"italic\") +\n",
    "         geom_text(data = nor_n_label,label = \"n\",size=4,color=\"black\",fontface = \"italic\") +\n",
    "         geom_text(data = pol_n_label,label = \"n\",size=4,color=\"black\",fontface = \"italic\") +\n",
    "         geom_text(data = por_n_label,label = \"n\",size=4,color=\"black\",fontface = \"italic\") +\n",
    "         geom_text(data = spa_n_label,label = \"n\",size=4,color=\"black\",fontface = \"italic\") +\n",
    "         geom_text(data = swe_n_label,label = \"n\",size=4,color=\"black\",fontface = \"italic\") +\n",
    "         geom_text(data = zho_n_label,label = \"n\",size=4,color=\"black\",fontface = \"italic\") +\n",
    "         geom_text(data = deu_sz_label,label = \" = 39\",size=4,color=\"black\") +\n",
    "         geom_text(data = eng_sz_label,label = \" = 1005\",size=4,color=\"black\") +\n",
    "         geom_text(data = est_sz_label,label = \" = 22\",size=4,color=\"black\") +\n",
    "         geom_text(data = fas_sz_label,label = \" = 12\",size=4,color=\"black\") +\n",
    "         geom_text(data = fra_sz_label,label = \" = 303\",size=4,color=\"black\") +\n",
    "         geom_text(data = hrv_sz_label,label = \" = 79\",size=4,color=\"black\") +\n",
    "         geom_text(data = jpn_sz_label,label = \" = 139\",size=4,color=\"black\") +\n",
    "         geom_text(data = kor_sz_label,label = \" = 37\",size=4,color=\"black\") +\n",
    "         geom_text(data = nor_sz_label,label = \" = 56\",size=4,color=\"black\") +\n",
    "         geom_text(data = pol_sz_label,label = \" = 1\",size=4,color=\"black\") +\n",
    "         geom_text(data = por_sz_label,label = \" = 24\",size=4,color=\"black\") +\n",
    "         geom_text(data = spa_sz_label,label = \" = 31\",size=4,color=\"black\") +\n",
    "         geom_text(data = swe_sz_label,label = \" = 16\",size=4,color=\"black\") +\n",
    "         geom_text(data = zho_sz_label,label = \" = 2\",size=4,color=\"black\")\n",
    "\n",
    "         ggsave(\"../figures/latency_x_utterance_length_utt_level_stat_r_n.pdf\", width = 11.69, height = 8.27)\n",
    "#          ggsave(\"../figures/latency_x_utterance_length_utt_level_w_buffer_stat_r_n.pdf\", width = 11.69, height = 8.27)"
   ]
  },
  {
   "cell_type": "markdown",
   "id": "57b49930-a5d9-4812-a514-c2e45aec738b",
   "metadata": {},
   "source": [
    "Statistics"
   ]
  },
  {
   "cell_type": "code",
   "execution_count": 40,
   "id": "09a70c0b-451f-4a66-b21c-527b0ad23e32",
   "metadata": {},
   "outputs": [
    {
     "name": "stdout",
     "output_type": "stream",
     "text": [
      "\u001b[90m# A tibble: 14 × 6\u001b[39m\n",
      "   Language_name     cor statistic        p    p_adj significance\n",
      "   \u001b[3m\u001b[90m<chr>\u001b[39m\u001b[23m           \u001b[3m\u001b[90m<dbl>\u001b[39m\u001b[23m     \u001b[3m\u001b[90m<dbl>\u001b[39m\u001b[23m    \u001b[3m\u001b[90m<dbl>\u001b[39m\u001b[23m    \u001b[3m\u001b[90m<dbl>\u001b[39m\u001b[23m \u001b[3m\u001b[90m<chr>\u001b[39m\u001b[23m       \n",
      "\u001b[90m 1\u001b[39m Croatian       0.054     2.78   5.45\u001b[90me\u001b[39m\u001b[31m- 3\u001b[39m 5.45\u001b[90me\u001b[39m\u001b[31m- 2\u001b[39m ns          \n",
      "\u001b[90m 2\u001b[39m English        0.081    11.2    7.5 \u001b[90me\u001b[39m\u001b[31m-29\u001b[39m 1.05\u001b[90me\u001b[39m\u001b[31m-27\u001b[39m ***         \n",
      "\u001b[90m 3\u001b[39m Estonian      -\u001b[31m0\u001b[39m\u001b[31m.\u001b[39m\u001b[31m0\u001b[39m\u001b[31m15\u001b[39m    -\u001b[31m0\u001b[39m\u001b[31m.\u001b[39m\u001b[31m474\u001b[39m  6.35\u001b[90me\u001b[39m\u001b[31m- 1\u001b[39m 1   \u001b[90me\u001b[39m+ 0 \u001b[31mNA\u001b[39m          \n",
      "\u001b[90m 4\u001b[39m French         0.03      2.30   2.12\u001b[90me\u001b[39m\u001b[31m- 2\u001b[39m 1.70\u001b[90me\u001b[39m\u001b[31m- 1\u001b[39m ns          \n",
      "\u001b[90m 5\u001b[39m German         0.05      2.04   4.17\u001b[90me\u001b[39m\u001b[31m- 2\u001b[39m 2.92\u001b[90me\u001b[39m\u001b[31m- 1\u001b[39m ns          \n",
      "\u001b[90m 6\u001b[39m Japanese       0.029     2.82   4.77\u001b[90me\u001b[39m\u001b[31m- 3\u001b[39m 5.25\u001b[90me\u001b[39m\u001b[31m- 2\u001b[39m ns          \n",
      "\u001b[90m 7\u001b[39m Korean         0.002\u001b[4m4\u001b[24m    0.093\u001b[4m7\u001b[24m 9.25\u001b[90me\u001b[39m\u001b[31m- 1\u001b[39m 1   \u001b[90me\u001b[39m+ 0 \u001b[31mNA\u001b[39m          \n",
      "\u001b[90m 8\u001b[39m Mandarin       0.23      1.77   8.3 \u001b[90me\u001b[39m\u001b[31m- 2\u001b[39m 4.98\u001b[90me\u001b[39m\u001b[31m- 1\u001b[39m ns          \n",
      "\u001b[90m 9\u001b[39m Norwegian     -\u001b[31m0\u001b[39m\u001b[31m.\u001b[39m\u001b[31m1\u001b[39m      -\u001b[31m5\u001b[39m\u001b[31m.\u001b[39m\u001b[31m83\u001b[39m   6.04\u001b[90me\u001b[39m\u001b[31m- 9\u001b[39m 7.85\u001b[90me\u001b[39m\u001b[31m- 8\u001b[39m ***         \n",
      "\u001b[90m10\u001b[39m Persian       -\u001b[31m0\u001b[39m\u001b[31m.\u001b[39m\u001b[31m0\u001b[39m\u001b[31m37\u001b[39m    -\u001b[31m0\u001b[39m\u001b[31m.\u001b[39m\u001b[31m481\u001b[39m  6.31\u001b[90me\u001b[39m\u001b[31m- 1\u001b[39m 1   \u001b[90me\u001b[39m+ 0 \u001b[31mNA\u001b[39m          \n",
      "\u001b[90m11\u001b[39m Polish         0.12      0.470  6.45\u001b[90me\u001b[39m\u001b[31m- 1\u001b[39m 1   \u001b[90me\u001b[39m+ 0 \u001b[31mNA\u001b[39m          \n",
      "\u001b[90m12\u001b[39m Portuguese     0.076     2.60   9.42\u001b[90me\u001b[39m\u001b[31m- 3\u001b[39m 8.48\u001b[90me\u001b[39m\u001b[31m- 2\u001b[39m ns          \n",
      "\u001b[90m13\u001b[39m Spanish        0.086     4.34   1.49\u001b[90me\u001b[39m\u001b[31m- 5\u001b[39m 1.79\u001b[90me\u001b[39m\u001b[31m- 4\u001b[39m ***         \n",
      "\u001b[90m14\u001b[39m Swedish       -\u001b[31m0\u001b[39m\u001b[31m.\u001b[39m\u001b[31m00\u001b[39m\u001b[31m6\u001b[4m9\u001b[24m\u001b[39m   -\u001b[31m0\u001b[39m\u001b[31m.\u001b[39m\u001b[31m237\u001b[39m  8.13\u001b[90me\u001b[39m\u001b[31m- 1\u001b[39m 1   \u001b[90me\u001b[39m+ 0 \u001b[31mNA\u001b[39m          \n"
     ]
    }
   ],
   "source": [
    "%%R -i latency\n",
    "\n",
    "library(rstatix)\n",
    "library(tidyverse)\n",
    "options(scipen=0, digits=7)\n",
    "\n",
    "stats <- latency %>%\n",
    "        group_by(Language_name) %>%\n",
    "        cor_test(num_tokens,latency)\n",
    "        \n",
    "stats <- select(stats,c(\"Language_name\",\"cor\",\"statistic\",\"p\"))\n",
    "\n",
    "makeStars <- function(x){\n",
    "  stars <- c(\"***\", \"**\", \"*\", \"ns\")\n",
    "  vec <- c(0,0.001, 0.01, 0.05, 1)\n",
    "  i <- findInterval(x, vec)\n",
    "  stars[i]\n",
    "}\n",
    "\n",
    "stats$p_adj <- p.adjust(stats$p, method = \"holm\", n = length(stats$p))\n",
    "\n",
    "stats$significance <- makeStars(stats$p_adj)\n",
    "\n",
    "stats"
   ]
  },
  {
   "cell_type": "markdown",
   "id": "8b7fb232-325f-47ff-a791-b8a7519fa51a",
   "metadata": {},
   "source": [
    "----\n",
    "#### Subject level"
   ]
  },
  {
   "cell_type": "code",
   "execution_count": 41,
   "id": "443d9805-a183-42e2-aec8-ede5ca547c38",
   "metadata": {},
   "outputs": [],
   "source": [
    "proc_t_dat_sum_stats = (proc_t_dat.groupby([\"Language_name\",\"target_child_id\",\"transcript_id\"])\n",
    "                                  .agg({\"num_tokens\":\"mean\",\n",
    "                                       \"latency\":\"mean\"})\n",
    "                                  .reset_index())"
   ]
  },
  {
   "cell_type": "code",
   "execution_count": 42,
   "id": "0ae3034b-96c4-4115-b820-7697eebc7eb2",
   "metadata": {},
   "outputs": [],
   "source": [
    "proc_t_dat_sum_stats[\"latency\"] = proc_t_dat_sum_stats[\"latency\"]*(-1)"
   ]
  },
  {
   "cell_type": "code",
   "execution_count": 43,
   "id": "24ec4e89-8d92-48fc-8614-cef3f750918b",
   "metadata": {},
   "outputs": [
    {
     "name": "stderr",
     "output_type": "stream",
     "text": [
      "R[write to console]: `geom_smooth()` using formula 'y ~ x'\n",
      "\n"
     ]
    }
   ],
   "source": [
    "%%R -i proc_t_dat_sum_stats\n",
    "\n",
    "library('ggplot2')\n",
    "library('repr')\n",
    "options(repr.plot.width=8.27, repr.plot.height=11.69, repr.plot.res = 1200)\n",
    "\n",
    "p <- ggplot(proc_t_dat_sum_stats, aes(x=latency,\n",
    "                                      y=num_tokens,\n",
    "                                      color = Language_name)) +\n",
    "     geom_point(shape=21,\n",
    "                size=2) +\n",
    "     facet_wrap(. ~ Language_name,ncol = 7) +\n",
    "     geom_smooth(method='lm',\n",
    "                 se = FALSE,\n",
    "                 colour=\"black\") +\n",
    "     xlim(0, 3) +\n",
    "     ylim(0, 50) +\n",
    "     labs(y = \"Length of Utterance\", x = \"latency to Respond to Babbling\") +\n",
    "     theme_classic() +\n",
    "     theme(text = element_text(size=16),\n",
    "           axis.text.x = element_text(vjust = 0.5, hjust=1),\n",
    "           aspect.ratio=1,\n",
    "           legend.position = \"bottom\",\n",
    "           legend.title = element_blank(),\n",
    "           legend.background = element_rect(fill=alpha(\"white\",0.90),\n",
    "                                            size=0, linetype=\"dotted\",\n",
    "                                            colour = \"white\"),\n",
    "           legend.text=element_text(size=16))\n",
    "     \n",
    "     ggsave(\"../figures/latency_x_utterance_length_subject_level.pdf\", width = 11.69, height = 8.27)\n",
    "#     ggsave(\"../figures/latency_x_utterance_length_subject_level_w_buffer.pdf\", width = 11.69, height = 8.27)"
   ]
  },
  {
   "cell_type": "code",
   "execution_count": 44,
   "id": "1f60be5a-2de7-4b58-9b1b-46a0414be3cb",
   "metadata": {},
   "outputs": [
    {
     "name": "stderr",
     "output_type": "stream",
     "text": [
      "R[write to console]: `geom_smooth()` using formula 'y ~ x'\n",
      "\n"
     ]
    }
   ],
   "source": [
    "%%R -i proc_t_dat_sum_stats\n",
    "\n",
    "library('ggplot2')\n",
    "library('repr')\n",
    "options(repr.plot.width=6, repr.plot.height=12)\n",
    "\n",
    "deu_ns_label <- data.frame(latency=c(1.5),num_tokens = c(35),Language_name=\"German\")\n",
    "eng_label <- data.frame(latency=c(1.5),num_tokens = c(35),Language_name=\"English\")\n",
    "est_ns_label <- data.frame(latency=c(1.5),num_tokens = c(35),Language_name=\"Estonian\")\n",
    "fas_ns_label <- data.frame(latency=c(1.5),num_tokens = c(35),Language_name=\"Persian\")\n",
    "fra_label <- data.frame(latency=c(1.5),num_tokens = c(35),Language_name=\"French\")\n",
    "hrv_label <- data.frame(latency=c(1.5),num_tokens = c(35),Language_name=\"Croatian\")\n",
    "jpn_ns_label <- data.frame(latency=c(1.5),num_tokens = c(35),Language_name=\"Japanese\")\n",
    "kor_ns_label <- data.frame(latency=c(1.5),num_tokens = c(35),Language_name=\"Korean\")\n",
    "nor_ns_label <- data.frame(latency=c(1.5),num_tokens = c(35),Language_name=\"Norwegian\")\n",
    "pol_ns_label <- data.frame(latency=c(1.5),num_tokens = c(35),Language_name=\"Polish\")\n",
    "por_label <- data.frame(latency=c(1.5),num_tokens = c(35),Language_name=\"Portuguese\")\n",
    "spa_label <- data.frame(latency=c(1.5),num_tokens = c(35),Language_name=\"Spanish\")\n",
    "swe_ns_label <- data.frame(latency=c(1.5),num_tokens = c(35),Language_name=\"Swedish\")\n",
    "zho_ns_label <- data.frame(latency=c(1.5),num_tokens = c(35),Language_name=\"Mandarin\")\n",
    "\n",
    "\n",
    "p <- ggplot(proc_t_dat_sum_stats, aes(x=latency,\n",
    "                                      y=num_tokens,\n",
    "                                      color = Language_name)) +\n",
    "     geom_point(shape=21,\n",
    "                size=2) +\n",
    "     facet_wrap(. ~ Language_name,ncol = 7) +\n",
    "#    with buffer:    \n",
    "#      geom_text(data = deu_ns_label,label = \"ns\",size=4,color=\"black\") + \n",
    "#      geom_text(data = eng_label,label = \"***\",size=8,color=\"black\") +  \n",
    "#      geom_text(data = est_ns_label,label = \"ns\",size=4,color=\"black\") +  \n",
    "#      geom_text(data = fas_ns_label,label = \"ns\",size=4, color=\"black\",fontface = \"italic\") +\n",
    "#      geom_text(data = fra_label,label = \"ns\",size=4, color=\"black\",fontface = \"italic\") +  \n",
    "#      geom_text(data = hrv_label,label = \"*\",size=8, color=\"black\") + \n",
    "#      geom_text(data = jpn_label,label = \"ns\",size=4, color=\"black\",fontface = \"italic\") + \n",
    "#      geom_text(data = kor_ns_label,label = \"ns\",size=4,color=\"black\",fontface = \"italic\") +  \n",
    "#      geom_text(data = nor_ns_label,label = \"ns\",size=4,color=\"black\",fontface = \"italic\") +  \n",
    "#      geom_text(data = por_label,label = \"**\",size=8,color=\"black\") +  \n",
    "#      geom_text(data = spa_label,label = \"*\",size=8,color=\"black\") + \n",
    "#      geom_text(data = swe_ns_label,label = \"ns\",size=4,color=\"black\",fontface = \"italic\") +\n",
    "#    no buffer:\n",
    "     geom_text(data = deu_ns_label,label = \"ns\",size=4,color=\"black\") + \n",
    "     geom_text(data = eng_label,label = \"***\",size=8,color=\"black\") +  \n",
    "     geom_text(data = est_ns_label,label = \"ns\",size=4,color=\"black\") +  \n",
    "     geom_text(data = fas_ns_label,label = \"ns\",size=4, color=\"black\",fontface = \"italic\") +\n",
    "     geom_text(data = fra_label,label = \"ns\",size=4, color=\"black\",fontface = \"italic\") +  \n",
    "     geom_text(data = hrv_label,label = \"*\",size=8, color=\"black\") + \n",
    "     geom_text(data = jpn_label,label = \"ns\",size=4, color=\"black\",fontface = \"italic\") + \n",
    "     geom_text(data = kor_ns_label,label = \"ns\",size=4,color=\"black\",fontface = \"italic\") +  \n",
    "     geom_text(data = nor_ns_label,label = \"ns\",size=4,color=\"black\",fontface = \"italic\") +  \n",
    "     geom_text(data = por_label,label = \"**\",size=8,color=\"black\") +  \n",
    "     geom_text(data = spa_label,label = \"*\",size=8,color=\"black\") + \n",
    "     geom_text(data = swe_ns_label,label = \"ns\",size=4,color=\"black\",fontface = \"italic\") +\n",
    "     geom_smooth(method='lm',\n",
    "                 se = FALSE,\n",
    "                 colour=\"black\") +\n",
    "     xlim(0, 3) +\n",
    "     ylim(0, 50) +\n",
    "     labs(y = \"Length of Utterance\", x = \"latency to Respond to Babbling\") +\n",
    "     theme_classic() +\n",
    "     theme(text = element_text(size=16),\n",
    "           axis.text.x = element_text(vjust = 0.5, hjust=1),\n",
    "           aspect.ratio=1,\n",
    "           legend.position = \"bottom\",\n",
    "           legend.title = element_blank(),\n",
    "           legend.background = element_rect(fill=alpha(\"white\",0.90),\n",
    "                                            size=0, linetype=\"dotted\",\n",
    "                                            colour = \"white\"),\n",
    "           legend.text=element_text(size=16))\n",
    "     ggsave(\"../figures/latency_x_utterance_length_subject_level_stat.pdf\", width = 11.7, height = 8.27)\n",
    "#      ggsave(\"../figures/latency_x_utterance_length_subject_level_w_buffer_stat.pdf\", width = 11.7, height = 8.27)"
   ]
  },
  {
   "cell_type": "code",
   "execution_count": 45,
   "id": "edbd2a1b-ce50-4bf9-a776-b65353a5db07",
   "metadata": {},
   "outputs": [
    {
     "name": "stderr",
     "output_type": "stream",
     "text": [
      "R[write to console]: `geom_smooth()` using formula 'y ~ x'\n",
      "\n"
     ]
    }
   ],
   "source": [
    "%%R\n",
    "\n",
    "deu_est_label <- data.frame(latency=c(.5),num_tokens = c(45),Language_name=\"German\")\n",
    "eng_est_label <- data.frame(latency=c(.5),num_tokens = c(45),Language_name=\"English\")\n",
    "est_est_label <- data.frame(latency=c(.5),num_tokens = c(45),Language_name=\"Estonian\")\n",
    "fas_est_label <- data.frame(latency=c(.5),num_tokens = c(45),Language_name=\"Persian\")\n",
    "fra_est_label <- data.frame(latency=c(.5),num_tokens = c(45),Language_name=\"French\")\n",
    "hrv_est_label <- data.frame(latency=c(.5),num_tokens = c(45),Language_name=\"Croatian\")\n",
    "jpn_est_label <- data.frame(latency=c(.5),num_tokens = c(45),Language_name=\"Japanese\")\n",
    "kor_est_label <- data.frame(latency=c(.5),num_tokens = c(45),Language_name=\"Korean\")\n",
    "nor_est_label <- data.frame(latency=c(.5),num_tokens = c(45),Language_name=\"Norwegian\")\n",
    "por_est_label <- data.frame(latency=c(.5),num_tokens = c(45),Language_name=\"Portuguese\")\n",
    "spa_est_label <- data.frame(latency=c(.5),num_tokens = c(45),Language_name=\"Spanish\")\n",
    "swe_est_label <- data.frame(latency=c(.5),num_tokens = c(45),Language_name=\"Swedish\")\n",
    "zho_est_label <- data.frame(latency=c(.5),num_tokens = c(45),Language_name=\"Mandarin\")\n",
    "\n",
    "# with buffer:\n",
    "# p <- p + geom_text(data = deu_est_label,label = \"\",size=4,color=\"black\") +\n",
    "#          geom_text(data = eng_est_label,label = \"r = .20\",size=4,color=\"black\") +\n",
    "#          geom_text(data = est_est_label,label = \"\",size=4,color=\"black\") +\n",
    "#          geom_text(data = fas_est_label,label = \"\",size=4,color=\"black\") +\n",
    "#          geom_text(data = fra_est_label,label = \"\",size=4,color=\"black\") +\n",
    "#          geom_text(data = hrv_est_label,label = \"r = .37\",size=4,color=\"black\") +\n",
    "#          geom_text(data = jpn_est_label,label = \"\",size=4,color=\"black\") +\n",
    "#          geom_text(data = kor_est_label,label = \"\",size=4,color=\"black\") +\n",
    "#          geom_text(data = nor_est_label,label = \"\",size=4,color=\"black\") +\n",
    "#          geom_text(data = por_est_label,label = \"r = .69\",size=4,color=\"black\") +\n",
    "#          geom_text(data = spa_est_label,label = \"r = .08\",size=4,color=\"black\") +\n",
    "#          geom_text(data = swe_est_label,label = \"\",size=4,color=\"black\") +\n",
    "#          geom_text(data = zho_est_label,label = \"\",size=4,color=\"black\")\n",
    "        \n",
    "# no buffer:\n",
    "p <- p + geom_text(data = deu_est_label,label = \"\",size=4,color=\"black\") +\n",
    "         geom_text(data = eng_est_label,label = \"r = .21\",size=4,color=\"black\") +\n",
    "         geom_text(data = est_est_label,label = \"\",size=4,color=\"black\") +\n",
    "         geom_text(data = fas_est_label,label = \"\",size=4,color=\"black\") +\n",
    "         geom_text(data = fra_est_label,label = \"\",size=4,color=\"black\") +\n",
    "         geom_text(data = hrv_est_label,label = \"r = .39\",size=4,color=\"black\") +\n",
    "         geom_text(data = jpn_est_label,label = \"\",size=4,color=\"black\") +\n",
    "         geom_text(data = kor_est_label,label = \"\",size=4,color=\"black\") +\n",
    "         geom_text(data = nor_est_label,label = \"\",size=4,color=\"black\") +\n",
    "         geom_text(data = por_est_label,label = \"r = .68\",size=4,color=\"black\") +\n",
    "         geom_text(data = spa_est_label,label = \"r = .52\",size=4,color=\"black\") +\n",
    "         geom_text(data = swe_est_label,label = \"\",size=4,color=\"black\") +\n",
    "         geom_text(data = zho_est_label,label = \"\",size=4,color=\"black\")\n",
    "         \n",
    "ggsave(\"../figures/latency_x_utterance_length_subject_level_stat_r.pdf\", width = 11.69, height = 8.27)\n",
    "# ggsave(\"../figures/latency_x_utterance_length_subject_level_w_buffer_stat_r.pdf\", width = 11.69, height = 8.27)"
   ]
  },
  {
   "cell_type": "code",
   "execution_count": 46,
   "id": "5837789b-4bea-4e02-ba37-274463423863",
   "metadata": {},
   "outputs": [
    {
     "name": "stderr",
     "output_type": "stream",
     "text": [
      "R[write to console]: `geom_smooth()` using formula 'y ~ x'\n",
      "\n"
     ]
    }
   ],
   "source": [
    "%%R\n",
    "\n",
    "deu_n_label <- data.frame(latency=c(2),num_tokens = c(45),Language_name=\"German\")\n",
    "eng_n_label <- data.frame(latency=c(1.8),num_tokens = c(45),Language_name=\"English\")\n",
    "est_n_label <- data.frame(latency=c(2),num_tokens = c(45),Language_name=\"Estonian\")\n",
    "fas_n_label <- data.frame(latency=c(2),num_tokens = c(45),Language_name=\"Persian\")\n",
    "fra_n_label <- data.frame(latency=c(1.8),num_tokens = c(45),Language_name=\"French\")\n",
    "hrv_n_label <- data.frame(latency=c(2),num_tokens = c(45),Language_name=\"Croatian\")\n",
    "jpn_n_label <- data.frame(latency=c(1.8),num_tokens = c(45),Language_name=\"Japanese\")\n",
    "kor_n_label <- data.frame(latency=c(2),num_tokens = c(45),Language_name=\"Korean\")\n",
    "nor_n_label <- data.frame(latency=c(2),num_tokens = c(45),Language_name=\"Norwegian\")\n",
    "pol_n_label <- data.frame(latency=c(2),num_tokens = c(45),Language_name=\"Polish\")\n",
    "por_n_label <- data.frame(latency=c(2),num_tokens = c(45),Language_name=\"Portuguese\")\n",
    "spa_n_label <- data.frame(latency=c(2),num_tokens = c(45),Language_name=\"Spanish\")\n",
    "swe_n_label <- data.frame(latency=c(2),num_tokens = c(45),Language_name=\"Swedish\")\n",
    "zho_n_label <- data.frame(latency=c(2),num_tokens = c(45),Language_name=\"Mandarin\")\n",
    "\n",
    "deu_sz_label <- data.frame(latency=c(2.5),num_tokens = c(45),Language_name=\"German\")\n",
    "eng_sz_label <- data.frame(latency=c(2.5),num_tokens = c(45),Language_name=\"English\")\n",
    "est_sz_label <- data.frame(latency=c(2.5),num_tokens = c(45),Language_name=\"Estonian\")\n",
    "fas_sz_label <- data.frame(latency=c(2.5),num_tokens = c(45),Language_name=\"Persian\")\n",
    "fra_sz_label <- data.frame(latency=c(2.5),num_tokens = c(45),Language_name=\"French\")\n",
    "hrv_sz_label <- data.frame(latency=c(2.5),num_tokens = c(45),Language_name=\"Croatian\")\n",
    "jpn_sz_label <- data.frame(latency=c(2.5),num_tokens = c(45),Language_name=\"Japanese\")\n",
    "kor_sz_label <- data.frame(latency=c(2.5),num_tokens = c(45),Language_name=\"Korean\")\n",
    "nor_sz_label <- data.frame(latency=c(2.5),num_tokens = c(45),Language_name=\"Norwegian\")\n",
    "pol_sz_label <- data.frame(latency=c(2.5),num_tokens = c(45),Language_name=\"Polish\")\n",
    "por_sz_label <- data.frame(latency=c(2.5),num_tokens = c(45),Language_name=\"Portuguese\")\n",
    "spa_sz_label <- data.frame(latency=c(2.5),num_tokens = c(45),Language_name=\"Spanish\")\n",
    "swe_sz_label <- data.frame(latency=c(2.5),num_tokens = c(45),Language_name=\"Swedish\")\n",
    "zho_sz_label <- data.frame(latency=c(2.5),num_tokens = c(45),Language_name=\"Mandarin\")\n",
    "\n",
    "p <- p + geom_text(data = deu_n_label,label = \"n\",size=4,color=\"black\",fontface = \"italic\") +\n",
    "         geom_text(data = eng_n_label,label = \"n\",size=4,color=\"black\",fontface = \"italic\") +\n",
    "         geom_text(data = est_n_label,label = \"n\",size=4,color=\"black\",fontface = \"italic\") +\n",
    "         geom_text(data = fas_n_label,label = \"n\",size=4,color=\"black\",fontface = \"italic\") +\n",
    "         geom_text(data = fra_n_label,label = \"n\",size=4,color=\"black\",fontface = \"italic\") +\n",
    "         geom_text(data = hrv_n_label,label = \"n\",size=4,color=\"black\",fontface = \"italic\") +\n",
    "         geom_text(data = jpn_n_label,label = \"n\",size=4,color=\"black\",fontface = \"italic\") +\n",
    "         geom_text(data = kor_n_label,label = \"n\",size=4,color=\"black\",fontface = \"italic\") +\n",
    "         geom_text(data = nor_n_label,label = \"n\",size=4,color=\"black\",fontface = \"italic\") +\n",
    "         geom_text(data = pol_n_label,label = \"n\",size=4,color=\"black\",fontface = \"italic\") +\n",
    "         geom_text(data = por_n_label,label = \"n\",size=4,color=\"black\",fontface = \"italic\") +\n",
    "         geom_text(data = spa_n_label,label = \"n\",size=4,color=\"black\",fontface = \"italic\") +\n",
    "         geom_text(data = swe_n_label,label = \"n\",size=4,color=\"black\",fontface = \"italic\") +\n",
    "         geom_text(data = zho_n_label,label = \"n\",size=4,color=\"black\",fontface = \"italic\") +\n",
    "         geom_text(data = deu_sz_label,label = \" = 39\",size=4,color=\"black\") +\n",
    "         geom_text(data = eng_sz_label,label = \" = 1005\",size=4,color=\"black\") +\n",
    "         geom_text(data = est_sz_label,label = \" = 22\",size=4,color=\"black\") +\n",
    "         geom_text(data = fas_sz_label,label = \" = 12\",size=4,color=\"black\") +\n",
    "         geom_text(data = fra_sz_label,label = \" = 303\",size=4,color=\"black\") +\n",
    "         geom_text(data = hrv_sz_label,label = \" = 79\",size=4,color=\"black\") +\n",
    "         geom_text(data = jpn_sz_label,label = \" = 139\",size=4,color=\"black\") +\n",
    "         geom_text(data = kor_sz_label,label = \" = 37\",size=4,color=\"black\") +\n",
    "         geom_text(data = nor_sz_label,label = \" = 56\",size=4,color=\"black\") +\n",
    "         geom_text(data = pol_sz_label,label = \" = 1\",size=4,color=\"black\") +\n",
    "         geom_text(data = por_sz_label,label = \" = 24\",size=4,color=\"black\") +\n",
    "         geom_text(data = spa_sz_label,label = \" = 31\",size=4,color=\"black\") +\n",
    "         geom_text(data = swe_sz_label,label = \" = 16\",size=4,color=\"black\") +\n",
    "         geom_text(data = zho_sz_label,label = \" = 2\",size=4,color=\"black\")\n",
    "\n",
    "         ggsave(\"../figures/latency_x_utterance_length_subject_level_stat_r_n.pdf\", width = 11.69, height = 8.27)\n",
    "#          ggsave(\"../figures/latency_x_utterance_length_subject_level_w_buffer_stat_r_n.pdf\", width = 11.69, height = 8.27)"
   ]
  },
  {
   "cell_type": "markdown",
   "id": "f4048893-2ec7-457e-8329-3d49e20311e3",
   "metadata": {},
   "source": [
    "Statistics"
   ]
  },
  {
   "cell_type": "code",
   "execution_count": 47,
   "id": "66bbfeac-e2c2-475f-b55c-d872522b090f",
   "metadata": {},
   "outputs": [],
   "source": [
    "# proc_t_dat_sum_stats = proc_t_dat_sum_stats[proc_t_dat_sum_stats[\"Language_name\"]!=\"Polish\"]\n",
    "\n",
    "proc_t_dat_sum_stats = proc_t_dat_sum_stats[(proc_t_dat_sum_stats[\"Language_name\"]==\"Croatian\") |\n",
    "                                            (proc_t_dat_sum_stats[\"Language_name\"]==\"English\") |\n",
    "                                            (proc_t_dat_sum_stats[\"Language_name\"]==\"Estonian\")|\n",
    "                                            (proc_t_dat_sum_stats[\"Language_name\"]==\"French\")|\n",
    "                                            (proc_t_dat_sum_stats[\"Language_name\"]==\"German\")|\n",
    "                                            (proc_t_dat_sum_stats[\"Language_name\"]==\"Japanese\")|\n",
    "                                            (proc_t_dat_sum_stats[\"Language_name\"]==\"Korean\")|\n",
    "#                                             (proc_t_dat_sum_stats[\"Language_name\"]==\"Mandarin\")|\n",
    "                                            (proc_t_dat_sum_stats[\"Language_name\"]==\"Norwegian\")|\n",
    "                                            (proc_t_dat_sum_stats[\"Language_name\"]==\"Persian\")|\n",
    "                                            (proc_t_dat_sum_stats[\"Language_name\"]==\"Portuguese\")|\n",
    "                                            (proc_t_dat_sum_stats[\"Language_name\"]==\"Spanish\")|\n",
    "                                            (proc_t_dat_sum_stats[\"Language_name\"]==\"Swedish\")]"
   ]
  },
  {
   "cell_type": "code",
   "execution_count": 48,
   "id": "33880f75-47a5-46e7-9958-d0cd085d48ab",
   "metadata": {},
   "outputs": [
    {
     "name": "stdout",
     "output_type": "stream",
     "text": [
      "The rpy2.ipython extension is already loaded. To reload it, use:\n",
      "  %reload_ext rpy2.ipython\n"
     ]
    }
   ],
   "source": [
    "%load_ext rpy2.ipython"
   ]
  },
  {
   "cell_type": "code",
   "execution_count": 49,
   "id": "1d9f5901-2711-4abc-83fb-a96bb88eef30",
   "metadata": {
    "tags": []
   },
   "outputs": [
    {
     "name": "stdout",
     "output_type": "stream",
     "text": [
      "\u001b[90m# A tibble: 12 × 6\u001b[39m\n",
      "   Language_name     cor statistic        p         p_adj significance\n",
      "   \u001b[3m\u001b[90m<chr>\u001b[39m\u001b[23m           \u001b[3m\u001b[90m<dbl>\u001b[39m\u001b[23m     \u001b[3m\u001b[90m<dbl>\u001b[39m\u001b[23m    \u001b[3m\u001b[90m<dbl>\u001b[39m\u001b[23m         \u001b[3m\u001b[90m<dbl>\u001b[39m\u001b[23m \u001b[3m\u001b[90m<chr>\u001b[39m\u001b[23m       \n",
      "\u001b[90m 1\u001b[39m Croatian       0.39      3.16   2.51\u001b[90me\u001b[39m\u001b[31m- 3\u001b[39m 0.025\u001b[4m1\u001b[24m        *           \n",
      "\u001b[90m 2\u001b[39m English        0.21      6.42   2.14\u001b[90me\u001b[39m\u001b[31m-10\u001b[39m 0.000\u001b[4m0\u001b[24m\u001b[4m0\u001b[24m\u001b[4m0\u001b[24m002\u001b[4m5\u001b[24m\u001b[4m7\u001b[24m ***         \n",
      "\u001b[90m 3\u001b[39m Estonian       0.43      2.12   4.68\u001b[90me\u001b[39m\u001b[31m- 2\u001b[39m 0.328         ns          \n",
      "\u001b[90m 4\u001b[39m French        -\u001b[31m0\u001b[39m\u001b[31m.\u001b[39m\u001b[31m12\u001b[39m     -\u001b[31m2\u001b[39m\u001b[31m.\u001b[39m\u001b[31m0\u001b[39m\u001b[31m7\u001b[39m   3.95\u001b[90me\u001b[39m\u001b[31m- 2\u001b[39m 0.316         ns          \n",
      "\u001b[90m 5\u001b[39m German         0.15      0.924  3.62\u001b[90me\u001b[39m\u001b[31m- 1\u001b[39m 1             \u001b[31mNA\u001b[39m          \n",
      "\u001b[90m 6\u001b[39m Japanese      -\u001b[31m0\u001b[39m\u001b[31m.\u001b[39m\u001b[31m0\u001b[39m\u001b[31m33\u001b[39m    -\u001b[31m0\u001b[39m\u001b[31m.\u001b[39m\u001b[31m386\u001b[39m  7   \u001b[90me\u001b[39m\u001b[31m- 1\u001b[39m 1             \u001b[31mNA\u001b[39m          \n",
      "\u001b[90m 7\u001b[39m Korean        -\u001b[31m0\u001b[39m\u001b[31m.\u001b[39m\u001b[31m00\u001b[39m\u001b[31m4\u001b[4m7\u001b[24m\u001b[39m   -\u001b[31m0\u001b[39m\u001b[31m.\u001b[39m\u001b[31m0\u001b[39m\u001b[31m23\u001b[4m9\u001b[24m\u001b[39m 9.81\u001b[90me\u001b[39m\u001b[31m- 1\u001b[39m 1             \u001b[31mNA\u001b[39m          \n",
      "\u001b[90m 8\u001b[39m Norwegian     -\u001b[31m0\u001b[39m\u001b[31m.\u001b[39m\u001b[31m21\u001b[39m     -\u001b[31m1\u001b[39m\u001b[31m.\u001b[39m\u001b[31m61\u001b[39m   1.14\u001b[90me\u001b[39m\u001b[31m- 1\u001b[39m 0.456         ns          \n",
      "\u001b[90m 9\u001b[39m Persian        0.58      2.23   5.02\u001b[90me\u001b[39m\u001b[31m- 2\u001b[39m 0.328         ns          \n",
      "\u001b[90m10\u001b[39m Portuguese     0.68      4.21   3.89\u001b[90me\u001b[39m\u001b[31m- 4\u001b[39m 0.004\u001b[4m2\u001b[24m\u001b[4m8\u001b[24m       **          \n",
      "\u001b[90m11\u001b[39m Spanish        0.52      3.24   2.97\u001b[90me\u001b[39m\u001b[31m- 3\u001b[39m 0.026\u001b[4m7\u001b[24m        *           \n",
      "\u001b[90m12\u001b[39m Swedish       -\u001b[31m0\u001b[39m\u001b[31m.\u001b[39m\u001b[31m44\u001b[39m     -\u001b[31m1\u001b[39m\u001b[31m.\u001b[39m\u001b[31m84\u001b[39m   8.69\u001b[90me\u001b[39m\u001b[31m- 2\u001b[39m 0.434         ns          \n"
     ]
    }
   ],
   "source": [
    "%%R -i proc_t_dat_sum_stats\n",
    "\n",
    "library(rstatix)\n",
    "library(tidyverse)\n",
    "\n",
    "stats <- proc_t_dat_sum_stats %>%\n",
    "        group_by(Language_name) %>%\n",
    "        cor_test(num_tokens,latency)\n",
    "        \n",
    "stats <- select(stats,c(\"Language_name\",\"cor\",\"statistic\",\"p\"))\n",
    "\n",
    "makeStars <- function(x){\n",
    "  stars <- c(\"***\", \"**\", \"*\", \"ns\")\n",
    "  vec <- c(0,0.001, 0.01, 0.05, 1)\n",
    "  i <- findInterval(x, vec)\n",
    "  stars[i]\n",
    "}\n",
    "\n",
    "stats$p_adj <- p.adjust(stats$p, method = \"holm\", n = length(stats$p))\n",
    "\n",
    "stats$significance <- makeStars(stats$p_adj)\n",
    "\n",
    "stats"
   ]
  }
 ],
 "metadata": {
  "kernelspec": {
   "display_name": "Python 3",
   "language": "python",
   "name": "python3"
  },
  "language_info": {
   "codemirror_mode": {
    "name": "ipython",
    "version": 3
   },
   "file_extension": ".py",
   "mimetype": "text/x-python",
   "name": "python",
   "nbconvert_exporter": "python",
   "pygments_lexer": "ipython3",
   "version": "3.8.10"
  }
 },
 "nbformat": 4,
 "nbformat_minor": 5
}
