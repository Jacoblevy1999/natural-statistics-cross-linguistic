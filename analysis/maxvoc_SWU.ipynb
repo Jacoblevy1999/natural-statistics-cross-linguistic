{
 "cells": [
  {
   "cell_type": "markdown",
   "id": "469669b2-4093-4320-8515-891859df36be",
   "metadata": {},
   "source": [
    "# Natural Statistics Cross-linguistic: \n",
    "\n",
    "#### Proportion of single-word utterances analysis - maximum infant vocalizations sample\n",
    "\n",
    "----"
   ]
  },
  {
   "cell_type": "code",
   "execution_count": 1,
   "id": "3ddb12fa-39ae-4b38-950f-03bb992dc5b4",
   "metadata": {},
   "outputs": [],
   "source": [
    "import pandas as pd\n",
    "import numpy as np\n",
    "import sys\n",
    "sys.path.insert(0, \"data_proc\")\n",
    "import contingent_extraction\n",
    "import warnings\n",
    "warnings.filterwarnings('ignore')"
   ]
  },
  {
   "cell_type": "code",
   "execution_count": 2,
   "id": "94bb49fa-f869-4780-b0ad-fce36ee812dc",
   "metadata": {},
   "outputs": [],
   "source": [
    "maxvoc_dat_inc = pd.read_csv(\"../data/maxvoc_dat_inc_master.csv\",index_col=0,low_memory=False)\n",
    "maxvoc_dat_inc=maxvoc_dat_inc[maxvoc_dat_inc[\"language\"]!=\"ara\"]\n",
    "maxvoc_dat_inc=maxvoc_dat_inc[(maxvoc_dat_inc[\"target_child_age\"]>=5) & (maxvoc_dat_inc[\"target_child_age\"]<=30)]\n",
    "maxvoc_dat_inc_cg = maxvoc_dat_inc[maxvoc_dat_inc[\"caregiver\"]==\"caregiver\"]\n",
    "\n",
    "maxvoc_dat_inc_cg[\"contingent\"] = np.where(maxvoc_dat_inc_cg[\"contingent\"]==1, \"contingent\", \"non-contingent\")\n",
    "\n",
    "maxvoc_dat_inc_cg = maxvoc_dat_inc_cg[maxvoc_dat_inc_cg[\"gloss\"].notna()]\n",
    "maxvoc_dat_inc_cg = maxvoc_dat_inc_cg[maxvoc_dat_inc_cg[\"gloss\"]!=\"xxx\"]\n",
    "maxvoc_dat_inc_cg = maxvoc_dat_inc_cg[maxvoc_dat_inc_cg[\"gloss\"]!=\"yyy\"]\n",
    "maxvoc_dat_inc_cg = maxvoc_dat_inc_cg[maxvoc_dat_inc_cg[\"gloss\"]!=\"www\"]\n",
    "\n",
    "maxvoc_dat_inc_cg[\"swu\"]=np.where(maxvoc_dat_inc_cg[\"num_tokens\"]==1,1,0)"
   ]
  },
  {
   "cell_type": "code",
   "execution_count": 3,
   "id": "f2682303-2ae5-4605-b24b-d7b544c765e5",
   "metadata": {},
   "outputs": [],
   "source": [
    "maxvoc_swu_stats = (maxvoc_dat_inc_cg.groupby([\"Language_name\",\"target_child_id\",\"transcript_id\",\"contingent\"])\n",
    "                                  .swu\n",
    "                                  .agg([\"mean\"])\n",
    "                                  .reset_index())\n",
    "maxvoc_swu_stats =  maxvoc_swu_stats.rename({'mean': 'means'}, axis=1)"
   ]
  },
  {
   "cell_type": "markdown",
   "id": "68e1eaa3-96d9-47cb-ad0e-f2b2d7b4a80b",
   "metadata": {},
   "source": [
    "----\n",
    "#### Proportion single-word utterances plot"
   ]
  },
  {
   "cell_type": "code",
   "execution_count": 6,
   "id": "94a5ec16-d023-42ca-b0ee-2337d168c765",
   "metadata": {},
   "outputs": [],
   "source": [
    "%load_ext rpy2.ipython"
   ]
  },
  {
   "cell_type": "code",
   "execution_count": 12,
   "id": "ead35044-7c26-49d0-9ebd-4ae6190eeea8",
   "metadata": {},
   "outputs": [],
   "source": [
    "%%R -i maxvoc_swu_stats\n",
    "\n",
    "library('ggplot2')\n",
    "library('repr')\n",
    "options(repr.plot.width=6, repr.plot.height=12)\n",
    "\n",
    "# # ara_label <- data.frame(means=c(.9),contingent = c(1.5),language=\"ara\")\n",
    "deu_label <- data.frame(means=c(.47),contingent = c(1.5),Language_name=\"German\")\n",
    "# deu_ns_label <- data.frame(means=c(.5),contingent = c(1.5),Language_name=\"German\")\n",
    "eng_label <- data.frame(means=c(.47),contingent = c(1.5),Language_name=\"English\")\n",
    "est_label <- data.frame(means=c(.47),contingent = c(1.5),Language_name=\"Estonian\")\n",
    "# est_ns_label <- data.frame(means=c(.5),contingent = c(1.5),Language_name=\"Estonian\")\n",
    "fas_label <- data.frame(means=c(.5),contingent = c(1.5),Language_name=\"Persian\")\n",
    "fra_label <- data.frame(means=c(.47),contingent = c(1.5),Language_name=\"French\")\n",
    "hrv_label <- data.frame(means=c(.47),contingent = c(1.5),Language_name=\"Croatian\")\n",
    "jpn_label <- data.frame(means=c(.47),contingent = c(1.5),Language_name=\"Japanese\")\n",
    "kor_label <- data.frame(means=c(.47),contingent = c(1.5),Language_name=\"Korean\")\n",
    "nor_label <- data.frame(means=c(.47),contingent = c(1.5),Language_name=\"Norwegian\")\n",
    "pol_label <- data.frame(means=c(.47),contingent = c(1.5),Language_name=\"Polish\")\n",
    "por_label <- data.frame(means=c(.47),contingent = c(1.5),Language_name=\"Portuguese\")\n",
    "spa_label <- data.frame(means=c(.47),contingent = c(1.5),Language_name=\"Spanish\")\n",
    "swe_label <- data.frame(means=c(.47),contingent = c(1.5),Language_name=\"Swedish\")\n",
    "zho_label <- data.frame(means=c(.5),contingent = c(1.5),Language_name=\"Mandarin\")\n",
    "\n",
    "\n",
    "p <- ggplot(maxvoc_swu_stats, aes(x = contingent, y = means, color = Language_name)) +\n",
    "     stat_summary(fun.y=mean, geom=\"point\", shape=19, size=1.75) + \n",
    "     stat_summary(fun.data = mean_se, geom = \"errorbar\", size=1.25, width = .5) +\n",
    "     facet_wrap(. ~ Language_name,ncol = 7) + \n",
    "     geom_text(data = deu_label,label = \"***\",size=8,color=\"black\") +\n",
    "#      geom_text(data = deu_ns_label,label = \"ns\",size=4,color=\"black\",fontface = \"italic\") +\n",
    "     geom_text(data = eng_label,label = \"***\",size=8,color=\"black\") +  \n",
    "#      geom_text(data = est_ns_label,label = \"ns\",size=4,color=\"black\",fontface = \"italic\") +  \n",
    "     geom_text(data = est_label,label = \"***\", size=8,color=\"black\") +  \n",
    "     geom_text(data = fas_label,label = \"ns\", size=4,color=\"black\",fontface = \"italic\") + \n",
    "     geom_text(data = fra_label,label = \"***\",size=8,color=\"black\") +  \n",
    "     geom_text(data = hrv_label,label = \"***\",size=8,color=\"black\") + \n",
    "     geom_text(data = jpn_label,label = \"***\",size=8,color=\"black\") + \n",
    "     geom_text(data = kor_label,label = \"***\",size=8,color=\"black\") +  \n",
    "     geom_text(data = nor_label,label = \"***\",size=8,color=\"black\") +  \n",
    "     geom_text(data = pol_label,label = \"ns\", size=4,color=\"black\",fontface = \"italic\") +    \n",
    "     geom_text(data = por_label,label = \"***\",size=8,color=\"black\") +  \n",
    "     geom_text(data = spa_label,label = \"***\",size=8,color=\"black\") + \n",
    "     geom_text(data = swe_label,label = \"***\",size=8,color=\"black\") + \n",
    "     geom_text(data = zho_label,label = \"ns\", size=4, color=\"black\",fontface = \"italic\") +\n",
    "     ylim(0, .5) +\n",
    "     labs(# title = \"Proportion of single-word utterances\",\n",
    "       # subtitle = \"Using CHILDES Token counts\",\n",
    "       y = \"Prop. single word utt.\", x = \"\") +\n",
    "     theme_classic() +\n",
    "     theme(text = element_text(size=16),\n",
    "           axis.text.x = element_text(angle = 90, vjust = 0.5, hjust=1),\n",
    "           legend.title = element_blank(),\n",
    "           legend.background = element_rect(fill=alpha(\"white\",0.90),\n",
    "                                                            size=0, linetype=\"dotted\",\n",
    "                                                            colour = \"white\"),\n",
    "           legend.text=element_text(size=16))\n",
    "     ggsave(\"../figures/token_swu_maxvoc.pdf\", width = 11.7, height = 6.2)"
   ]
  },
  {
   "cell_type": "markdown",
   "id": "0fbc97a5-595d-4569-9ba7-8460b992e64b",
   "metadata": {},
   "source": [
    "Plot + effect estimates"
   ]
  },
  {
   "cell_type": "code",
   "execution_count": 13,
   "id": "0da117b5-cb7e-4062-807d-3b518ceba826",
   "metadata": {},
   "outputs": [],
   "source": [
    "%%R\n",
    "\n",
    "deu_est_label <- data.frame(means=c(.02),contingent = c(1),Language_name=\"German\")\n",
    "eng_est_label <- data.frame(means=c(.02),contingent = c(1),Language_name=\"English\")\n",
    "est_est_label <- data.frame(means=c(.02),contingent = c(1),Language_name=\"Estonian\")\n",
    "fra_est_label <- data.frame(means=c(.02),contingent = c(1),Language_name=\"French\")\n",
    "hrv_est_label <- data.frame(means=c(.02),contingent = c(1),Language_name=\"Croatian\")\n",
    "jpn_est_label <- data.frame(means=c(.02),contingent = c(1),Language_name=\"Japanese\")\n",
    "kor_est_label <- data.frame(means=c(.02),contingent = c(1),Language_name=\"Korean\")\n",
    "nor_est_label <- data.frame(means=c(.02),contingent = c(1),Language_name=\"Norwegian\")\n",
    "por_est_label <- data.frame(means=c(.02),contingent = c(1),Language_name=\"Portuguese\")\n",
    "spa_est_label <- data.frame(means=c(.02),contingent = c(1),Language_name=\"Spanish\")\n",
    "swe_est_label <- data.frame(means=c(.02),contingent = c(1),Language_name=\"Swedish\")\n",
    "\n",
    "p <- p + geom_text(data = deu_est_label,label = \"est=.09\",size=4,color=\"black\") +\n",
    "         geom_text(data = eng_est_label,label = \"est=.09\",size=4,color=\"black\") +\n",
    "         geom_text(data = est_est_label,label = \"est=.06\",size=4,color=\"black\") +\n",
    "         geom_text(data = fra_est_label,label = \"est=.04\",size=4,color=\"black\") +\n",
    "         geom_text(data = hrv_est_label,label = \"est=.07\",size=4,color=\"black\") +\n",
    "         geom_text(data = jpn_est_label,label = \"est=.16\",size=4,color=\"black\") +\n",
    "         geom_text(data = kor_est_label,label = \"est=.08\",size=4,color=\"black\") +\n",
    "         geom_text(data = nor_est_label,label = \"est=.03\",size=4,color=\"black\") +\n",
    "         geom_text(data = por_est_label,label = \"est=.10\",size=4,color=\"black\") +\n",
    "         geom_text(data = spa_est_label,label = \"est=.07\",size=4,color=\"black\") +\n",
    "         geom_text(data = swe_est_label,label = \"est=.14\",size=4,color=\"black\")\n",
    "         \n",
    "\n",
    "ggsave(\"../figures/token_swu_maxvoc_eff.pdf\", width = 11.7, height = 6.2)"
   ]
  },
  {
   "cell_type": "markdown",
   "id": "e6b5151e-8764-4a9f-901d-75703aa378ea",
   "metadata": {},
   "source": [
    "\\+ sample size"
   ]
  },
  {
   "cell_type": "code",
   "execution_count": 14,
   "id": "385a1b81-ff59-4613-bee9-1e05ef5456ed",
   "metadata": {},
   "outputs": [],
   "source": [
    "%%R\n",
    "\n",
    "deu_n_label <- data.frame(means=c(.02),contingent = c(1.7),Language_name=\"German\")\n",
    "eng_n_label <- data.frame(means=c(.02),contingent = c(1.7),Language_name=\"English\")\n",
    "est_n_label <- data.frame(means=c(.02),contingent = c(1.7),Language_name=\"Estonian\")\n",
    "fas_n_label <- data.frame(means=c(.02),contingent = c(1.7),Language_name=\"Persian\")\n",
    "fra_n_label <- data.frame(means=c(.02),contingent = c(1.7),Language_name=\"French\")\n",
    "hrv_n_label <- data.frame(means=c(.02),contingent = c(1.7),Language_name=\"Croatian\")\n",
    "jpn_n_label <- data.frame(means=c(.02),contingent = c(1.7),Language_name=\"Japanese\")\n",
    "kor_n_label <- data.frame(means=c(.02),contingent = c(1.7),Language_name=\"Korean\")\n",
    "nor_n_label <- data.frame(means=c(.02),contingent = c(1.7),Language_name=\"Norwegian\")\n",
    "pol_n_label <- data.frame(means=c(.02),contingent = c(1.7),Language_name=\"Polish\")\n",
    "por_n_label <- data.frame(means=c(.02),contingent = c(1.7),Language_name=\"Portuguese\")\n",
    "spa_n_label <- data.frame(means=c(.02),contingent = c(1.7),Language_name=\"Spanish\")\n",
    "swe_n_label <- data.frame(means=c(.02),contingent = c(1.7),Language_name=\"Swedish\")\n",
    "zho_n_label <- data.frame(means=c(.02),contingent = c(1.7),Language_name=\"Mandarin\")\n",
    "\n",
    "deu_sz_label <- data.frame(means=c(.02),contingent = c(2.1),Language_name=\"German\")\n",
    "eng_sz_label <- data.frame(means=c(.02),contingent = c(2.1),Language_name=\"English\")\n",
    "est_sz_label <- data.frame(means=c(.02),contingent = c(2.1),Language_name=\"Estonian\")\n",
    "fas_sz_label <- data.frame(means=c(.02),contingent = c(2.1),Language_name=\"Persian\")\n",
    "fra_sz_label <- data.frame(means=c(.02),contingent = c(2.1),Language_name=\"French\")\n",
    "hrv_sz_label <- data.frame(means=c(.02),contingent = c(2.1),Language_name=\"Croatian\")\n",
    "jpn_sz_label <- data.frame(means=c(.02),contingent = c(2.1),Language_name=\"Japanese\")\n",
    "kor_sz_label <- data.frame(means=c(.02),contingent = c(2.1),Language_name=\"Korean\")\n",
    "nor_sz_label <- data.frame(means=c(.02),contingent = c(2.1),Language_name=\"Norwegian\")\n",
    "pol_sz_label <- data.frame(means=c(.02),contingent = c(2.1),Language_name=\"Polish\")\n",
    "por_sz_label <- data.frame(means=c(.02),contingent = c(2.1),Language_name=\"Portuguese\")\n",
    "spa_sz_label <- data.frame(means=c(.02),contingent = c(2.1),Language_name=\"Spanish\")\n",
    "swe_sz_label <- data.frame(means=c(.02),contingent = c(2.1),Language_name=\"Swedish\")\n",
    "zho_sz_label <- data.frame(means=c(.02),contingent = c(2.1),Language_name=\"Mandarin\")\n",
    "\n",
    "p <- p + geom_text(data = deu_n_label,label = \"n\",size=4,color=\"black\",fontface = \"italic\") +\n",
    "         geom_text(data = eng_n_label,label = \"n\",size=4,color=\"black\",fontface = \"italic\") +\n",
    "         geom_text(data = est_n_label,label = \"n\",size=4,color=\"black\",fontface = \"italic\") +\n",
    "         geom_text(data = fas_n_label,label = \"n\",size=4,color=\"black\",fontface = \"italic\") +\n",
    "         geom_text(data = fra_n_label,label = \"n\",size=4,color=\"black\",fontface = \"italic\") +\n",
    "         geom_text(data = hrv_n_label,label = \"n\",size=4,color=\"black\",fontface = \"italic\") +\n",
    "         geom_text(data = jpn_n_label,label = \"n\",size=4,color=\"black\",fontface = \"italic\") +\n",
    "         geom_text(data = kor_n_label,label = \"n\",size=4,color=\"black\",fontface = \"italic\") +\n",
    "         geom_text(data = nor_n_label,label = \"n\",size=4,color=\"black\",fontface = \"italic\") +\n",
    "         geom_text(data = pol_n_label,label = \"n\",size=4,color=\"black\",fontface = \"italic\") +\n",
    "         geom_text(data = por_n_label,label = \"n\",size=4,color=\"black\",fontface = \"italic\") +\n",
    "         geom_text(data = spa_n_label,label = \"n\",size=4,color=\"black\",fontface = \"italic\") +\n",
    "         geom_text(data = swe_n_label,label = \"n\",size=4,color=\"black\",fontface = \"italic\") +\n",
    "         geom_text(data = zho_n_label,label = \"n\",size=4,color=\"black\",fontface = \"italic\") +\n",
    "         geom_text(data = deu_sz_label,label = \" = 39\",size=4,color=\"black\") +\n",
    "         geom_text(data = eng_sz_label,label = \" =1010\",size=4,color=\"black\") +\n",
    "         geom_text(data = est_sz_label,label = \" = 22\",size=4,color=\"black\") +\n",
    "         geom_text(data = fas_sz_label,label = \" = 12\",size=4,color=\"black\") +\n",
    "         geom_text(data = fra_sz_label,label = \" = 258\",size=4,color=\"black\") +\n",
    "         geom_text(data = hrv_sz_label,label = \" = 79\",size=4,color=\"black\") +\n",
    "         geom_text(data = jpn_sz_label,label = \" = 139\",size=4,color=\"black\") +\n",
    "         geom_text(data = kor_sz_label,label = \" = 37\",size=4,color=\"black\") +\n",
    "         geom_text(data = nor_sz_label,label = \" = 56\",size=4,color=\"black\") +\n",
    "         geom_text(data = pol_sz_label,label = \" = 1\",size=4,color=\"black\") +\n",
    "         geom_text(data = por_sz_label,label = \" = 24\",size=4,color=\"black\") +\n",
    "         geom_text(data = spa_sz_label,label = \" = 31\",size=4,color=\"black\") +\n",
    "         geom_text(data = swe_sz_label,label = \" = 16\",size=4,color=\"black\") +\n",
    "         geom_text(data = zho_sz_label,label = \" = 2\",size=4,color=\"black\")\n",
    "         \n",
    "\n",
    "ggsave(\"../figures/token_swu_maxvoc_eff_n.pdf\", width = 11.7, height = 6.2)"
   ]
  },
  {
   "cell_type": "markdown",
   "id": "50724163-1f3a-4a39-b7b4-a0cf2424679e",
   "metadata": {},
   "source": [
    "----\n",
    "\n",
    "#### SWU mixed models"
   ]
  },
  {
   "cell_type": "code",
   "execution_count": 7,
   "id": "ed697cae-1a4d-42df-a1c7-ea0c2cce79bb",
   "metadata": {},
   "outputs": [],
   "source": [
    "deu=maxvoc_dat_inc_cg[['language','swu','contingent','transcript_id','target_child_id']][maxvoc_dat_inc_cg[\"language\"]==\"deu\"]\n",
    "eng=maxvoc_dat_inc_cg[['language','swu','contingent','transcript_id','target_child_id']][maxvoc_dat_inc_cg[\"language\"]==\"eng\"]\n",
    "est=maxvoc_dat_inc_cg[['language','swu','contingent','transcript_id','target_child_id']][maxvoc_dat_inc_cg[\"language\"]==\"est\"]\n",
    "fas=maxvoc_dat_inc_cg[['language','swu','contingent','transcript_id','target_child_id']][maxvoc_dat_inc_cg[\"language\"]==\"fas\"]\n",
    "fra=maxvoc_dat_inc_cg[['language','swu','contingent','transcript_id','target_child_id']][maxvoc_dat_inc_cg[\"language\"]==\"fra\"]\n",
    "hrv=maxvoc_dat_inc_cg[['language','swu','contingent','transcript_id','target_child_id']][maxvoc_dat_inc_cg[\"language\"]==\"hrv\"]\n",
    "jpn=maxvoc_dat_inc_cg[['language','swu','contingent','transcript_id','target_child_id']][maxvoc_dat_inc_cg[\"language\"]==\"jpn\"]\n",
    "kor=maxvoc_dat_inc_cg[['language','swu','contingent','transcript_id','target_child_id']][maxvoc_dat_inc_cg[\"language\"]==\"kor\"]\n",
    "nor=maxvoc_dat_inc_cg[['language','swu','contingent','transcript_id','target_child_id']][maxvoc_dat_inc_cg[\"language\"]==\"nor\"]\n",
    "pol=maxvoc_dat_inc_cg[['language','swu','contingent','transcript_id','target_child_id']][maxvoc_dat_inc_cg[\"language\"]==\"pol\"]\n",
    "por=maxvoc_dat_inc_cg[['language','swu','contingent','transcript_id','target_child_id']][maxvoc_dat_inc_cg[\"language\"]==\"por\"]\n",
    "spa=maxvoc_dat_inc_cg[['language','swu','contingent','transcript_id','target_child_id']][maxvoc_dat_inc_cg[\"language\"]==\"spa\"]\n",
    "swe=maxvoc_dat_inc_cg[['language','swu','contingent','transcript_id','target_child_id']][maxvoc_dat_inc_cg[\"language\"]==\"swe\"]\n",
    "zho=maxvoc_dat_inc_cg[['language','swu','contingent','transcript_id','target_child_id']][maxvoc_dat_inc_cg[\"language\"]==\"zho\"]"
   ]
  },
  {
   "cell_type": "code",
   "execution_count": 9,
   "id": "7203192e-55c8-4982-bb83-15033fbfb6f8",
   "metadata": {},
   "outputs": [],
   "source": [
    "%%R\n",
    "\n",
    "library(\"lme4\")\n",
    "library(\"broom\")\n",
    "library(\"emmeans\")\n",
    "library(\"lmerTest\")\n",
    "library(\"tidyverse\")\n",
    "\n",
    "effect_sizes <- read.csv(\"../data/SWU_effect_sizes.csv\")\n",
    "\n",
    "effect_sizes[\"max_voc_effect_size\"] <- NA"
   ]
  },
  {
   "cell_type": "code",
   "execution_count": 10,
   "id": "e78e2308-7162-42f2-bd65-529687af3a45",
   "metadata": {},
   "outputs": [
    {
     "name": "stderr",
     "output_type": "stream",
     "text": [
      "R[write to console]: Note: D.f. calculations have been disabled because the number of observations exceeds 3000.\n",
      "To enable adjustments, add the argument 'pbkrtest.limit = 4810' (or larger)\n",
      "[or, globally, 'set emm_options(pbkrtest.limit = 4810)' or larger];\n",
      "but be warned that this may result in large computation time and memory use.\n",
      "\n",
      "R[write to console]: Note: D.f. calculations have been disabled because the number of observations exceeds 3000.\n",
      "To enable adjustments, add the argument 'lmerTest.limit = 4810' (or larger)\n",
      "[or, globally, 'set emm_options(lmerTest.limit = 4810)' or larger];\n",
      "but be warned that this may result in large computation time and memory use.\n",
      "\n"
     ]
    },
    {
     "name": "stdout",
     "output_type": "stream",
     "text": [
      "[[1]]\n",
      " contrast                      estimate     SE  df z.ratio p.value\n",
      " contingent - (non-contingent)   0.0842 0.0119 Inf 7.086   <.0001 \n",
      "\n",
      "Degrees-of-freedom method: asymptotic \n",
      "\n",
      "[[2]]\n",
      "[1] 1.376863e-12\n",
      "\n",
      "[1] 1.927608e-11\n"
     ]
    },
    {
     "name": "stderr",
     "output_type": "stream",
     "text": [
      "R[write to console]: Since 'object' is a list, we are using the contrasts already present.\n",
      "\n"
     ]
    },
    {
     "name": "stdout",
     "output_type": "stream",
     "text": [
      "   Language_name rand_effect_size max_voc_effect_size\n",
      "1            deu       0.17637894           0.2092186\n",
      "2            eng       0.26132217                  NA\n",
      "3            est       0.09026104                  NA\n",
      "4            fas              NaN                  NA\n",
      "5            fra       0.10166887                  NA\n",
      "6            hrv       0.17609065                  NA\n",
      "7            jpn       0.37964019                  NA\n",
      "8            kor       0.25125284                  NA\n",
      "9            nor       0.16761078                  NA\n",
      "10           pol              NaN                  NA\n",
      "11           por       0.17936983                  NA\n",
      "12           spa       0.21785360                  NA\n",
      "13           swe       0.31652717                  NA\n",
      "14           zho              NaN                  NA\n"
     ]
    }
   ],
   "source": [
    "%%R -i deu\n",
    "\n",
    "lm2_1 <- lmer(swu ~ contingent + (1|target_child_id) + (1|transcript_id),data=deu)\n",
    "emm2_1<-emmeans(lm2_1,pairwise~contingent)\n",
    "pval<-summary(emm2_1$contrasts)$p.value\n",
    "print(c(emm2_1$contrasts, pval))\n",
    "print(p.adjust(pval, \"holm\", 14))\n",
    "# plot(emm2_1)\n",
    "# summary(emmeans(lm2_1,\"contingent\",infer=TRUE)) #group means\n",
    "# test(contrast(emmeans(lm2_1,\"contingent\"), \"trt.vs.ctrl\"), joint = TRUE) #main effect - are any groups different\n",
    "\n",
    "deu_lname <- deu$language[1]\n",
    "\n",
    "deu_eff <- eff_size(emm2_1,sigma = sigma(lm2_1), edf = df.residual(lm2_1))\n",
    "\n",
    "deu_eff <- summary(deu_eff)$effect.size\n",
    "\n",
    "effect_sizes[effect_sizes$Language_name==deu_lname,\"max_voc_effect_size\"] <- deu_eff\n",
    "effect_sizes"
   ]
  },
  {
   "cell_type": "code",
   "execution_count": 11,
   "id": "3cb0d06d-aa76-4551-b9cf-eb2a1802e69d",
   "metadata": {},
   "outputs": [
    {
     "name": "stderr",
     "output_type": "stream",
     "text": [
      "R[write to console]: Note: D.f. calculations have been disabled because the number of observations exceeds 3000.\n",
      "To enable adjustments, add the argument 'pbkrtest.limit = 114722' (or larger)\n",
      "[or, globally, 'set emm_options(pbkrtest.limit = 114722)' or larger];\n",
      "but be warned that this may result in large computation time and memory use.\n",
      "\n",
      "R[write to console]: Note: D.f. calculations have been disabled because the number of observations exceeds 3000.\n",
      "To enable adjustments, add the argument 'lmerTest.limit = 114722' (or larger)\n",
      "[or, globally, 'set emm_options(lmerTest.limit = 114722)' or larger];\n",
      "but be warned that this may result in large computation time and memory use.\n",
      "\n"
     ]
    },
    {
     "name": "stdout",
     "output_type": "stream",
     "text": [
      "[[1]]\n",
      " contrast                      estimate     SE  df z.ratio p.value\n",
      " contingent - (non-contingent)    0.105 0.0033 Inf 31.781  <.0001 \n",
      "\n",
      "Degrees-of-freedom method: asymptotic \n",
      "\n",
      "[[2]]\n",
      "[1] 1.197463e-221\n",
      "\n",
      "[1] 1.676448e-220\n"
     ]
    },
    {
     "name": "stderr",
     "output_type": "stream",
     "text": [
      "R[write to console]: Since 'object' is a list, we are using the contrasts already present.\n",
      "\n"
     ]
    },
    {
     "name": "stdout",
     "output_type": "stream",
     "text": [
      "   Language_name rand_effect_size max_voc_effect_size\n",
      "1            deu       0.17637894           0.2092186\n",
      "2            eng       0.26132217           0.2586518\n",
      "3            est       0.09026104                  NA\n",
      "4            fas              NaN                  NA\n",
      "5            fra       0.10166887                  NA\n",
      "6            hrv       0.17609065                  NA\n",
      "7            jpn       0.37964019                  NA\n",
      "8            kor       0.25125284                  NA\n",
      "9            nor       0.16761078                  NA\n",
      "10           pol              NaN                  NA\n",
      "11           por       0.17936983                  NA\n",
      "12           spa       0.21785360                  NA\n",
      "13           swe       0.31652717                  NA\n",
      "14           zho              NaN                  NA\n"
     ]
    }
   ],
   "source": [
    "%%R -i eng\n",
    "\n",
    "lm3_1 <- lmer(swu ~ contingent + (1|target_child_id) + (1|transcript_id),data=eng, REML= FALSE)\n",
    "emm3_1<-emmeans(lm3_1,pairwise~contingent)\n",
    "pval<-summary(emm3_1$contrasts)$p.value\n",
    "print(c(emm3_1$contrasts, pval))\n",
    "print(p.adjust(pval, \"holm\", 14))\n",
    "# summary(emmeans(lm3_1,\"contingent\",infer=TRUE)) #group means\n",
    "# test(contrast(emmeans(lm3_1,\"contingent\"), \"trt.vs.ctrl\"), joint = TRUE) #main effect - are any groups different\n",
    "\n",
    "eng_lname <- eng$language[1]\n",
    "\n",
    "eng_eff <- eff_size(emm3_1,sigma = sigma(lm3_1), edf = df.residual(lm3_1))\n",
    "\n",
    "eng_eff <- summary(eng_eff)$effect.size\n",
    "\n",
    "effect_sizes[effect_sizes$Language_name==eng_lname,\"max_voc_effect_size\"] <- eng_eff\n",
    "effect_sizes"
   ]
  },
  {
   "cell_type": "code",
   "execution_count": 12,
   "id": "b82324ed-4356-43aa-8880-236e75fb6a26",
   "metadata": {},
   "outputs": [
    {
     "name": "stdout",
     "output_type": "stream",
     "text": [
      "[[1]]\n",
      " contrast                      estimate     SE   df t.ratio p.value\n",
      " contingent - (non-contingent)   0.0612 0.0151 2307 4.049   0.0001 \n",
      "\n",
      "Degrees-of-freedom method: kenward-roger \n",
      "\n",
      "[[2]]\n",
      "[1] 5.31812e-05\n",
      "\n",
      "[1] 0.0007445368\n"
     ]
    },
    {
     "name": "stderr",
     "output_type": "stream",
     "text": [
      "R[write to console]: Since 'object' is a list, we are using the contrasts already present.\n",
      "\n"
     ]
    },
    {
     "name": "stdout",
     "output_type": "stream",
     "text": [
      "   Language_name rand_effect_size max_voc_effect_size\n",
      "1            deu       0.17637894           0.2092186\n",
      "2            eng       0.26132217           0.2586518\n",
      "3            est       0.09026104           0.1718871\n",
      "4            fas              NaN                  NA\n",
      "5            fra       0.10166887                  NA\n",
      "6            hrv       0.17609065                  NA\n",
      "7            jpn       0.37964019                  NA\n",
      "8            kor       0.25125284                  NA\n",
      "9            nor       0.16761078                  NA\n",
      "10           pol              NaN                  NA\n",
      "11           por       0.17936983                  NA\n",
      "12           spa       0.21785360                  NA\n",
      "13           swe       0.31652717                  NA\n",
      "14           zho              NaN                  NA\n"
     ]
    }
   ],
   "source": [
    "%%R -i est\n",
    "\n",
    "lm4_1 <- lmer(swu ~ contingent + (1|target_child_id) + (1|transcript_id),data=est, REML= FALSE)\n",
    "emm4_1<-emmeans(lm4_1,pairwise~contingent)\n",
    "pval<-summary(emm4_1$contrasts)$p.value\n",
    "print(c(emm4_1$contrasts, pval))\n",
    "print(p.adjust(pval, \"holm\", 14))\n",
    "# summary(emmeans(lm4_1,\"contingent\",infer=TRUE)) #group means\n",
    "# test(contrast(emmeans(lm4_1,\"contingent\"), \"trt.vs.ctrl\"), joint = TRUE) #main effect - are any groups different\n",
    "\n",
    "est_lname <- est$language[1]\n",
    "\n",
    "est_eff <- eff_size(emm4_1,sigma = sigma(lm4_1), edf = df.residual(lm4_1))\n",
    "\n",
    "est_eff <- summary(est_eff)$effect.size\n",
    "\n",
    "effect_sizes[effect_sizes$Language_name==est_lname,\"max_voc_effect_size\"] <- est_eff\n",
    "effect_sizes"
   ]
  },
  {
   "cell_type": "code",
   "execution_count": 13,
   "id": "d617b34a-aaa4-4453-b417-b902bd449ce2",
   "metadata": {},
   "outputs": [
    {
     "name": "stdout",
     "output_type": "stream",
     "text": [
      "[[1]]\n",
      " contrast                      estimate     SE  df t.ratio p.value\n",
      " contingent - (non-contingent)   0.0653 0.0415 516 1.574   0.1160 \n",
      "\n",
      "Degrees-of-freedom method: kenward-roger \n",
      "\n",
      "[[2]]\n",
      "[1] 0.1160399\n",
      "\n",
      "[1] 1\n",
      "   Language_name rand_effect_size max_voc_effect_size\n",
      "1            deu       0.17637894           0.2092186\n",
      "2            eng       0.26132217           0.2586518\n",
      "3            est       0.09026104           0.1718871\n",
      "4            fas              NaN                 NaN\n",
      "5            fra       0.10166887                  NA\n",
      "6            hrv       0.17609065                  NA\n",
      "7            jpn       0.37964019                  NA\n",
      "8            kor       0.25125284                  NA\n",
      "9            nor       0.16761078                  NA\n",
      "10           pol              NaN                  NA\n",
      "11           por       0.17936983                  NA\n",
      "12           spa       0.21785360                  NA\n",
      "13           swe       0.31652717                  NA\n",
      "14           zho              NaN                  NA\n"
     ]
    }
   ],
   "source": [
    "%%R -i fas\n",
    "\n",
    "lm5_1 <- lmer(swu ~ contingent + (1|transcript_id),data=fas, REML= FALSE)\n",
    "emm5_1<-emmeans(lm5_1,pairwise~contingent)\n",
    "pval<-summary(emm5_1$contrasts)$p.value\n",
    "print(c(emm5_1$contrasts, pval))\n",
    "print(p.adjust(pval, \"holm\", 14))\n",
    "# summary(emmeans(lm5_1,\"contingent\",infer=TRUE)) #group means\n",
    "# test(contrast(emmeans(lm5_1,\"contingent\"), \"trt.vs.ctrl\"), joint = TRUE) #main effect - are any groups different\n",
    "\n",
    "fas_lname <- fas$language[1]\n",
    "\n",
    "effect_sizes[effect_sizes$Language_name==fas_lname,\"max_voc_effect_size\"] <- NaN\n",
    "effect_sizes"
   ]
  },
  {
   "cell_type": "code",
   "execution_count": 14,
   "id": "1ceb2bcc-ee20-4e29-a90f-03904bb49521",
   "metadata": {},
   "outputs": [
    {
     "name": "stderr",
     "output_type": "stream",
     "text": [
      "R[write to console]: Note: D.f. calculations have been disabled because the number of observations exceeds 3000.\n",
      "To enable adjustments, add the argument 'pbkrtest.limit = 23322' (or larger)\n",
      "[or, globally, 'set emm_options(pbkrtest.limit = 23322)' or larger];\n",
      "but be warned that this may result in large computation time and memory use.\n",
      "\n",
      "R[write to console]: Note: D.f. calculations have been disabled because the number of observations exceeds 3000.\n",
      "To enable adjustments, add the argument 'lmerTest.limit = 23322' (or larger)\n",
      "[or, globally, 'set emm_options(lmerTest.limit = 23322)' or larger];\n",
      "but be warned that this may result in large computation time and memory use.\n",
      "\n"
     ]
    },
    {
     "name": "stdout",
     "output_type": "stream",
     "text": [
      "[[1]]\n",
      " contrast                      estimate      SE  df z.ratio p.value\n",
      " contingent - (non-contingent)   0.0436 0.00589 Inf 7.401   <.0001 \n",
      "\n",
      "Degrees-of-freedom method: asymptotic \n",
      "\n",
      "[[2]]\n",
      "[1] 1.355067e-13\n",
      "\n",
      "[1] 1.897094e-12\n"
     ]
    },
    {
     "name": "stderr",
     "output_type": "stream",
     "text": [
      "R[write to console]: Since 'object' is a list, we are using the contrasts already present.\n",
      "\n"
     ]
    },
    {
     "name": "stdout",
     "output_type": "stream",
     "text": [
      "   Language_name rand_effect_size max_voc_effect_size\n",
      "1            deu       0.17637894           0.2092186\n",
      "2            eng       0.26132217           0.2586518\n",
      "3            est       0.09026104           0.1718871\n",
      "4            fas              NaN                 NaN\n",
      "5            fra       0.10166887           0.1104040\n",
      "6            hrv       0.17609065                  NA\n",
      "7            jpn       0.37964019                  NA\n",
      "8            kor       0.25125284                  NA\n",
      "9            nor       0.16761078                  NA\n",
      "10           pol              NaN                  NA\n",
      "11           por       0.17936983                  NA\n",
      "12           spa       0.21785360                  NA\n",
      "13           swe       0.31652717                  NA\n",
      "14           zho              NaN                  NA\n"
     ]
    }
   ],
   "source": [
    "%%R -i fra\n",
    "\n",
    "lm6_1 <- lmer(swu ~ contingent + (1|target_child_id) + (1|transcript_id),data=fra, REML= FALSE)\n",
    "emm6_1<-emmeans(lm6_1,pairwise~contingent)\n",
    "pval<-summary(emm6_1$contrasts)$p.value\n",
    "print(c(emm6_1$contrasts, pval))\n",
    "print(p.adjust(pval, \"holm\", 14))\n",
    "# summary(emmeans(lm6_1,\"contingent\",infer=TRUE)) #group means\n",
    "# test(contrast(emmeans(lm6_1,\"contingent\"), \"trt.vs.ctrl\"), joint = TRUE) #main effect - are any groups different\n",
    "\n",
    "fra_lname <- fra$language[1]\n",
    "\n",
    "fra_eff <- eff_size(emm6_1,sigma = sigma(lm6_1), edf = df.residual(lm6_1))\n",
    "\n",
    "fra_eff <- summary(fra_eff)$effect.size\n",
    "\n",
    "effect_sizes[effect_sizes$Language_name==fra_lname,\"max_voc_effect_size\"] <- fra_eff\n",
    "effect_sizes"
   ]
  },
  {
   "cell_type": "code",
   "execution_count": 15,
   "id": "2645c2f5-ab2b-452d-9b66-f70cf330f662",
   "metadata": {},
   "outputs": [
    {
     "name": "stderr",
     "output_type": "stream",
     "text": [
      "R[write to console]: Note: D.f. calculations have been disabled because the number of observations exceeds 3000.\n",
      "To enable adjustments, add the argument 'pbkrtest.limit = 6713' (or larger)\n",
      "[or, globally, 'set emm_options(pbkrtest.limit = 6713)' or larger];\n",
      "but be warned that this may result in large computation time and memory use.\n",
      "\n",
      "R[write to console]: Note: D.f. calculations have been disabled because the number of observations exceeds 3000.\n",
      "To enable adjustments, add the argument 'lmerTest.limit = 6713' (or larger)\n",
      "[or, globally, 'set emm_options(lmerTest.limit = 6713)' or larger];\n",
      "but be warned that this may result in large computation time and memory use.\n",
      "\n"
     ]
    },
    {
     "name": "stdout",
     "output_type": "stream",
     "text": [
      "[[1]]\n",
      " contrast                      estimate     SE  df z.ratio p.value\n",
      " contingent - (non-contingent)   0.0784 0.0103 Inf 7.635   <.0001 \n",
      "\n",
      "Degrees-of-freedom method: asymptotic \n",
      "\n",
      "[[2]]\n",
      "[1] 2.260087e-14\n",
      "\n",
      "[1] 3.164122e-13\n"
     ]
    },
    {
     "name": "stderr",
     "output_type": "stream",
     "text": [
      "R[write to console]: Since 'object' is a list, we are using the contrasts already present.\n",
      "\n"
     ]
    },
    {
     "name": "stdout",
     "output_type": "stream",
     "text": [
      "   Language_name rand_effect_size max_voc_effect_size\n",
      "1            deu       0.17637894           0.2092186\n",
      "2            eng       0.26132217           0.2586518\n",
      "3            est       0.09026104           0.1718871\n",
      "4            fas              NaN                 NaN\n",
      "5            fra       0.10166887           0.1104040\n",
      "6            hrv       0.17609065           0.1905610\n",
      "7            jpn       0.37964019                  NA\n",
      "8            kor       0.25125284                  NA\n",
      "9            nor       0.16761078                  NA\n",
      "10           pol              NaN                  NA\n",
      "11           por       0.17936983                  NA\n",
      "12           spa       0.21785360                  NA\n",
      "13           swe       0.31652717                  NA\n",
      "14           zho              NaN                  NA\n"
     ]
    }
   ],
   "source": [
    "%%R -i hrv\n",
    "\n",
    "lm7_1 <- lmer(swu ~ contingent + (1|target_child_id) + (1|transcript_id),data=hrv, REML= FALSE)\n",
    "emm7_1<-emmeans(lm7_1,pairwise~contingent)\n",
    "pval<-summary(emm7_1$contrasts)$p.value\n",
    "print(c(emm7_1$contrasts, pval))\n",
    "print(p.adjust(pval, \"holm\", 14))\n",
    "# summary(emmeans(lm7_1,\"contingent\",infer=TRUE)) #group means\n",
    "# test(contrast(emmeans(lm7_1,\"contingent\"), \"trt.vs.ctrl\"), joint = TRUE) #main effect - are any groups different\n",
    "\n",
    "hrv_lname <- hrv$language[1]\n",
    "\n",
    "hrv_eff <- eff_size(emm7_1,sigma = sigma(lm7_1), edf = df.residual(lm7_1))\n",
    "\n",
    "hrv_eff <- summary(hrv_eff)$effect.size\n",
    "\n",
    "effect_sizes[effect_sizes$Language_name==hrv_lname,\"max_voc_effect_size\"] <- hrv_eff\n",
    "effect_sizes"
   ]
  },
  {
   "cell_type": "code",
   "execution_count": 16,
   "id": "e4208d16-262f-40db-bbb4-9d0228bbb5d9",
   "metadata": {},
   "outputs": [
    {
     "name": "stderr",
     "output_type": "stream",
     "text": [
      "R[write to console]: Note: D.f. calculations have been disabled because the number of observations exceeds 3000.\n",
      "To enable adjustments, add the argument 'pbkrtest.limit = 22539' (or larger)\n",
      "[or, globally, 'set emm_options(pbkrtest.limit = 22539)' or larger];\n",
      "but be warned that this may result in large computation time and memory use.\n",
      "\n",
      "R[write to console]: Note: D.f. calculations have been disabled because the number of observations exceeds 3000.\n",
      "To enable adjustments, add the argument 'lmerTest.limit = 22539' (or larger)\n",
      "[or, globally, 'set emm_options(lmerTest.limit = 22539)' or larger];\n",
      "but be warned that this may result in large computation time and memory use.\n",
      "\n"
     ]
    },
    {
     "name": "stdout",
     "output_type": "stream",
     "text": [
      "[[1]]\n",
      " contrast                      estimate      SE  df z.ratio p.value\n",
      " contingent - (non-contingent)    0.168 0.00657 Inf 25.488  <.0001 \n",
      "\n",
      "Degrees-of-freedom method: asymptotic \n",
      "\n",
      "[[2]]\n",
      "[1] 2.685993e-143\n",
      "\n",
      "[1] 3.76039e-142\n"
     ]
    },
    {
     "name": "stderr",
     "output_type": "stream",
     "text": [
      "R[write to console]: Since 'object' is a list, we are using the contrasts already present.\n",
      "\n"
     ]
    },
    {
     "name": "stdout",
     "output_type": "stream",
     "text": [
      "   Language_name rand_effect_size max_voc_effect_size\n",
      "1            deu       0.17637894           0.2092186\n",
      "2            eng       0.26132217           0.2586518\n",
      "3            est       0.09026104           0.1718871\n",
      "4            fas              NaN                 NaN\n",
      "5            fra       0.10166887           0.1104040\n",
      "6            hrv       0.17609065           0.1905610\n",
      "7            jpn       0.37964019           0.3503237\n",
      "8            kor       0.25125284                  NA\n",
      "9            nor       0.16761078                  NA\n",
      "10           pol              NaN                  NA\n",
      "11           por       0.17936983                  NA\n",
      "12           spa       0.21785360                  NA\n",
      "13           swe       0.31652717                  NA\n",
      "14           zho              NaN                  NA\n"
     ]
    }
   ],
   "source": [
    "%%R -i jpn\n",
    "\n",
    "lm8_1 <- lmer(swu ~ contingent + (1|target_child_id) + (1|transcript_id),data=jpn, REML= FALSE)\n",
    "emm8_1<-emmeans(lm8_1,pairwise~contingent)\n",
    "pval<-summary(emm8_1$contrasts)$p.value\n",
    "print(c(emm8_1$contrasts, pval))\n",
    "print(p.adjust(pval, \"holm\", 14))\n",
    "# summary(emmeans(lm8_1,\"contingent\",infer=TRUE)) #group means\n",
    "# test(contrast(emmeans(lm8_1,\"contingent\"), \"trt.vs.ctrl\"), joint = TRUE) #main effect - are any groups different\n",
    "\n",
    "jpn_lname <- jpn$language[1]\n",
    "\n",
    "jpn_eff <- eff_size(emm8_1,sigma = sigma(lm8_1), edf = df.residual(lm8_1))\n",
    "\n",
    "jpn_eff <- summary(jpn_eff)$effect.size\n",
    "\n",
    "effect_sizes[effect_sizes$Language_name==jpn_lname,\"max_voc_effect_size\"] <- jpn_eff\n",
    "effect_sizes"
   ]
  },
  {
   "cell_type": "code",
   "execution_count": 17,
   "id": "266a36e8-4b2a-4a80-89c1-f799cad44a2e",
   "metadata": {},
   "outputs": [
    {
     "name": "stderr",
     "output_type": "stream",
     "text": [
      "R[write to console]: Note: D.f. calculations have been disabled because the number of observations exceeds 3000.\n",
      "To enable adjustments, add the argument 'pbkrtest.limit = 4722' (or larger)\n",
      "[or, globally, 'set emm_options(pbkrtest.limit = 4722)' or larger];\n",
      "but be warned that this may result in large computation time and memory use.\n",
      "\n",
      "R[write to console]: Note: D.f. calculations have been disabled because the number of observations exceeds 3000.\n",
      "To enable adjustments, add the argument 'lmerTest.limit = 4722' (or larger)\n",
      "[or, globally, 'set emm_options(lmerTest.limit = 4722)' or larger];\n",
      "but be warned that this may result in large computation time and memory use.\n",
      "\n"
     ]
    },
    {
     "name": "stdout",
     "output_type": "stream",
     "text": [
      "[[1]]\n",
      " contrast                      estimate     SE  df z.ratio p.value\n",
      " contingent - (non-contingent)   0.0871 0.0112 Inf 7.774   <.0001 \n",
      "\n",
      "Degrees-of-freedom method: asymptotic \n",
      "\n",
      "[[2]]\n",
      "[1] 7.624413e-15\n",
      "\n",
      "[1] 1.067418e-13\n"
     ]
    },
    {
     "name": "stderr",
     "output_type": "stream",
     "text": [
      "R[write to console]: Since 'object' is a list, we are using the contrasts already present.\n",
      "\n"
     ]
    },
    {
     "name": "stdout",
     "output_type": "stream",
     "text": [
      "   Language_name rand_effect_size max_voc_effect_size\n",
      "1            deu       0.17637894           0.2092186\n",
      "2            eng       0.26132217           0.2586518\n",
      "3            est       0.09026104           0.1718871\n",
      "4            fas              NaN                 NaN\n",
      "5            fra       0.10166887           0.1104040\n",
      "6            hrv       0.17609065           0.1905610\n",
      "7            jpn       0.37964019           0.3503237\n",
      "8            kor       0.25125284           0.2379528\n",
      "9            nor       0.16761078                  NA\n",
      "10           pol              NaN                  NA\n",
      "11           por       0.17936983                  NA\n",
      "12           spa       0.21785360                  NA\n",
      "13           swe       0.31652717                  NA\n",
      "14           zho              NaN                  NA\n"
     ]
    }
   ],
   "source": [
    "%%R -i kor\n",
    "\n",
    "lm9_1 <- lmer(swu ~ contingent + (1|transcript_id),data=kor, REML= FALSE)\n",
    "emm9_1<-emmeans(lm9_1,pairwise~contingent)\n",
    "pval<-summary(emm9_1$contrasts)$p.value\n",
    "print(c(emm9_1$contrasts, pval))\n",
    "print(p.adjust(pval, \"holm\", 14))\n",
    "# summary(emmeans(lm9_1,\"contingent\",infer=TRUE)) #group means\n",
    "# test(contrast(emmeans(lm9_1,\"contingent\"), \"trt.vs.ctrl\"), joint = TRUE) #main effect - are any groups different\n",
    "\n",
    "kor_lname <- kor$language[1]\n",
    "\n",
    "kor_eff <- eff_size(emm9_1,sigma = sigma(lm9_1), edf = df.residual(lm9_1))\n",
    "\n",
    "kor_eff <- summary(kor_eff)$effect.size\n",
    "\n",
    "effect_sizes[effect_sizes$Language_name==kor_lname,\"max_voc_effect_size\"] <- kor_eff\n",
    "effect_sizes"
   ]
  },
  {
   "cell_type": "code",
   "execution_count": 18,
   "id": "3391e108-a995-4aba-b5c9-cb6ef62004c1",
   "metadata": {},
   "outputs": [
    {
     "name": "stderr",
     "output_type": "stream",
     "text": [
      "R[write to console]: boundary (singular) fit: see ?isSingular\n",
      "\n"
     ]
    },
    {
     "name": "stdout",
     "output_type": "stream",
     "text": [
      "[[1]]\n",
      " contrast                      estimate     SE   df t.ratio p.value\n",
      " contingent - (non-contingent)   0.0969 0.0202 2139 4.798   <.0001 \n",
      "\n",
      "Degrees-of-freedom method: kenward-roger \n",
      "\n",
      "[[2]]\n",
      "[1] 1.714664e-06\n",
      "\n",
      "[1] 2.40053e-05\n"
     ]
    },
    {
     "name": "stderr",
     "output_type": "stream",
     "text": [
      "R[write to console]: Since 'object' is a list, we are using the contrasts already present.\n",
      "\n"
     ]
    },
    {
     "name": "stdout",
     "output_type": "stream",
     "text": [
      "   Language_name rand_effect_size max_voc_effect_size\n",
      "1            deu       0.17637894           0.2092186\n",
      "2            eng       0.26132217           0.2586518\n",
      "3            est       0.09026104           0.1718871\n",
      "4            fas              NaN                 NaN\n",
      "5            fra       0.10166887           0.1104040\n",
      "6            hrv       0.17609065           0.1905610\n",
      "7            jpn       0.37964019           0.3503237\n",
      "8            kor       0.25125284           0.2379528\n",
      "9            nor       0.16761078           0.2302313\n",
      "10           pol              NaN                  NA\n",
      "11           por       0.17936983                  NA\n",
      "12           spa       0.21785360                  NA\n",
      "13           swe       0.31652717                  NA\n",
      "14           zho              NaN                  NA\n"
     ]
    }
   ],
   "source": [
    "%%R -i nor\n",
    "\n",
    "lm10_1 <- lmer(swu ~ contingent + (1|target_child_id) + (1|transcript_id),data=nor, REML= FALSE)\n",
    "emm10_1<-emmeans(lm10_1,pairwise~contingent)\n",
    "pval<-summary(emm10_1$contrasts)$p.value\n",
    "print(c(emm10_1$contrasts, pval))\n",
    "print(p.adjust(pval, \"holm\", 14))\n",
    "# summary(emmeans(lm10_1,\"contingent\",infer=TRUE)) #group means\n",
    "# test(contrast(emmeans(lm10_1,\"contingent\"), \"trt.vs.ctrl\"), joint = TRUE) #main effect - are any groups different\n",
    "\n",
    "nor_lname <- nor$language[1]\n",
    "\n",
    "nor_eff <- eff_size(emm10_1,sigma = sigma(lm10_1), edf = df.residual(lm10_1))\n",
    "\n",
    "nor_eff <- summary(nor_eff)$effect.size\n",
    "\n",
    "effect_sizes[effect_sizes$Language_name==nor_lname,\"max_voc_effect_size\"] <- nor_eff\n",
    "effect_sizes"
   ]
  },
  {
   "cell_type": "code",
   "execution_count": 19,
   "id": "2353fc63-bd55-43b0-bd18-8ed1ad270267",
   "metadata": {},
   "outputs": [
    {
     "name": "stdout",
     "output_type": "stream",
     "text": [
      "[[1]]\n",
      " contrast                      estimate     SE  df t.ratio p.value\n",
      " contingent - (non-contingent)    0.146 0.0844 100 1.727   0.0872 \n",
      "\n",
      "\n",
      "[[2]]\n",
      "[1] 0.08722643\n",
      "\n",
      "[1] 1\n",
      "   Language_name rand_effect_size max_voc_effect_size\n",
      "1            deu       0.17637894           0.2092186\n",
      "2            eng       0.26132217           0.2586518\n",
      "3            est       0.09026104           0.1718871\n",
      "4            fas              NaN                 NaN\n",
      "5            fra       0.10166887           0.1104040\n",
      "6            hrv       0.17609065           0.1905610\n",
      "7            jpn       0.37964019           0.3503237\n",
      "8            kor       0.25125284           0.2379528\n",
      "9            nor       0.16761078           0.2302313\n",
      "10           pol              NaN                 NaN\n",
      "11           por       0.17936983                  NA\n",
      "12           spa       0.21785360                  NA\n",
      "13           swe       0.31652717                  NA\n",
      "14           zho              NaN                  NA\n"
     ]
    }
   ],
   "source": [
    "%%R -i pol\n",
    " \n",
    "# simple linear model (no random effects, because only 1 transcript from 1 sub)\n",
    "\n",
    "lm11_1 <- lm(swu ~ contingent,data=pol, REML= FALSE)\n",
    "emm11_1<-emmeans(lm11_1,pairwise~contingent)\n",
    "pval<-summary(emm11_1$contrasts)$p.value\n",
    "print(c(emm11_1$contrasts, pval))\n",
    "print(p.adjust(pval, \"holm\", 14))\n",
    "# summary(emmeans(lm11_1,\"contingent\",infer=TRUE)) #group means\n",
    "# test(contrast(emmeans(lm11_1,\"contingent\"), \"trt.vs.ctrl\"), joint = TRUE) #main effect - are any groups different\n",
    "\n",
    "pol_lname <- pol$language[1]\n",
    "\n",
    "effect_sizes[effect_sizes$Language_name==pol_lname,\"max_voc_effect_size\"] <- NaN\n",
    "effect_sizes"
   ]
  },
  {
   "cell_type": "code",
   "execution_count": 20,
   "id": "ce81bfde-4744-4451-826b-7a91a218412b",
   "metadata": {},
   "outputs": [
    {
     "name": "stdout",
     "output_type": "stream",
     "text": [
      "[[1]]\n",
      " contrast                      estimate    SE   df t.ratio p.value\n",
      " contingent - (non-contingent)    0.114 0.014 2821 8.131   <.0001 \n",
      "\n",
      "Degrees-of-freedom method: kenward-roger \n",
      "\n",
      "[[2]]\n",
      "[1] 6.31572e-16\n",
      "\n",
      "[1] 8.842008e-15\n"
     ]
    },
    {
     "name": "stderr",
     "output_type": "stream",
     "text": [
      "R[write to console]: Since 'object' is a list, we are using the contrasts already present.\n",
      "\n"
     ]
    },
    {
     "name": "stdout",
     "output_type": "stream",
     "text": [
      "   Language_name rand_effect_size max_voc_effect_size\n",
      "1            deu       0.17637894           0.2092186\n",
      "2            eng       0.26132217           0.2586518\n",
      "3            est       0.09026104           0.1718871\n",
      "4            fas              NaN                 NaN\n",
      "5            fra       0.10166887           0.1104040\n",
      "6            hrv       0.17609065           0.1905610\n",
      "7            jpn       0.37964019           0.3503237\n",
      "8            kor       0.25125284           0.2379528\n",
      "9            nor       0.16761078           0.2302313\n",
      "10           pol              NaN                 NaN\n",
      "11           por       0.17936983           0.3122990\n",
      "12           spa       0.21785360                  NA\n",
      "13           swe       0.31652717                  NA\n",
      "14           zho              NaN                  NA\n"
     ]
    }
   ],
   "source": [
    "%%R -i por\n",
    "\n",
    "lm12_1 <- lmer(swu ~ contingent + (1|target_child_id) + (1|transcript_id),data=por, REML= FALSE)\n",
    "emm12_1<-emmeans(lm12_1,pairwise~contingent)\n",
    "pval<-summary(emm12_1$contrasts)$p.value\n",
    "print(c(emm12_1$contrasts, pval))\n",
    "print(p.adjust(pval, \"holm\", 14))\n",
    "# summary(emmeans(lm12_1,\"contingent\",infer=TRUE)) #group means\n",
    "# test(contrast(emmeans(lm12_1,\"contingent\"), \"trt.vs.ctrl\"), joint = TRUE) #main effect - are any groups different\n",
    "\n",
    "por_lname <- por$language[1]\n",
    "\n",
    "por_eff <- eff_size(emm12_1,sigma = sigma(lm12_1), edf = df.residual(lm12_1))\n",
    "\n",
    "por_eff <- summary(por_eff)$effect.size\n",
    "\n",
    "effect_sizes[effect_sizes$Language_name==por_lname,\"max_voc_effect_size\"] <- por_eff\n",
    "effect_sizes"
   ]
  },
  {
   "cell_type": "code",
   "execution_count": 21,
   "id": "22df0ba0-7b50-41f4-ace8-5ef247ee926a",
   "metadata": {},
   "outputs": [
    {
     "name": "stderr",
     "output_type": "stream",
     "text": [
      "R[write to console]: Note: D.f. calculations have been disabled because the number of observations exceeds 3000.\n",
      "To enable adjustments, add the argument 'pbkrtest.limit = 4916' (or larger)\n",
      "[or, globally, 'set emm_options(pbkrtest.limit = 4916)' or larger];\n",
      "but be warned that this may result in large computation time and memory use.\n",
      "\n",
      "R[write to console]: Note: D.f. calculations have been disabled because the number of observations exceeds 3000.\n",
      "To enable adjustments, add the argument 'lmerTest.limit = 4916' (or larger)\n",
      "[or, globally, 'set emm_options(lmerTest.limit = 4916)' or larger];\n",
      "but be warned that this may result in large computation time and memory use.\n",
      "\n"
     ]
    },
    {
     "name": "stdout",
     "output_type": "stream",
     "text": [
      "[[1]]\n",
      " contrast                      estimate     SE  df z.ratio p.value\n",
      " contingent - (non-contingent)   0.0717 0.0121 Inf 5.947   <.0001 \n",
      "\n",
      "Degrees-of-freedom method: asymptotic \n",
      "\n",
      "[[2]]\n",
      "[1] 2.723835e-09\n",
      "\n",
      "[1] 3.813369e-08\n"
     ]
    },
    {
     "name": "stderr",
     "output_type": "stream",
     "text": [
      "R[write to console]: Since 'object' is a list, we are using the contrasts already present.\n",
      "\n"
     ]
    },
    {
     "name": "stdout",
     "output_type": "stream",
     "text": [
      "   Language_name rand_effect_size max_voc_effect_size\n",
      "1            deu       0.17637894           0.2092186\n",
      "2            eng       0.26132217           0.2586518\n",
      "3            est       0.09026104           0.1718871\n",
      "4            fas              NaN                 NaN\n",
      "5            fra       0.10166887           0.1104040\n",
      "6            hrv       0.17609065           0.1905610\n",
      "7            jpn       0.37964019           0.3503237\n",
      "8            kor       0.25125284           0.2379528\n",
      "9            nor       0.16761078           0.2302313\n",
      "10           pol              NaN                 NaN\n",
      "11           por       0.17936983           0.3122990\n",
      "12           spa       0.21785360           0.1744664\n",
      "13           swe       0.31652717                  NA\n",
      "14           zho              NaN                  NA\n"
     ]
    }
   ],
   "source": [
    "%%R -i spa\n",
    "\n",
    "lm13_1 <- lmer(swu ~ contingent + (1|target_child_id) + (1|transcript_id),data=spa, REML= FALSE)\n",
    "emm13_1<-emmeans(lm13_1,pairwise~contingent)\n",
    "pval<-summary(emm13_1$contrasts)$p.value\n",
    "print(c(emm13_1$contrasts, pval))\n",
    "print(p.adjust(pval, \"holm\", 14))\n",
    "# summary(emmeans(lm13_1,\"contingent\",infer=TRUE)) #group means\n",
    "# test(contrast(emmeans(lm13_1,\"contingent\"), \"trt.vs.ctrl\"), joint = TRUE) #main effect - are any groups different\n",
    "\n",
    "spa_lname <- spa$language[1]\n",
    "\n",
    "spa_eff <- eff_size(emm13_1,sigma = sigma(lm13_1), edf = df.residual(lm13_1))\n",
    "\n",
    "spa_eff <- summary(spa_eff)$effect.size\n",
    "\n",
    "effect_sizes[effect_sizes$Language_name==spa_lname,\"max_voc_effect_size\"] <- spa_eff\n",
    "effect_sizes"
   ]
  },
  {
   "cell_type": "code",
   "execution_count": 22,
   "id": "8492c6f9-7159-4c27-8936-bda0bda8bfb6",
   "metadata": {},
   "outputs": [
    {
     "name": "stdout",
     "output_type": "stream",
     "text": [
      "[[1]]\n",
      " contrast                      estimate     SE   df t.ratio p.value\n",
      " contingent - (non-contingent)    0.142 0.0177 2598 8.013   <.0001 \n",
      "\n",
      "Degrees-of-freedom method: kenward-roger \n",
      "\n",
      "[[2]]\n",
      "[1] 1.671376e-15\n",
      "\n",
      "[1] 2.339927e-14\n"
     ]
    },
    {
     "name": "stderr",
     "output_type": "stream",
     "text": [
      "R[write to console]: Since 'object' is a list, we are using the contrasts already present.\n",
      "\n"
     ]
    },
    {
     "name": "stdout",
     "output_type": "stream",
     "text": [
      "   Language_name rand_effect_size max_voc_effect_size\n",
      "1            deu       0.17637894           0.2092186\n",
      "2            eng       0.26132217           0.2586518\n",
      "3            est       0.09026104           0.1718871\n",
      "4            fas              NaN                 NaN\n",
      "5            fra       0.10166887           0.1104040\n",
      "6            hrv       0.17609065           0.1905610\n",
      "7            jpn       0.37964019           0.3503237\n",
      "8            kor       0.25125284           0.2379528\n",
      "9            nor       0.16761078           0.2302313\n",
      "10           pol              NaN                 NaN\n",
      "11           por       0.17936983           0.3122990\n",
      "12           spa       0.21785360           0.1744664\n",
      "13           swe       0.31652717           0.3257713\n",
      "14           zho              NaN                  NA\n"
     ]
    }
   ],
   "source": [
    "%%R -i swe\n",
    "\n",
    "\n",
    "lm14_1 <- lmer(swu ~ contingent + (1|target_child_id) + (1|transcript_id),data=swe, REML= FALSE)\n",
    "emm14_1<-emmeans(lm14_1,pairwise~contingent)\n",
    "pval<-summary(emm14_1$contrasts)$p.value\n",
    "print(c(emm14_1$contrasts, pval))\n",
    "print(p.adjust(pval, \"holm\", 14))\n",
    "# summary(emmeans(lm14_1,\"contingent\",infer=TRUE)) #group means\n",
    "# test(contrast(emmeans(lm14_1,\"contingent\"), \"trt.vs.ctrl\"), joint = TRUE) #main effect - are any groups different\n",
    "\n",
    "swe_lname <- swe$language[1]\n",
    "\n",
    "swe_eff <- eff_size(emm14_1,sigma = sigma(lm14_1), edf = df.residual(lm14_1))\n",
    "\n",
    "swe_eff <- summary(swe_eff)$effect.size\n",
    "\n",
    "effect_sizes[effect_sizes$Language_name==swe_lname,\"max_voc_effect_size\"] <- swe_eff\n",
    "effect_sizes"
   ]
  },
  {
   "cell_type": "code",
   "execution_count": 23,
   "id": "c1dcd116-669d-4233-86b3-ca375ca57b3e",
   "metadata": {},
   "outputs": [
    {
     "name": "stderr",
     "output_type": "stream",
     "text": [
      "R[write to console]: boundary (singular) fit: see ?isSingular\n",
      "\n"
     ]
    },
    {
     "name": "stdout",
     "output_type": "stream",
     "text": [
      "[[1]]\n",
      " contrast                      estimate     SE  df t.ratio p.value\n",
      " contingent - (non-contingent)   0.0858 0.0463 335 1.853   0.0647 \n",
      "\n",
      "Degrees-of-freedom method: kenward-roger \n",
      "\n",
      "[[2]]\n",
      "[1] 0.06472319\n",
      "\n",
      "[1] 0.9061247\n",
      "   Language_name rand_effect_size max_voc_effect_size\n",
      "1            deu       0.17637894           0.2092186\n",
      "2            eng       0.26132217           0.2586518\n",
      "3            est       0.09026104           0.1718871\n",
      "4            fas              NaN                 NaN\n",
      "5            fra       0.10166887           0.1104040\n",
      "6            hrv       0.17609065           0.1905610\n",
      "7            jpn       0.37964019           0.3503237\n",
      "8            kor       0.25125284           0.2379528\n",
      "9            nor       0.16761078           0.2302313\n",
      "10           pol              NaN                 NaN\n",
      "11           por       0.17936983           0.3122990\n",
      "12           spa       0.21785360           0.1744664\n",
      "13           swe       0.31652717           0.3257713\n",
      "14           zho              NaN                 NaN\n"
     ]
    }
   ],
   "source": [
    "%%R -i zho\n",
    "\n",
    "lm15_1 <- lmer(swu ~ contingent + (1|transcript_id),data=zho, REML= FALSE)\n",
    "emm15_1<-emmeans(lm15_1,pairwise~contingent)\n",
    "pval<-summary(emm15_1$contrasts)$p.value\n",
    "print(c(emm15_1$contrasts, pval))\n",
    "print(p.adjust(pval, \"holm\", 14))\n",
    "# summary(emmeans(lm15_1,\"contingent\",infer=TRUE)) #group means\n",
    "# test(contrast(emmeans(lm15_1,\"contingent\"), \"trt.vs.ctrl\"), joint = TRUE) #main effect - are any groups different\n",
    "\n",
    "zho_lname <- zho$language[1]\n",
    "\n",
    "effect_sizes[effect_sizes$Language_name==zho_lname,\"max_voc_effect_size\"] <- NaN\n",
    "effect_sizes"
   ]
  },
  {
   "cell_type": "code",
   "execution_count": 24,
   "id": "079c367f-c57e-44a3-875f-7016fa937607",
   "metadata": {},
   "outputs": [],
   "source": [
    "%%R\n",
    "write.csv(x=effect_sizes,'../data/SWU_effect_sizes.csv', row.names = FALSE)"
   ]
  },
  {
   "cell_type": "code",
   "execution_count": null,
   "id": "11dcf92e-bed7-466e-8eb1-5ba20fff07ea",
   "metadata": {},
   "outputs": [],
   "source": []
  }
 ],
 "metadata": {
  "kernelspec": {
   "display_name": "Python 3",
   "language": "python",
   "name": "python3"
  },
  "language_info": {
   "codemirror_mode": {
    "name": "ipython",
    "version": 3
   },
   "file_extension": ".py",
   "mimetype": "text/x-python",
   "name": "python",
   "nbconvert_exporter": "python",
   "pygments_lexer": "ipython3",
   "version": "3.8.10"
  }
 },
 "nbformat": 4,
 "nbformat_minor": 5
}
