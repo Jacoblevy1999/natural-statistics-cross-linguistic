{
 "cells": [
  {
   "cell_type": "markdown",
   "id": "narrative-evolution",
   "metadata": {},
   "source": [
    "# Natural Statistics Cross-linguistic\n",
    "\n",
    "Caregiver responses to infants touch and point analysis"
   ]
  },
  {
   "cell_type": "code",
   "execution_count": 26,
   "id": "genetic-country",
   "metadata": {},
   "outputs": [],
   "source": [
    "# import data\n",
    "\n",
    "import sys\n",
    "import warnings\n",
    "import pandas as pd\n",
    "import numpy as np\n",
    "sys.path.insert(0, \"data_proc\")\n",
    "warnings.filterwarnings('ignore')\n",
    "import gen_dat\n",
    "import contingent_extraction\n",
    "import analytic_proc"
   ]
  },
  {
   "cell_type": "markdown",
   "id": "wireless-natural",
   "metadata": {},
   "source": [
    "----\n",
    "### ELAN extraction"
   ]
  },
  {
   "cell_type": "code",
   "execution_count": 27,
   "id": "thirty-differential",
   "metadata": {},
   "outputs": [],
   "source": [
    "# corpus_root = \"../data/raw_data/touch_point\"\n",
    "\n",
    "# subs = [\"10\",\"12\",\"13\",\"14\",\"16\",\"18\",\"1\",\"9\",\"22\",\"25\",\"28\",\"29\",\"30\",\"24\",\"33\",\"35\",\"3\",\"45\",\"46\",\"4\",\"50\",\"51\",\"53\",\"55\",\"56\",\"5\",\"7\",\"84\"]\n",
    "\n",
    "# # \"2\"\n",
    "\n",
    "# naming_constant = \"_touch_point\"\n",
    "\n",
    "# tier_names = [\"Transcript\", \"Child_Voc\", \"inf_touch\", \"inf_point\"]\n",
    "\n",
    "# cols = ['sub', 'onset', 'offset', 'cat', 'tier']\n",
    "\n",
    "# output_path = \"../data\"\n",
    "\n",
    "# outname = \"touch_point\""
   ]
  },
  {
   "cell_type": "code",
   "execution_count": 28,
   "id": "bulgarian-airport",
   "metadata": {
    "tags": []
   },
   "outputs": [],
   "source": [
    "# gen_dat.eaf2csv(corpus_root,cols,subs,tier_names,naming_constant,output_path,outname)"
   ]
  },
  {
   "cell_type": "markdown",
   "id": "modern-monday",
   "metadata": {},
   "source": [
    "----\n",
    "#### Pre-processing"
   ]
  },
  {
   "cell_type": "code",
   "execution_count": 29,
   "id": "sorted-advocacy",
   "metadata": {},
   "outputs": [],
   "source": [
    "# # Load extracted data\n",
    "\n",
    "# tp_dat = pd.read_csv(\"../data/touch_point.csv\",index_col=0)"
   ]
  },
  {
   "cell_type": "code",
   "execution_count": 30,
   "id": "proof-tackle",
   "metadata": {},
   "outputs": [],
   "source": [
    "# len(tp_dat[\"sub\"].unique())"
   ]
  },
  {
   "cell_type": "code",
   "execution_count": 31,
   "id": "unique-strand",
   "metadata": {},
   "outputs": [],
   "source": [
    "# # sort and reset index\n",
    "# tp_dat = tp_dat.sort_values(by=['sub', 'onset']).reset_index(drop=True)"
   ]
  },
  {
   "cell_type": "code",
   "execution_count": 32,
   "id": "direct-english",
   "metadata": {},
   "outputs": [],
   "source": [
    "# # assign contingency with window of 3 seconds\n",
    "# tp_dat = contingent_extraction.assign_contingency_point(tp_dat,3,0)"
   ]
  },
  {
   "cell_type": "code",
   "execution_count": 33,
   "id": "popular-intensity",
   "metadata": {},
   "outputs": [],
   "source": [
    "# # subset to only caregiver utterances and clean transcript\n",
    "# cg_tp_dat = tp_dat[tp_dat[\"tier\"]==\"Transcript\"]\n",
    "# contingent_extraction.create_tp_result(cg_tp_dat)"
   ]
  },
  {
   "cell_type": "markdown",
   "id": "friendly-martial",
   "metadata": {},
   "source": [
    "----\n",
    "#### Unique word counts"
   ]
  },
  {
   "cell_type": "code",
   "execution_count": 34,
   "id": "latest-branch",
   "metadata": {},
   "outputs": [],
   "source": [
    "# load cleaned caregiver utterances dataframe\n",
    "cg_tp_dat = pd.read_csv(\"../data/tp_dat_cont.csv\",index_col=0)"
   ]
  },
  {
   "cell_type": "markdown",
   "id": "subsequent-april",
   "metadata": {},
   "source": [
    "How do the number of responses to infant vocalizations and number of responses to infants' manual behavior compare?"
   ]
  },
  {
   "cell_type": "code",
   "execution_count": 35,
   "id": "virgin-belly",
   "metadata": {},
   "outputs": [
    {
     "data": {
      "image/png": "[encoded data removed]",
      "text/plain": [
       "<Figure size 432x288 with 2 Axes>"
      ]
     },
     "metadata": {
      "needs_background": "light"
     },
     "output_type": "display_data"
    }
   ],
   "source": [
    "voc_response_count = (cg_tp_dat.groupby([\"sub\"])\n",
    "                                .voc_contingent\n",
    "                                .sum()).reset_index()\n",
    "\n",
    "manual_response_count = (cg_tp_dat.groupby([\"sub\"])\n",
    "                                  .tp_contingent\n",
    "                                  .sum()).reset_index()\n",
    "\n",
    "import matplotlib.pyplot as plt\n",
    "fig, axes = plt.subplots(2, 1)\n",
    "\n",
    "axes[0].axvline(voc_response_count['voc_contingent'].mean(), color='red', linestyle='dashed', linewidth=2)\n",
    "axes[0].set_xlim(0,50)\n",
    "voc_response_count.hist('voc_contingent',bins=10, range=(0,50),ax=axes[0])\n",
    "axes[1].axvline(manual_response_count['tp_contingent'].mean(), color='red', linestyle='dashed', linewidth=2)\n",
    "axes[1].set_xlim(0,50)\n",
    "manual_response_count.hist('tp_contingent',bins=10, range=(0,50), ax=axes[1])\n",
    "plt.tight_layout()"
   ]
  },
  {
   "cell_type": "code",
   "execution_count": 36,
   "id": "executed-integrity",
   "metadata": {},
   "outputs": [],
   "source": [
    "# drop caregiver utterances which are contingent on infants' vocalizations\n",
    "cg_tp_dat = cg_tp_dat[cg_tp_dat[\"voc_contingent\"]!=1]"
   ]
  },
  {
   "cell_type": "code",
   "execution_count": 37,
   "id": "quantitative-intermediate",
   "metadata": {},
   "outputs": [],
   "source": [
    "# create seperate contingent and non-contingent utterances for uniqueness calc\n",
    "c_utterances = cg_tp_dat[cg_tp_dat[\"tp_contingent\"]==1].reset_index(drop=True)\n",
    "nc_utterances = cg_tp_dat[cg_tp_dat[\"tp_contingent\"]==0].reset_index(drop=True)"
   ]
  },
  {
   "cell_type": "code",
   "execution_count": 38,
   "id": "uniform-jimmy",
   "metadata": {},
   "outputs": [],
   "source": [
    "# unique word counts\n",
    "\n",
    "analytic_proc.create_tp_result(c_utterances)\n",
    "# analytic_proc.create_tp_result(nc_utterances)"
   ]
  },
  {
   "cell_type": "code",
   "execution_count": 39,
   "id": "specialized-parish",
   "metadata": {},
   "outputs": [],
   "source": [
    "c_utterances = pd.read_csv(\"../data/tp_cont_lexdiv_dat.csv\",index_col=0)\n",
    "nc_utterances = pd.read_csv(\"../data/tp_noncont_lexdiv_dat.csv\",index_col=0)"
   ]
  },
  {
   "cell_type": "code",
   "execution_count": 40,
   "id": "cooked-replica",
   "metadata": {},
   "outputs": [],
   "source": [
    "frames = [c_utterances, nc_utterances]\n",
    "utterances = pd.concat(frames).reset_index(drop=True)"
   ]
  },
  {
   "cell_type": "code",
   "execution_count": 41,
   "id": "polish-committee",
   "metadata": {
    "tags": []
   },
   "outputs": [],
   "source": [
    "# MLUw\n",
    "utterances['cat'] = utterances['cat'].astype(str)\n",
    "\n",
    "utterances['length'] = utterances['cat'].str.split().apply(len)\n",
    "\n",
    "# single word utterances\n",
    "import numpy as np\n",
    "utterances['single_word'] = np.where(utterances['length']==1,1,0)"
   ]
  },
  {
   "cell_type": "markdown",
   "id": "favorite-nutrition",
   "metadata": {},
   "source": [
    "----\n",
    "#### Comparison across contingent and non-contingent"
   ]
  },
  {
   "cell_type": "code",
   "execution_count": 42,
   "id": "understood-lotus",
   "metadata": {},
   "outputs": [],
   "source": [
    "# # are there utterances outside of the middle-10 minutes?\n",
    "\n",
    "# utterance_sess_min_time_sumstats = (utterances.groupby([\"sub\"])\n",
    "#                                               .onset\n",
    "#                                               .min()).reset_index()\n",
    "\n",
    "# utterance_sess_max_time_sumstats = (utterances.groupby([\"sub\"])\n",
    "#                                               .offset\n",
    "#                                               .max()).reset_index()\n",
    "\n",
    "# import matplotlib.pyplot as plt\n",
    "# fig, axes = plt.subplots(1, 2)\n",
    "\n",
    "# utterance_sess_min_time_sumstats.hist('onset',ax=axes[0])\n",
    "# utterance_sess_max_time_sumstats.hist('offset', ax=axes[1])"
   ]
  },
  {
   "cell_type": "code",
   "execution_count": 43,
   "id": "numerous-sheet",
   "metadata": {},
   "outputs": [],
   "source": [
    "# exclude utterances outside of the middle-10 minutes\n",
    "utterances = utterances[(utterances[\"onset\"]>600) & (utterances[\"onset\"]<1200)]"
   ]
  },
  {
   "cell_type": "code",
   "execution_count": 44,
   "id": "suspended-kennedy",
   "metadata": {},
   "outputs": [],
   "source": [
    "utterance_lexdiv_sumstats = (utterances.groupby([\"sub\",\"tp_contingent\"])\n",
    "                                       .uniqueness\n",
    "                                       .sum()).reset_index()\n",
    "\n",
    "utterance_mlu_sumstats = (utterances.groupby([\"sub\",\"tp_contingent\"])\n",
    "                                  .length\n",
    "                                  .mean()).reset_index()\n",
    "\n",
    "utterance_swu_sumstats = (utterances.groupby([\"sub\",\"tp_contingent\"])\n",
    "                                  .single_word\n",
    "                                  .mean()).reset_index()"
   ]
  },
  {
   "cell_type": "code",
   "execution_count": 45,
   "id": "duplicate-genealogy",
   "metadata": {},
   "outputs": [
    {
     "name": "stdout",
     "output_type": "stream",
     "text": [
      "The rpy2.ipython extension is already loaded. To reload it, use:\n",
      "  %reload_ext rpy2.ipython\n"
     ]
    }
   ],
   "source": [
    "%load_ext rpy2.ipython"
   ]
  },
  {
   "cell_type": "code",
   "execution_count": 47,
   "id": "8a7fea74-6bb8-40ac-aefe-725087b5df89",
   "metadata": {},
   "outputs": [
    {
     "name": "stdout",
     "output_type": "stream",
     "text": [
      "  tp_contingent uniqueness\n",
      "1             0      76.00\n",
      "2             1      28.94\n"
     ]
    }
   ],
   "source": [
    "%%R \n",
    "\n",
    "means <- aggregate(uniqueness ~  tp_contingent, utterance_lexdiv_sumstats, FUN = function(x) {round(mean(x), digits=2)})\n",
    "\n",
    "means"
   ]
  },
  {
   "cell_type": "code",
   "execution_count": 68,
   "id": "descending-scoop",
   "metadata": {},
   "outputs": [
    {
     "name": "stderr",
     "output_type": "stream",
     "text": [
      "R[write to console]: Saving 11.3 x 6.67 in image\n",
      "\n"
     ]
    },
    {
     "data": {
      "image/png": "[encoded data removed]"
     },
     "metadata": {},
     "output_type": "display_data"
    }
   ],
   "source": [
    "%%R -i utterance_lexdiv_sumstats -i utterance_mlu_sumstats -i utterance_swu_sumstats\n",
    "\n",
    "library(\"ggplot2\")\n",
    "library(\"gridExtra\")\n",
    "\n",
    "utterance_lexdiv_sumstats$tp_contingent <- as.factor(utterance_lexdiv_sumstats$tp_contingent)\n",
    "\n",
    "means <- aggregate(uniqueness ~  tp_contingent, utterance_lexdiv_sumstats, FUN = function(x) {round(mean(x), digits=2)})\n",
    "\n",
    "lab1 <- \"***\"\n",
    "lab23 <- \"ns\"\n",
    "\n",
    "p1 <- ggplot(utterance_lexdiv_sumstats, aes(x=rev(tp_contingent), y=uniqueness)) + \n",
    "    theme_classic(base_size = 18) +\n",
    "#     geom_boxplot(size = 1.5) +\n",
    "    stat_summary(fun.y=mean, geom=\"point\", shape=19, size=3.5) +\n",
    "    stat_summary(fun.data = mean_se, geom = \"errorbar\", size=1.5, width = .3) +\n",
    "    labs(tag = \"A\") +\n",
    "#     stat_summary(fun.y = mean, geom = \"errorbar\", aes(ymax = ..y.., ymin = ..y..),\n",
    "#                  width = .75, linetype = \"dashed\") +\n",
    "#     geom_text(data = means, aes(label = uniqueness, y = uniqueness + 10)) +\n",
    "    annotate(\"text\", x = 1.5, label = lab1, y = 216, size=8) +\n",
    "    scale_x_discrete(labels=c(\"0\" = \"C\", \"1\" = \"NC\")) +\n",
    "    ylim(0, 250) +\n",
    "    ylab(\"Lexical diversity\") +\n",
    "    xlab(\"\")\n",
    "\n",
    "utterance_mlu_sumstats$tp_contingent <- as.factor(utterance_mlu_sumstats$tp_contingent)\n",
    "\n",
    "means <- aggregate(length ~  tp_contingent, utterance_mlu_sumstats, FUN = function(x) {round(mean(x), digits=2)})\n",
    "\n",
    "p2 <- ggplot(utterance_mlu_sumstats, aes(x=rev(tp_contingent), y=length)) + \n",
    "    theme_classic(base_size = 18) +\n",
    "#     geom_boxplot(size = 1.5) +\n",
    "    stat_summary(fun.y=mean, geom=\"point\", shape=19, size=3.5) +\n",
    "    stat_summary(fun.data = mean_se, geom = \"errorbar\", size=1.5, width = .3) +\n",
    "    labs(tag = \"B\") +\n",
    "#     stat_summary(fun.y = mean, geom = \"errorbar\", aes(ymax = ..y.., ymin = ..y..),\n",
    "#                  width = .75, linetype = \"dashed\") +\n",
    "#     geom_text(data = means, aes(label = length, y = length + 0.5)) +\n",
    "    annotate(\"text\", x = 1.5, label = lab23, y = 5.2, fontface = 'italic',size=5.5) +\n",
    "    scale_x_discrete(labels=c(\"0\" = \"C\", \"1\" = \"NC\")) +\n",
    "    ylim(0, 6) +\n",
    "    ylab(\"Mean length of utterance in words\") +\n",
    "    xlab(\"\")\n",
    "    \n",
    "utterance_swu_sumstats$tp_contingent <- as.factor(utterance_swu_sumstats$tp_contingent)\n",
    "\n",
    "means <- aggregate(single_word ~  tp_contingent, utterance_swu_sumstats, FUN = function(x) {round(mean(x), digits=2)})\n",
    "\n",
    "p3 <- ggplot(utterance_swu_sumstats, aes(x=rev(tp_contingent), y=single_word)) + \n",
    "    theme_classic(base_size = 18) +\n",
    "#     geom_boxplot(size = 1.5) +\n",
    "    stat_summary(fun.y=mean, geom=\"point\", shape=19, size=3.5) +\n",
    "    stat_summary(fun.data = mean_se, geom = \"errorbar\", size=1.5, width = .3) +\n",
    "    labs(tag = \"C\") +\n",
    "#     stat_summary(fun.y = mean, geom = \"errorbar\", aes(ymax = ..y.., ymin = ..y..),\n",
    "#                  width = .75, linetype = \"dashed\") +\n",
    "#     geom_text(data = means, aes(label = single_word, y = single_word + 0.02)) +\n",
    "    annotate(\"text\",x = 1.5, y = .43, label = lab23, fontface = 'italic', size=5.5) +\n",
    "    scale_x_discrete(labels=c(\"0\" = \"C\", \"1\" = \"NC\")) +\n",
    "    ylim(0, .5) +\n",
    "    ylab(\"Proportion single-word utterance\") +\n",
    "    xlab(\"\")\n",
    "    \n",
    "grid.arrange(p1, p2, p3, nrow = 1)\n",
    "\n",
    "g <- arrangeGrob(p1, p2, p3, nrow=1)\n",
    "# ggsave(file=\"../figures/point_touch_response_stat_results.pdf\", g, width = 11.27, dpi = 1200)\n",
    "ggsave(file=\"../figures/point_touch_response_stat_results_ICIS.pdf\", g, width = 11.27, dpi = 1200)"
   ]
  },
  {
   "cell_type": "code",
   "execution_count": 21,
   "id": "cardiac-collar",
   "metadata": {},
   "outputs": [
    {
     "name": "stderr",
     "output_type": "stream",
     "text": [
      "R[write to console]: Loading required package: Matrix\n",
      "\n",
      "R[write to console]: \n",
      "Attaching package: ‘lmerTest’\n",
      "\n",
      "\n",
      "R[write to console]: The following object is masked from ‘package:lme4’:\n",
      "\n",
      "    lmer\n",
      "\n",
      "\n",
      "R[write to console]: The following object is masked from ‘package:stats’:\n",
      "\n",
      "    step\n",
      "\n",
      "\n",
      "R[write to console]: ── \u001b[1mAttaching packages\u001b[22m ─────────────────────────────────────── tidyverse 1.3.1 ──\n",
      "\n",
      "R[write to console]: \u001b[32m✔\u001b[39m \u001b[34mggplot2\u001b[39m 3.3.5     \u001b[32m✔\u001b[39m \u001b[34mpurrr  \u001b[39m 0.3.4\n",
      "\u001b[32m✔\u001b[39m \u001b[34mtibble \u001b[39m 3.1.5     \u001b[32m✔\u001b[39m \u001b[34mdplyr  \u001b[39m 1.0.7\n",
      "\u001b[32m✔\u001b[39m \u001b[34mtidyr  \u001b[39m 1.1.3     \u001b[32m✔\u001b[39m \u001b[34mstringr\u001b[39m 1.4.0\n",
      "\u001b[32m✔\u001b[39m \u001b[34mreadr  \u001b[39m 1.4.0     \u001b[32m✔\u001b[39m \u001b[34mforcats\u001b[39m 0.5.1\n",
      "\n",
      "R[write to console]: ── \u001b[1mConflicts\u001b[22m ────────────────────────────────────────── tidyverse_conflicts() ──\n",
      "\u001b[31m✖\u001b[39m \u001b[34mtidyr\u001b[39m::\u001b[32mexpand()\u001b[39m masks \u001b[34mMatrix\u001b[39m::expand()\n",
      "\u001b[31m✖\u001b[39m \u001b[34mdplyr\u001b[39m::\u001b[32mfilter()\u001b[39m masks \u001b[34mstats\u001b[39m::filter()\n",
      "\u001b[31m✖\u001b[39m \u001b[34mdplyr\u001b[39m::\u001b[32mlag()\u001b[39m    masks \u001b[34mstats\u001b[39m::lag()\n",
      "\u001b[31m✖\u001b[39m \u001b[34mtidyr\u001b[39m::\u001b[32mpack()\u001b[39m   masks \u001b[34mMatrix\u001b[39m::pack()\n",
      "\u001b[31m✖\u001b[39m \u001b[34mtidyr\u001b[39m::\u001b[32munpack()\u001b[39m masks \u001b[34mMatrix\u001b[39m::unpack()\n",
      "\n"
     ]
    },
    {
     "name": "stdout",
     "output_type": "stream",
     "text": [
      "$emmeans\n",
      " tp_contingent emmean   SE df lower.CL upper.CL t.ratio p.value\n",
      "             0   76.0 6.56 29     62.6     89.4 11.591  <.0001 \n",
      "             1   28.9 6.56 29     15.5     42.4  4.415  0.0001 \n",
      "\n",
      "Degrees-of-freedom method: kenward-roger \n",
      "Confidence level used: 0.95 \n",
      "\n",
      "$contrasts\n",
      " contrast estimate   SE   df lower.CL upper.CL t.ratio p.value\n",
      " 0 - 1        47.1 6.14 19.1     34.2     59.9 7.663   <.0001 \n",
      "\n",
      "Degrees-of-freedom method: kenward-roger \n",
      "Confidence level used: 0.95 \n",
      "\n"
     ]
    },
    {
     "name": "stderr",
     "output_type": "stream",
     "text": [
      "R[write to console]: Since 'object' is a list, we are using the contrasts already present.\n",
      "\n"
     ]
    },
    {
     "name": "stdout",
     "output_type": "stream",
     "text": [
      "[1] 2.628553\n"
     ]
    }
   ],
   "source": [
    "%%R -i utterance_lexdiv_sumstats\n",
    "\n",
    "library(\"lme4\")\n",
    "library(\"broom\")\n",
    "library(\"emmeans\")\n",
    "library(\"lmerTest\")\n",
    "library(\"tidyverse\")\n",
    "\n",
    "model_1 = lmer(uniqueness ~ tp_contingent + (1|sub), data=utterance_lexdiv_sumstats,REML=FALSE)\n",
    "\n",
    "emm_1 = emmeans(model_1,\"tp_contingent\",contr=\"pairwise\")\n",
    "\n",
    "print(summary(emm_1,infer=TRUE))\n",
    "\n",
    "eff_1 <- eff_size(emm_1,sigma = sigma(model_1), edf = df.residual(model_1))\n",
    "\n",
    "print(summary(eff_1)$effect.size)"
   ]
  },
  {
   "cell_type": "code",
   "execution_count": 22,
   "id": "impossible-russell",
   "metadata": {},
   "outputs": [
    {
     "name": "stderr",
     "output_type": "stream",
     "text": [
      "R[write to console]: boundary (singular) fit: see ?isSingular\n",
      "\n",
      "R[write to console]: boundary (singular) fit: see ?isSingular\n",
      "\n"
     ]
    },
    {
     "name": "stdout",
     "output_type": "stream",
     "text": [
      "$emmeans\n",
      " tp_contingent emmean    SE   df lower.CL upper.CL t.ratio p.value\n",
      "             0   5.68 0.433 18.8     4.77     6.59 13.100  <.0001 \n",
      "             1   5.24 0.502 14.9     4.17     6.31 10.451  <.0001 \n",
      "\n",
      "Degrees-of-freedom method: kenward-roger \n",
      "Confidence level used: 0.95 \n",
      "\n",
      "$contrasts\n",
      " contrast estimate   SE   df lower.CL upper.CL t.ratio p.value\n",
      " 0 - 1       0.436 0.45 12.5    -0.54     1.41 0.970   0.3507 \n",
      "\n",
      "Degrees-of-freedom method: kenward-roger \n",
      "Confidence level used: 0.95 \n",
      "\n"
     ]
    },
    {
     "name": "stderr",
     "output_type": "stream",
     "text": [
      "R[write to console]: Since 'object' is a list, we are using the contrasts already present.\n",
      "\n"
     ]
    },
    {
     "name": "stdout",
     "output_type": "stream",
     "text": [
      "[1] 0.09426718\n"
     ]
    }
   ],
   "source": [
    "%%R -i utterances\n",
    "\n",
    "model_2 = lmer(length ~ tp_contingent + (1+tp_contingent|sub), data=utterances,REML=FALSE)\n",
    "\n",
    "emm_2 = emmeans(model_2,\"tp_contingent\",contr=\"pairwise\")\n",
    "\n",
    "print(summary(emm_2,infer=TRUE))\n",
    "\n",
    "eff_2 <- eff_size(emm_2,sigma = sigma(model_2), edf = df.residual(model_2))\n",
    "\n",
    "print(summary(eff_2)$effect.size)"
   ]
  },
  {
   "cell_type": "code",
   "execution_count": 24,
   "id": "global-differential",
   "metadata": {},
   "outputs": [
    {
     "name": "stdout",
     "output_type": "stream",
     "text": [
      "$emmeans\n",
      " tp_contingent emmean     SE   df lower.CL upper.CL t.ratio p.value\n",
      "             0  0.153 0.0255 19.0   0.0996    0.206 5.995   <.0001 \n",
      "             1  0.166 0.0481 18.5   0.0651    0.267 3.450   0.0028 \n",
      "\n",
      "Degrees-of-freedom method: kenward-roger \n",
      "Confidence level used: 0.95 \n",
      "\n",
      "$contrasts\n",
      " contrast estimate     SE df lower.CL upper.CL t.ratio p.value\n",
      " 0 - 1     -0.0131 0.0379 17  -0.0929   0.0668 -0.345  0.7342 \n",
      "\n",
      "Degrees-of-freedom method: kenward-roger \n",
      "Confidence level used: 0.95 \n",
      "\n"
     ]
    },
    {
     "name": "stderr",
     "output_type": "stream",
     "text": [
      "R[write to console]: Since 'object' is a list, we are using the contrasts already present.\n",
      "\n"
     ]
    },
    {
     "name": "stdout",
     "output_type": "stream",
     "text": [
      "[1] -0.03875715\n"
     ]
    }
   ],
   "source": [
    "%%R -i utterances\n",
    "\n",
    "model_3 = lmer(single_word ~ tp_contingent + (1+tp_contingent|sub), data=utterances,REML=FALSE)\n",
    "\n",
    "emm_3 = emmeans(model_3,\"tp_contingent\",contr=\"pairwise\")\n",
    "\n",
    "print(summary(emm_3,infer=TRUE))\n",
    "\n",
    "eff_3 <- eff_size(emm_3,sigma = sigma(model_3), edf = df.residual(model_2))\n",
    "\n",
    "print(summary(eff_3)$effect.size)"
   ]
  },
  {
   "cell_type": "code",
   "execution_count": null,
   "id": "civilian-rebel",
   "metadata": {},
   "outputs": [],
   "source": []
  }
 ],
 "metadata": {
  "kernelspec": {
   "display_name": "Python 3",
   "language": "python",
   "name": "python3"
  },
  "language_info": {
   "codemirror_mode": {
    "name": "ipython",
    "version": 3
   },
   "file_extension": ".py",
   "mimetype": "text/x-python",
   "name": "python",
   "nbconvert_exporter": "python",
   "pygments_lexer": "ipython3",
   "version": "3.8.10"
  }
 },
 "nbformat": 4,
 "nbformat_minor": 5
}
