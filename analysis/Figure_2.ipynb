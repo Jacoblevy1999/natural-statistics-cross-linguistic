{
 "cells": [
  {
   "cell_type": "markdown",
   "metadata": {},
   "source": [
    "# Natural Statistics Cross-linguistic:\n",
    "\n",
    "#### Recording context overview, Figure 2 in the manuscript, generated from play context log (manual collation of play contexts reported by CHILDES contributors)."
   ]
  },
  {
   "cell_type": "code",
   "execution_count": 1,
   "metadata": {},
   "outputs": [],
   "source": [
    "%load_ext rpy2.ipython"
   ]
  },
  {
   "cell_type": "code",
   "execution_count": 2,
   "metadata": {},
   "outputs": [
    {
     "name": "stderr",
     "output_type": "stream",
     "text": [
      "R[write to console]: ── \u001b[1mAttaching packages\u001b[22m ─────────────────────────────────────── tidyverse 1.3.1 ──\n",
      "\n",
      "R[write to console]: \u001b[32m✔\u001b[39m \u001b[34mggplot2\u001b[39m 3.3.5     \u001b[32m✔\u001b[39m \u001b[34mpurrr  \u001b[39m 0.3.4\n",
      "\u001b[32m✔\u001b[39m \u001b[34mtibble \u001b[39m 3.1.6     \u001b[32m✔\u001b[39m \u001b[34mdplyr  \u001b[39m 1.0.7\n",
      "\u001b[32m✔\u001b[39m \u001b[34mtidyr  \u001b[39m 1.1.4     \u001b[32m✔\u001b[39m \u001b[34mstringr\u001b[39m 1.4.0\n",
      "\u001b[32m✔\u001b[39m \u001b[34mreadr  \u001b[39m 2.1.1     \u001b[32m✔\u001b[39m \u001b[34mforcats\u001b[39m 0.5.1\n",
      "\n",
      "R[write to console]: ── \u001b[1mConflicts\u001b[22m ────────────────────────────────────────── tidyverse_conflicts() ──\n",
      "\u001b[31m✖\u001b[39m \u001b[34mdplyr\u001b[39m::\u001b[32mfilter()\u001b[39m masks \u001b[34mstats\u001b[39m::filter()\n",
      "\u001b[31m✖\u001b[39m \u001b[34mdplyr\u001b[39m::\u001b[32mlag()\u001b[39m    masks \u001b[34mstats\u001b[39m::lag()\n",
      "\n"
     ]
    }
   ],
   "source": [
    "%%R\n",
    "\n",
    "library('tidyverse')\n",
    "\n",
    "context_dat <- read.csv(\"../data/context_counts_subject_level.csv\")"
   ]
  },
  {
   "cell_type": "code",
   "execution_count": 3,
   "metadata": {},
   "outputs": [],
   "source": [
    "%%R\n",
    "\n",
    "context_dat$context <- gsub(\"HomeBook-reading\",\"Home: book reading\",context_dat$context)\n",
    "context_dat$context <- gsub(\"HomeInterview/Unstructured\",\"Home: interview/unstructured\",context_dat$context)\n",
    "context_dat$context <- gsub(\"HomeNaN\",\"Home: unreported\",context_dat$context)\n",
    "context_dat$context <- gsub(\"HomeOther\",\"Home: other\",context_dat$context)\n",
    "context_dat$context <- gsub(\"HomeUnstructured\",\"Home: unstructured\",context_dat$context)\n",
    "context_dat$context <- gsub(\"LabOther\",\"Lab: other\",context_dat$context)\n",
    "context_dat$context <- gsub(\"LabTabletop play\",\"Lab: tabletop play\",context_dat$context)\n",
    "context_dat$context <- gsub(\"LabInterview/Unstructured\",\"Lab: interview/unstructured\",context_dat$context)\n",
    "context_dat$context <- gsub(\"LabUnstructured\",\"Lab: unstructured\",context_dat$context)\n",
    "context_dat$context <- gsub(\"NaNNaN\",\"Unreported\",context_dat$context)\n",
    "context_dat$context <- gsub(\"OtherUnstructured\",\"Other: unstructured\",context_dat$context)"
   ]
  },
  {
   "cell_type": "code",
   "execution_count": 4,
   "metadata": {
    "tags": []
   },
   "outputs": [
    {
     "name": "stdout",
     "output_type": "stream",
     "text": [
      " [1] \"Home: unstructured\"           \"Home: other\"                 \n",
      " [3] \"Lab: interview/unstructured\"  \"Lab: tabletop play\"          \n",
      " [5] \"Lab: unstructured\"            \"Other: unstructured\"         \n",
      " [7] \"Unreported\"                   \"Home: book reading\"          \n",
      " [9] \"Home: unreported\"             \"Home: interview/unstructured\"\n"
     ]
    }
   ],
   "source": [
    "%%R\n",
    "unique(context_dat$context)"
   ]
  },
  {
   "cell_type": "code",
   "execution_count": 5,
   "metadata": {},
   "outputs": [],
   "source": [
    "%%R\n",
    "context_summary <- context_dat %>%\n",
    "                    group_by(Language_name) %>%\n",
    "                    mutate(percent = count / sum(count) * 100)"
   ]
  },
  {
   "cell_type": "code",
   "execution_count": 6,
   "metadata": {
    "tags": []
   },
   "outputs": [
    {
     "name": "stdout",
     "output_type": "stream",
     "text": [
      "\u001b[90m# A tibble: 21 × 5\u001b[39m\n",
      "\u001b[90m# Groups:   Language_name [14]\u001b[39m\n",
      "       X Language_name context                     count percent\n",
      "   \u001b[3m\u001b[90m<int>\u001b[39m\u001b[23m \u001b[3m\u001b[90m<chr>\u001b[39m\u001b[23m         \u001b[3m\u001b[90m<chr>\u001b[39m\u001b[23m                       \u001b[3m\u001b[90m<int>\u001b[39m\u001b[23m   \u001b[3m\u001b[90m<dbl>\u001b[39m\u001b[23m\n",
      "\u001b[90m 1\u001b[39m     0 Croatian      Home: unstructured             79  100   \n",
      "\u001b[90m 2\u001b[39m     1 English       Home: other                    20    1.93\n",
      "\u001b[90m 3\u001b[39m     2 English       Home: unstructured            397   38.3 \n",
      "\u001b[90m 4\u001b[39m     3 English       Lab: interview/unstructured   433   41.8 \n",
      "\u001b[90m 5\u001b[39m     4 English       Lab: tabletop play             27    2.60\n",
      "\u001b[90m 6\u001b[39m     5 English       Lab: unstructured              30    2.89\n",
      "\u001b[90m 7\u001b[39m     6 English       Other: unstructured           130   12.5 \n",
      "\u001b[90m 8\u001b[39m     7 Estonian      Home: unstructured             22  100   \n",
      "\u001b[90m 9\u001b[39m     8 French        Home: unstructured            258   85.1 \n",
      "\u001b[90m10\u001b[39m     9 French        Unreported                     45   14.9 \n",
      "\u001b[90m# … with 11 more rows\u001b[39m\n"
     ]
    }
   ],
   "source": [
    "%%R\n",
    "context_summary[order(context_summary$Language_name),]"
   ]
  },
  {
   "cell_type": "code",
   "execution_count": 7,
   "metadata": {},
   "outputs": [],
   "source": [
    "%%R\n",
    "context_summary$context <- factor(context_summary$context, levels = c(\"Home: book reading\",\n",
    "                                                                      \"Home: interview/unstructured\",\n",
    "                                                                      \"Home: unstructured\",\n",
    "                                                                      \"Home: other\",\n",
    "                                                                      \"Home: unreported\",\n",
    "                                                                      \"Lab: tabletop play\",\n",
    "                                                                      \"Lab: interview/unstructured\",\n",
    "                                                                      \"Lab: unstructured\",\n",
    "                                                                      \"Lab: other\",\n",
    "                                                                      \"Other: unstructured\",\n",
    "                                                                      \"Unreported\"))"
   ]
  },
  {
   "cell_type": "code",
   "execution_count": 8,
   "metadata": {},
   "outputs": [],
   "source": [
    "%%R\n",
    "context_summary <- context_summary %>% mutate(row = case_when(\n",
    "                    Language_name==\"Croatian\" ~ 0,\n",
    "                    Language_name==\"English\" ~ 0,\n",
    "                    Language_name==\"Estonian\" ~ 0,\n",
    "                    Language_name==\"French\" ~ 0,\n",
    "                    Language_name==\"German\" ~ 0,\n",
    "                    Language_name==\"Japanese\" ~ 0,\n",
    "                    Language_name==\"Korean\" ~ 0,\n",
    "                    Language_name==\"Mandarin\" ~ 1,\n",
    "                    Language_name==\"Norwegian\" ~ 1,\n",
    "                    Language_name==\"Persian\" ~ 1,\n",
    "                    Language_name==\"Polish\" ~ 1,\n",
    "                    Language_name==\"Portuguese\" ~ 1,\n",
    "                    Language_name==\"Spanish\" ~ 1,\n",
    "                    Language_name==\"Swedish\" ~ 1))"
   ]
  },
  {
   "cell_type": "code",
   "execution_count": 9,
   "metadata": {},
   "outputs": [
    {
     "name": "stdout",
     "output_type": "stream",
     "text": [
      "\u001b[90m# A tibble: 21 × 6\u001b[39m\n",
      "\u001b[90m# Groups:   Language_name [14]\u001b[39m\n",
      "       X Language_name context                     count percent   row\n",
      "   \u001b[3m\u001b[90m<int>\u001b[39m\u001b[23m \u001b[3m\u001b[90m<chr>\u001b[39m\u001b[23m         \u001b[3m\u001b[90m<fct>\u001b[39m\u001b[23m                       \u001b[3m\u001b[90m<int>\u001b[39m\u001b[23m   \u001b[3m\u001b[90m<dbl>\u001b[39m\u001b[23m \u001b[3m\u001b[90m<dbl>\u001b[39m\u001b[23m\n",
      "\u001b[90m 1\u001b[39m     0 Croatian      Home: unstructured             79  100        0\n",
      "\u001b[90m 2\u001b[39m     1 English       Home: other                    20    1.93     0\n",
      "\u001b[90m 3\u001b[39m     2 English       Home: unstructured            397   38.3      0\n",
      "\u001b[90m 4\u001b[39m     3 English       Lab: interview/unstructured   433   41.8      0\n",
      "\u001b[90m 5\u001b[39m     4 English       Lab: tabletop play             27    2.60     0\n",
      "\u001b[90m 6\u001b[39m     5 English       Lab: unstructured              30    2.89     0\n",
      "\u001b[90m 7\u001b[39m     6 English       Other: unstructured           130   12.5      0\n",
      "\u001b[90m 8\u001b[39m     7 Estonian      Home: unstructured             22  100        0\n",
      "\u001b[90m 9\u001b[39m     8 French        Home: unstructured            258   85.1      0\n",
      "\u001b[90m10\u001b[39m     9 French        Unreported                     45   14.9      0\n",
      "\u001b[90m# … with 11 more rows\u001b[39m\n"
     ]
    }
   ],
   "source": [
    "%%R\n",
    "context_summary"
   ]
  },
  {
   "cell_type": "markdown",
   "metadata": {},
   "source": [
    "For black background figures:"
   ]
  },
  {
   "cell_type": "code",
   "execution_count": 10,
   "metadata": {},
   "outputs": [],
   "source": [
    "%%R\n",
    "\n",
    "theme_black = function(base_size = 11, base_family = \"\") {\n",
    " \n",
    "  theme_grey(base_size = base_size, base_family = base_family) %+replace%\n",
    " \n",
    "    theme(\n",
    "      # Specify axis options\n",
    "      axis.line = element_line(colour = \"white\"),  \n",
    "      axis.text.x = element_text(color = \"white\",margin = margin(2, 2, 2, 2),size=8),  \n",
    "      axis.text.y = element_text(color = \"white\",hjust=1,margin = margin(2, 2, 2, 2)),  \n",
    "      axis.ticks = element_line(color = \"white\"),  \n",
    "      axis.title.x = element_text(size = base_size, color = \"white\"),  \n",
    "      axis.title.y = element_text(size = base_size, color = \"white\", angle = 90,margin = margin(0, 10, 0, 0)),  \n",
    "      # Specify legend options\n",
    "      legend.background = element_rect(color = NA, fill = \"black\"),  \n",
    "      legend.key = element_rect(color = \"white\",  fill = \"black\"),  \n",
    "      legend.key.size = unit(1.2, \"lines\"),  \n",
    "      legend.key.height = NULL,  \n",
    "      legend.key.width = NULL,      \n",
    "      legend.text = element_text(size = base_size*0.8, color = \"white\"),  \n",
    "      legend.title = element_text(size = base_size*0.8, face = \"bold\", hjust = 0, color = \"white\"),  \n",
    "      legend.position = \"right\",  \n",
    "      legend.text.align = NULL,  \n",
    "      legend.title.align = NULL,  \n",
    "      legend.direction = \"vertical\",  \n",
    "      legend.box = NULL, \n",
    "      # Specify panel options\n",
    "      panel.background = element_blank(),  \n",
    "      panel.border = element_blank(),  \n",
    "      panel.grid.major = element_blank(),  \n",
    "      panel.grid.minor = element_blank(),  \n",
    "#       panel.margin = unit(0.5, \"lines\"),   \n",
    "      # Specify facetting options\n",
    "      strip.background = element_rect(fill = \"black\", color = \"white\"),  \n",
    "      strip.text.x = element_text( color = \"white\"),  \n",
    "      strip.text.y = element_text(size = base_size*0.8, color = \"white\",angle = -90),  \n",
    "      # Specify plot options\n",
    "      plot.background = element_rect(color = \"black\", fill = \"black\"),  \n",
    "      plot.title = element_text(size = base_size, color = \"white\"),  \n",
    "      plot.margin = unit(rep(1, 4), \"lines\")\n",
    " \n",
    "    )\n",
    " \n",
    "}"
   ]
  },
  {
   "cell_type": "markdown",
   "metadata": {},
   "source": [
    "Generate plot:"
   ]
  },
  {
   "cell_type": "code",
   "execution_count": 11,
   "metadata": {},
   "outputs": [
    {
     "name": "stderr",
     "output_type": "stream",
     "text": [
      "R[write to console]: Loading required package: viridisLite\n",
      "\n",
      "R[write to console]: \n",
      "Attaching package: ‘scales’\n",
      "\n",
      "\n",
      "R[write to console]: The following object is masked from ‘package:viridis’:\n",
      "\n",
      "    viridis_pal\n",
      "\n",
      "\n",
      "R[write to console]: The following object is masked from ‘package:purrr’:\n",
      "\n",
      "    discard\n",
      "\n",
      "\n",
      "R[write to console]: The following object is masked from ‘package:readr’:\n",
      "\n",
      "    col_factor\n",
      "\n",
      "\n"
     ]
    }
   ],
   "source": [
    "%%R\n",
    "\n",
    "library('ggplot2')\n",
    "library('viridis')\n",
    "library('scales')\n",
    "\n",
    "p <- ggplot() +\n",
    "     geom_bar(aes(y = percent, x = Language_name, fill = context),\n",
    "              data = context_summary,\n",
    "              stat=\"identity\") +\n",
    "    facet_wrap(~row, ncol=1, scales='free') +\n",
    "    scale_fill_viridis(discrete = TRUE,\n",
    "                       option=\"plasma\",\n",
    "                       name = \"Recording context\") +\n",
    "    labs(y = \"Percentage of transcripts\",\n",
    "         x = \"\") +\n",
    "    theme_classic() +\n",
    "    theme_black() +\n",
    "    scale_x_discrete(position = \"top\") +\n",
    "    theme(text = element_text(size=11),\n",
    "          axis.text.x = element_text(colour=\"white\",vjust = 0.5, hjust = 0.5),\n",
    "          axis.ticks.x=element_blank(),\n",
    "          axis.text.y = element_text(colour=\"white\"),\n",
    "          strip.text.x = element_blank(),\n",
    "          legend.key.size = unit(4, 'mm'),\n",
    "          legend.background = element_rect(fill=\"black\",\n",
    "                                           size=0, linetype=\"dotted\",\n",
    "                                           colour = \"black\"))\n",
    "\n",
    "ggsave(\"../figures/Figure_2_black.pdf\", width = 7, height = 2.4,dpi=1200)\n",
    "# ggsave(\"../figures/Figure_2_.pdf\", width = 7, height = 2.4,dpi=1200)"
   ]
  },
  {
   "cell_type": "code",
   "execution_count": null,
   "metadata": {},
   "outputs": [],
   "source": []
  }
 ],
 "metadata": {
  "kernelspec": {
   "display_name": "Python 3",
   "language": "python",
   "name": "python3"
  },
  "language_info": {
   "codemirror_mode": {
    "name": "ipython",
    "version": 3
   },
   "file_extension": ".py",
   "mimetype": "text/x-python",
   "name": "python",
   "nbconvert_exporter": "python",
   "pygments_lexer": "ipython3",
   "version": "3.8.4"
  }
 },
 "nbformat": 4,
 "nbformat_minor": 5
}
