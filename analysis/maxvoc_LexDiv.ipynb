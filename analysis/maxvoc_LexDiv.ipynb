{
 "cells": [
  {
   "cell_type": "markdown",
   "id": "98d52b6f-8623-45c6-8882-8f97facc95f4",
   "metadata": {},
   "source": [
    "# Natural Statistics Cross-linguistic: \n",
    "\n",
    "#### Lexical diversity analysis - maximum infant vocalizations sample\n",
    "\n",
    "----"
   ]
  },
  {
   "cell_type": "code",
   "execution_count": 1,
   "id": "9f7dbfe7-46f5-4194-a4fc-bf966e44ef26",
   "metadata": {},
   "outputs": [],
   "source": [
    "import pandas as pd\n",
    "import numpy as np\n",
    "import sys\n",
    "sys.path.insert(0, \"data_proc\")\n",
    "import analytic_proc\n",
    "import warnings\n",
    "warnings.filterwarnings('ignore')"
   ]
  },
  {
   "cell_type": "code",
   "execution_count": 2,
   "id": "eb68a7e4-2943-4738-97d1-910e05315acb",
   "metadata": {},
   "outputs": [],
   "source": [
    "maxvoc_dat_inc = pd.read_csv(\"../data/maxvoc_dat_inc_master.csv\",index_col=0,low_memory=False)\n",
    "maxvoc_dat_inc=maxvoc_dat_inc[maxvoc_dat_inc[\"language\"]!=\"ara\"]\n",
    "maxvoc_dat_inc=maxvoc_dat_inc[(maxvoc_dat_inc[\"target_child_age\"]>=5) & (maxvoc_dat_inc[\"target_child_age\"]<=30)]\n",
    "maxvoc_dat_inc_cg = maxvoc_dat_inc[maxvoc_dat_inc[\"caregiver\"]==\"caregiver\"]\n",
    "\n",
    "maxvoc_dat_inc_cg[\"contingent\"] = np.where(maxvoc_dat_inc_cg[\"contingent\"]==1, \"contingent\", \"non-contingent\")\n",
    "maxvoc_dat_inc_cg[\"swu\"]=np.where(maxvoc_dat_inc_cg[\"num_tokens\"]==1,1,0)\n",
    "\n",
    "maxvoc_dat_inc_cg = maxvoc_dat_inc_cg[maxvoc_dat_inc_cg[\"gloss\"].notna()]\n",
    "maxvoc_dat_inc_cg = maxvoc_dat_inc_cg[maxvoc_dat_inc_cg[\"gloss\"]!=\"xxx\"]\n",
    "maxvoc_dat_inc_cg = maxvoc_dat_inc_cg[maxvoc_dat_inc_cg[\"gloss\"]!=\"yyy\"]\n",
    "maxvoc_dat_inc_cg = maxvoc_dat_inc_cg[maxvoc_dat_inc_cg[\"gloss\"]!=\"www\"]"
   ]
  },
  {
   "cell_type": "markdown",
   "id": "92babcfe-7117-4c34-a056-3d5c92ec5ebc",
   "metadata": {},
   "source": [
    "Would call the following if we could run lexical diversity analysis globally:\n",
    "\n",
    "```python\n",
    "analytic_proc.create_result(maxvoc_dat_inc_cg)\n",
    "```\n",
    "\n",
    "However, we want to have seperate dictionaries for contingent and non-contingent words so we can compare them to one another.\n",
    "\n",
    "The function will allow us to have a different dictionary for each transcript.\n",
    "\n",
    "Finally, to compare, we can run mixed effects to understand whether contingent and non-contingent utterances differ in their lexical diversity, controlling for number of transcripts."
   ]
  },
  {
   "cell_type": "markdown",
   "id": "217fde8a-31ec-46f5-a7e1-6bd00060c549",
   "metadata": {},
   "source": [
    "----\n",
    "#### Seperate contingent and non-contingent utterances into individual dataframes"
   ]
  },
  {
   "cell_type": "code",
   "execution_count": 3,
   "id": "03647562-121b-4a07-a989-da0003e1cf20",
   "metadata": {},
   "outputs": [],
   "source": [
    "maxvoc_dat_inc_cg_cc = maxvoc_dat_inc_cg[maxvoc_dat_inc_cg[\"contingent\"]==\"contingent\"].reset_index(drop=True)\n",
    "maxvoc_dat_inc_cg_nc = maxvoc_dat_inc_cg[maxvoc_dat_inc_cg[\"contingent\"]==\"non-contingent\"].reset_index(drop=True)"
   ]
  },
  {
   "cell_type": "markdown",
   "id": "466bbe7d-b391-4c9b-bfad-2ac00d111994",
   "metadata": {},
   "source": [
    "----\n",
    "#### Loop through each unique transcript to compute the lexical diversity counts across languages."
   ]
  },
  {
   "cell_type": "code",
   "execution_count": 4,
   "id": "2ee8ab88-0486-46e2-b067-7434074f2121",
   "metadata": {},
   "outputs": [],
   "source": [
    "# analytic_proc.create_result(maxvoc_dat_inc_cg_cc)"
   ]
  },
  {
   "cell_type": "code",
   "execution_count": 5,
   "id": "87c13a87-1a87-4d10-a355-3d705c139892",
   "metadata": {},
   "outputs": [],
   "source": [
    "# change the \"to_csv\" line at the end of analytic_proc.py first\n",
    "\n",
    "# analytic_proc.create_result(maxvoc_dat_inc_cg_nc)"
   ]
  },
  {
   "cell_type": "markdown",
   "id": "9874112a-d63f-4e08-a05a-fc7e8fddf248",
   "metadata": {},
   "source": [
    "----\n",
    "#### Lexical Diversity plot"
   ]
  },
  {
   "cell_type": "code",
   "execution_count": 3,
   "id": "0c7bb75a-9ab9-42e6-8fae-2c9395b0b2bd",
   "metadata": {},
   "outputs": [],
   "source": [
    "maxvoc_dat_inc_cg_cc = pd.read_csv(\"../data/maxvoc_dat_inc_master_cc_lexdiv.csv\",index_col=0,low_memory=False)\n",
    "maxvoc_dat_inc_cg_nc = pd.read_csv(\"../data/maxvoc_dat_inc_master_nc_lexdiv.csv\",index_col=0,low_memory=False)\n",
    "\n",
    "# combine dataframes into one\n",
    "\n",
    "maxvoc_dat_inc_cg = pd.concat([maxvoc_dat_inc_cg_cc,maxvoc_dat_inc_cg_nc])"
   ]
  },
  {
   "cell_type": "code",
   "execution_count": 4,
   "id": "af6423f0-95f2-46a8-aa37-70dab609a459",
   "metadata": {},
   "outputs": [],
   "source": [
    "maxvoc_lex_stats = (maxvoc_dat_inc_cg.groupby([\"Language_name\",\"target_child_id\",\"transcript_id\",\"contingent\"])\n",
    "                                  .uniquenss\n",
    "                                  .agg([\"sum\"])\n",
    "                                  .reset_index())\n",
    "maxvoc_lex_stats =  maxvoc_lex_stats.rename({'sum': 'sums'}, axis=1)"
   ]
  },
  {
   "cell_type": "code",
   "execution_count": 5,
   "id": "a247d495-e681-44ac-8697-289aed92617c",
   "metadata": {},
   "outputs": [
    {
     "data": {
      "text/plain": [
       "14"
      ]
     },
     "execution_count": 5,
     "metadata": {},
     "output_type": "execute_result"
    }
   ],
   "source": [
    "len(maxvoc_lex_stats[\"Language_name\"].unique())"
   ]
  },
  {
   "cell_type": "code",
   "execution_count": 6,
   "id": "66e323e3-a6a9-4b6f-8f39-6ff9c9a84be7",
   "metadata": {},
   "outputs": [],
   "source": [
    "%load_ext rpy2.ipython"
   ]
  },
  {
   "cell_type": "markdown",
   "id": "cfee4f9f-4972-46d7-9f5a-3aa767fc3d12",
   "metadata": {},
   "source": [
    "Simple plot"
   ]
  },
  {
   "cell_type": "code",
   "execution_count": 7,
   "id": "923f7bb0-b195-4c82-96c2-7f7262568207",
   "metadata": {},
   "outputs": [],
   "source": [
    "%%R -i maxvoc_lex_stats\n",
    "\n",
    "library('ggplot2')\n",
    "library('repr')\n",
    "options(repr.plot.width=6, repr.plot.height=12)\n",
    "\n",
    "xlabs <- c(\"C\", \"NC\")\n",
    "\n",
    "# ara_label <- data.frame(means=c(0),contingent = c(1.5),language=\"ara\") # no adult speech transcribed\n",
    "deu_label <- data.frame(sums=c(240),contingent = c(1.5),Language_name=\"German\")\n",
    "eng_label <- data.frame(sums=c(240),contingent = c(1.5),Language_name=\"English\")\n",
    "est_label <- data.frame(sums=c(240),contingent = c(1.5),Language_name=\"Estonian\")\n",
    "fas_label <- data.frame(sums=c(240),contingent = c(1.5),Language_name=\"Persian\")\n",
    "fra_label <- data.frame(sums=c(240),contingent = c(1.5),Language_name=\"French\")\n",
    "hrv_label <- data.frame(sums=c(240),contingent = c(1.5),Language_name=\"Croatian\")\n",
    "jpn_label <- data.frame(sums=c(240),contingent = c(1.5),Language_name=\"Japanese\")\n",
    "kor_label <- data.frame(sums=c(240),contingent = c(1.5),Language_name=\"Korean\")\n",
    "# nor_label <- data.frame(means=c(5.8),contingent = c(1.5),Language_name=\"Norwegian\")\n",
    "nor_ns_label <- data.frame(sums=c(247),contingent = c(1.5),Language_name=\"Norwegian\")\n",
    "pol_ns_label <- data.frame(sums=c(247),contingent = c(1.5),Language_name=\"Polish\")\n",
    "por_ns_label <- data.frame(sums=c(247),contingent = c(1.5),Language_name=\"Portuguese\")\n",
    "spa_ns_label <- data.frame(sums=c(247),contingent = c(1.5),Language_name=\"Spanish\")\n",
    "swe_ns_label <- data.frame(sums=c(247),contingent = c(1.5),Language_name=\"Swedish\")\n",
    "# zho_label <- data.frame(sums=c(240),contingent = c(1.5),Language_name=\"Mandarin\")\n",
    "zho_ns_label <- data.frame(sums=c(247),contingent = c(1.5),Language_name=\"Mandarin\")\n",
    "\n",
    "\n",
    "p <- ggplot(maxvoc_lex_stats, aes(x = contingent, y = sums, color = Language_name)) +\n",
    "     stat_summary(fun.y=mean, geom=\"point\", shape=19, size=1.75) + \n",
    "     stat_summary(fun.data = mean_se, geom = \"errorbar\", size=1.25, width = .5) +\n",
    "     facet_wrap(. ~ Language_name,ncol = 7) + \n",
    "     geom_text(data = deu_label,label = \"***\",size=8,color=\"black\") + \n",
    "     geom_text(data = eng_label,label = \"***\",size=8,color=\"black\") +  \n",
    "     geom_text(data = est_label,label = \"^\",size=4,color=\"black\") +  \n",
    "#      geom_text(data = fas_ns_label,label = \"*\",size=4,color=\"black\",fontface = \"italic\") +\n",
    "     geom_text(data = fas_label,label = \"*\",size=8, color=\"black\") +\n",
    "     geom_text(data = fra_label,label = \"***\",size=8,color=\"black\") +  \n",
    "     geom_text(data = hrv_label,label = \"***\",size=8,color=\"black\") + \n",
    "     geom_text(data = jpn_label,label = \"***\",size=8,color=\"black\") + \n",
    "     geom_text(data = kor_label,label = \"***\",size=8,color=\"black\") +  \n",
    "     geom_text(data = nor_ns_label,label = \"ns\",size=4,color=\"black\",fontface = \"italic\") +  \n",
    "#      geom_text(data = pol_ns_label,label = \"ns\", size=4,color=\"black\",fontface = \"italic\") +  \n",
    "     geom_text(data = por_ns_label,label = \"ns\",size=4,color=\"black\",fontface = \"italic\") +  \n",
    "     geom_text(data = spa_ns_label,label = \"ns\",size=4,color=\"black\",fontface = \"italic\") + \n",
    "     geom_text(data = swe_ns_label,label = \"ns\",size=4,color=\"black\",fontface = \"italic\") + \n",
    "     geom_text(data = zho_ns_label,label = \"ns\",size=4,color=\"black\",fontface = \"italic\") +\n",
    "#      geom_text(data = zho_label,label = \"***\",size=8, color=\"black\") +\n",
    "     ylim(0, 250) +\n",
    "     labs(y = \"Lexical Diversity\", x = \"\") +\n",
    "     theme_classic() +\n",
    "     theme(text = element_text(size=16),\n",
    "           axis.text.x = element_text(angle = 90, vjust = 0.5, hjust=1),\n",
    "           legend.title = element_blank(),\n",
    "           legend.background = element_rect(fill=alpha(\"white\",0.90),\n",
    "                                                            size=0, linetype=\"dotted\",\n",
    "                                                            colour = \"white\"),\n",
    "           legend.text=element_text(size=16))\n",
    "     ggsave(\"../figures/lexical_diversity_maxvoc.pdf\", width = 11.7, height = 6.2)"
   ]
  },
  {
   "cell_type": "markdown",
   "id": "794c8064-1fe8-4702-a9b5-d8abde038811",
   "metadata": {},
   "source": [
    "Plot + effect estimates"
   ]
  },
  {
   "cell_type": "code",
   "execution_count": 27,
   "id": "fb42c837-9122-44c2-9f3b-73470c82f0f8",
   "metadata": {},
   "outputs": [],
   "source": [
    "%%R\n",
    "\n",
    "deu_est_label <- data.frame(sums=c(.25),contingent = c(1),Language_name=\"German\")\n",
    "eng_est_label <- data.frame(sums=c(.25),contingent = c(1),Language_name=\"English\")\n",
    "est_est_label <- data.frame(sums=c(.25),contingent = c(1),Language_name=\"Estonian\")\n",
    "fas_est_label <- data.frame(sums=c(.25),contingent = c(1),Language_name=\"Persian\")\n",
    "fra_est_label <- data.frame(sums=c(.25),contingent = c(1),Language_name=\"French\")\n",
    "hrv_est_label <- data.frame(sums=c(.25),contingent = c(1),Language_name=\"Croatian\")\n",
    "jpn_est_label <- data.frame(sums=c(.25),contingent = c(1),Language_name=\"Japanese\")\n",
    "kor_est_label <- data.frame(sums=c(.25),contingent = c(1),Language_name=\"Korean\")\n",
    "nor_est_label <- data.frame(sums=c(.25),contingent = c(1),Language_name=\"Norwegian\")\n",
    "por_est_label <- data.frame(sums=c(.25),contingent = c(1),Language_name=\"Portuguese\")\n",
    "spa_est_label <- data.frame(sums=c(.25),contingent = c(1),Language_name=\"Spanish\")\n",
    "swe_est_label <- data.frame(sums=c(.25),contingent = c(1),Language_name=\"Swedish\")\n",
    "zho_est_label <- data.frame(sums=c(.25),contingent = c(1),Language_name=\"Mandarin\")\n",
    "\n",
    "p <- p + geom_text(data = deu_est_label,label = \"est=-41.6\",size=4,color=\"black\") +\n",
    "         geom_text(data = eng_est_label,label = \"est=-95.2\",size=4,color=\"black\") +\n",
    "         geom_text(data = est_est_label,label = \"est=-35.2\",size=4,color=\"black\") +\n",
    "         geom_text(data = fas_est_label,label = \"est=-36.4\",size=4,color=\"black\") +\n",
    "         geom_text(data = fra_est_label,label = \"est=-64.4\",size=4,color=\"black\") +\n",
    "         geom_text(data = hrv_est_label,label = \"est=-25.6\",size=4,color=\"black\") +\n",
    "         geom_text(data = jpn_est_label,label = \"est=-23.4\",size=4,color=\"black\") +\n",
    "         geom_text(data = kor_est_label,label = \"est=-73.6\",size=4,color=\"black\")\n",
    "#          geom_text(data = nor_est_label,label = \"est=-.68\",size=4,color=\"black\") +\n",
    "#          geom_text(data = por_est_label,label = \"est=-32.5\",size=4,color=\"black\") +\n",
    "#          geom_text(data = spa_est_label,label = \"est=-.39\",size=4,color=\"black\") +\n",
    "#          geom_text(data = swe_est_label,label = \"est=-43.4\",size=4,color=\"black\") +\n",
    "#          geom_text(data = zho_est_label,label = \"est=-60\",size=4,color=\"black\")\n",
    "         \n",
    "\n",
    "ggsave(\"../figures/lexical_diversity_maxvoc_eff.pdf\", width = 11.7, height = 6.2)"
   ]
  },
  {
   "cell_type": "markdown",
   "id": "3810c062-6426-46b5-a703-12659b2afa22",
   "metadata": {},
   "source": [
    "\\+ sample size"
   ]
  },
  {
   "cell_type": "code",
   "execution_count": 28,
   "id": "169966d8-5c83-4312-bed1-aef616ba650e",
   "metadata": {},
   "outputs": [],
   "source": [
    "%%R\n",
    "\n",
    "deu_n_label <- data.frame(sums=c(.25),contingent = c(1.7),Language_name=\"German\")\n",
    "eng_n_label <- data.frame(sums=c(.25),contingent = c(1.7),Language_name=\"English\")\n",
    "est_n_label <- data.frame(sums=c(.25),contingent = c(1.7),Language_name=\"Estonian\")\n",
    "fas_n_label <- data.frame(sums=c(.25),contingent = c(1.7),Language_name=\"Persian\")\n",
    "fra_n_label <- data.frame(sums=c(.25),contingent = c(1.7),Language_name=\"French\")\n",
    "hrv_n_label <- data.frame(sums=c(.25),contingent = c(1.7),Language_name=\"Croatian\")\n",
    "jpn_n_label <- data.frame(sums=c(.25),contingent = c(1.7),Language_name=\"Japanese\")\n",
    "kor_n_label <- data.frame(sums=c(.25),contingent = c(1.7),Language_name=\"Korean\")\n",
    "nor_n_label <- data.frame(sums=c(.25),contingent = c(1.7),Language_name=\"Norwegian\")\n",
    "pol_n_label <- data.frame(sums=c(.25),contingent = c(1.7),Language_name=\"Polish\")\n",
    "por_n_label <- data.frame(sums=c(.25),contingent = c(1.7),Language_name=\"Portuguese\")\n",
    "spa_n_label <- data.frame(sums=c(.25),contingent = c(1.7),Language_name=\"Spanish\")\n",
    "swe_n_label <- data.frame(sums=c(.25),contingent = c(1.7),Language_name=\"Swedish\")\n",
    "zho_n_label <- data.frame(sums=c(.25),contingent = c(1.7),Language_name=\"Mandarin\")\n",
    "\n",
    "deu_sz_label <- data.frame(sums=c(.25),contingent = c(2.1),Language_name=\"German\")\n",
    "eng_sz_label <- data.frame(sums=c(.25),contingent = c(2.1),Language_name=\"English\")\n",
    "est_sz_label <- data.frame(sums=c(.25),contingent = c(2.1),Language_name=\"Estonian\")\n",
    "fas_sz_label <- data.frame(sums=c(.25),contingent = c(2.1),Language_name=\"Persian\")\n",
    "fra_sz_label <- data.frame(sums=c(.25),contingent = c(2.1),Language_name=\"French\")\n",
    "hrv_sz_label <- data.frame(sums=c(.25),contingent = c(2.1),Language_name=\"Croatian\")\n",
    "jpn_sz_label <- data.frame(sums=c(.25),contingent = c(2.1),Language_name=\"Japanese\")\n",
    "kor_sz_label <- data.frame(sums=c(.25),contingent = c(2.1),Language_name=\"Korean\")\n",
    "nor_sz_label <- data.frame(sums=c(.25),contingent = c(2.1),Language_name=\"Norwegian\")\n",
    "pol_sz_label <- data.frame(sums=c(.25),contingent = c(2.1),Language_name=\"Polish\")\n",
    "por_sz_label <- data.frame(sums=c(.25),contingent = c(2.1),Language_name=\"Portuguese\")\n",
    "spa_sz_label <- data.frame(sums=c(.25),contingent = c(2.1),Language_name=\"Spanish\")\n",
    "swe_sz_label <- data.frame(sums=c(.25),contingent = c(2.1),Language_name=\"Swedish\")\n",
    "zho_sz_label <- data.frame(sums=c(.25),contingent = c(2.1),Language_name=\"Mandarin\")\n",
    "\n",
    "p <- p + geom_text(data = deu_n_label,label = \"n\",size=4,color=\"black\",fontface = \"italic\") +\n",
    "         geom_text(data = eng_n_label,label = \"n\",size=4,color=\"black\",fontface = \"italic\") +\n",
    "         geom_text(data = est_n_label,label = \"n\",size=4,color=\"black\",fontface = \"italic\") +\n",
    "         geom_text(data = fas_n_label,label = \"n\",size=4,color=\"black\",fontface = \"italic\") +\n",
    "         geom_text(data = fra_n_label,label = \"n\",size=4,color=\"black\",fontface = \"italic\") +\n",
    "         geom_text(data = hrv_n_label,label = \"n\",size=4,color=\"black\",fontface = \"italic\") +\n",
    "         geom_text(data = jpn_n_label,label = \"n\",size=4,color=\"black\",fontface = \"italic\") +\n",
    "         geom_text(data = kor_n_label,label = \"n\",size=4,color=\"black\",fontface = \"italic\") +\n",
    "         geom_text(data = nor_n_label,label = \"n\",size=4,color=\"black\",fontface = \"italic\") +\n",
    "         geom_text(data = pol_n_label,label = \"n\",size=4,color=\"black\",fontface = \"italic\") +\n",
    "         geom_text(data = por_n_label,label = \"n\",size=4,color=\"black\",fontface = \"italic\") +\n",
    "         geom_text(data = spa_n_label,label = \"n\",size=4,color=\"black\",fontface = \"italic\") +\n",
    "         geom_text(data = swe_n_label,label = \"n\",size=4,color=\"black\",fontface = \"italic\") +\n",
    "         geom_text(data = zho_n_label,label = \"n\",size=4,color=\"black\",fontface = \"italic\") +\n",
    "         geom_text(data = deu_sz_label,label = \" = 39\",size=4,color=\"black\") +\n",
    "         geom_text(data = eng_sz_label,label = \" =1010\",size=4,color=\"black\") +\n",
    "         geom_text(data = est_sz_label,label = \" = 22\",size=4,color=\"black\") +\n",
    "         geom_text(data = fas_sz_label,label = \" = 12\",size=4,color=\"black\") +\n",
    "         geom_text(data = fra_sz_label,label = \" = 258\",size=4,color=\"black\") +\n",
    "         geom_text(data = hrv_sz_label,label = \" = 79\",size=4,color=\"black\") +\n",
    "         geom_text(data = jpn_sz_label,label = \" = 139\",size=4,color=\"black\") +\n",
    "         geom_text(data = kor_sz_label,label = \" = 37\",size=4,color=\"black\") +\n",
    "         geom_text(data = nor_sz_label,label = \" = 56\",size=4,color=\"black\") +\n",
    "         geom_text(data = pol_sz_label,label = \" = 1\",size=4,color=\"black\") +\n",
    "         geom_text(data = por_sz_label,label = \" = 24\",size=4,color=\"black\") +\n",
    "         geom_text(data = spa_sz_label,label = \" = 31\",size=4,color=\"black\") +\n",
    "         geom_text(data = swe_sz_label,label = \" = 16\",size=4,color=\"black\") +\n",
    "         geom_text(data = zho_sz_label,label = \" = 2\",size=4,color=\"black\")\n",
    "         \n",
    "\n",
    "ggsave(\"../figures/lexical_diversity_maxvoc_eff_n.pdf\", width = 11.7, height = 6.2)"
   ]
  },
  {
   "cell_type": "markdown",
   "id": "32bfc920-462a-48f5-add1-1a30947a135d",
   "metadata": {},
   "source": [
    "----\n",
    "#### Lexical diversity mixed models"
   ]
  },
  {
   "cell_type": "code",
   "execution_count": 8,
   "id": "63d1414f-0dbe-40f7-b257-1541da118b96",
   "metadata": {},
   "outputs": [],
   "source": [
    "# ara=maxvoc_dat_inc_cg[['language','num_tokens','contingent','transcript_id','target_child_id']][maxvoc_dat_inc_cg[\"language\"]==\"ara\"] # no adult speech transcribed\n",
    "deu=maxvoc_lex_stats[['Language_name','sums','contingent','transcript_id','target_child_id']][maxvoc_lex_stats[\"Language_name\"]==\"German\"]\n",
    "eng=maxvoc_lex_stats[['Language_name','sums','contingent','transcript_id','target_child_id']][maxvoc_lex_stats[\"Language_name\"]==\"English\"]\n",
    "est=maxvoc_lex_stats[['Language_name','sums','contingent','transcript_id','target_child_id']][maxvoc_lex_stats[\"Language_name\"]==\"Estonian\"]\n",
    "fas=maxvoc_lex_stats[['Language_name','sums','contingent','transcript_id','target_child_id']][maxvoc_lex_stats[\"Language_name\"]==\"Persian\"]\n",
    "fra=maxvoc_lex_stats[['Language_name','sums','contingent','transcript_id','target_child_id']][maxvoc_lex_stats[\"Language_name\"]==\"French\"]\n",
    "hrv=maxvoc_lex_stats[['Language_name','sums','contingent','transcript_id','target_child_id']][maxvoc_lex_stats[\"Language_name\"]==\"Croatian\"]\n",
    "jpn=maxvoc_lex_stats[['Language_name','sums','contingent','transcript_id','target_child_id']][maxvoc_lex_stats[\"Language_name\"]==\"Japanese\"]\n",
    "kor=maxvoc_lex_stats[['Language_name','sums','contingent','transcript_id','target_child_id']][maxvoc_lex_stats[\"Language_name\"]==\"Korean\"]\n",
    "nor=maxvoc_lex_stats[['Language_name','sums','contingent','transcript_id','target_child_id']][maxvoc_lex_stats[\"Language_name\"]==\"Norwegian\"]\n",
    "pol=maxvoc_lex_stats[['Language_name','sums','contingent','transcript_id','target_child_id']][maxvoc_lex_stats[\"Language_name\"]==\"Polish\"]\n",
    "por=maxvoc_lex_stats[['Language_name','sums','contingent','transcript_id','target_child_id']][maxvoc_lex_stats[\"Language_name\"]==\"Portuguese\"]\n",
    "spa=maxvoc_lex_stats[['Language_name','sums','contingent','transcript_id','target_child_id']][maxvoc_lex_stats[\"Language_name\"]==\"Spanish\"]\n",
    "swe=maxvoc_lex_stats[['Language_name','sums','contingent','transcript_id','target_child_id']][maxvoc_lex_stats[\"Language_name\"]==\"Swedish\"]\n",
    "zho=maxvoc_lex_stats[['Language_name','sums','contingent','transcript_id','target_child_id']][maxvoc_lex_stats[\"Language_name\"]==\"Mandarin\"]"
   ]
  },
  {
   "cell_type": "code",
   "execution_count": 15,
   "id": "087cc690-f863-4d34-a8fa-5d4b7ec24837",
   "metadata": {},
   "outputs": [],
   "source": [
    "%%R\n",
    "\n",
    "library(\"lme4\")\n",
    "library(\"emmeans\")\n",
    "library(\"lmerTest\")\n",
    "library(\"tidyverse\")\n",
    "\n",
    "effect_sizes <- read.csv(\"../data/lexdiv_effect_sizes.csv\")\n",
    "\n",
    "effect_sizes[\"max_voc_effect_size\"] <- NA"
   ]
  },
  {
   "cell_type": "code",
   "execution_count": 16,
   "id": "c772d53e-77c1-4347-8dab-49fcdbd52542",
   "metadata": {},
   "outputs": [
    {
     "name": "stdout",
     "output_type": "stream",
     "text": [
      "[[1]]\n",
      " contrast                      estimate   SE df t.ratio p.value\n",
      " contingent - (non-contingent)    -41.8 8.23 39 -5.087  <.0001 \n",
      "\n",
      "Degrees-of-freedom method: kenward-roger \n",
      "\n",
      "[[2]]\n",
      "[1] 9.501183e-06\n",
      "\n",
      "[1] 0.0001330166\n"
     ]
    },
    {
     "name": "stderr",
     "output_type": "stream",
     "text": [
      "R[write to console]: Since 'object' is a list, we are using the contrasts already present.\n",
      "\n"
     ]
    },
    {
     "name": "stdout",
     "output_type": "stream",
     "text": [
      "   Language_name rand_effect_size max_voc_effect_size\n",
      "1         German        -1.823008           -1.182683\n",
      "2        English        -2.469682                  NA\n",
      "3       Estonian        -1.305378                  NA\n",
      "4        Persian        -2.931949                  NA\n",
      "5         French        -1.738904                  NA\n",
      "6       Croatian        -1.783383                  NA\n",
      "7       Japanese        -1.686991                  NA\n",
      "8         Korean        -2.152637                  NA\n",
      "9      Norwegian              NaN                  NA\n",
      "10        Polish              NaN                  NA\n",
      "11    Portuguese        -1.405287                  NA\n",
      "12       Spanish              NaN                  NA\n",
      "13       Swedish              NaN                  NA\n",
      "14      Mandarin        -7.228203                  NA\n"
     ]
    }
   ],
   "source": [
    "%%R -i deu\n",
    "\n",
    "lm2 <- lmer(sums ~ contingent + (1|target_child_id) + (1|transcript_id),data=deu, REML= FALSE)\n",
    "emm2<-emmeans(lm2,pairwise~contingent)\n",
    "pval<-summary(emm2$contrasts)$p.value\n",
    "print(c(emm2$contrasts, pval))\n",
    "print(p.adjust(pval, \"holm\", 14)) # create big vector of p-values and ajdust those\n",
    "# summary(emmeans(lm2,\"contingent\",contr=\"pairwise\"),infer=TRUE) #group means\n",
    "# test(contrast(emmeans(lm2,\"contingent\"), \"trt.vs.ctrl\"), joint = TRUE) #main effect - are any groups different\n",
    "\n",
    "deu_lname <- deu$Language_name[1]\n",
    "\n",
    "deu_eff <- eff_size(emm2,sigma = sigma(lm2), edf = df.residual(lm2))\n",
    "\n",
    "deu_eff <- summary(deu_eff)$effect.size\n",
    "\n",
    "effect_sizes[effect_sizes$Language_name==deu_lname,\"max_voc_effect_size\"] <- deu_eff\n",
    "effect_sizes"
   ]
  },
  {
   "cell_type": "code",
   "execution_count": 17,
   "id": "6f20e89b-1cb3-4215-900d-6d6363aa2399",
   "metadata": {},
   "outputs": [
    {
     "name": "stderr",
     "output_type": "stream",
     "text": [
      "R[write to console]: boundary (singular) fit: see ?isSingular\n",
      "\n",
      "R[write to console]: boundary (singular) fit: see ?isSingular\n",
      "\n"
     ]
    },
    {
     "name": "stdout",
     "output_type": "stream",
     "text": [
      "[[1]]\n",
      " contrast                      estimate   SE  df t.ratio p.value\n",
      " contingent - (non-contingent)    -94.5 1.96 977 -48.297 <.0001 \n",
      "\n",
      "Degrees-of-freedom method: kenward-roger \n",
      "\n",
      "[[2]]\n",
      "[1] 3.855871e-261\n",
      "\n",
      "[1] 5.398219e-260\n"
     ]
    },
    {
     "name": "stderr",
     "output_type": "stream",
     "text": [
      "R[write to console]: Since 'object' is a list, we are using the contrasts already present.\n",
      "\n"
     ]
    },
    {
     "name": "stdout",
     "output_type": "stream",
     "text": [
      "   Language_name rand_effect_size max_voc_effect_size\n",
      "1         German        -1.823008           -1.182683\n",
      "2        English        -2.469682           -2.204985\n",
      "3       Estonian        -1.305378                  NA\n",
      "4        Persian        -2.931949                  NA\n",
      "5         French        -1.738904                  NA\n",
      "6       Croatian        -1.783383                  NA\n",
      "7       Japanese        -1.686991                  NA\n",
      "8         Korean        -2.152637                  NA\n",
      "9      Norwegian              NaN                  NA\n",
      "10        Polish              NaN                  NA\n",
      "11    Portuguese        -1.405287                  NA\n",
      "12       Spanish              NaN                  NA\n",
      "13       Swedish              NaN                  NA\n",
      "14      Mandarin        -7.228203                  NA\n"
     ]
    }
   ],
   "source": [
    "%%R -i eng\n",
    "\n",
    "lm3 <- lmer(sums ~ contingent + (1|target_child_id) + (1|transcript_id),data=eng, REML= FALSE)\n",
    "emm3<-emmeans(lm3,pairwise~contingent)\n",
    "pval<-summary(emm3$contrasts)$p.value\n",
    "print(c(emm3$contrasts, pval))\n",
    "print(p.adjust(pval, \"holm\", 14))\n",
    "# summary(emmeans(lm3,\"contingent\",infer=TRUE)) #group means\n",
    "# test(contrast(emmeans(lm3,\"contingent\"), \"trt.vs.ctrl\"), joint = TRUE) #main effect - are any groups different\n",
    "\n",
    "eng_lname <- eng$Language_name[1]\n",
    "\n",
    "eng_eff <- eff_size(emm3,sigma = sigma(lm3), edf = df.residual(lm3))\n",
    "\n",
    "eng_eff <- summary(eng_eff)$effect.size\n",
    "\n",
    "effect_sizes[effect_sizes$Language_name==eng_lname,\"max_voc_effect_size\"] <- eng_eff\n",
    "effect_sizes"
   ]
  },
  {
   "cell_type": "code",
   "execution_count": 18,
   "id": "e63924b7-d56a-47a2-bf22-9db7d44d2578",
   "metadata": {},
   "outputs": [
    {
     "name": "stderr",
     "output_type": "stream",
     "text": [
      "R[write to console]: boundary (singular) fit: see ?isSingular\n",
      "\n",
      "R[write to console]: boundary (singular) fit: see ?isSingular\n",
      "\n"
     ]
    },
    {
     "name": "stdout",
     "output_type": "stream",
     "text": [
      "[[1]]\n",
      " contrast                      estimate   SE   df t.ratio p.value\n",
      " contingent - (non-contingent)    -35.2 11.6 23.1 -3.023  0.0061 \n",
      "\n",
      "Degrees-of-freedom method: kenward-roger \n",
      "\n",
      "[[2]]\n",
      "[1] 0.006050673\n",
      "\n",
      "[1] 0.08470942\n"
     ]
    },
    {
     "name": "stderr",
     "output_type": "stream",
     "text": [
      "R[write to console]: Since 'object' is a list, we are using the contrasts already present.\n",
      "\n"
     ]
    },
    {
     "name": "stdout",
     "output_type": "stream",
     "text": [
      "   Language_name rand_effect_size max_voc_effect_size\n",
      "1         German        -1.823008          -1.1826828\n",
      "2        English        -2.469682          -2.2049846\n",
      "3       Estonian        -1.305378          -0.9327983\n",
      "4        Persian        -2.931949                  NA\n",
      "5         French        -1.738904                  NA\n",
      "6       Croatian        -1.783383                  NA\n",
      "7       Japanese        -1.686991                  NA\n",
      "8         Korean        -2.152637                  NA\n",
      "9      Norwegian              NaN                  NA\n",
      "10        Polish              NaN                  NA\n",
      "11    Portuguese        -1.405287                  NA\n",
      "12       Spanish              NaN                  NA\n",
      "13       Swedish              NaN                  NA\n",
      "14      Mandarin        -7.228203                  NA\n"
     ]
    }
   ],
   "source": [
    "%%R -i est\n",
    "\n",
    "lm4 <- lmer(sums ~ contingent + (1|target_child_id) + (1|transcript_id),data=est, REML= FALSE)\n",
    "emm4<-emmeans(lm4,pairwise~contingent)\n",
    "pval<-summary(emm4$contrasts)$p.value\n",
    "print(c(emm4$contrasts, pval))\n",
    "print(p.adjust(pval, \"holm\", 14))\n",
    "# summary(emmeans(lm4,\"contingent\",infer=TRUE)) #group means\n",
    "# test(contrast(emmeans(lm4,\"contingent\"), \"trt.vs.ctrl\"), joint = TRUE) #main effect - are any groups different\n",
    "\n",
    "est_lname <- est$Language_name[1]\n",
    "\n",
    "est_eff <- eff_size(emm4,sigma = sigma(lm4), edf = df.residual(lm4))\n",
    "\n",
    "est_eff <- summary(est_eff)$effect.size\n",
    "\n",
    "effect_sizes[effect_sizes$Language_name==est_lname,\"max_voc_effect_size\"] <- est_eff\n",
    "effect_sizes"
   ]
  },
  {
   "cell_type": "code",
   "execution_count": 19,
   "id": "bf4e4095-d52f-4c84-b4d3-5ab0bf9a2eb6",
   "metadata": {},
   "outputs": [
    {
     "name": "stdout",
     "output_type": "stream",
     "text": [
      "[[1]]\n",
      " contrast                      estimate   SE   df t.ratio p.value\n",
      " contingent - (non-contingent)    -36.3 8.57 12.1 -4.233  0.0011 \n",
      "\n",
      "Degrees-of-freedom method: kenward-roger \n",
      "\n",
      "[[2]]\n",
      "[1] 0.001140555\n",
      "\n",
      "[1] 0.01596777\n"
     ]
    },
    {
     "name": "stderr",
     "output_type": "stream",
     "text": [
      "R[write to console]: Since 'object' is a list, we are using the contrasts already present.\n",
      "\n"
     ]
    },
    {
     "name": "stdout",
     "output_type": "stream",
     "text": [
      "   Language_name rand_effect_size max_voc_effect_size\n",
      "1         German        -1.823008          -1.1826828\n",
      "2        English        -2.469682          -2.2049846\n",
      "3       Estonian        -1.305378          -0.9327983\n",
      "4        Persian        -2.931949          -1.8931652\n",
      "5         French        -1.738904                  NA\n",
      "6       Croatian        -1.783383                  NA\n",
      "7       Japanese        -1.686991                  NA\n",
      "8         Korean        -2.152637                  NA\n",
      "9      Norwegian              NaN                  NA\n",
      "10        Polish              NaN                  NA\n",
      "11    Portuguese        -1.405287                  NA\n",
      "12       Spanish              NaN                  NA\n",
      "13       Swedish              NaN                  NA\n",
      "14      Mandarin        -7.228203                  NA\n"
     ]
    }
   ],
   "source": [
    "%%R -i fas\n",
    "\n",
    "lm5 <- lmer(sums ~ contingent + (1|transcript_id),data=fas, REML= FALSE)\n",
    "emm5<-emmeans(lm5,pairwise~contingent)\n",
    "pval<-summary(emm5$contrasts)$p.value\n",
    "print(c(emm5$contrasts, pval))\n",
    "print(p.adjust(pval, \"holm\", 14))\n",
    "# summary(emmeans(lm5,\"contingent\",infer=TRUE)) #group means\n",
    "# test(contrast(emmeans(lm5,\"contingent\"), \"trt.vs.ctrl\"), joint = TRUE) #main effect - are any groups different\n",
    "\n",
    "fas_lname <- fas$Language_name[1]\n",
    "\n",
    "fas_eff <- eff_size(emm5,sigma = sigma(lm5), edf = df.residual(lm5))\n",
    "\n",
    "fas_eff <- summary(fas_eff)$effect.size\n",
    "\n",
    "effect_sizes[effect_sizes$Language_name==fas_lname,\"max_voc_effect_size\"] <- fas_eff\n",
    "effect_sizes"
   ]
  },
  {
   "cell_type": "code",
   "execution_count": 20,
   "id": "965063b9-3964-4abf-85df-c08f6219f047",
   "metadata": {},
   "outputs": [
    {
     "name": "stdout",
     "output_type": "stream",
     "text": [
      "[[1]]\n",
      " contrast                      estimate   SE  df t.ratio p.value\n",
      " contingent - (non-contingent)    -55.1 2.92 284 -18.863 <.0001 \n",
      "\n",
      "Degrees-of-freedom method: kenward-roger \n",
      "\n",
      "[[2]]\n",
      "[1] 5.450767e-52\n",
      "\n",
      "[1] 7.631074e-51\n"
     ]
    },
    {
     "name": "stderr",
     "output_type": "stream",
     "text": [
      "R[write to console]: Since 'object' is a list, we are using the contrasts already present.\n",
      "\n"
     ]
    },
    {
     "name": "stdout",
     "output_type": "stream",
     "text": [
      "   Language_name rand_effect_size max_voc_effect_size\n",
      "1         German        -1.823008          -1.1826828\n",
      "2        English        -2.469682          -2.2049846\n",
      "3       Estonian        -1.305378          -0.9327983\n",
      "4        Persian        -2.931949          -1.8931652\n",
      "5         French        -1.738904          -1.5925148\n",
      "6       Croatian        -1.783383                  NA\n",
      "7       Japanese        -1.686991                  NA\n",
      "8         Korean        -2.152637                  NA\n",
      "9      Norwegian              NaN                  NA\n",
      "10        Polish              NaN                  NA\n",
      "11    Portuguese        -1.405287                  NA\n",
      "12       Spanish              NaN                  NA\n",
      "13       Swedish              NaN                  NA\n",
      "14      Mandarin        -7.228203                  NA\n"
     ]
    }
   ],
   "source": [
    "%%R -i fra\n",
    "\n",
    "lm6 <- lmer(sums ~ contingent + (1|target_child_id) + (1|transcript_id),data=fra, REML= FALSE)\n",
    "emm6<-emmeans(lm6,pairwise~contingent)\n",
    "pval<-summary(emm6$contrasts)$p.value\n",
    "print(c(emm6$contrasts, pval))\n",
    "print(p.adjust(pval, \"holm\", 14))\n",
    "# summary(emmeans(lm6,\"contingent\",infer=TRUE)) #group means\n",
    "# test(contrast(emmeans(lm6,\"contingent\"), \"trt.vs.ctrl\"), joint = TRUE) #main effect - are any groups different\n",
    "\n",
    "fra_lname <- fra$Language_name[1]\n",
    "\n",
    "fra_eff <- eff_size(emm6,sigma = sigma(lm6), edf = df.residual(lm6))\n",
    "\n",
    "fra_eff <- summary(fra_eff)$effect.size\n",
    "\n",
    "effect_sizes[effect_sizes$Language_name==fra_lname,\"max_voc_effect_size\"] <- fra_eff\n",
    "effect_sizes"
   ]
  },
  {
   "cell_type": "code",
   "execution_count": 21,
   "id": "16023e5a-d16b-4b93-ac4e-4ea3753e57ae",
   "metadata": {},
   "outputs": [
    {
     "name": "stdout",
     "output_type": "stream",
     "text": [
      "[[1]]\n",
      " contrast                      estimate   SE df t.ratio p.value\n",
      " contingent - (non-contingent)    -25.6 4.39 58 -5.825  <.0001 \n",
      "\n",
      "Degrees-of-freedom method: kenward-roger \n",
      "\n",
      "[[2]]\n",
      "[1] 2.644475e-07\n",
      "\n",
      "[1] 3.702265e-06\n"
     ]
    },
    {
     "name": "stderr",
     "output_type": "stream",
     "text": [
      "R[write to console]: Since 'object' is a list, we are using the contrasts already present.\n",
      "\n"
     ]
    },
    {
     "name": "stdout",
     "output_type": "stream",
     "text": [
      "   Language_name rand_effect_size max_voc_effect_size\n",
      "1         German        -1.823008          -1.1826828\n",
      "2        English        -2.469682          -2.2049846\n",
      "3       Estonian        -1.305378          -0.9327983\n",
      "4        Persian        -2.931949          -1.8931652\n",
      "5         French        -1.738904          -1.5925148\n",
      "6       Croatian        -1.783383          -1.1007646\n",
      "7       Japanese        -1.686991                  NA\n",
      "8         Korean        -2.152637                  NA\n",
      "9      Norwegian              NaN                  NA\n",
      "10        Polish              NaN                  NA\n",
      "11    Portuguese        -1.405287                  NA\n",
      "12       Spanish              NaN                  NA\n",
      "13       Swedish              NaN                  NA\n",
      "14      Mandarin        -7.228203                  NA\n"
     ]
    }
   ],
   "source": [
    "%%R -i hrv\n",
    "\n",
    "lm7 <- lmer(sums ~ contingent + (1|target_child_id) + (1|transcript_id),data=hrv, REML= FALSE)\n",
    "emm7<-emmeans(lm7,pairwise~contingent)\n",
    "pval<-summary(emm7$contrasts)$p.value\n",
    "print(c(emm7$contrasts, pval))\n",
    "print(p.adjust(pval, \"holm\", 14))\n",
    "# summary(emmeans(lm7,\"contingent\",infer=TRUE)) #group means\n",
    "# test(contrast(emmeans(lm7,\"contingent\"), \"trt.vs.ctrl\"), joint = TRUE) #main effect - are any groups different\n",
    "\n",
    "hrv_lname <- hrv$Language_name[1]\n",
    "\n",
    "hrv_eff <- eff_size(emm7,sigma = sigma(lm7), edf = df.residual(lm7))\n",
    "\n",
    "hrv_eff <- summary(hrv_eff)$effect.size\n",
    "\n",
    "effect_sizes[effect_sizes$Language_name==hrv_lname,\"max_voc_effect_size\"] <- hrv_eff\n",
    "effect_sizes"
   ]
  },
  {
   "cell_type": "code",
   "execution_count": 22,
   "id": "fc415c17-4281-4b84-80fa-82c938675e4a",
   "metadata": {},
   "outputs": [
    {
     "name": "stdout",
     "output_type": "stream",
     "text": [
      "[[1]]\n",
      " contrast                      estimate   SE  df t.ratio p.value\n",
      " contingent - (non-contingent)    -25.7 2.75 140 -9.331  <.0001 \n",
      "\n",
      "Degrees-of-freedom method: kenward-roger \n",
      "\n",
      "[[2]]\n",
      "[1] 2.138177e-16\n",
      "\n",
      "[1] 2.993448e-15\n"
     ]
    },
    {
     "name": "stderr",
     "output_type": "stream",
     "text": [
      "R[write to console]: Since 'object' is a list, we are using the contrasts already present.\n",
      "\n"
     ]
    },
    {
     "name": "stdout",
     "output_type": "stream",
     "text": [
      "   Language_name rand_effect_size max_voc_effect_size\n",
      "1         German        -1.823008          -1.1826828\n",
      "2        English        -2.469682          -2.2049846\n",
      "3       Estonian        -1.305378          -0.9327983\n",
      "4        Persian        -2.931949          -1.8931652\n",
      "5         French        -1.738904          -1.5925148\n",
      "6       Croatian        -1.783383          -1.1007646\n",
      "7       Japanese        -1.686991          -1.1232899\n",
      "8         Korean        -2.152637                  NA\n",
      "9      Norwegian              NaN                  NA\n",
      "10        Polish              NaN                  NA\n",
      "11    Portuguese        -1.405287                  NA\n",
      "12       Spanish              NaN                  NA\n",
      "13       Swedish              NaN                  NA\n",
      "14      Mandarin        -7.228203                  NA\n"
     ]
    }
   ],
   "source": [
    "%%R -i jpn\n",
    "\n",
    "lm8 <- lmer(sums ~ contingent + (1|target_child_id) + (1|transcript_id),data=jpn, REML= FALSE)\n",
    "emm8<-emmeans(lm8,pairwise~contingent)\n",
    "pval<-summary(emm8$contrasts)$p.value\n",
    "print(c(emm8$contrasts, pval))\n",
    "print(p.adjust(pval, \"holm\", 14))\n",
    "# summary(emmeans(lm8,\"contingent\",infer=TRUE)) #group means\n",
    "# test(contrast(emmeans(lm8,\"contingent\"), \"trt.vs.ctrl\"), joint = TRUE) #main effect - are any groups different\n",
    "\n",
    "jpn_lname <- jpn$Language_name[1]\n",
    "\n",
    "jpn_eff <- eff_size(emm8,sigma = sigma(lm8), edf = df.residual(lm8))\n",
    "\n",
    "jpn_eff <- summary(jpn_eff)$effect.size\n",
    "\n",
    "effect_sizes[effect_sizes$Language_name==jpn_lname,\"max_voc_effect_size\"] <- jpn_eff\n",
    "effect_sizes"
   ]
  },
  {
   "cell_type": "code",
   "execution_count": 23,
   "id": "ca8d60d1-9de5-410b-a645-6feaa683d5dc",
   "metadata": {},
   "outputs": [
    {
     "name": "stderr",
     "output_type": "stream",
     "text": [
      "R[write to console]: boundary (singular) fit: see ?isSingular\n",
      "\n",
      "R[write to console]: boundary (singular) fit: see ?isSingular\n",
      "\n"
     ]
    },
    {
     "name": "stdout",
     "output_type": "stream",
     "text": [
      "[[1]]\n",
      " contrast                      estimate SE df t.ratio p.value\n",
      " contingent - (non-contingent)    -73.6 13 29 -5.659  <.0001 \n",
      "\n",
      "Degrees-of-freedom method: kenward-roger \n",
      "\n",
      "[[2]]\n",
      "[1] 4.055897e-06\n",
      "\n"
     ]
    },
    {
     "name": "stderr",
     "output_type": "stream",
     "text": [
      "R[write to console]: Since 'object' is a list, we are using the contrasts already present.\n",
      "\n"
     ]
    },
    {
     "name": "stdout",
     "output_type": "stream",
     "text": [
      "   Language_name rand_effect_size max_voc_effect_size\n",
      "1         German        -1.823008          -1.1826828\n",
      "2        English        -2.469682          -2.2049846\n",
      "3       Estonian        -1.305378          -0.9327983\n",
      "4        Persian        -2.931949          -1.8931652\n",
      "5         French        -1.738904          -1.5925148\n",
      "6       Croatian        -1.783383          -1.1007646\n",
      "7       Japanese        -1.686991          -1.1232899\n",
      "8         Korean        -2.152637          -1.5402032\n",
      "9      Norwegian              NaN                  NA\n",
      "10        Polish              NaN                  NA\n",
      "11    Portuguese        -1.405287                  NA\n",
      "12       Spanish              NaN                  NA\n",
      "13       Swedish              NaN                  NA\n",
      "14      Mandarin        -7.228203                  NA\n"
     ]
    }
   ],
   "source": [
    "%%R -i kor\n",
    "\n",
    "lm9 <- lmer(sums ~ contingent + (1|transcript_id), data=kor, REML= FALSE)\n",
    "emm9<-emmeans(lm9,pairwise~contingent)\n",
    "pval<-summary(emm9$contrasts)$p.value\n",
    "print(c(emm9$contrasts, pval))\n",
    "p.adjust(pval, \"holm\", 14)\n",
    "# summary(emmeans(lm9,\"contingent\",infer=TRUE)) #group means\n",
    "# test(contrast(emmeans(lm9,\"contingent\"), \"trt.vs.ctrl\"), joint = TRUE) #main effect - are any groups different\n",
    "\n",
    "kor_lname <- kor$Language_name[1]\n",
    "\n",
    "kor_eff <- eff_size(emm9,sigma = sigma(lm9), edf = df.residual(lm9))\n",
    "\n",
    "kor_eff <- summary(kor_eff)$effect.size\n",
    "\n",
    "effect_sizes[effect_sizes$Language_name==kor_lname,\"max_voc_effect_size\"] <- kor_eff\n",
    "effect_sizes"
   ]
  },
  {
   "cell_type": "code",
   "execution_count": 24,
   "id": "ff9e6391-99ce-4da6-8710-542d9f5ba425",
   "metadata": {},
   "outputs": [
    {
     "name": "stderr",
     "output_type": "stream",
     "text": [
      "R[write to console]: boundary (singular) fit: see ?isSingular\n",
      "\n"
     ]
    },
    {
     "name": "stdout",
     "output_type": "stream",
     "text": [
      "[[1]]\n",
      " contrast                      estimate   SE   df t.ratio p.value\n",
      " contingent - (non-contingent)    -13.7 8.23 39.2 -1.669  0.1031 \n",
      "\n",
      "Degrees-of-freedom method: kenward-roger \n",
      "\n",
      "[[2]]\n",
      "[1] 0.1031255\n",
      "\n",
      "   Language_name rand_effect_size max_voc_effect_size\n",
      "1         German        -1.823008          -1.1826828\n",
      "2        English        -2.469682          -2.2049846\n",
      "3       Estonian        -1.305378          -0.9327983\n",
      "4        Persian        -2.931949          -1.8931652\n",
      "5         French        -1.738904          -1.5925148\n",
      "6       Croatian        -1.783383          -1.1007646\n",
      "7       Japanese        -1.686991          -1.1232899\n",
      "8         Korean        -2.152637          -1.5402032\n",
      "9      Norwegian              NaN                 NaN\n",
      "10        Polish              NaN                  NA\n",
      "11    Portuguese        -1.405287                  NA\n",
      "12       Spanish              NaN                  NA\n",
      "13       Swedish              NaN                  NA\n",
      "14      Mandarin        -7.228203                  NA\n"
     ]
    }
   ],
   "source": [
    "%%R -i nor\n",
    "\n",
    "lm10 <- lmer(sums ~ contingent + (1|target_child_id) + (1|transcript_id),data=nor, REML= FALSE)\n",
    "emm10<-emmeans(lm10,pairwise~contingent)\n",
    "pval<-summary(emm10$contrasts)$p.value\n",
    "print(c(emm10$contrasts, pval))\n",
    "p.adjust(pval, \"holm\", 14)\n",
    "# summary(emmeans(lm10,\"contingent\",infer=TRUE)) #group means\n",
    "# test(contrast(emmeans(lm10,\"contingent\"), \"trt.vs.ctrl\"), joint = TRUE) #main effect - are any groups different\n",
    "\n",
    "nor_lname <- nor$Language_name[1]\n",
    "\n",
    "effect_sizes[effect_sizes$Language_name==nor_lname,\"max_voc_effect_size\"] <- NaN\n",
    "effect_sizes"
   ]
  },
  {
   "cell_type": "code",
   "execution_count": 25,
   "id": "597b27a9-140a-4953-bac2-ba629913603a",
   "metadata": {},
   "outputs": [
    {
     "name": "stdout",
     "output_type": "stream",
     "text": [
      "[[1]]\n",
      " contrast                      estimate  SE df t.ratio p.value\n",
      " contingent - (non-contingent)      -17 NaN  0 NaN     NaN    \n",
      "\n",
      "\n",
      "[[2]]\n",
      "[1] NaN\n",
      "\n",
      "   Language_name rand_effect_size max_voc_effect_size\n",
      "1         German        -1.823008          -1.1826828\n",
      "2        English        -2.469682          -2.2049846\n",
      "3       Estonian        -1.305378          -0.9327983\n",
      "4        Persian        -2.931949          -1.8931652\n",
      "5         French        -1.738904          -1.5925148\n",
      "6       Croatian        -1.783383          -1.1007646\n",
      "7       Japanese        -1.686991          -1.1232899\n",
      "8         Korean        -2.152637          -1.5402032\n",
      "9      Norwegian              NaN                 NaN\n",
      "10        Polish              NaN                 NaN\n",
      "11    Portuguese        -1.405287                  NA\n",
      "12       Spanish              NaN                  NA\n",
      "13       Swedish              NaN                  NA\n",
      "14      Mandarin        -7.228203                  NA\n"
     ]
    }
   ],
   "source": [
    "%%R -i pol\n",
    "\n",
    "# simple linear model (no maxvocom effects, because only 1 transcript from 1 sub)\n",
    "\n",
    "# One sample, no statistical tests are appropriate\n",
    "\n",
    "lm11 <- lm(sums ~ contingent ,data=pol, REML= FALSE)\n",
    "emm11<-emmeans(lm11,pairwise~contingent)\n",
    "pval<-summary(emm11$contrasts)$p.value\n",
    "print(c(emm11$contrasts, pval))\n",
    "p.adjust(pval, \"holm\", 14)\n",
    "# summary(emmeans(lm11,\"contingent\",infer=TRUE)) #group means\n",
    "# test(contrast(emmeans(lm11,\"contingent\"), \"trt.vs.ctrl\"), joint = TRUE) #main effect - are any groups different\n",
    "\n",
    "pol_lname <- pol$Language_name[1]\n",
    "\n",
    "effect_sizes[effect_sizes$Language_name==pol_lname,\"max_voc_effect_size\"] <- NaN\n",
    "effect_sizes"
   ]
  },
  {
   "cell_type": "code",
   "execution_count": 27,
   "id": "2ff218d5-532d-48a6-9769-e3932166ecb6",
   "metadata": {},
   "outputs": [
    {
     "name": "stdout",
     "output_type": "stream",
     "text": [
      "[[1]]\n",
      " contrast                      estimate   SE   df t.ratio p.value\n",
      " contingent - (non-contingent)    -17.4 6.38 24.1 -2.732  0.0116 \n",
      "\n",
      "Degrees-of-freedom method: kenward-roger \n",
      "\n",
      "[[2]]\n",
      "[1] 0.01160226\n",
      "\n",
      "[1] 0.1624316\n",
      "   Language_name rand_effect_size max_voc_effect_size\n",
      "1         German        -1.823008          -1.1826828\n",
      "2        English        -2.469682          -2.2049846\n",
      "3       Estonian        -1.305378          -0.9327983\n",
      "4        Persian        -2.931949          -1.8931652\n",
      "5         French        -1.738904          -1.5925148\n",
      "6       Croatian        -1.783383          -1.1007646\n",
      "7       Japanese        -1.686991          -1.1232899\n",
      "8         Korean        -2.152637          -1.5402032\n",
      "9      Norwegian              NaN                 NaN\n",
      "10        Polish              NaN                 NaN\n",
      "11    Portuguese        -1.405287                 NaN\n",
      "12       Spanish              NaN                  NA\n",
      "13       Swedish              NaN                  NA\n",
      "14      Mandarin        -7.228203                  NA\n"
     ]
    }
   ],
   "source": [
    "%%R -i por\n",
    "\n",
    "lm12 <- lmer(sums ~ contingent + (1|target_child_id) + (1|transcript_id),data=por, REML= FALSE)\n",
    "emm12<-emmeans(lm12,pairwise~contingent)\n",
    "pval<-summary(emm12$contrasts)$p.value\n",
    "print(c(emm12$contrasts, pval))\n",
    "print(p.adjust(pval, \"holm\", 14))\n",
    "# summary(emmeans(lm12,\"contingent\",infer=TRUE)) #group means\n",
    "# test(contrast(emmeans(lm12,\"contingent\"), \"trt.vs.ctrl\"), joint = TRUE) #main effect - are any groups different\n",
    "\n",
    "por_lname <- por$Language_name[1]\n",
    "\n",
    "effect_sizes[effect_sizes$Language_name==por_lname,\"max_voc_effect_size\"] <- NaN\n",
    "effect_sizes"
   ]
  },
  {
   "cell_type": "code",
   "execution_count": 29,
   "id": "2657fc09-5f76-4b1a-a413-6b9f7b26a541",
   "metadata": {},
   "outputs": [
    {
     "name": "stdout",
     "output_type": "stream",
     "text": [
      "[[1]]\n",
      " contrast                      estimate   SE df t.ratio p.value\n",
      " contingent - (non-contingent)     12.8 5.35 31 2.393   0.0229 \n",
      "\n",
      "Degrees-of-freedom method: kenward-roger \n",
      "\n",
      "[[2]]\n",
      "[1] 0.02294507\n",
      "\n",
      "[1] 0.3212309\n",
      "   Language_name rand_effect_size max_voc_effect_size\n",
      "1         German        -1.823008          -1.1826828\n",
      "2        English        -2.469682          -2.2049846\n",
      "3       Estonian        -1.305378          -0.9327983\n",
      "4        Persian        -2.931949          -1.8931652\n",
      "5         French        -1.738904          -1.5925148\n",
      "6       Croatian        -1.783383          -1.1007646\n",
      "7       Japanese        -1.686991          -1.1232899\n",
      "8         Korean        -2.152637          -1.5402032\n",
      "9      Norwegian              NaN                 NaN\n",
      "10        Polish              NaN                 NaN\n",
      "11    Portuguese        -1.405287                 NaN\n",
      "12       Spanish              NaN                 NaN\n",
      "13       Swedish              NaN                  NA\n",
      "14      Mandarin        -7.228203                  NA\n"
     ]
    }
   ],
   "source": [
    "%%R -i spa\n",
    "\n",
    "lm13 <- lmer(sums ~ contingent + (1|target_child_id) + (1|transcript_id),data=spa, REML= FALSE)\n",
    "emm13<-emmeans(lm13,pairwise~contingent)\n",
    "pval<-summary(emm13$contrasts)$p.value\n",
    "print(c(emm13$contrasts, pval))\n",
    "print(p.adjust(pval, \"holm\", 14))\n",
    "# summary(emmeans(lm13,\"contingent\",infer=TRUE)) #group means\n",
    "# test(contrast(emmeans(lm13,\"contingent\"), \"trt.vs.ctrl\"), joint = TRUE) #main effect - are any groups different\n",
    "\n",
    "spa_lname <- spa$Language_name[1]\n",
    "\n",
    "effect_sizes[effect_sizes$Language_name==spa_lname,\"max_voc_effect_size\"] <- NaN\n",
    "effect_sizes"
   ]
  },
  {
   "cell_type": "code",
   "execution_count": 35,
   "id": "afeb9362-88f2-4bdb-957e-6ae75825a743",
   "metadata": {},
   "outputs": [
    {
     "name": "stderr",
     "output_type": "stream",
     "text": [
      "R[write to console]: boundary (singular) fit: see ?isSingular\n",
      "\n",
      "R[write to console]: boundary (singular) fit: see ?isSingular\n",
      "\n"
     ]
    },
    {
     "name": "stdout",
     "output_type": "stream",
     "text": [
      "[[1]]\n",
      " contrast                      estimate   SE   df t.ratio p.value\n",
      " contingent - (non-contingent)    -27.4 14.3 17.1 -1.916  0.0722 \n",
      "\n",
      "Degrees-of-freedom method: kenward-roger \n",
      "\n",
      "[[2]]\n",
      "[1] 0.07221078\n",
      "\n",
      "[1] 1\n",
      "   Language_name rand_effect_size max_voc_effect_size\n",
      "1         German        -1.823008          -1.1826828\n",
      "2        English        -2.469682          -2.2049846\n",
      "3       Estonian        -1.305378          -0.9327983\n",
      "4        Persian        -2.931949          -1.8931652\n",
      "5         French        -1.738904          -1.5925148\n",
      "6       Croatian        -1.783383          -1.1007646\n",
      "7       Japanese        -1.686991          -1.1232899\n",
      "8         Korean        -2.152637          -1.5402032\n",
      "9      Norwegian              NaN                 NaN\n",
      "10        Polish              NaN                 NaN\n",
      "11    Portuguese        -1.405287                 NaN\n",
      "12       Spanish              NaN                 NaN\n",
      "13       Swedish              NaN                 NaN\n",
      "14      Mandarin        -7.228203                 NaN\n"
     ]
    }
   ],
   "source": [
    "%%R -i swe\n",
    "\n",
    "lm14 <- lmer(sums ~ contingent + (1|target_child_id) + (1|transcript_id),data=swe, REML= FALSE)\n",
    "emm14<-emmeans(lm14,pairwise~contingent)\n",
    "pval<-summary(emm14$contrasts)$p.value\n",
    "print(c(emm14$contrasts, pval))\n",
    "print(p.adjust(pval, \"holm\", 14))\n",
    "# summary(emmeans(lm14,\"contingent\",infer=TRUE)) #group means\n",
    "# test(contrast(emmeans(lm14,\"contingent\"), \"trt.vs.ctrl\"), joint = TRUE) #main effect - are any groups different\n",
    "\n",
    "swe_lname <- swe$Language_name[1]\n",
    "\n",
    "effect_sizes[effect_sizes$Language_name==swe_lname,\"max_voc_effect_size\"] <- NaN\n",
    "effect_sizes"
   ]
  },
  {
   "cell_type": "code",
   "execution_count": 34,
   "id": "df37af04-a037-4cad-8beb-4154baffd3fe",
   "metadata": {},
   "outputs": [
    {
     "name": "stdout",
     "output_type": "stream",
     "text": [
      "[[1]]\n",
      " contrast                      estimate   SE df t.ratio p.value\n",
      " contingent - (non-contingent)    -65.5 18.5  4 -3.541  0.0240 \n",
      "\n",
      "Degrees-of-freedom method: kenward-roger \n",
      "\n",
      "[[2]]\n",
      "[1] 0.02400175\n",
      "\n",
      "[1] 0.3360244\n",
      "   Language_name rand_effect_size max_voc_effect_size\n",
      "1         German        -1.823008          -1.1826828\n",
      "2        English        -2.469682          -2.2049846\n",
      "3       Estonian        -1.305378          -0.9327983\n",
      "4        Persian        -2.931949          -1.8931652\n",
      "5         French        -1.738904          -1.5925148\n",
      "6       Croatian        -1.783383          -1.1007646\n",
      "7       Japanese        -1.686991          -1.1232899\n",
      "8         Korean        -2.152637          -1.5402032\n",
      "9      Norwegian              NaN                 NaN\n",
      "10        Polish              NaN                 NaN\n",
      "11    Portuguese        -1.405287                 NaN\n",
      "12       Spanish              NaN                 NaN\n",
      "13       Swedish              NaN                 NaN\n",
      "14      Mandarin        -7.228203                 NaN\n"
     ]
    }
   ],
   "source": [
    "%%R -i zho\n",
    "\n",
    "lm15 <- lmer(sums ~ contingent + (1|transcript_id),data=zho, REML= FALSE)\n",
    "emm15<-emmeans(lm15,pairwise~contingent)\n",
    "pval<-summary(emm15$contrasts)$p.value\n",
    "print(c(emm15$contrasts, pval))\n",
    "print(p.adjust(pval, \"holm\", 14))\n",
    "# summary(emmeans(lm15,\"contingent\",infer=TRUE)) #group means\n",
    "# test(contrast(emmeans(lm15,\"contingent\"), \"trt.vs.ctrl\"), joint = TRUE) #main effect - are any groups different\n",
    "\n",
    "zho_lname <- zho$Language_name[1]\n",
    "\n",
    "effect_sizes[effect_sizes$Language_name==zho_lname,\"max_voc_effect_size\"] <- NaN\n",
    "effect_sizes"
   ]
  },
  {
   "cell_type": "code",
   "execution_count": 36,
   "id": "878798e3-4a97-4660-a567-935b11d97162",
   "metadata": {},
   "outputs": [],
   "source": [
    "%%R\n",
    "write.csv(x=effect_sizes,'../data/lexdiv_effect_sizes.csv', row.names = FALSE)"
   ]
  }
 ],
 "metadata": {
  "kernelspec": {
   "display_name": "Python 3",
   "language": "python",
   "name": "python3"
  },
  "language_info": {
   "codemirror_mode": {
    "name": "ipython",
    "version": 3
   },
   "file_extension": ".py",
   "mimetype": "text/x-python",
   "name": "python",
   "nbconvert_exporter": "python",
   "pygments_lexer": "ipython3",
   "version": "3.8.10"
  }
 },
 "nbformat": 4,
 "nbformat_minor": 5
}
