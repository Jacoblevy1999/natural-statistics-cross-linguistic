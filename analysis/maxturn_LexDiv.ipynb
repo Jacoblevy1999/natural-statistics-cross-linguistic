{
 "cells": [
  {
   "cell_type": "markdown",
   "id": "d38f7af8-79ca-4707-972f-a625d7acf900",
   "metadata": {},
   "source": [
    "# Natural Statistics Cross-linguistic: \n",
    "\n",
    "#### Lexical diversity analysis -  maximum vocal turns sample\n",
    "\n",
    "----"
   ]
  },
  {
   "cell_type": "code",
   "execution_count": 1,
   "id": "0858c044-5947-4f81-a8b7-5d8124162c6e",
   "metadata": {},
   "outputs": [],
   "source": [
    "import pandas as pd\n",
    "import numpy as np\n",
    "import sys\n",
    "sys.path.insert(0, \"data_proc\")\n",
    "import analytic_proc\n",
    "import warnings\n",
    "warnings.filterwarnings('ignore')"
   ]
  },
  {
   "cell_type": "code",
   "execution_count": 2,
   "id": "8354cb3f-e4f4-4e3e-b753-b33c26446f87",
   "metadata": {},
   "outputs": [],
   "source": [
    "maxturn_dat_inc = pd.read_csv(\"../data/maxturn_dat_inc_master.csv\",index_col=0,low_memory=False)\n",
    "maxturn_dat_inc=maxturn_dat_inc[maxturn_dat_inc[\"language\"]!=\"ara\"]\n",
    "maxturn_dat_inc=maxturn_dat_inc[(maxturn_dat_inc[\"target_child_age\"]>=5) & (maxturn_dat_inc[\"target_child_age\"]<=30)]\n",
    "maxturn_dat_inc_cg = maxturn_dat_inc[maxturn_dat_inc[\"caregiver\"]==\"caregiver\"]\n",
    "\n",
    "maxturn_dat_inc_cg[\"contingent\"] = np.where(maxturn_dat_inc_cg[\"contingent\"]==1, \"contingent\", \"non-contingent\")\n",
    "maxturn_dat_inc_cg[\"swu\"]=np.where(maxturn_dat_inc_cg[\"num_tokens\"]==1,1,0)\n",
    "\n",
    "maxturn_dat_inc_cg = maxturn_dat_inc_cg[maxturn_dat_inc_cg[\"gloss\"].notna()]\n",
    "maxturn_dat_inc_cg = maxturn_dat_inc_cg[maxturn_dat_inc_cg[\"gloss\"]!=\"xxx\"]\n",
    "maxturn_dat_inc_cg = maxturn_dat_inc_cg[maxturn_dat_inc_cg[\"gloss\"]!=\"yyy\"]\n",
    "maxturn_dat_inc_cg = maxturn_dat_inc_cg[maxturn_dat_inc_cg[\"gloss\"]!=\"www\"]"
   ]
  },
  {
   "cell_type": "markdown",
   "id": "5f4cfdda-0a33-4431-83c6-3a2415ad4f2f",
   "metadata": {},
   "source": [
    "Would call the following if we could run lexical diversity analysis globally:\n",
    "\n",
    "```python\n",
    "analytic_proc.create_result(maxturn_dat_inc_cg)\n",
    "```\n",
    "\n",
    "However, we want to have seperate dictionaries for contingent and non-contingent words so we can compare them to one another.\n",
    "\n",
    "The function will allow us to have a different dictionary for each transcript.\n",
    "\n",
    "Finally, to compare, we can run mixed effects to understand whether contingent and non-contingent utterances differ in their lexical diversity, controlling for number of transcripts."
   ]
  },
  {
   "cell_type": "markdown",
   "id": "8d92aa30-397f-42ba-b16a-81c535a2b8ba",
   "metadata": {},
   "source": [
    "----\n",
    "#### Seperate contingent and non-contingent utterances into individual dataframes"
   ]
  },
  {
   "cell_type": "code",
   "execution_count": 3,
   "id": "22e7409b-c051-463f-89d4-e2065abadf50",
   "metadata": {},
   "outputs": [],
   "source": [
    "maxturn_dat_inc_cg_cc = maxturn_dat_inc_cg[maxturn_dat_inc_cg[\"contingent\"]==\"contingent\"].reset_index(drop=True)\n",
    "maxturn_dat_inc_cg_nc = maxturn_dat_inc_cg[maxturn_dat_inc_cg[\"contingent\"]==\"non-contingent\"].reset_index(drop=True)"
   ]
  },
  {
   "cell_type": "markdown",
   "id": "912ca01c-64e3-4192-a8be-e8ea16bdb2db",
   "metadata": {},
   "source": [
    "----\n",
    "#### Loop through each unique transcript to compute the lexical diversity counts across languages."
   ]
  },
  {
   "cell_type": "code",
   "execution_count": 5,
   "id": "9d9753b5-2479-4b5a-b2be-28c0c34368b9",
   "metadata": {},
   "outputs": [],
   "source": [
    "# analytic_proc.create_result(maxturn_dat_inc_cg_cc)"
   ]
  },
  {
   "cell_type": "code",
   "execution_count": 4,
   "id": "f3cea2d7-e2b4-4709-896d-ebf104e5364e",
   "metadata": {},
   "outputs": [],
   "source": [
    "# change the \"to_csv\" line at the end of analytic_proc.py first\n",
    "\n",
    "# analytic_proc.create_result(maxturn_dat_inc_cg_nc)"
   ]
  },
  {
   "cell_type": "markdown",
   "id": "606b4a95-8cba-4934-8d14-30bbc0738e37",
   "metadata": {},
   "source": [
    "----\n",
    "#### Lexical Diversity plot"
   ]
  },
  {
   "cell_type": "code",
   "execution_count": 4,
   "id": "6cb34bdc-0fb4-48ea-bf17-fee1822b5f09",
   "metadata": {},
   "outputs": [],
   "source": [
    "maxturn_dat_inc_cg_cc = pd.read_csv(\"../data/maxturn_dat_inc_master_cc_lexdiv.csv\",index_col=0,low_memory=False)\n",
    "maxturn_dat_inc_cg_nc = pd.read_csv(\"../data/maxturn_dat_inc_master_nc_lexdiv.csv\",index_col=0,low_memory=False)\n",
    "\n",
    "# combine dataframes into one\n",
    "\n",
    "maxturn_dat_inc_cg = pd.concat([maxturn_dat_inc_cg_cc,maxturn_dat_inc_cg_nc])"
   ]
  },
  {
   "cell_type": "code",
   "execution_count": 5,
   "id": "4fce4b42-e26b-4d23-b241-d31b89dc519a",
   "metadata": {},
   "outputs": [],
   "source": [
    "maxturn_lex_stats = (maxturn_dat_inc_cg.groupby([\"Language_name\",\"target_child_id\",\"transcript_id\",\"contingent\"])\n",
    "                                  .uniquenss\n",
    "                                  .agg([\"sum\"])\n",
    "                                  .reset_index())\n",
    "maxturn_lex_stats =  maxturn_lex_stats.rename({'sum': 'sums'}, axis=1)"
   ]
  },
  {
   "cell_type": "code",
   "execution_count": 6,
   "id": "4614584b-e03d-46f9-90fa-d3adb6a07266",
   "metadata": {},
   "outputs": [
    {
     "data": {
      "text/plain": [
       "14"
      ]
     },
     "execution_count": 6,
     "metadata": {},
     "output_type": "execute_result"
    }
   ],
   "source": [
    "len(maxturn_lex_stats[\"Language_name\"].unique())"
   ]
  },
  {
   "cell_type": "code",
   "execution_count": 7,
   "id": "26aa20cc-7d1a-43f8-b8c4-ca4ff559a2af",
   "metadata": {},
   "outputs": [],
   "source": [
    "%load_ext rpy2.ipython"
   ]
  },
  {
   "cell_type": "markdown",
   "id": "db8921a6-0147-428c-bcf9-2fda2e13335d",
   "metadata": {},
   "source": [
    "Simple plot"
   ]
  },
  {
   "cell_type": "code",
   "execution_count": 9,
   "id": "aa2b8708-21bd-41f8-adb3-2ca0f469afee",
   "metadata": {},
   "outputs": [],
   "source": [
    "%%R -i maxturn_lex_stats\n",
    "\n",
    "library('ggplot2')\n",
    "library('repr')\n",
    "options(repr.plot.width=6, repr.plot.height=12)\n",
    "\n",
    "xlabs <- c(\"C\", \"NC\")\n",
    "\n",
    "# ara_label <- data.frame(means=c(0),contingent = c(1.5),language=\"ara\") # no adult speech transcribed\n",
    "deu_label <- data.frame(sums=c(240),contingent = c(1.5),Language_name=\"German\")\n",
    "eng_label <- data.frame(sums=c(240),contingent = c(1.5),Language_name=\"English\")\n",
    "est_label <- data.frame(sums=c(240),contingent = c(1.5),Language_name=\"Estonian\")\n",
    "fas_label <- data.frame(sums=c(240),contingent = c(1.5),Language_name=\"Persian\")\n",
    "fra_label <- data.frame(sums=c(240),contingent = c(1.5),Language_name=\"French\")\n",
    "hrv_label <- data.frame(sums=c(240),contingent = c(1.5),Language_name=\"Croatian\")\n",
    "jpn_label <- data.frame(sums=c(240),contingent = c(1.5),Language_name=\"Japanese\")\n",
    "kor_label <- data.frame(sums=c(240),contingent = c(1.5),Language_name=\"Korean\")\n",
    "# nor_label <- data.frame(means=c(5.8),contingent = c(1.5),Language_name=\"Norwegian\")\n",
    "nor_ns_label <- data.frame(sums=c(247),contingent = c(1.5),Language_name=\"Norwegian\")\n",
    "pol_ns_label <- data.frame(sums=c(247),contingent = c(1.5),Language_name=\"Polish\")\n",
    "por_label <- data.frame(sums=c(240),contingent = c(1.5),Language_name=\"Portuguese\")\n",
    "spa_label <- data.frame(sums=c(240),contingent = c(1.5),Language_name=\"Spanish\")\n",
    "swe_ns_label <- data.frame(sums=c(247),contingent = c(1.5),Language_name=\"Swedish\")\n",
    "zho_label <- data.frame(sums=c(240),contingent = c(1.5),Language_name=\"Mandarin\")\n",
    "# zho_ns_label <- data.frame(means=c(6),contingent = c(1.5),Language_name=\"Mandarin\")\n",
    "\n",
    "\n",
    "p <- ggplot(maxturn_lex_stats, aes(x = contingent, y = sums, color = Language_name)) +\n",
    "     stat_summary(fun.y=mean, geom=\"point\", shape=19, size=1.75) + \n",
    "     stat_summary(fun.data = mean_se, geom = \"errorbar\", size=1.25, width = .5) +\n",
    "     facet_wrap(. ~ Language_name,ncol = 7) + \n",
    "     geom_text(data = deu_label,label = \"***\",size=8,color=\"black\") + \n",
    "     geom_text(data = eng_label,label = \"***\",size=8,color=\"black\") +  \n",
    "     geom_text(data = est_label,label = \"**\",size=8,color=\"black\") +  \n",
    "#      geom_text(data = fas_ns_label,label = \"*\",size=4,color=\"black\",fontface = \"italic\") +\n",
    "     geom_text(data = fas_label,label = \"*\",size=8, color=\"black\") +\n",
    "     geom_text(data = fra_label,label = \"***\",size=8,color=\"black\") +  \n",
    "     geom_text(data = hrv_label,label = \"***\",size=8,color=\"black\") + \n",
    "     geom_text(data = jpn_label,label = \"***\",size=8,color=\"black\") + \n",
    "     geom_text(data = kor_label,label = \"***\",size=8,color=\"black\") +  \n",
    "     geom_text(data = nor_ns_label,label = \"ns\",size=4,color=\"black\",fontface = \"italic\") +  \n",
    "#      geom_text(data = pol_ns_label,label = \"ns\", size=4,color=\"black\",fontface = \"italic\") +  \n",
    "     geom_text(data = por_label,label = \"*\",size=8,color=\"black\") +  \n",
    "     geom_text(data = spa_label,label = \"*\",size=8,color=\"black\") + \n",
    "     geom_text(data = swe_ns_label,label = \"ns\",size=4,color=\"black\",fontface = \"italic\") + \n",
    "#      geom_text(data = zho_ns_label,label = \"ns\",size=4,color=\"black\",fontface = \"italic\") +\n",
    "     geom_text(data = zho_label,label = \"**\",size=8, color=\"black\") +\n",
    "     ylim(0, 250) +\n",
    "     labs(y = \"Lexical Diversity\", x = \"\") +\n",
    "     theme_classic() +\n",
    "     theme(text = element_text(size=16),\n",
    "           axis.text.x = element_text(angle = 90, vjust = 0.5, hjust=1),\n",
    "           legend.title = element_blank(),\n",
    "           legend.background = element_rect(fill=alpha(\"white\",0.90),\n",
    "                                                            size=0, linetype=\"dotted\",\n",
    "                                                            colour = \"white\"),\n",
    "           legend.text=element_text(size=16))\n",
    "     ggsave(\"../figures/lexical_diversity_maxturn.pdf\", width = 11.7, height = 6.2)"
   ]
  },
  {
   "cell_type": "markdown",
   "id": "bb2c4fd2-dc63-49cd-91b6-2be9e765b0cb",
   "metadata": {},
   "source": [
    "Plot + effect estimates"
   ]
  },
  {
   "cell_type": "code",
   "execution_count": 41,
   "id": "034407e0-6032-4fca-9503-1faa76f8d268",
   "metadata": {},
   "outputs": [],
   "source": [
    "%%R\n",
    "\n",
    "deu_est_label <- data.frame(sums=c(.25),contingent = c(1),Language_name=\"German\")\n",
    "eng_est_label <- data.frame(sums=c(.25),contingent = c(1),Language_name=\"English\")\n",
    "est_est_label <- data.frame(sums=c(.25),contingent = c(1),Language_name=\"Estonian\")\n",
    "fas_est_label <- data.frame(sums=c(.25),contingent = c(1),Language_name=\"Persian\")\n",
    "fra_est_label <- data.frame(sums=c(.25),contingent = c(1),Language_name=\"French\")\n",
    "hrv_est_label <- data.frame(sums=c(.25),contingent = c(1),Language_name=\"Croatian\")\n",
    "jpn_est_label <- data.frame(sums=c(.25),contingent = c(1),Language_name=\"Japanese\")\n",
    "kor_est_label <- data.frame(sums=c(.25),contingent = c(1),Language_name=\"Korean\")\n",
    "nor_est_label <- data.frame(sums=c(.25),contingent = c(1),Language_name=\"Norwegian\")\n",
    "por_est_label <- data.frame(sums=c(.25),contingent = c(1),Language_name=\"Portuguese\")\n",
    "spa_est_label <- data.frame(sums=c(.25),contingent = c(1),Language_name=\"Spanish\")\n",
    "swe_est_label <- data.frame(sums=c(.25),contingent = c(1),Language_name=\"Swedish\")\n",
    "zho_est_label <- data.frame(sums=c(.25),contingent = c(1),Language_name=\"Mandarin\")\n",
    "\n",
    "p <- p + geom_text(data = deu_est_label,label = \"est=-46.7\",size=4,color=\"black\") +\n",
    "         geom_text(data = eng_est_label,label = \"est=-99.1\",size=4,color=\"black\") +\n",
    "         geom_text(data = est_est_label,label = \"est=-53.9\",size=4,color=\"black\") +\n",
    "         geom_text(data = fas_est_label,label = \"est=-45.9\",size=4,color=\"black\") +\n",
    "         geom_text(data = fra_est_label,label = \"est=-70.3\",size=4,color=\"black\") +\n",
    "         geom_text(data = hrv_est_label,label = \"est=-27.7\",size=4,color=\"black\") +\n",
    "         geom_text(data = jpn_est_label,label = \"est=-26.9\",size=4,color=\"black\") +\n",
    "         geom_text(data = kor_est_label,label = \"est=-79.5\",size=4,color=\"black\") +\n",
    "#          geom_text(data = nor_est_label,label = \"est=-.68\",size=4,color=\"black\") +\n",
    "         geom_text(data = por_est_label,label = \"est=-29.1\",size=4,color=\"black\") +\n",
    "         geom_text(data = spa_est_label,label = \"est=18.8\",size=4,color=\"black\") +\n",
    "#          geom_text(data = swe_est_label,label = \"est=-43.4\",size=4,color=\"black\") +\n",
    "         geom_text(data = zho_est_label,label = \"est=-89.5\",size=4,color=\"black\")\n",
    "         \n",
    "\n",
    "ggsave(\"../figures/lexical_diversity_maxturn_eff.pdf\", width = 11.7, height = 6.2)"
   ]
  },
  {
   "cell_type": "markdown",
   "id": "7e686325-34ee-4fc1-b7b3-b86ae15713f3",
   "metadata": {},
   "source": [
    "\\+ sample size"
   ]
  },
  {
   "cell_type": "code",
   "execution_count": 42,
   "id": "8a81c5aa-6366-442d-8213-2f6a4570b471",
   "metadata": {},
   "outputs": [],
   "source": [
    "%%R\n",
    "\n",
    "deu_n_label <- data.frame(sums=c(.25),contingent = c(1.7),Language_name=\"German\")\n",
    "eng_n_label <- data.frame(sums=c(.25),contingent = c(1.7),Language_name=\"English\")\n",
    "est_n_label <- data.frame(sums=c(.25),contingent = c(1.7),Language_name=\"Estonian\")\n",
    "fas_n_label <- data.frame(sums=c(.25),contingent = c(1.7),Language_name=\"Persian\")\n",
    "fra_n_label <- data.frame(sums=c(.25),contingent = c(1.7),Language_name=\"French\")\n",
    "hrv_n_label <- data.frame(sums=c(.25),contingent = c(1.7),Language_name=\"Croatian\")\n",
    "jpn_n_label <- data.frame(sums=c(.25),contingent = c(1.7),Language_name=\"Japanese\")\n",
    "kor_n_label <- data.frame(sums=c(.25),contingent = c(1.7),Language_name=\"Korean\")\n",
    "nor_n_label <- data.frame(sums=c(.25),contingent = c(1.7),Language_name=\"Norwegian\")\n",
    "pol_n_label <- data.frame(sums=c(.25),contingent = c(1.7),Language_name=\"Polish\")\n",
    "por_n_label <- data.frame(sums=c(.25),contingent = c(1.7),Language_name=\"Portuguese\")\n",
    "spa_n_label <- data.frame(sums=c(.25),contingent = c(1.7),Language_name=\"Spanish\")\n",
    "swe_n_label <- data.frame(sums=c(.25),contingent = c(1.7),Language_name=\"Swedish\")\n",
    "zho_n_label <- data.frame(sums=c(.25),contingent = c(1.7),Language_name=\"Mandarin\")\n",
    "\n",
    "deu_sz_label <- data.frame(sums=c(.25),contingent = c(2.1),Language_name=\"German\")\n",
    "eng_sz_label <- data.frame(sums=c(.25),contingent = c(2.1),Language_name=\"English\")\n",
    "est_sz_label <- data.frame(sums=c(.25),contingent = c(2.1),Language_name=\"Estonian\")\n",
    "fas_sz_label <- data.frame(sums=c(.25),contingent = c(2.1),Language_name=\"Persian\")\n",
    "fra_sz_label <- data.frame(sums=c(.25),contingent = c(2.1),Language_name=\"French\")\n",
    "hrv_sz_label <- data.frame(sums=c(.25),contingent = c(2.1),Language_name=\"Croatian\")\n",
    "jpn_sz_label <- data.frame(sums=c(.25),contingent = c(2.1),Language_name=\"Japanese\")\n",
    "kor_sz_label <- data.frame(sums=c(.25),contingent = c(2.1),Language_name=\"Korean\")\n",
    "nor_sz_label <- data.frame(sums=c(.25),contingent = c(2.1),Language_name=\"Norwegian\")\n",
    "pol_sz_label <- data.frame(sums=c(.25),contingent = c(2.1),Language_name=\"Polish\")\n",
    "por_sz_label <- data.frame(sums=c(.25),contingent = c(2.1),Language_name=\"Portuguese\")\n",
    "spa_sz_label <- data.frame(sums=c(.25),contingent = c(2.1),Language_name=\"Spanish\")\n",
    "swe_sz_label <- data.frame(sums=c(.25),contingent = c(2.1),Language_name=\"Swedish\")\n",
    "zho_sz_label <- data.frame(sums=c(.25),contingent = c(2.1),Language_name=\"Mandarin\")\n",
    "\n",
    "p <- p + geom_text(data = deu_n_label,label = \"n\",size=4,color=\"black\",fontface = \"italic\") +\n",
    "         geom_text(data = eng_n_label,label = \"n\",size=4,color=\"black\",fontface = \"italic\") +\n",
    "         geom_text(data = est_n_label,label = \"n\",size=4,color=\"black\",fontface = \"italic\") +\n",
    "         geom_text(data = fas_n_label,label = \"n\",size=4,color=\"black\",fontface = \"italic\") +\n",
    "         geom_text(data = fra_n_label,label = \"n\",size=4,color=\"black\",fontface = \"italic\") +\n",
    "         geom_text(data = hrv_n_label,label = \"n\",size=4,color=\"black\",fontface = \"italic\") +\n",
    "         geom_text(data = jpn_n_label,label = \"n\",size=4,color=\"black\",fontface = \"italic\") +\n",
    "         geom_text(data = kor_n_label,label = \"n\",size=4,color=\"black\",fontface = \"italic\") +\n",
    "         geom_text(data = nor_n_label,label = \"n\",size=4,color=\"black\",fontface = \"italic\") +\n",
    "         geom_text(data = pol_n_label,label = \"n\",size=4,color=\"black\",fontface = \"italic\") +\n",
    "         geom_text(data = por_n_label,label = \"n\",size=4,color=\"black\",fontface = \"italic\") +\n",
    "         geom_text(data = spa_n_label,label = \"n\",size=4,color=\"black\",fontface = \"italic\") +\n",
    "         geom_text(data = swe_n_label,label = \"n\",size=4,color=\"black\",fontface = \"italic\") +\n",
    "         geom_text(data = zho_n_label,label = \"n\",size=4,color=\"black\",fontface = \"italic\") +\n",
    "         geom_text(data = deu_sz_label,label = \" = 39\",size=4,color=\"black\") +\n",
    "         geom_text(data = eng_sz_label,label = \" =1010\",size=4,color=\"black\") +\n",
    "         geom_text(data = est_sz_label,label = \" = 22\",size=4,color=\"black\") +\n",
    "         geom_text(data = fas_sz_label,label = \" = 12\",size=4,color=\"black\") +\n",
    "         geom_text(data = fra_sz_label,label = \" = 258\",size=4,color=\"black\") +\n",
    "         geom_text(data = hrv_sz_label,label = \" = 79\",size=4,color=\"black\") +\n",
    "         geom_text(data = jpn_sz_label,label = \" = 139\",size=4,color=\"black\") +\n",
    "         geom_text(data = kor_sz_label,label = \" = 37\",size=4,color=\"black\") +\n",
    "         geom_text(data = nor_sz_label,label = \" = 56\",size=4,color=\"black\") +\n",
    "         geom_text(data = pol_sz_label,label = \" = 1\",size=4,color=\"black\") +\n",
    "         geom_text(data = por_sz_label,label = \" = 24\",size=4,color=\"black\") +\n",
    "         geom_text(data = spa_sz_label,label = \" = 31\",size=4,color=\"black\") +\n",
    "         geom_text(data = swe_sz_label,label = \" = 16\",size=4,color=\"black\") +\n",
    "         geom_text(data = zho_sz_label,label = \" = 2\",size=4,color=\"black\")\n",
    "         \n",
    "\n",
    "ggsave(\"../figures/lexical_diversity_maxturn_eff_n.pdf\", width = 11.7, height = 6.2)"
   ]
  },
  {
   "cell_type": "markdown",
   "id": "586cbd28-c9d6-43c3-a730-5df8553a6f31",
   "metadata": {},
   "source": [
    "----\n",
    "#### Lexical diversity mixed models"
   ]
  },
  {
   "cell_type": "code",
   "execution_count": 8,
   "id": "72bc93c7-7e2f-4d5f-9aa1-7f9367ca862f",
   "metadata": {},
   "outputs": [],
   "source": [
    "# ara=maxturn_dat_inc_cg[['language','num_tokens','contingent','transcript_id','target_child_id']][maxturn_dat_inc_cg[\"language\"]==\"ara\"] # no adult speech transcribed\n",
    "deu=maxturn_lex_stats[['Language_name','sums','contingent','transcript_id','target_child_id']][maxturn_lex_stats[\"Language_name\"]==\"German\"]\n",
    "eng=maxturn_lex_stats[['Language_name','sums','contingent','transcript_id','target_child_id']][maxturn_lex_stats[\"Language_name\"]==\"English\"]\n",
    "est=maxturn_lex_stats[['Language_name','sums','contingent','transcript_id','target_child_id']][maxturn_lex_stats[\"Language_name\"]==\"Estonian\"]\n",
    "fas=maxturn_lex_stats[['Language_name','sums','contingent','transcript_id','target_child_id']][maxturn_lex_stats[\"Language_name\"]==\"Persian\"]\n",
    "fra=maxturn_lex_stats[['Language_name','sums','contingent','transcript_id','target_child_id']][maxturn_lex_stats[\"Language_name\"]==\"French\"]\n",
    "hrv=maxturn_lex_stats[['Language_name','sums','contingent','transcript_id','target_child_id']][maxturn_lex_stats[\"Language_name\"]==\"Croatian\"]\n",
    "jpn=maxturn_lex_stats[['Language_name','sums','contingent','transcript_id','target_child_id']][maxturn_lex_stats[\"Language_name\"]==\"Japanese\"]\n",
    "kor=maxturn_lex_stats[['Language_name','sums','contingent','transcript_id','target_child_id']][maxturn_lex_stats[\"Language_name\"]==\"Korean\"]\n",
    "nor=maxturn_lex_stats[['Language_name','sums','contingent','transcript_id','target_child_id']][maxturn_lex_stats[\"Language_name\"]==\"Norwegian\"]\n",
    "pol=maxturn_lex_stats[['Language_name','sums','contingent','transcript_id','target_child_id']][maxturn_lex_stats[\"Language_name\"]==\"Polish\"]\n",
    "por=maxturn_lex_stats[['Language_name','sums','contingent','transcript_id','target_child_id']][maxturn_lex_stats[\"Language_name\"]==\"Portuguese\"]\n",
    "spa=maxturn_lex_stats[['Language_name','sums','contingent','transcript_id','target_child_id']][maxturn_lex_stats[\"Language_name\"]==\"Spanish\"]\n",
    "swe=maxturn_lex_stats[['Language_name','sums','contingent','transcript_id','target_child_id']][maxturn_lex_stats[\"Language_name\"]==\"Swedish\"]\n",
    "zho=maxturn_lex_stats[['Language_name','sums','contingent','transcript_id','target_child_id']][maxturn_lex_stats[\"Language_name\"]==\"Mandarin\"]"
   ]
  },
  {
   "cell_type": "code",
   "execution_count": 22,
   "id": "01117587-340b-4ea3-8786-41be5caa796e",
   "metadata": {},
   "outputs": [],
   "source": [
    "%%R\n",
    "\n",
    "library(\"lme4\")\n",
    "library(\"emmeans\")\n",
    "library(\"lmerTest\")\n",
    "library(\"tidyverse\")\n",
    "\n",
    "effect_sizes <- read.csv(\"../data/lexdiv_effect_sizes.csv\")\n",
    "\n",
    "effect_sizes[\"max_turn_effect_size\"] <- NA"
   ]
  },
  {
   "cell_type": "code",
   "execution_count": 23,
   "id": "6ce161de-cf23-4e7e-ab10-556be39046ad",
   "metadata": {},
   "outputs": [
    {
     "name": "stdout",
     "output_type": "stream",
     "text": [
      "[[1]]\n",
      " contrast                      estimate   SE df t.ratio p.value\n",
      " contingent - (non-contingent)    -46.6 8.28 39 -5.632  <.0001 \n",
      "\n",
      "Degrees-of-freedom method: kenward-roger \n",
      "\n",
      "[[2]]\n",
      "[1] 1.67604e-06\n",
      "\n",
      "[1] 2.346456e-05\n"
     ]
    },
    {
     "name": "stderr",
     "output_type": "stream",
     "text": [
      "R[write to console]: Since 'object' is a list, we are using the contrasts already present.\n",
      "\n"
     ]
    },
    {
     "name": "stdout",
     "output_type": "stream",
     "text": [
      "   Language_name rand_effect_size max_voc_effect_size max_turn_effect_size\n",
      "1         German        -1.823008          -1.1826828            -1.309425\n",
      "2        English        -2.469682          -2.2049846                   NA\n",
      "3       Estonian        -1.305378          -0.9327983                   NA\n",
      "4        Persian        -2.931949          -1.8931652                   NA\n",
      "5         French        -1.738904          -1.5925148                   NA\n",
      "6       Croatian        -1.783383          -1.1007646                   NA\n",
      "7       Japanese        -1.686991          -1.1232899                   NA\n",
      "8         Korean        -2.152637          -1.5402032                   NA\n",
      "9      Norwegian               NA                  NA                   NA\n",
      "10        Polish               NA                  NA                   NA\n",
      "11    Portuguese        -1.405287                  NA                   NA\n",
      "12       Spanish               NA                  NA                   NA\n",
      "13       Swedish               NA                  NA                   NA\n",
      "14      Mandarin        -7.228203                  NA                   NA\n"
     ]
    }
   ],
   "source": [
    "%%R -i deu\n",
    "\n",
    "lm2 <- lmer(sums ~ contingent + (1|target_child_id) + (1|transcript_id),data=deu, REML= FALSE)\n",
    "emm2<-emmeans(lm2,pairwise~contingent)\n",
    "pval<-summary(emm2$contrasts)$p.value\n",
    "print(c(emm2$contrasts, pval))\n",
    "print(p.adjust(pval, \"holm\", 14)) # create big vector of p-values and ajdust those\n",
    "# summary(emmeans(lm2,\"contingent\",contr=\"pairwise\"),infer=TRUE) #group means\n",
    "# test(contrast(emmeans(lm2,\"contingent\"), \"trt.vs.ctrl\"), joint = TRUE) #main effect - are any groups different\n",
    "\n",
    "deu_lname <- deu$Language_name[1]\n",
    "\n",
    "deu_eff <- eff_size(emm2,sigma = sigma(lm2), edf = df.residual(lm2))\n",
    "\n",
    "deu_eff <- summary(deu_eff)$effect.size\n",
    "\n",
    "effect_sizes[effect_sizes$Language_name==deu_lname,\"max_turn_effect_size\"] <- deu_eff\n",
    "effect_sizes"
   ]
  },
  {
   "cell_type": "code",
   "execution_count": 24,
   "id": "e05f89de-cd6c-4d70-9019-3cc50018e72f",
   "metadata": {},
   "outputs": [
    {
     "name": "stderr",
     "output_type": "stream",
     "text": [
      "R[write to console]: boundary (singular) fit: see ?isSingular\n",
      "\n",
      "R[write to console]: boundary (singular) fit: see ?isSingular\n",
      "\n"
     ]
    },
    {
     "name": "stdout",
     "output_type": "stream",
     "text": [
      "[[1]]\n",
      " contrast                      estimate   SE  df t.ratio p.value\n",
      " contingent - (non-contingent)    -98.4 1.93 997 -51.021 <.0001 \n",
      "\n",
      "Degrees-of-freedom method: kenward-roger \n",
      "\n",
      "[[2]]\n",
      "[1] 3.609764e-280\n",
      "\n",
      "[1] 5.05367e-279\n"
     ]
    },
    {
     "name": "stderr",
     "output_type": "stream",
     "text": [
      "R[write to console]: Since 'object' is a list, we are using the contrasts already present.\n",
      "\n"
     ]
    },
    {
     "name": "stdout",
     "output_type": "stream",
     "text": [
      "   Language_name rand_effect_size max_voc_effect_size max_turn_effect_size\n",
      "1         German        -1.823008          -1.1826828            -1.309425\n",
      "2        English        -2.469682          -2.2049846            -2.300346\n",
      "3       Estonian        -1.305378          -0.9327983                   NA\n",
      "4        Persian        -2.931949          -1.8931652                   NA\n",
      "5         French        -1.738904          -1.5925148                   NA\n",
      "6       Croatian        -1.783383          -1.1007646                   NA\n",
      "7       Japanese        -1.686991          -1.1232899                   NA\n",
      "8         Korean        -2.152637          -1.5402032                   NA\n",
      "9      Norwegian               NA                  NA                   NA\n",
      "10        Polish               NA                  NA                   NA\n",
      "11    Portuguese        -1.405287                  NA                   NA\n",
      "12       Spanish               NA                  NA                   NA\n",
      "13       Swedish               NA                  NA                   NA\n",
      "14      Mandarin        -7.228203                  NA                   NA\n"
     ]
    }
   ],
   "source": [
    "%%R -i eng\n",
    "\n",
    "lm3 <- lmer(sums ~ contingent + (1|target_child_id) + (1|transcript_id),data=eng, REML= FALSE)\n",
    "emm3<-emmeans(lm3,pairwise~contingent)\n",
    "pval<-summary(emm3$contrasts)$p.value\n",
    "print(c(emm3$contrasts, pval))\n",
    "print(p.adjust(pval, \"holm\", 14))\n",
    "# summary(emmeans(lm3,\"contingent\",infer=TRUE)) #group means\n",
    "# test(contrast(emmeans(lm3,\"contingent\"), \"trt.vs.ctrl\"), joint = TRUE) #main effect - are any groups different\n",
    "\n",
    "eng_lname <- eng$Language_name[1]\n",
    "\n",
    "eng_eff <- eff_size(emm3,sigma = sigma(lm3), edf = df.residual(lm3))\n",
    "\n",
    "eng_eff <- summary(eng_eff)$effect.size\n",
    "\n",
    "effect_sizes[effect_sizes$Language_name==eng_lname,\"max_turn_effect_size\"] <- eng_eff\n",
    "effect_sizes"
   ]
  },
  {
   "cell_type": "code",
   "execution_count": 25,
   "id": "cd1a9ba8-34a0-42fb-9257-c24e8333b981",
   "metadata": {},
   "outputs": [
    {
     "name": "stderr",
     "output_type": "stream",
     "text": [
      "R[write to console]: boundary (singular) fit: see ?isSingular\n",
      "\n",
      "R[write to console]: boundary (singular) fit: see ?isSingular\n",
      "\n"
     ]
    },
    {
     "name": "stdout",
     "output_type": "stream",
     "text": [
      "[[1]]\n",
      " contrast                      estimate   SE   df t.ratio p.value\n",
      " contingent - (non-contingent)    -53.8 13.2 23.1 -4.076  0.0005 \n",
      "\n",
      "Degrees-of-freedom method: kenward-roger \n",
      "\n",
      "[[2]]\n",
      "[1] 0.0004639532\n",
      "\n",
      "[1] 0.006495345\n"
     ]
    },
    {
     "name": "stderr",
     "output_type": "stream",
     "text": [
      "R[write to console]: Since 'object' is a list, we are using the contrasts already present.\n",
      "\n"
     ]
    },
    {
     "name": "stdout",
     "output_type": "stream",
     "text": [
      "   Language_name rand_effect_size max_voc_effect_size max_turn_effect_size\n",
      "1         German        -1.823008          -1.1826828            -1.309425\n",
      "2        English        -2.469682          -2.2049846            -2.300346\n",
      "3       Estonian        -1.305378          -0.9327983            -1.257935\n",
      "4        Persian        -2.931949          -1.8931652                   NA\n",
      "5         French        -1.738904          -1.5925148                   NA\n",
      "6       Croatian        -1.783383          -1.1007646                   NA\n",
      "7       Japanese        -1.686991          -1.1232899                   NA\n",
      "8         Korean        -2.152637          -1.5402032                   NA\n",
      "9      Norwegian               NA                  NA                   NA\n",
      "10        Polish               NA                  NA                   NA\n",
      "11    Portuguese        -1.405287                  NA                   NA\n",
      "12       Spanish               NA                  NA                   NA\n",
      "13       Swedish               NA                  NA                   NA\n",
      "14      Mandarin        -7.228203                  NA                   NA\n"
     ]
    }
   ],
   "source": [
    "%%R -i est\n",
    "\n",
    "lm4 <- lmer(sums ~ contingent + (1|target_child_id) + (1|transcript_id),data=est, REML= FALSE)\n",
    "emm4<-emmeans(lm4,pairwise~contingent)\n",
    "pval<-summary(emm4$contrasts)$p.value\n",
    "print(c(emm4$contrasts, pval))\n",
    "print(p.adjust(pval, \"holm\", 14))\n",
    "# summary(emmeans(lm4,\"contingent\",infer=TRUE)) #group means\n",
    "# test(contrast(emmeans(lm4,\"contingent\"), \"trt.vs.ctrl\"), joint = TRUE) #main effect - are any groups different\n",
    "\n",
    "est_lname <- est$Language_name[1]\n",
    "\n",
    "est_eff <- eff_size(emm4,sigma = sigma(lm4), edf = df.residual(lm4))\n",
    "\n",
    "est_eff <- summary(est_eff)$effect.size\n",
    "\n",
    "effect_sizes[effect_sizes$Language_name==est_lname,\"max_turn_effect_size\"] <- est_eff\n",
    "effect_sizes"
   ]
  },
  {
   "cell_type": "code",
   "execution_count": 26,
   "id": "5f090891-0e7f-4ea6-9018-d935b2b6a0e6",
   "metadata": {},
   "outputs": [
    {
     "name": "stdout",
     "output_type": "stream",
     "text": [
      "[[1]]\n",
      " contrast                      estimate   SE   df t.ratio p.value\n",
      " contingent - (non-contingent)    -45.7 11.2 13.1 -4.086  0.0013 \n",
      "\n",
      "Degrees-of-freedom method: kenward-roger \n",
      "\n",
      "[[2]]\n",
      "[1] 0.001267753\n",
      "\n",
      "[1] 0.01774854\n"
     ]
    },
    {
     "name": "stderr",
     "output_type": "stream",
     "text": [
      "R[write to console]: Since 'object' is a list, we are using the contrasts already present.\n",
      "\n"
     ]
    },
    {
     "name": "stdout",
     "output_type": "stream",
     "text": [
      "   Language_name rand_effect_size max_voc_effect_size max_turn_effect_size\n",
      "1         German        -1.823008          -1.1826828            -1.309425\n",
      "2        English        -2.469682          -2.2049846            -2.300346\n",
      "3       Estonian        -1.305378          -0.9327983            -1.257935\n",
      "4        Persian        -2.931949          -1.8931652            -1.742468\n",
      "5         French        -1.738904          -1.5925148                   NA\n",
      "6       Croatian        -1.783383          -1.1007646                   NA\n",
      "7       Japanese        -1.686991          -1.1232899                   NA\n",
      "8         Korean        -2.152637          -1.5402032                   NA\n",
      "9      Norwegian               NA                  NA                   NA\n",
      "10        Polish               NA                  NA                   NA\n",
      "11    Portuguese        -1.405287                  NA                   NA\n",
      "12       Spanish               NA                  NA                   NA\n",
      "13       Swedish               NA                  NA                   NA\n",
      "14      Mandarin        -7.228203                  NA                   NA\n"
     ]
    }
   ],
   "source": [
    "%%R -i fas\n",
    "\n",
    "lm5 <- lmer(sums ~ contingent + (1|transcript_id),data=fas, REML= FALSE)\n",
    "emm5<-emmeans(lm5,pairwise~contingent)\n",
    "pval<-summary(emm5$contrasts)$p.value\n",
    "print(c(emm5$contrasts, pval))\n",
    "print(p.adjust(pval, \"holm\", 14))\n",
    "# summary(emmeans(lm5,\"contingent\",infer=TRUE)) #group means\n",
    "# test(contrast(emmeans(lm5,\"contingent\"), \"trt.vs.ctrl\"), joint = TRUE) #main effect - are any groups different\n",
    "\n",
    "fas_lname <- fas$Language_name[1]\n",
    "\n",
    "fas_eff <- eff_size(emm5,sigma = sigma(lm5), edf = df.residual(lm5))\n",
    "\n",
    "fas_eff <- summary(fas_eff)$effect.size\n",
    "\n",
    "effect_sizes[effect_sizes$Language_name==fas_lname,\"max_turn_effect_size\"] <- fas_eff\n",
    "effect_sizes"
   ]
  },
  {
   "cell_type": "code",
   "execution_count": 27,
   "id": "b0c63015-a08f-4c57-bc41-d402bd421754",
   "metadata": {},
   "outputs": [
    {
     "name": "stdout",
     "output_type": "stream",
     "text": [
      "[[1]]\n",
      " contrast                      estimate   SE  df t.ratio p.value\n",
      " contingent - (non-contingent)    -70.1 3.08 251 -22.761 <.0001 \n",
      "\n",
      "Degrees-of-freedom method: kenward-roger \n",
      "\n",
      "[[2]]\n",
      "[1] 5.2023e-63\n",
      "\n",
      "[1] 7.28322e-62\n"
     ]
    },
    {
     "name": "stderr",
     "output_type": "stream",
     "text": [
      "R[write to console]: Since 'object' is a list, we are using the contrasts already present.\n",
      "\n"
     ]
    },
    {
     "name": "stdout",
     "output_type": "stream",
     "text": [
      "   Language_name rand_effect_size max_voc_effect_size max_turn_effect_size\n",
      "1         German        -1.823008          -1.1826828            -1.309425\n",
      "2        English        -2.469682          -2.2049846            -2.300346\n",
      "3       Estonian        -1.305378          -0.9327983            -1.257935\n",
      "4        Persian        -2.931949          -1.8931652            -1.742468\n",
      "5         French        -1.738904          -1.5925148            -2.061280\n",
      "6       Croatian        -1.783383          -1.1007646                   NA\n",
      "7       Japanese        -1.686991          -1.1232899                   NA\n",
      "8         Korean        -2.152637          -1.5402032                   NA\n",
      "9      Norwegian               NA                  NA                   NA\n",
      "10        Polish               NA                  NA                   NA\n",
      "11    Portuguese        -1.405287                  NA                   NA\n",
      "12       Spanish               NA                  NA                   NA\n",
      "13       Swedish               NA                  NA                   NA\n",
      "14      Mandarin        -7.228203                  NA                   NA\n"
     ]
    }
   ],
   "source": [
    "%%R -i fra\n",
    "\n",
    "lm6 <- lmer(sums ~ contingent + (1|target_child_id) + (1|transcript_id),data=fra, REML= FALSE)\n",
    "emm6<-emmeans(lm6,pairwise~contingent)\n",
    "pval<-summary(emm6$contrasts)$p.value\n",
    "print(c(emm6$contrasts, pval))\n",
    "print(p.adjust(pval, \"holm\", 14))\n",
    "# summary(emmeans(lm6,\"contingent\",infer=TRUE)) #group means\n",
    "# test(contrast(emmeans(lm6,\"contingent\"), \"trt.vs.ctrl\"), joint = TRUE) #main effect - are any groups different\n",
    "\n",
    "fra_lname <- fra$Language_name[1]\n",
    "\n",
    "fra_eff <- eff_size(emm6,sigma = sigma(lm6), edf = df.residual(lm6))\n",
    "\n",
    "fra_eff <- summary(fra_eff)$effect.size\n",
    "\n",
    "effect_sizes[effect_sizes$Language_name==fra_lname,\"max_turn_effect_size\"] <- fra_eff\n",
    "effect_sizes"
   ]
  },
  {
   "cell_type": "code",
   "execution_count": 28,
   "id": "b47675db-dca3-4698-b4fe-40a3278ca0ce",
   "metadata": {},
   "outputs": [
    {
     "name": "stdout",
     "output_type": "stream",
     "text": [
      "[[1]]\n",
      " contrast                      estimate   SE   df t.ratio p.value\n",
      " contingent - (non-contingent)    -27.4 4.28 59.6 -6.406  <.0001 \n",
      "\n",
      "Degrees-of-freedom method: kenward-roger \n",
      "\n",
      "[[2]]\n",
      "[1] 2.613052e-08\n",
      "\n",
      "[1] 3.658273e-07\n"
     ]
    },
    {
     "name": "stderr",
     "output_type": "stream",
     "text": [
      "R[write to console]: Since 'object' is a list, we are using the contrasts already present.\n",
      "\n"
     ]
    },
    {
     "name": "stdout",
     "output_type": "stream",
     "text": [
      "   Language_name rand_effect_size max_voc_effect_size max_turn_effect_size\n",
      "1         German        -1.823008          -1.1826828            -1.309425\n",
      "2        English        -2.469682          -2.2049846            -2.300346\n",
      "3       Estonian        -1.305378          -0.9327983            -1.257935\n",
      "4        Persian        -2.931949          -1.8931652            -1.742468\n",
      "5         French        -1.738904          -1.5925148            -2.061280\n",
      "6       Croatian        -1.783383          -1.1007646            -1.198342\n",
      "7       Japanese        -1.686991          -1.1232899                   NA\n",
      "8         Korean        -2.152637          -1.5402032                   NA\n",
      "9      Norwegian               NA                  NA                   NA\n",
      "10        Polish               NA                  NA                   NA\n",
      "11    Portuguese        -1.405287                  NA                   NA\n",
      "12       Spanish               NA                  NA                   NA\n",
      "13       Swedish               NA                  NA                   NA\n",
      "14      Mandarin        -7.228203                  NA                   NA\n"
     ]
    }
   ],
   "source": [
    "%%R -i hrv\n",
    "\n",
    "lm7 <- lmer(sums ~ contingent + (1|target_child_id) + (1|transcript_id),data=hrv, REML= FALSE)\n",
    "emm7<-emmeans(lm7,pairwise~contingent)\n",
    "pval<-summary(emm7$contrasts)$p.value\n",
    "print(c(emm7$contrasts, pval))\n",
    "print(p.adjust(pval, \"holm\", 14))\n",
    "# summary(emmeans(lm7,\"contingent\",infer=TRUE)) #group means\n",
    "# test(contrast(emmeans(lm7,\"contingent\"), \"trt.vs.ctrl\"), joint = TRUE) #main effect - are any groups different\n",
    "\n",
    "hrv_lname <- hrv$Language_name[1]\n",
    "\n",
    "hrv_eff <- eff_size(emm7,sigma = sigma(lm7), edf = df.residual(lm7))\n",
    "\n",
    "hrv_eff <- summary(hrv_eff)$effect.size\n",
    "\n",
    "effect_sizes[effect_sizes$Language_name==hrv_lname,\"max_turn_effect_size\"] <- hrv_eff\n",
    "effect_sizes"
   ]
  },
  {
   "cell_type": "code",
   "execution_count": 29,
   "id": "1893655d-d016-496f-9c59-1ed398e75769",
   "metadata": {},
   "outputs": [
    {
     "name": "stdout",
     "output_type": "stream",
     "text": [
      "[[1]]\n",
      " contrast                      estimate   SE  df t.ratio p.value\n",
      " contingent - (non-contingent)    -27.5 2.91 140 -9.444  <.0001 \n",
      "\n",
      "Degrees-of-freedom method: kenward-roger \n",
      "\n",
      "[[2]]\n",
      "[1] 1.103714e-16\n",
      "\n",
      "[1] 1.545199e-15\n"
     ]
    },
    {
     "name": "stderr",
     "output_type": "stream",
     "text": [
      "R[write to console]: Since 'object' is a list, we are using the contrasts already present.\n",
      "\n"
     ]
    },
    {
     "name": "stdout",
     "output_type": "stream",
     "text": [
      "   Language_name rand_effect_size max_voc_effect_size max_turn_effect_size\n",
      "1         German        -1.823008          -1.1826828            -1.309425\n",
      "2        English        -2.469682          -2.2049846            -2.300346\n",
      "3       Estonian        -1.305378          -0.9327983            -1.257935\n",
      "4        Persian        -2.931949          -1.8931652            -1.742468\n",
      "5         French        -1.738904          -1.5925148            -2.061280\n",
      "6       Croatian        -1.783383          -1.1007646            -1.198342\n",
      "7       Japanese        -1.686991          -1.1232899            -1.136959\n",
      "8         Korean        -2.152637          -1.5402032                   NA\n",
      "9      Norwegian               NA                  NA                   NA\n",
      "10        Polish               NA                  NA                   NA\n",
      "11    Portuguese        -1.405287                  NA                   NA\n",
      "12       Spanish               NA                  NA                   NA\n",
      "13       Swedish               NA                  NA                   NA\n",
      "14      Mandarin        -7.228203                  NA                   NA\n"
     ]
    }
   ],
   "source": [
    "%%R -i jpn\n",
    "\n",
    "lm8 <- lmer(sums ~ contingent + (1|target_child_id) + (1|transcript_id),data=jpn, REML= FALSE)\n",
    "emm8<-emmeans(lm8,pairwise~contingent)\n",
    "pval<-summary(emm8$contrasts)$p.value\n",
    "print(c(emm8$contrasts, pval))\n",
    "print(p.adjust(pval, \"holm\", 14))\n",
    "# summary(emmeans(lm8,\"contingent\",infer=TRUE)) #group means\n",
    "# test(contrast(emmeans(lm8,\"contingent\"), \"trt.vs.ctrl\"), joint = TRUE) #main effect - are any groups different\n",
    "\n",
    "jpn_lname <- jpn$Language_name[1]\n",
    "\n",
    "jpn_eff <- eff_size(emm8,sigma = sigma(lm8), edf = df.residual(lm8))\n",
    "\n",
    "jpn_eff <- summary(jpn_eff)$effect.size\n",
    "\n",
    "effect_sizes[effect_sizes$Language_name==jpn_lname,\"max_turn_effect_size\"] <- jpn_eff\n",
    "effect_sizes"
   ]
  },
  {
   "cell_type": "code",
   "execution_count": 30,
   "id": "b7131a92-1597-4f60-851c-fa9e1821b195",
   "metadata": {},
   "outputs": [
    {
     "name": "stderr",
     "output_type": "stream",
     "text": [
      "R[write to console]: boundary (singular) fit: see ?isSingular\n",
      "\n",
      "R[write to console]: boundary (singular) fit: see ?isSingular\n",
      "\n"
     ]
    },
    {
     "name": "stdout",
     "output_type": "stream",
     "text": [
      "[[1]]\n",
      " contrast                      estimate   SE df t.ratio p.value\n",
      " contingent - (non-contingent)    -79.5 11.8 29 -6.749  <.0001 \n",
      "\n",
      "Degrees-of-freedom method: kenward-roger \n",
      "\n",
      "[[2]]\n",
      "[1] 2.075041e-07\n",
      "\n",
      "[1] 2.905058e-06\n"
     ]
    },
    {
     "name": "stderr",
     "output_type": "stream",
     "text": [
      "R[write to console]: Since 'object' is a list, we are using the contrasts already present.\n",
      "\n"
     ]
    },
    {
     "name": "stdout",
     "output_type": "stream",
     "text": [
      "   Language_name rand_effect_size max_voc_effect_size max_turn_effect_size\n",
      "1         German        -1.823008          -1.1826828            -1.309425\n",
      "2        English        -2.469682          -2.2049846            -2.300346\n",
      "3       Estonian        -1.305378          -0.9327983            -1.257935\n",
      "4        Persian        -2.931949          -1.8931652            -1.742468\n",
      "5         French        -1.738904          -1.5925148            -2.061280\n",
      "6       Croatian        -1.783383          -1.1007646            -1.198342\n",
      "7       Japanese        -1.686991          -1.1232899            -1.136959\n",
      "8         Korean        -2.152637          -1.5402032            -1.836832\n",
      "9      Norwegian               NA                  NA                   NA\n",
      "10        Polish               NA                  NA                   NA\n",
      "11    Portuguese        -1.405287                  NA                   NA\n",
      "12       Spanish               NA                  NA                   NA\n",
      "13       Swedish               NA                  NA                   NA\n",
      "14      Mandarin        -7.228203                  NA                   NA\n"
     ]
    }
   ],
   "source": [
    "%%R -i kor\n",
    "\n",
    "lm9 <- lmer(sums ~ contingent + (1|transcript_id), data=kor, REML= FALSE)\n",
    "emm9<-emmeans(lm9,pairwise~contingent)\n",
    "pval<-summary(emm9$contrasts)$p.value\n",
    "print(c(emm9$contrasts, pval))\n",
    "print(p.adjust(pval, \"holm\", 14))\n",
    "# summary(emmeans(lm9,\"contingent\",infer=TRUE)) #group means\n",
    "# test(contrast(emmeans(lm9,\"contingent\"), \"trt.vs.ctrl\"), joint = TRUE) #main effect - are any groups different\n",
    "\n",
    "kor_lname <- kor$Language_name[1]\n",
    "\n",
    "kor_eff <- eff_size(emm9,sigma = sigma(lm9), edf = df.residual(lm9))\n",
    "\n",
    "kor_eff <- summary(kor_eff)$effect.size\n",
    "\n",
    "effect_sizes[effect_sizes$Language_name==kor_lname,\"max_turn_effect_size\"] <- kor_eff\n",
    "effect_sizes"
   ]
  },
  {
   "cell_type": "code",
   "execution_count": 31,
   "id": "7ca5f463-2935-4026-a19a-e2f2913ae639",
   "metadata": {},
   "outputs": [
    {
     "name": "stderr",
     "output_type": "stream",
     "text": [
      "R[write to console]: boundary (singular) fit: see ?isSingular\n",
      "\n",
      "R[write to console]: boundary (singular) fit: see ?isSingular\n",
      "\n"
     ]
    },
    {
     "name": "stdout",
     "output_type": "stream",
     "text": [
      "[[1]]\n",
      " contrast                      estimate   SE   df t.ratio p.value\n",
      " contingent - (non-contingent)    -16.3 7.15 43.5 -2.283  0.0274 \n",
      "\n",
      "Degrees-of-freedom method: kenward-roger \n",
      "\n",
      "[[2]]\n",
      "[1] 0.02737409\n",
      "\n",
      "[1] 0.3832373\n",
      "   Language_name rand_effect_size max_voc_effect_size max_turn_effect_size\n",
      "1         German        -1.823008          -1.1826828            -1.309425\n",
      "2        English        -2.469682          -2.2049846            -2.300346\n",
      "3       Estonian        -1.305378          -0.9327983            -1.257935\n",
      "4        Persian        -2.931949          -1.8931652            -1.742468\n",
      "5         French        -1.738904          -1.5925148            -2.061280\n",
      "6       Croatian        -1.783383          -1.1007646            -1.198342\n",
      "7       Japanese        -1.686991          -1.1232899            -1.136959\n",
      "8         Korean        -2.152637          -1.5402032            -1.836832\n",
      "9      Norwegian               NA                  NA                  NaN\n",
      "10        Polish               NA                  NA                   NA\n",
      "11    Portuguese        -1.405287                  NA                   NA\n",
      "12       Spanish               NA                  NA                   NA\n",
      "13       Swedish               NA                  NA                   NA\n",
      "14      Mandarin        -7.228203                  NA                   NA\n"
     ]
    }
   ],
   "source": [
    "%%R -i nor\n",
    "\n",
    "lm10 <- lmer(sums ~ contingent + (1|target_child_id) + (1|transcript_id),data=nor, REML= FALSE)\n",
    "emm10<-emmeans(lm10,pairwise~contingent)\n",
    "pval<-summary(emm10$contrasts)$p.value\n",
    "print(c(emm10$contrasts, pval))\n",
    "print(p.adjust(pval, \"holm\", 14))\n",
    "# summary(emmeans(lm10,\"contingent\",infer=TRUE)) #group means\n",
    "# test(contrast(emmeans(lm10,\"contingent\"), \"trt.vs.ctrl\"), joint = TRUE) #main effect - are any groups different\n",
    "\n",
    "nor_lname <- nor$Language_name[1]\n",
    "\n",
    "effect_sizes[effect_sizes$Language_name==nor_lname,\"max_turn_effect_size\"] <- NaN\n",
    "effect_sizes"
   ]
  },
  {
   "cell_type": "code",
   "execution_count": 32,
   "id": "54f8ee3e-5815-41f0-bc78-1459a1b39b66",
   "metadata": {},
   "outputs": [
    {
     "name": "stdout",
     "output_type": "stream",
     "text": [
      "[[1]]\n",
      " contrast                      estimate  SE df t.ratio p.value\n",
      " contingent - (non-contingent)      -10 NaN  0 NaN     NaN    \n",
      "\n",
      "\n",
      "[[2]]\n",
      "[1] NaN\n",
      "\n",
      "[1] NaN\n",
      "   Language_name rand_effect_size max_voc_effect_size max_turn_effect_size\n",
      "1         German        -1.823008          -1.1826828            -1.309425\n",
      "2        English        -2.469682          -2.2049846            -2.300346\n",
      "3       Estonian        -1.305378          -0.9327983            -1.257935\n",
      "4        Persian        -2.931949          -1.8931652            -1.742468\n",
      "5         French        -1.738904          -1.5925148            -2.061280\n",
      "6       Croatian        -1.783383          -1.1007646            -1.198342\n",
      "7       Japanese        -1.686991          -1.1232899            -1.136959\n",
      "8         Korean        -2.152637          -1.5402032            -1.836832\n",
      "9      Norwegian               NA                  NA                  NaN\n",
      "10        Polish               NA                  NA                  NaN\n",
      "11    Portuguese        -1.405287                  NA                   NA\n",
      "12       Spanish               NA                  NA                   NA\n",
      "13       Swedish               NA                  NA                   NA\n",
      "14      Mandarin        -7.228203                  NA                   NA\n"
     ]
    }
   ],
   "source": [
    "%%R -i pol\n",
    "\n",
    "# simple linear model (no maxturnom effects, because only 1 transcript from 1 sub)\n",
    "\n",
    "#\n",
    "\n",
    "lm11 <- lm(sums ~ contingent ,data=pol, REML= FALSE)\n",
    "emm11<-emmeans(lm11,pairwise~contingent)\n",
    "pval<-summary(emm11$contrasts)$p.value\n",
    "print(c(emm11$contrasts, pval))\n",
    "print(p.adjust(pval, \"holm\", 14))\n",
    "# summary(emmeans(lm11,\"contingent\",infer=TRUE)) #group means\n",
    "# test(contrast(emmeans(lm11,\"contingent\"), \"trt.vs.ctrl\"), joint = TRUE) #main effect - are any groups different\n",
    "\n",
    "pol_lname <- pol$Language_name[1]\n",
    "\n",
    "effect_sizes[effect_sizes$Language_name==pol_lname,\"max_turn_effect_size\"] <- NaN\n",
    "effect_sizes"
   ]
  },
  {
   "cell_type": "code",
   "execution_count": 33,
   "id": "511471d9-3280-4018-ad85-edaaf1dfd07c",
   "metadata": {},
   "outputs": [
    {
     "name": "stderr",
     "output_type": "stream",
     "text": [
      "R[write to console]: boundary (singular) fit: see ?isSingular\n",
      "\n",
      "R[write to console]: boundary (singular) fit: see ?isSingular\n",
      "\n"
     ]
    },
    {
     "name": "stdout",
     "output_type": "stream",
     "text": [
      "[[1]]\n",
      " contrast                      estimate   SE   df t.ratio p.value\n",
      " contingent - (non-contingent)    -28.3 7.59 24.1 -3.721  0.0011 \n",
      "\n",
      "Degrees-of-freedom method: kenward-roger \n",
      "\n",
      "[[2]]\n",
      "[1] 0.001059215\n",
      "\n",
      "[1] 0.01482901\n"
     ]
    },
    {
     "name": "stderr",
     "output_type": "stream",
     "text": [
      "R[write to console]: Since 'object' is a list, we are using the contrasts already present.\n",
      "\n"
     ]
    },
    {
     "name": "stdout",
     "output_type": "stream",
     "text": [
      "   Language_name rand_effect_size max_voc_effect_size max_turn_effect_size\n",
      "1         German        -1.823008          -1.1826828            -1.309425\n",
      "2        English        -2.469682          -2.2049846            -2.300346\n",
      "3       Estonian        -1.305378          -0.9327983            -1.257935\n",
      "4        Persian        -2.931949          -1.8931652            -1.742468\n",
      "5         French        -1.738904          -1.5925148            -2.061280\n",
      "6       Croatian        -1.783383          -1.1007646            -1.198342\n",
      "7       Japanese        -1.686991          -1.1232899            -1.136959\n",
      "8         Korean        -2.152637          -1.5402032            -1.836832\n",
      "9      Norwegian               NA                  NA                  NaN\n",
      "10        Polish               NA                  NA                  NaN\n",
      "11    Portuguese        -1.405287                  NA            -1.122066\n",
      "12       Spanish               NA                  NA                   NA\n",
      "13       Swedish               NA                  NA                   NA\n",
      "14      Mandarin        -7.228203                  NA                   NA\n"
     ]
    }
   ],
   "source": [
    "%%R -i por\n",
    "\n",
    "lm12 <- lmer(sums ~ contingent + (1|target_child_id) + (1|transcript_id),data=por, REML= FALSE)\n",
    "emm12<-emmeans(lm12,pairwise~contingent)\n",
    "pval<-summary(emm12$contrasts)$p.value\n",
    "print(c(emm12$contrasts, pval))\n",
    "print(p.adjust(pval, \"holm\", 14))\n",
    "# summary(emmeans(lm12,\"contingent\",infer=TRUE)) #group means\n",
    "# test(contrast(emmeans(lm12,\"contingent\"), \"trt.vs.ctrl\"), joint = TRUE) #main effect - are any groups different\n",
    "\n",
    "por_lname <- por$Language_name[1]\n",
    "\n",
    "por_eff <- eff_size(emm12,sigma = sigma(lm12), edf = df.residual(lm12))\n",
    "\n",
    "por_eff <- summary(por_eff)$effect.size\n",
    "\n",
    "effect_sizes[effect_sizes$Language_name==por_lname,\"max_turn_effect_size\"] <- por_eff\n",
    "effect_sizes"
   ]
  },
  {
   "cell_type": "code",
   "execution_count": 34,
   "id": "32cdaa9f-510b-45fd-a7c9-cbab3c2b7a9b",
   "metadata": {},
   "outputs": [
    {
     "name": "stderr",
     "output_type": "stream",
     "text": [
      "R[write to console]: boundary (singular) fit: see ?isSingular\n",
      "\n"
     ]
    },
    {
     "name": "stdout",
     "output_type": "stream",
     "text": [
      "[[1]]\n",
      " contrast                      estimate   SE df t.ratio p.value\n",
      " contingent - (non-contingent)     19.1 5.53 32 3.452   0.0016 \n",
      "\n",
      "Degrees-of-freedom method: kenward-roger \n",
      "\n",
      "[[2]]\n",
      "[1] 0.001582076\n",
      "\n",
      "[1] 0.02214906\n"
     ]
    },
    {
     "name": "stderr",
     "output_type": "stream",
     "text": [
      "R[write to console]: Since 'object' is a list, we are using the contrasts already present.\n",
      "\n"
     ]
    },
    {
     "name": "stdout",
     "output_type": "stream",
     "text": [
      "   Language_name rand_effect_size max_voc_effect_size max_turn_effect_size\n",
      "1         German        -1.823008          -1.1826828           -1.3094253\n",
      "2        English        -2.469682          -2.2049846           -2.3003460\n",
      "3       Estonian        -1.305378          -0.9327983           -1.2579348\n",
      "4        Persian        -2.931949          -1.8931652           -1.7424681\n",
      "5         French        -1.738904          -1.5925148           -2.0612800\n",
      "6       Croatian        -1.783383          -1.1007646           -1.1983419\n",
      "7       Japanese        -1.686991          -1.1232899           -1.1369590\n",
      "8         Korean        -2.152637          -1.5402032           -1.8368325\n",
      "9      Norwegian               NA                  NA                  NaN\n",
      "10        Polish               NA                  NA                  NaN\n",
      "11    Portuguese        -1.405287                  NA           -1.1220664\n",
      "12       Spanish               NA                  NA            0.8914125\n",
      "13       Swedish               NA                  NA                   NA\n",
      "14      Mandarin        -7.228203                  NA                   NA\n"
     ]
    }
   ],
   "source": [
    "%%R -i spa\n",
    "\n",
    "lm13 <- lmer(sums ~ contingent + (1|target_child_id) + (1|transcript_id),data=spa, REML= FALSE)\n",
    "emm13<-emmeans(lm13,pairwise~contingent)\n",
    "pval<-summary(emm13$contrasts)$p.value\n",
    "print(c(emm13$contrasts, pval))\n",
    "print(p.adjust(pval, \"holm\", 14))\n",
    "# summary(emmeans(lm13,\"contingent\",infer=TRUE)) #group means\n",
    "# test(contrast(emmeans(lm13,\"contingent\"), \"trt.vs.ctrl\"), joint = TRUE) #main effect - are any groups different\n",
    "\n",
    "spa_lname <- spa$Language_name[1]\n",
    "\n",
    "spa_eff <- eff_size(emm13,sigma = sigma(lm13), edf = df.residual(lm13))\n",
    "\n",
    "spa_eff <- summary(spa_eff)$effect.size\n",
    "\n",
    "effect_sizes[effect_sizes$Language_name==spa_lname,\"max_turn_effect_size\"] <- spa_eff\n",
    "effect_sizes"
   ]
  },
  {
   "cell_type": "code",
   "execution_count": 35,
   "id": "a6227ceb-37a3-49ce-8647-b66bdd94aa24",
   "metadata": {},
   "outputs": [
    {
     "name": "stderr",
     "output_type": "stream",
     "text": [
      "R[write to console]: boundary (singular) fit: see ?isSingular\n",
      "\n",
      "R[write to console]: boundary (singular) fit: see ?isSingular\n",
      "\n"
     ]
    },
    {
     "name": "stdout",
     "output_type": "stream",
     "text": [
      "[[1]]\n",
      " contrast                      estimate   SE   df t.ratio p.value\n",
      " contingent - (non-contingent)    -25.1 14.7 17.1 -1.703  0.1067 \n",
      "\n",
      "Degrees-of-freedom method: kenward-roger \n",
      "\n",
      "[[2]]\n",
      "[1] 0.1067129\n",
      "\n",
      "[1] 1\n",
      "   Language_name rand_effect_size max_voc_effect_size max_turn_effect_size\n",
      "1         German        -1.823008          -1.1826828           -1.3094253\n",
      "2        English        -2.469682          -2.2049846           -2.3003460\n",
      "3       Estonian        -1.305378          -0.9327983           -1.2579348\n",
      "4        Persian        -2.931949          -1.8931652           -1.7424681\n",
      "5         French        -1.738904          -1.5925148           -2.0612800\n",
      "6       Croatian        -1.783383          -1.1007646           -1.1983419\n",
      "7       Japanese        -1.686991          -1.1232899           -1.1369590\n",
      "8         Korean        -2.152637          -1.5402032           -1.8368325\n",
      "9      Norwegian               NA                  NA                  NaN\n",
      "10        Polish               NA                  NA                  NaN\n",
      "11    Portuguese        -1.405287                  NA           -1.1220664\n",
      "12       Spanish               NA                  NA            0.8914125\n",
      "13       Swedish               NA                  NA                  NaN\n",
      "14      Mandarin        -7.228203                  NA                   NA\n"
     ]
    }
   ],
   "source": [
    "%%R -i swe\n",
    "\n",
    "lm14 <- lmer(sums ~ contingent + (1|target_child_id) + (1|transcript_id),data=swe, REML= FALSE)\n",
    "emm14<-emmeans(lm14,pairwise~contingent)\n",
    "pval<-summary(emm14$contrasts)$p.value\n",
    "print(c(emm14$contrasts, pval))\n",
    "print(p.adjust(pval, \"holm\", 14))\n",
    "# summary(emmeans(lm14,\"contingent\",infer=TRUE)) #group means\n",
    "# test(contrast(emmeans(lm14,\"contingent\"), \"trt.vs.ctrl\"), joint = TRUE) #main effect - are any groups different\n",
    "\n",
    "swe_lname <- swe$Language_name[1]\n",
    "\n",
    "effect_sizes[effect_sizes$Language_name==swe_lname,\"max_turn_effect_size\"] <- NaN\n",
    "effect_sizes"
   ]
  },
  {
   "cell_type": "code",
   "execution_count": 36,
   "id": "f7b703f3-0675-4d1b-bcd9-4abf4d38a151",
   "metadata": {},
   "outputs": [
    {
     "name": "stdout",
     "output_type": "stream",
     "text": [
      "[[1]]\n",
      " contrast                      estimate  SE df t.ratio p.value\n",
      " contingent - (non-contingent)    -89.5 7.5  4 -11.933 0.0003 \n",
      "\n",
      "Degrees-of-freedom method: kenward-roger \n",
      "\n",
      "[[2]]\n",
      "[1] 0.0002825224\n",
      "\n",
      "[1] 0.003955313\n"
     ]
    },
    {
     "name": "stderr",
     "output_type": "stream",
     "text": [
      "R[write to console]: Since 'object' is a list, we are using the contrasts already present.\n",
      "\n"
     ]
    },
    {
     "name": "stdout",
     "output_type": "stream",
     "text": [
      "   Language_name rand_effect_size max_voc_effect_size max_turn_effect_size\n",
      "1         German        -1.823008          -1.1826828           -1.3094253\n",
      "2        English        -2.469682          -2.2049846           -2.3003460\n",
      "3       Estonian        -1.305378          -0.9327983           -1.2579348\n",
      "4        Persian        -2.931949          -1.8931652           -1.7424681\n",
      "5         French        -1.738904          -1.5925148           -2.0612800\n",
      "6       Croatian        -1.783383          -1.1007646           -1.1983419\n",
      "7       Japanese        -1.686991          -1.1232899           -1.1369590\n",
      "8         Korean        -2.152637          -1.5402032           -1.8368325\n",
      "9      Norwegian               NA                  NA                  NaN\n",
      "10        Polish               NA                  NA                  NaN\n",
      "11    Portuguese        -1.405287                  NA           -1.1220664\n",
      "12       Spanish               NA                  NA            0.8914125\n",
      "13       Swedish               NA                  NA                  NaN\n",
      "14      Mandarin        -7.228203                  NA          -16.8762818\n"
     ]
    }
   ],
   "source": [
    "%%R -i zho\n",
    "\n",
    "lm15 <- lmer(sums ~ contingent + (1|transcript_id),data=zho, REML= FALSE)\n",
    "emm15<-emmeans(lm15,pairwise~contingent)\n",
    "pval<-summary(emm15$contrasts)$p.value\n",
    "print(c(emm15$contrasts, pval))\n",
    "print(p.adjust(pval, \"holm\", 14))\n",
    "# summary(emmeans(lm15,\"contingent\",infer=TRUE)) #group means\n",
    "# test(contrast(emmeans(lm15,\"contingent\"), \"trt.vs.ctrl\"), joint = TRUE) #main effect - are any groups different\n",
    "\n",
    "zho_lname <- zho$Language_name[1]\n",
    "\n",
    "zho_eff <- eff_size(emm15,sigma = sigma(lm15), edf = df.residual(lm15))\n",
    "\n",
    "zho_eff <- summary(zho_eff)$effect.size\n",
    "\n",
    "effect_sizes[effect_sizes$Language_name==zho_lname,\"max_turn_effect_size\"] <- zho_eff\n",
    "effect_sizes"
   ]
  },
  {
   "cell_type": "code",
   "execution_count": 37,
   "id": "1f7cad38-2791-4ddf-aab7-9a29b4c1e8d8",
   "metadata": {},
   "outputs": [],
   "source": [
    "%%R\n",
    "write.csv(x=effect_sizes,'../data/lexdiv_effect_sizes.csv', row.names = FALSE)"
   ]
  }
 ],
 "metadata": {
  "kernelspec": {
   "display_name": "Python 3",
   "language": "python",
   "name": "python3"
  },
  "language_info": {
   "codemirror_mode": {
    "name": "ipython",
    "version": 3
   },
   "file_extension": ".py",
   "mimetype": "text/x-python",
   "name": "python",
   "nbconvert_exporter": "python",
   "pygments_lexer": "ipython3",
   "version": "3.8.10"
  }
 },
 "nbformat": 4,
 "nbformat_minor": 5
}
