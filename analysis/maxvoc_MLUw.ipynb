{
 "cells": [
  {
   "cell_type": "markdown",
   "id": "e711f0ff-69a2-4172-95a9-e69a1bb95f33",
   "metadata": {},
   "source": [
    "# Natural Statistics Cross-linguistic: \n",
    "\n",
    "#### MLUw analysis - maximum infant vocalizations sample\n",
    "\n",
    "----"
   ]
  },
  {
   "cell_type": "code",
   "execution_count": 1,
   "id": "14b2dfa2-a2f9-4ecc-824d-9c4ee5a03e42",
   "metadata": {},
   "outputs": [],
   "source": [
    "import pandas as pd\n",
    "import numpy as np\n",
    "import sys\n",
    "sys.path.insert(0, \"data_proc\")\n",
    "import contingent_extraction\n",
    "import warnings\n",
    "warnings.filterwarnings('ignore')"
   ]
  },
  {
   "cell_type": "code",
   "execution_count": 2,
   "id": "bade9790-2c0b-40f6-ac22-e01be5475f42",
   "metadata": {},
   "outputs": [],
   "source": [
    "maxvoc_dat_inc = pd.read_csv(\"../data/maxvoc_dat_inc_master.csv\",index_col=0,low_memory=False)\n",
    "maxvoc_dat_inc=maxvoc_dat_inc[maxvoc_dat_inc[\"language\"]!=\"ara\"]\n",
    "maxvoc_dat_inc=maxvoc_dat_inc[(maxvoc_dat_inc[\"target_child_age\"]>=5) & (maxvoc_dat_inc[\"target_child_age\"]<=30)]\n",
    "\n",
    "maxvoc_dat_inc_cg = maxvoc_dat_inc[maxvoc_dat_inc[\"caregiver\"]==\"caregiver\"]\n",
    "\n",
    "maxvoc_dat_inc_cg[\"contingent\"] = np.where(maxvoc_dat_inc_cg[\"contingent\"]==1, \"contingent\", \"non-contingent\")\n",
    "\n",
    "maxvoc_dat_inc_cg = maxvoc_dat_inc_cg[maxvoc_dat_inc_cg[\"gloss\"].notna()]\n",
    "maxvoc_dat_inc_cg = maxvoc_dat_inc_cg[maxvoc_dat_inc_cg[\"gloss\"]!=\"xxx\"]\n",
    "maxvoc_dat_inc_cg = maxvoc_dat_inc_cg[maxvoc_dat_inc_cg[\"gloss\"]!=\"yyy\"]\n",
    "maxvoc_dat_inc_cg = maxvoc_dat_inc_cg[maxvoc_dat_inc_cg[\"gloss\"]!=\"www\"]"
   ]
  },
  {
   "cell_type": "code",
   "execution_count": 3,
   "id": "984d203d-f3eb-4bc7-9847-42502a6435ff",
   "metadata": {},
   "outputs": [],
   "source": [
    "# create language_name column\n",
    "\n",
    "# language_labels = pd.read_csv(\"../data/language_labels.csv\")\n",
    "\n",
    "# language_labels=language_labels.rename(columns={\"Language\":\"language\"})\n",
    "\n",
    "# maxvoc_dat_inc_cg=maxvoc_dat_inc_cg.merge(language_labels,on='language',how=\"right\")"
   ]
  },
  {
   "cell_type": "code",
   "execution_count": 4,
   "id": "6adc5791-bd24-4b14-85fc-a5191295deff",
   "metadata": {},
   "outputs": [],
   "source": [
    "maxvoc_mlu_stats = (maxvoc_dat_inc_cg.groupby([\"Language_name\",\"target_child_id\",\"transcript_id\",\"contingent\"])\n",
    "                                  .num_tokens\n",
    "                                  .agg([\"mean\"])\n",
    "                                  .reset_index())\n",
    "maxvoc_mlu_sumstats =  maxvoc_mlu_stats.rename({'mean': 'means'}, axis=1)"
   ]
  },
  {
   "cell_type": "markdown",
   "id": "02f1752e-bb58-4899-a997-629906e890d5",
   "metadata": {},
   "source": [
    "----\n",
    "#### MLUw plot"
   ]
  },
  {
   "cell_type": "code",
   "execution_count": 5,
   "id": "96c19f27-8961-4406-ad52-748e7a9a8dec",
   "metadata": {},
   "outputs": [],
   "source": [
    "%load_ext rpy2.ipython"
   ]
  },
  {
   "cell_type": "markdown",
   "id": "ae10e5f8-9625-465f-ac72-fe2fd8280fac",
   "metadata": {},
   "source": [
    "Simple plot"
   ]
  },
  {
   "cell_type": "code",
   "execution_count": 39,
   "id": "f743774a-164d-4635-a882-2d6f66d70569",
   "metadata": {},
   "outputs": [],
   "source": [
    "%%R -i maxvoc_mlu_sumstats\n",
    "\n",
    "library('ggplot2')\n",
    "library('repr')\n",
    "options(repr.plot.width=6, repr.plot.height=12)\n",
    "\n",
    "# ara_label <- data.frame(means=c(0),contingent = c(1.5),language=\"ara\") # no adult speech transcribed\n",
    "deu_label <- data.frame(means=c(5.8),contingent = c(1.5),Language_name=\"German\")\n",
    "eng_label <- data.frame(means=c(5.8),contingent = c(1.5),Language_name=\"English\")\n",
    "est_label <- data.frame(means=c(5.8),contingent = c(1.5),Language_name=\"Estonian\")\n",
    "# fas_label <- data.frame(means=c(5.8),contingent = c(1.5),Language_name=\"Persian\")\n",
    "fas_ns_label <- data.frame(means=c(6),contingent = c(1.5),Language_name=\"Persian\")\n",
    "fra_label <- data.frame(means=c(5.8),contingent = c(1.5),Language_name=\"French\")\n",
    "hrv_label <- data.frame(means=c(5.8),contingent = c(1.5),Language_name=\"Croatian\")\n",
    "jpn_label <- data.frame(means=c(5.8),contingent = c(1.5),Language_name=\"Japanese\")\n",
    "kor_label <- data.frame(means=c(5.8),contingent = c(1.5),Language_name=\"Korean\")\n",
    "# nor_label <- data.frame(means=c(5.8),contingent = c(1.5),Language_name=\"Norwegian\")\n",
    "nor_ns_label <- data.frame(means=c(6),contingent = c(1.5),Language_name=\"Norwegian\")\n",
    "pol_label <- data.frame(means=c(6),contingent = c(1.5),Language_name=\"Polish\")\n",
    "por_label <- data.frame(means=c(5.8),contingent = c(1.5),Language_name=\"Portuguese\")\n",
    "spa_label <- data.frame(means=c(5.8),contingent = c(1.5),Language_name=\"Spanish\")\n",
    "swe_label <- data.frame(means=c(5.8),contingent = c(1.5),Language_name=\"Swedish\")\n",
    "# zho_label <- data.frame(means=c(5.8),contingent = c(1.5),Language_name=\"Mandarin\")\n",
    "zho_ns_label <- data.frame(means=c(6),contingent = c(1.5),Language_name=\"Mandarin\")\n",
    "\n",
    "\n",
    "p <- ggplot(maxvoc_mlu_sumstats, aes(x = contingent, y = means, color = Language_name)) +\n",
    "     stat_summary(fun.y=mean, geom=\"point\", shape=19, size=1.75) + \n",
    "     stat_summary(fun.data = mean_se, geom = \"errorbar\", size=1.25, width = .5) +\n",
    "     facet_wrap(. ~ Language_name,ncol = 7) + \n",
    "     geom_text(data = deu_label,label = \"***\",size=8,color=\"black\") + \n",
    "     geom_text(data = eng_label,label = \"***\",size=8,color=\"black\") +  \n",
    "     geom_text(data = est_label,label = \"***\",size=8,color=\"black\") +  \n",
    "     geom_text(data = fas_ns_label,label = \"ns\",size=4,color=\"black\",fontface = \"italic\") +\n",
    "#      geom_text(data = fas_label,label = \"*\",size=8, color=\"black\") +\n",
    "     geom_text(data = fra_label,label = \"***\",size=8,color=\"black\") +  \n",
    "     geom_text(data = hrv_label,label = \"***\",size=8,color=\"black\") + \n",
    "     geom_text(data = jpn_label,label = \"***\",size=8,color=\"black\") + \n",
    "     geom_text(data = kor_label,label = \"***\",size=8,color=\"black\") +  \n",
    "     geom_text(data = nor_ns_label,label = \"ns\",size=4,color=\"black\",fontface = \"italic\") +  \n",
    "     geom_text(data = pol_label,label = \"ns\", size=4,color=\"black\",fontface = \"italic\") +  \n",
    "     geom_text(data = por_label,label = \"***\",size=8,color=\"black\") +  \n",
    "     geom_text(data = spa_label,label = \"***\",size=8,color=\"black\") + \n",
    "     geom_text(data = swe_label,label = \"***\",size=8,color=\"black\") + \n",
    "     geom_text(data = zho_ns_label,label = \"ns\",size=4,color=\"black\",fontface = \"italic\") +\n",
    "#      geom_text(data = zho_label,label = \"*\",size=8, color=\"black\") +\n",
    "     ylim(0, 6) +\n",
    "     labs(# title = \"Mean length of utterance in words\",\n",
    "       # subtitle = \"Using CHILDES Token counts\",\n",
    "       y = \"MLUw\", x = \"\") +\n",
    "     theme_classic() +\n",
    "     theme(text = element_text(size=16),\n",
    "           axis.text.x = element_text(angle = 90, vjust = 0.5, hjust=1),\n",
    "           legend.title = element_blank(),\n",
    "           legend.background = element_rect(fill=alpha(\"white\",0.90),\n",
    "                                                            size=0, linetype=\"dotted\",\n",
    "                                                            colour = \"white\"),\n",
    "           legend.text=element_text(size=16))\n",
    "     ggsave(\"../figures/token_mlu_maxvoc.pdf\", width = 11.7, height = 6.2)"
   ]
  },
  {
   "cell_type": "markdown",
   "id": "e016feed-0ac9-40f4-9082-d3e58188094f",
   "metadata": {},
   "source": [
    "Plot + effect estimates"
   ]
  },
  {
   "cell_type": "code",
   "execution_count": 40,
   "id": "3ac2c73d-7294-4937-a741-3d8a12fc5aaf",
   "metadata": {},
   "outputs": [],
   "source": [
    "%%R\n",
    "\n",
    "deu_est_label <- data.frame(means=c(.25),contingent = c(1),Language_name=\"German\")\n",
    "eng_est_label <- data.frame(means=c(.25),contingent = c(1),Language_name=\"English\")\n",
    "est_est_label <- data.frame(means=c(.25),contingent = c(1),Language_name=\"Estonian\")\n",
    "fra_est_label <- data.frame(means=c(.25),contingent = c(1),Language_name=\"French\")\n",
    "hrv_est_label <- data.frame(means=c(.25),contingent = c(1),Language_name=\"Croatian\")\n",
    "jpn_est_label <- data.frame(means=c(.25),contingent = c(1),Language_name=\"Japanese\")\n",
    "kor_est_label <- data.frame(means=c(.25),contingent = c(1),Language_name=\"Korean\")\n",
    "nor_est_label <- data.frame(means=c(.25),contingent = c(1),Language_name=\"Norwegian\")\n",
    "por_est_label <- data.frame(means=c(.25),contingent = c(1),Language_name=\"Portuguese\")\n",
    "spa_est_label <- data.frame(means=c(.25),contingent = c(1),Language_name=\"Spanish\")\n",
    "swe_est_label <- data.frame(means=c(.25),contingent = c(1),Language_name=\"Swedish\")\n",
    "\n",
    "p <- p + geom_text(data = deu_est_label,label = \"est=-.97\",size=4,color=\"black\") +\n",
    "         geom_text(data = eng_est_label,label = \"est=-.54\",size=4,color=\"black\") +\n",
    "         geom_text(data = est_est_label,label = \"est=-.63\",size=4,color=\"black\") +\n",
    "         geom_text(data = fra_est_label,label = \"est=-.32\",size=4,color=\"black\") +\n",
    "         geom_text(data = hrv_est_label,label = \"est=-.45\",size=4,color=\"black\") +\n",
    "         geom_text(data = jpn_est_label,label = \"est=-.59\",size=4,color=\"black\") +\n",
    "         geom_text(data = kor_est_label,label = \"est=-.57\",size=4,color=\"black\") +\n",
    "#          geom_text(data = nor_est_label,label = \"est=-.68\",size=4,color=\"black\") +\n",
    "         geom_text(data = por_est_label,label = \"est=-.76\",size=4,color=\"black\") +\n",
    "         geom_text(data = spa_est_label,label = \"est=-.53\",size=4,color=\"black\") +\n",
    "         geom_text(data = swe_est_label,label = \"est=-.66\",size=4,color=\"black\")\n",
    "         \n",
    "\n",
    "ggsave(\"../figures/token_mlu_maxvoc_eff.pdf\", width = 11.7, height = 6.2)"
   ]
  },
  {
   "cell_type": "markdown",
   "id": "e68ff1ed-0162-4140-a559-7418247280f1",
   "metadata": {},
   "source": [
    "\\+ sample size"
   ]
  },
  {
   "cell_type": "code",
   "execution_count": 41,
   "id": "c60a8fb0-5526-4d23-8ef0-c34bdb62065a",
   "metadata": {},
   "outputs": [],
   "source": [
    "%%R\n",
    "\n",
    "deu_n_label <- data.frame(means=c(.25),contingent = c(1.7),Language_name=\"German\")\n",
    "eng_n_label <- data.frame(means=c(.25),contingent = c(1.7),Language_name=\"English\")\n",
    "est_n_label <- data.frame(means=c(.25),contingent = c(1.7),Language_name=\"Estonian\")\n",
    "fas_n_label <- data.frame(means=c(.25),contingent = c(1.7),Language_name=\"Persian\")\n",
    "fra_n_label <- data.frame(means=c(.25),contingent = c(1.7),Language_name=\"French\")\n",
    "hrv_n_label <- data.frame(means=c(.25),contingent = c(1.7),Language_name=\"Croatian\")\n",
    "jpn_n_label <- data.frame(means=c(.25),contingent = c(1.7),Language_name=\"Japanese\")\n",
    "kor_n_label <- data.frame(means=c(.25),contingent = c(1.7),Language_name=\"Korean\")\n",
    "nor_n_label <- data.frame(means=c(.25),contingent = c(1.7),Language_name=\"Norwegian\")\n",
    "pol_n_label <- data.frame(means=c(.25),contingent = c(1.7),Language_name=\"Polish\")\n",
    "por_n_label <- data.frame(means=c(.25),contingent = c(1.7),Language_name=\"Portuguese\")\n",
    "spa_n_label <- data.frame(means=c(.25),contingent = c(1.7),Language_name=\"Spanish\")\n",
    "swe_n_label <- data.frame(means=c(.25),contingent = c(1.7),Language_name=\"Swedish\")\n",
    "zho_n_label <- data.frame(means=c(.25),contingent = c(1.7),Language_name=\"Mandarin\")\n",
    "\n",
    "deu_sz_label <- data.frame(means=c(.25),contingent = c(2.1),Language_name=\"German\")\n",
    "eng_sz_label <- data.frame(means=c(.25),contingent = c(2.1),Language_name=\"English\")\n",
    "est_sz_label <- data.frame(means=c(.25),contingent = c(2.1),Language_name=\"Estonian\")\n",
    "fas_sz_label <- data.frame(means=c(.25),contingent = c(2.1),Language_name=\"Persian\")\n",
    "fra_sz_label <- data.frame(means=c(.25),contingent = c(2.1),Language_name=\"French\")\n",
    "hrv_sz_label <- data.frame(means=c(.25),contingent = c(2.1),Language_name=\"Croatian\")\n",
    "jpn_sz_label <- data.frame(means=c(.25),contingent = c(2.1),Language_name=\"Japanese\")\n",
    "kor_sz_label <- data.frame(means=c(.25),contingent = c(2.1),Language_name=\"Korean\")\n",
    "nor_sz_label <- data.frame(means=c(.25),contingent = c(2.1),Language_name=\"Norwegian\")\n",
    "pol_sz_label <- data.frame(means=c(.25),contingent = c(2.1),Language_name=\"Polish\")\n",
    "por_sz_label <- data.frame(means=c(.25),contingent = c(2.1),Language_name=\"Portuguese\")\n",
    "spa_sz_label <- data.frame(means=c(.25),contingent = c(2.1),Language_name=\"Spanish\")\n",
    "swe_sz_label <- data.frame(means=c(.25),contingent = c(2.1),Language_name=\"Swedish\")\n",
    "zho_sz_label <- data.frame(means=c(.25),contingent = c(2.1),Language_name=\"Mandarin\")\n",
    "\n",
    "p <- p + geom_text(data = deu_n_label,label = \"n\",size=4,color=\"black\",fontface = \"italic\") +\n",
    "         geom_text(data = eng_n_label,label = \"n\",size=4,color=\"black\",fontface = \"italic\") +\n",
    "         geom_text(data = est_n_label,label = \"n\",size=4,color=\"black\",fontface = \"italic\") +\n",
    "         geom_text(data = fas_n_label,label = \"n\",size=4,color=\"black\",fontface = \"italic\") +\n",
    "         geom_text(data = fra_n_label,label = \"n\",size=4,color=\"black\",fontface = \"italic\") +\n",
    "         geom_text(data = hrv_n_label,label = \"n\",size=4,color=\"black\",fontface = \"italic\") +\n",
    "         geom_text(data = jpn_n_label,label = \"n\",size=4,color=\"black\",fontface = \"italic\") +\n",
    "         geom_text(data = kor_n_label,label = \"n\",size=4,color=\"black\",fontface = \"italic\") +\n",
    "         geom_text(data = nor_n_label,label = \"n\",size=4,color=\"black\",fontface = \"italic\") +\n",
    "         geom_text(data = pol_n_label,label = \"n\",size=4,color=\"black\",fontface = \"italic\") +\n",
    "         geom_text(data = por_n_label,label = \"n\",size=4,color=\"black\",fontface = \"italic\") +\n",
    "         geom_text(data = spa_n_label,label = \"n\",size=4,color=\"black\",fontface = \"italic\") +\n",
    "         geom_text(data = swe_n_label,label = \"n\",size=4,color=\"black\",fontface = \"italic\") +\n",
    "         geom_text(data = zho_n_label,label = \"n\",size=4,color=\"black\",fontface = \"italic\") +\n",
    "         geom_text(data = deu_sz_label,label = \" = 39\",size=4,color=\"black\") +\n",
    "         geom_text(data = eng_sz_label,label = \" =1010\",size=4,color=\"black\") +\n",
    "         geom_text(data = est_sz_label,label = \" = 22\",size=4,color=\"black\") +\n",
    "         geom_text(data = fas_sz_label,label = \" = 12\",size=4,color=\"black\") +\n",
    "         geom_text(data = fra_sz_label,label = \" = 258\",size=4,color=\"black\") +\n",
    "         geom_text(data = hrv_sz_label,label = \" = 79\",size=4,color=\"black\") +\n",
    "         geom_text(data = jpn_sz_label,label = \" = 139\",size=4,color=\"black\") +\n",
    "         geom_text(data = kor_sz_label,label = \" = 37\",size=4,color=\"black\") +\n",
    "         geom_text(data = nor_sz_label,label = \" = 56\",size=4,color=\"black\") +\n",
    "         geom_text(data = pol_sz_label,label = \" = 1\",size=4,color=\"black\") +\n",
    "         geom_text(data = por_sz_label,label = \" = 24\",size=4,color=\"black\") +\n",
    "         geom_text(data = spa_sz_label,label = \" = 31\",size=4,color=\"black\") +\n",
    "         geom_text(data = swe_sz_label,label = \" = 16\",size=4,color=\"black\") +\n",
    "         geom_text(data = zho_sz_label,label = \" = 2\",size=4,color=\"black\")\n",
    "         \n",
    "\n",
    "ggsave(\"../figures/token_mlu_maxvoc_eff_n.pdf\", width = 11.7, height = 6.2)"
   ]
  },
  {
   "cell_type": "markdown",
   "id": "2754e4bd-da49-4366-b254-fd337da9c116",
   "metadata": {},
   "source": [
    "----\n",
    "\n",
    "#### MLUw mixed models"
   ]
  },
  {
   "cell_type": "code",
   "execution_count": 6,
   "id": "100ad13f-e7d7-4a2b-98ed-e9c37aac38b4",
   "metadata": {},
   "outputs": [],
   "source": [
    "# ara=maxvoc_dat_inc_cg[['language','num_tokens','contingent','transcript_id','target_child_id']][maxvoc_dat_inc_cg[\"language\"]==\"ara\"] # no adult speech transcribed\n",
    "deu=maxvoc_dat_inc_cg[['language','num_tokens','contingent','transcript_id','target_child_id']][maxvoc_dat_inc_cg[\"language\"]==\"deu\"]\n",
    "eng=maxvoc_dat_inc_cg[['language','num_tokens','contingent','transcript_id','target_child_id']][maxvoc_dat_inc_cg[\"language\"]==\"eng\"]\n",
    "est=maxvoc_dat_inc_cg[['language','num_tokens','contingent','transcript_id','target_child_id']][maxvoc_dat_inc_cg[\"language\"]==\"est\"]\n",
    "fas=maxvoc_dat_inc_cg[['language','num_tokens','contingent','transcript_id','target_child_id']][maxvoc_dat_inc_cg[\"language\"]==\"fas\"]\n",
    "fra=maxvoc_dat_inc_cg[['language','num_tokens','contingent','transcript_id','target_child_id']][maxvoc_dat_inc_cg[\"language\"]==\"fra\"]\n",
    "hrv=maxvoc_dat_inc_cg[['language','num_tokens','contingent','transcript_id','target_child_id']][maxvoc_dat_inc_cg[\"language\"]==\"hrv\"]\n",
    "jpn=maxvoc_dat_inc_cg[['language','num_tokens','contingent','transcript_id','target_child_id']][maxvoc_dat_inc_cg[\"language\"]==\"jpn\"]\n",
    "kor=maxvoc_dat_inc_cg[['language','num_tokens','contingent','transcript_id','target_child_id']][maxvoc_dat_inc_cg[\"language\"]==\"kor\"]\n",
    "nor=maxvoc_dat_inc_cg[['language','num_tokens','contingent','transcript_id','target_child_id']][maxvoc_dat_inc_cg[\"language\"]==\"nor\"]\n",
    "pol=maxvoc_dat_inc_cg[['language','num_tokens','contingent','transcript_id','target_child_id']][maxvoc_dat_inc_cg[\"language\"]==\"pol\"]\n",
    "por=maxvoc_dat_inc_cg[['language','num_tokens','contingent','transcript_id','target_child_id']][maxvoc_dat_inc_cg[\"language\"]==\"por\"]\n",
    "spa=maxvoc_dat_inc_cg[['language','num_tokens','contingent','transcript_id','target_child_id']][maxvoc_dat_inc_cg[\"language\"]==\"spa\"]\n",
    "swe=maxvoc_dat_inc_cg[['language','num_tokens','contingent','transcript_id','target_child_id']][maxvoc_dat_inc_cg[\"language\"]==\"swe\"]\n",
    "zho=maxvoc_dat_inc_cg[['language','num_tokens','contingent','transcript_id','target_child_id']][maxvoc_dat_inc_cg[\"language\"]==\"zho\"]"
   ]
  },
  {
   "cell_type": "code",
   "execution_count": 7,
   "id": "fcd6878b-be3f-4a3c-beea-07d272435ef9",
   "metadata": {},
   "outputs": [
    {
     "name": "stderr",
     "output_type": "stream",
     "text": [
      "R[write to console]: Loading required package: Matrix\n",
      "\n",
      "R[write to console]: \n",
      "Attaching package: ‘lmerTest’\n",
      "\n",
      "\n",
      "R[write to console]: The following object is masked from ‘package:lme4’:\n",
      "\n",
      "    lmer\n",
      "\n",
      "\n",
      "R[write to console]: The following object is masked from ‘package:stats’:\n",
      "\n",
      "    step\n",
      "\n",
      "\n",
      "R[write to console]: ── \u001b[1mAttaching packages\u001b[22m ─────────────────────────────────────── tidyverse 1.3.1 ──\n",
      "\n",
      "R[write to console]: \u001b[32m✔\u001b[39m \u001b[34mggplot2\u001b[39m 3.3.5     \u001b[32m✔\u001b[39m \u001b[34mpurrr  \u001b[39m 0.3.4\n",
      "\u001b[32m✔\u001b[39m \u001b[34mtibble \u001b[39m 3.1.5     \u001b[32m✔\u001b[39m \u001b[34mdplyr  \u001b[39m 1.0.7\n",
      "\u001b[32m✔\u001b[39m \u001b[34mtidyr  \u001b[39m 1.1.3     \u001b[32m✔\u001b[39m \u001b[34mstringr\u001b[39m 1.4.0\n",
      "\u001b[32m✔\u001b[39m \u001b[34mreadr  \u001b[39m 1.4.0     \u001b[32m✔\u001b[39m \u001b[34mforcats\u001b[39m 0.5.1\n",
      "\n",
      "R[write to console]: ── \u001b[1mConflicts\u001b[22m ────────────────────────────────────────── tidyverse_conflicts() ──\n",
      "\u001b[31m✖\u001b[39m \u001b[34mtidyr\u001b[39m::\u001b[32mexpand()\u001b[39m masks \u001b[34mMatrix\u001b[39m::expand()\n",
      "\u001b[31m✖\u001b[39m \u001b[34mdplyr\u001b[39m::\u001b[32mfilter()\u001b[39m masks \u001b[34mstats\u001b[39m::filter()\n",
      "\u001b[31m✖\u001b[39m \u001b[34mdplyr\u001b[39m::\u001b[32mlag()\u001b[39m    masks \u001b[34mstats\u001b[39m::lag()\n",
      "\u001b[31m✖\u001b[39m \u001b[34mtidyr\u001b[39m::\u001b[32mpack()\u001b[39m   masks \u001b[34mMatrix\u001b[39m::pack()\n",
      "\u001b[31m✖\u001b[39m \u001b[34mtidyr\u001b[39m::\u001b[32munpack()\u001b[39m masks \u001b[34mMatrix\u001b[39m::unpack()\n",
      "\n"
     ]
    }
   ],
   "source": [
    "%%R\n",
    "\n",
    "library(\"lme4\")\n",
    "library(\"emmeans\")\n",
    "library(\"lmerTest\")\n",
    "library(\"tidyverse\")\n",
    "\n",
    "effect_sizes <- read.csv(\"../data/MLUw_effect_sizes.csv\")\n",
    "\n",
    "effect_sizes[\"max_voc_effect_size\"] <- NA"
   ]
  },
  {
   "cell_type": "code",
   "execution_count": 8,
   "id": "4a2cdae8-a639-4706-b234-77e40fcbef54",
   "metadata": {},
   "outputs": [
    {
     "name": "stderr",
     "output_type": "stream",
     "text": [
      "R[write to console]: Note: D.f. calculations have been disabled because the number of observations exceeds 3000.\n",
      "To enable adjustments, add the argument 'pbkrtest.limit = 4810' (or larger)\n",
      "[or, globally, 'set emm_options(pbkrtest.limit = 4810)' or larger];\n",
      "but be warned that this may result in large computation time and memory use.\n",
      "\n",
      "R[write to console]: Note: D.f. calculations have been disabled because the number of observations exceeds 3000.\n",
      "To enable adjustments, add the argument 'lmerTest.limit = 4810' (or larger)\n",
      "[or, globally, 'set emm_options(lmerTest.limit = 4810)' or larger];\n",
      "but be warned that this may result in large computation time and memory use.\n",
      "\n"
     ]
    },
    {
     "name": "stdout",
     "output_type": "stream",
     "text": [
      "[[1]]\n",
      " contrast                      estimate     SE  df z.ratio p.value\n",
      " contingent - (non-contingent)   -0.935 0.0948 Inf -9.863  <.0001 \n",
      "\n",
      "Degrees-of-freedom method: asymptotic \n",
      "\n",
      "[[2]]\n",
      "[1] 6.001967e-23\n",
      "\n",
      "[1] 8.402754e-22\n"
     ]
    },
    {
     "name": "stderr",
     "output_type": "stream",
     "text": [
      "R[write to console]: Since 'object' is a list, we are using the contrasts already present.\n",
      "\n"
     ]
    },
    {
     "name": "stdout",
     "output_type": "stream",
     "text": [
      "   Language_name rand_effect_size max_voc_effect_size\n",
      "1            deu       -0.2014434          -0.2921636\n",
      "2            eng       -0.2136242                  NA\n",
      "3            est       -0.1484433                  NA\n",
      "4            fas              NaN                  NA\n",
      "5            fra       -0.1424092                  NA\n",
      "6            hrv       -0.1661630                  NA\n",
      "7            jpn       -0.3211032                  NA\n",
      "8            kor       -0.2469108                  NA\n",
      "9            nor       -0.1823449                  NA\n",
      "10           pol              NaN                  NA\n",
      "11           por       -0.2390893                  NA\n",
      "12           spa       -0.2410338                  NA\n",
      "13           swe       -0.2695666                  NA\n",
      "14           zho              NaN                  NA\n"
     ]
    }
   ],
   "source": [
    "%%R -i deu\n",
    "\n",
    "lm2 <- lmer(num_tokens ~ contingent + (1|target_child_id) + (1|transcript_id),data=deu, REML= FALSE)\n",
    "emm2<-emmeans(lm2,pairwise~contingent)\n",
    "pval<-summary(emm2$contrasts)$p.value\n",
    "print(c(emm2$contrasts, pval))\n",
    "print(p.adjust(pval, \"holm\", 14)) # create big vector of p-values and ajdust those\n",
    "# summary(emmeans(lm2,\"contingent\",contr=\"pairwise\"),infer=TRUE) #group means\n",
    "# test(contrast(emmeans(lm2,\"contingent\"), \"trt.vs.ctrl\"), joint = TRUE) #main effect - are any groups different\n",
    "\n",
    "deu_lname <- deu$language[1]\n",
    "\n",
    "deu_eff <- eff_size(emm2,sigma = sigma(lm2), edf = df.residual(lm2))\n",
    "\n",
    "deu_eff <- summary(deu_eff)$effect.size\n",
    "\n",
    "effect_sizes[effect_sizes$Language_name==deu_lname,\"max_voc_effect_size\"] <- deu_eff\n",
    "effect_sizes"
   ]
  },
  {
   "cell_type": "code",
   "execution_count": 9,
   "id": "e851c5fa-2f3e-4632-ba22-da60807d37de",
   "metadata": {},
   "outputs": [
    {
     "name": "stderr",
     "output_type": "stream",
     "text": [
      "R[write to console]: Note: D.f. calculations have been disabled because the number of observations exceeds 3000.\n",
      "To enable adjustments, add the argument 'pbkrtest.limit = 114722' (or larger)\n",
      "[or, globally, 'set emm_options(pbkrtest.limit = 114722)' or larger];\n",
      "but be warned that this may result in large computation time and memory use.\n",
      "\n",
      "R[write to console]: Note: D.f. calculations have been disabled because the number of observations exceeds 3000.\n",
      "To enable adjustments, add the argument 'lmerTest.limit = 114722' (or larger)\n",
      "[or, globally, 'set emm_options(lmerTest.limit = 114722)' or larger];\n",
      "but be warned that this may result in large computation time and memory use.\n",
      "\n"
     ]
    },
    {
     "name": "stdout",
     "output_type": "stream",
     "text": [
      "[[1]]\n",
      " contrast                      estimate     SE  df z.ratio p.value\n",
      " contingent - (non-contingent)   -0.584 0.0233 Inf -25.128 <.0001 \n",
      "\n",
      "Degrees-of-freedom method: asymptotic \n",
      "\n",
      "[[2]]\n",
      "[1] 2.484097e-139\n",
      "\n",
      "[1] 3.477736e-138\n"
     ]
    },
    {
     "name": "stderr",
     "output_type": "stream",
     "text": [
      "R[write to console]: Since 'object' is a list, we are using the contrasts already present.\n",
      "\n"
     ]
    },
    {
     "name": "stdout",
     "output_type": "stream",
     "text": [
      "   Language_name rand_effect_size max_voc_effect_size\n",
      "1            deu       -0.2014434          -0.2921636\n",
      "2            eng       -0.2136242          -0.2056120\n",
      "3            est       -0.1484433                  NA\n",
      "4            fas              NaN                  NA\n",
      "5            fra       -0.1424092                  NA\n",
      "6            hrv       -0.1661630                  NA\n",
      "7            jpn       -0.3211032                  NA\n",
      "8            kor       -0.2469108                  NA\n",
      "9            nor       -0.1823449                  NA\n",
      "10           pol              NaN                  NA\n",
      "11           por       -0.2390893                  NA\n",
      "12           spa       -0.2410338                  NA\n",
      "13           swe       -0.2695666                  NA\n",
      "14           zho              NaN                  NA\n"
     ]
    }
   ],
   "source": [
    "%%R -i eng\n",
    "\n",
    "lm3 <- lmer(num_tokens ~ contingent + (1|target_child_id) + (1|transcript_id),data=eng, REML= FALSE)\n",
    "emm3<-emmeans(lm3,pairwise~contingent)\n",
    "pval<-summary(emm3$contrasts)$p.value\n",
    "print(c(emm3$contrasts, pval))\n",
    "print(p.adjust(pval, \"holm\", 14))\n",
    "# summary(emmeans(lm3,\"contingent\",infer=TRUE)) #group means\n",
    "# test(contrast(emmeans(lm3,\"contingent\"), \"trt.vs.ctrl\"), joint = TRUE) #main effect - are any groups different\n",
    "\n",
    "eng_lname <- eng$language[1]\n",
    "\n",
    "eng_eff <- eff_size(emm3,sigma = sigma(lm3), edf = df.residual(lm3))\n",
    "\n",
    "eng_eff <- summary(eng_eff)$effect.size\n",
    "\n",
    "effect_sizes[effect_sizes$Language_name==eng_lname,\"max_voc_effect_size\"] <- eng_eff\n",
    "effect_sizes"
   ]
  },
  {
   "cell_type": "code",
   "execution_count": 10,
   "id": "3b479a13-6259-43f1-bcec-11559d703818",
   "metadata": {},
   "outputs": [
    {
     "name": "stderr",
     "output_type": "stream",
     "text": [
      "R[write to console]: boundary (singular) fit: see ?isSingular\n",
      "\n",
      "R[write to console]: boundary (singular) fit: see ?isSingular\n",
      "\n"
     ]
    },
    {
     "name": "stdout",
     "output_type": "stream",
     "text": [
      "[[1]]\n",
      " contrast                      estimate    SE   df t.ratio p.value\n",
      " contingent - (non-contingent)   -0.635 0.125 2063 -5.080  <.0001 \n",
      "\n",
      "Degrees-of-freedom method: kenward-roger \n",
      "\n",
      "[[2]]\n",
      "[1] 4.122348e-07\n",
      "\n",
      "[1] 5.771287e-06\n"
     ]
    },
    {
     "name": "stderr",
     "output_type": "stream",
     "text": [
      "R[write to console]: Since 'object' is a list, we are using the contrasts already present.\n",
      "\n"
     ]
    },
    {
     "name": "stdout",
     "output_type": "stream",
     "text": [
      "   Language_name rand_effect_size max_voc_effect_size\n",
      "1            deu       -0.2014434          -0.2921636\n",
      "2            eng       -0.2136242          -0.2056120\n",
      "3            est       -0.1484433          -0.2174693\n",
      "4            fas              NaN                  NA\n",
      "5            fra       -0.1424092                  NA\n",
      "6            hrv       -0.1661630                  NA\n",
      "7            jpn       -0.3211032                  NA\n",
      "8            kor       -0.2469108                  NA\n",
      "9            nor       -0.1823449                  NA\n",
      "10           pol              NaN                  NA\n",
      "11           por       -0.2390893                  NA\n",
      "12           spa       -0.2410338                  NA\n",
      "13           swe       -0.2695666                  NA\n",
      "14           zho              NaN                  NA\n"
     ]
    }
   ],
   "source": [
    "%%R -i est\n",
    "\n",
    "lm4 <- lmer(num_tokens ~ contingent + (1|target_child_id) + (1|transcript_id),data=est, REML= FALSE)\n",
    "emm4<-emmeans(lm4,pairwise~contingent)\n",
    "pval<-summary(emm4$contrasts)$p.value\n",
    "print(c(emm4$contrasts, pval))\n",
    "print(p.adjust(pval, \"holm\", 14))\n",
    "# summary(emmeans(lm4,\"contingent\",infer=TRUE)) #group means\n",
    "# test(contrast(emmeans(lm4,\"contingent\"), \"trt.vs.ctrl\"), joint = TRUE) #main effect - are any groups different\n",
    "\n",
    "est_lname <- est$language[1]\n",
    "\n",
    "est_eff <- eff_size(emm4,sigma = sigma(lm4), edf = df.residual(lm4))\n",
    "\n",
    "est_eff <- summary(est_eff)$effect.size\n",
    "\n",
    "effect_sizes[effect_sizes$Language_name==est_lname,\"max_voc_effect_size\"] <- est_eff\n",
    "effect_sizes"
   ]
  },
  {
   "cell_type": "code",
   "execution_count": 11,
   "id": "2780f759-edeb-4b36-a96f-d6aadcfa9b06",
   "metadata": {},
   "outputs": [
    {
     "name": "stdout",
     "output_type": "stream",
     "text": [
      "[[1]]\n",
      " contrast                      estimate    SE  df t.ratio p.value\n",
      " contingent - (non-contingent)   -0.477 0.189 540 -2.522  0.0120 \n",
      "\n",
      "Degrees-of-freedom method: kenward-roger \n",
      "\n",
      "[[2]]\n",
      "[1] 0.01196451\n",
      "\n",
      "[1] 0.1675032\n",
      "   Language_name rand_effect_size max_voc_effect_size\n",
      "1            deu       -0.2014434          -0.2921636\n",
      "2            eng       -0.2136242          -0.2056120\n",
      "3            est       -0.1484433          -0.2174693\n",
      "4            fas              NaN                 NaN\n",
      "5            fra       -0.1424092                  NA\n",
      "6            hrv       -0.1661630                  NA\n",
      "7            jpn       -0.3211032                  NA\n",
      "8            kor       -0.2469108                  NA\n",
      "9            nor       -0.1823449                  NA\n",
      "10           pol              NaN                  NA\n",
      "11           por       -0.2390893                  NA\n",
      "12           spa       -0.2410338                  NA\n",
      "13           swe       -0.2695666                  NA\n",
      "14           zho              NaN                  NA\n"
     ]
    }
   ],
   "source": [
    "%%R -i fas\n",
    "\n",
    "lm5 <- lmer(num_tokens ~ contingent + (1|transcript_id),data=fas, REML= FALSE)\n",
    "emm5<-emmeans(lm5,pairwise~contingent)\n",
    "pval<-summary(emm5$contrasts)$p.value\n",
    "print(c(emm5$contrasts, pval))\n",
    "print(p.adjust(pval, \"holm\", 14))\n",
    "# summary(emmeans(lm5,\"contingent\",infer=TRUE)) #group means\n",
    "# test(contrast(emmeans(lm5,\"contingent\"), \"trt.vs.ctrl\"), joint = TRUE) #main effect - are any groups different\n",
    "\n",
    "fas_lname <- fas$language[1]\n",
    "\n",
    "effect_sizes[effect_sizes$Language_name==fas_lname,\"max_voc_effect_size\"] <- NaN\n",
    "effect_sizes"
   ]
  },
  {
   "cell_type": "code",
   "execution_count": 12,
   "id": "15fd4978-a2ec-4cc3-b61d-cf160acd7c5c",
   "metadata": {},
   "outputs": [
    {
     "name": "stderr",
     "output_type": "stream",
     "text": [
      "R[write to console]: Note: D.f. calculations have been disabled because the number of observations exceeds 3000.\n",
      "To enable adjustments, add the argument 'pbkrtest.limit = 23322' (or larger)\n",
      "[or, globally, 'set emm_options(pbkrtest.limit = 23322)' or larger];\n",
      "but be warned that this may result in large computation time and memory use.\n",
      "\n",
      "R[write to console]: Note: D.f. calculations have been disabled because the number of observations exceeds 3000.\n",
      "To enable adjustments, add the argument 'lmerTest.limit = 23322' (or larger)\n",
      "[or, globally, 'set emm_options(lmerTest.limit = 23322)' or larger];\n",
      "but be warned that this may result in large computation time and memory use.\n",
      "\n"
     ]
    },
    {
     "name": "stdout",
     "output_type": "stream",
     "text": [
      "[[1]]\n",
      " contrast                      estimate     SE  df z.ratio p.value\n",
      " contingent - (non-contingent)   -0.368 0.0463 Inf -7.960  <.0001 \n",
      "\n",
      "Degrees-of-freedom method: asymptotic \n",
      "\n",
      "[[2]]\n",
      "[1] 1.724529e-15\n",
      "\n",
      "[1] 2.414341e-14\n"
     ]
    },
    {
     "name": "stderr",
     "output_type": "stream",
     "text": [
      "R[write to console]: Since 'object' is a list, we are using the contrasts already present.\n",
      "\n"
     ]
    },
    {
     "name": "stdout",
     "output_type": "stream",
     "text": [
      "   Language_name rand_effect_size max_voc_effect_size\n",
      "1            deu       -0.2014434          -0.2921636\n",
      "2            eng       -0.2136242          -0.2056120\n",
      "3            est       -0.1484433          -0.2174693\n",
      "4            fas              NaN                 NaN\n",
      "5            fra       -0.1424092          -0.1191522\n",
      "6            hrv       -0.1661630                  NA\n",
      "7            jpn       -0.3211032                  NA\n",
      "8            kor       -0.2469108                  NA\n",
      "9            nor       -0.1823449                  NA\n",
      "10           pol              NaN                  NA\n",
      "11           por       -0.2390893                  NA\n",
      "12           spa       -0.2410338                  NA\n",
      "13           swe       -0.2695666                  NA\n",
      "14           zho              NaN                  NA\n"
     ]
    }
   ],
   "source": [
    "%%R -i fra\n",
    "\n",
    "lm6 <- lmer(num_tokens ~ contingent + (1|target_child_id) + (1|transcript_id),data=fra, REML= FALSE)\n",
    "emm6<-emmeans(lm6,pairwise~contingent)\n",
    "pval<-summary(emm6$contrasts)$p.value\n",
    "print(c(emm6$contrasts, pval))\n",
    "print(p.adjust(pval, \"holm\", 14))\n",
    "# summary(emmeans(lm6,\"contingent\",infer=TRUE)) #group means\n",
    "# test(contrast(emmeans(lm6,\"contingent\"), \"trt.vs.ctrl\"), joint = TRUE) #main effect - are any groups different\n",
    "\n",
    "fra_lname <- fra$language[1]\n",
    "\n",
    "fra_eff <- eff_size(emm6,sigma = sigma(lm6), edf = df.residual(lm6))\n",
    "\n",
    "fra_eff <- summary(fra_eff)$effect.size\n",
    "\n",
    "effect_sizes[effect_sizes$Language_name==fra_lname,\"max_voc_effect_size\"] <- fra_eff\n",
    "effect_sizes"
   ]
  },
  {
   "cell_type": "code",
   "execution_count": 13,
   "id": "54ee7188-b788-4b19-84ae-1f5f194c6d8f",
   "metadata": {},
   "outputs": [
    {
     "name": "stderr",
     "output_type": "stream",
     "text": [
      "R[write to console]: Note: D.f. calculations have been disabled because the number of observations exceeds 3000.\n",
      "To enable adjustments, add the argument 'pbkrtest.limit = 6713' (or larger)\n",
      "[or, globally, 'set emm_options(pbkrtest.limit = 6713)' or larger];\n",
      "but be warned that this may result in large computation time and memory use.\n",
      "\n",
      "R[write to console]: Note: D.f. calculations have been disabled because the number of observations exceeds 3000.\n",
      "To enable adjustments, add the argument 'lmerTest.limit = 6713' (or larger)\n",
      "[or, globally, 'set emm_options(lmerTest.limit = 6713)' or larger];\n",
      "but be warned that this may result in large computation time and memory use.\n",
      "\n"
     ]
    },
    {
     "name": "stdout",
     "output_type": "stream",
     "text": [
      "[[1]]\n",
      " contrast                      estimate     SE  df z.ratio p.value\n",
      " contingent - (non-contingent)   -0.464 0.0673 Inf -6.901  <.0001 \n",
      "\n",
      "Degrees-of-freedom method: asymptotic \n",
      "\n",
      "[[2]]\n",
      "[1] 5.156291e-12\n",
      "\n",
      "[1] 7.218807e-11\n"
     ]
    },
    {
     "name": "stderr",
     "output_type": "stream",
     "text": [
      "R[write to console]: Since 'object' is a list, we are using the contrasts already present.\n",
      "\n"
     ]
    },
    {
     "name": "stdout",
     "output_type": "stream",
     "text": [
      "   Language_name rand_effect_size max_voc_effect_size\n",
      "1            deu       -0.2014434          -0.2921636\n",
      "2            eng       -0.2136242          -0.2056120\n",
      "3            est       -0.1484433          -0.2174693\n",
      "4            fas              NaN                 NaN\n",
      "5            fra       -0.1424092          -0.1191522\n",
      "6            hrv       -0.1661630          -0.1725226\n",
      "7            jpn       -0.3211032                  NA\n",
      "8            kor       -0.2469108                  NA\n",
      "9            nor       -0.1823449                  NA\n",
      "10           pol              NaN                  NA\n",
      "11           por       -0.2390893                  NA\n",
      "12           spa       -0.2410338                  NA\n",
      "13           swe       -0.2695666                  NA\n",
      "14           zho              NaN                  NA\n"
     ]
    }
   ],
   "source": [
    "%%R -i hrv\n",
    "\n",
    "lm7 <- lmer(num_tokens ~ contingent + (1|target_child_id) + (1|transcript_id),data=hrv, REML= FALSE)\n",
    "emm7<-emmeans(lm7,pairwise~contingent)\n",
    "pval<-summary(emm7$contrasts)$p.value\n",
    "print(c(emm7$contrasts, pval))\n",
    "print(p.adjust(pval, \"holm\", 14))\n",
    "# summary(emmeans(lm7,\"contingent\",infer=TRUE)) #group means\n",
    "# test(contrast(emmeans(lm7,\"contingent\"), \"trt.vs.ctrl\"), joint = TRUE) #main effect - are any groups different\n",
    "\n",
    "hrv_lname <- hrv$language[1]\n",
    "\n",
    "hrv_eff <- eff_size(emm7,sigma = sigma(lm7), edf = df.residual(lm7))\n",
    "\n",
    "hrv_eff <- summary(hrv_eff)$effect.size\n",
    "\n",
    "effect_sizes[effect_sizes$Language_name==hrv_lname,\"max_voc_effect_size\"] <- hrv_eff\n",
    "effect_sizes"
   ]
  },
  {
   "cell_type": "code",
   "execution_count": 14,
   "id": "3d05d5d7-729c-4ed1-8290-2c98e9622001",
   "metadata": {},
   "outputs": [
    {
     "name": "stderr",
     "output_type": "stream",
     "text": [
      "R[write to console]: Note: D.f. calculations have been disabled because the number of observations exceeds 3000.\n",
      "To enable adjustments, add the argument 'pbkrtest.limit = 22539' (or larger)\n",
      "[or, globally, 'set emm_options(pbkrtest.limit = 22539)' or larger];\n",
      "but be warned that this may result in large computation time and memory use.\n",
      "\n",
      "R[write to console]: Note: D.f. calculations have been disabled because the number of observations exceeds 3000.\n",
      "To enable adjustments, add the argument 'lmerTest.limit = 22539' (or larger)\n",
      "[or, globally, 'set emm_options(lmerTest.limit = 22539)' or larger];\n",
      "but be warned that this may result in large computation time and memory use.\n",
      "\n"
     ]
    },
    {
     "name": "stdout",
     "output_type": "stream",
     "text": [
      "[[1]]\n",
      " contrast                      estimate     SE  df z.ratio p.value\n",
      " contingent - (non-contingent)   -0.566 0.0255 Inf -22.141 <.0001 \n",
      "\n",
      "Degrees-of-freedom method: asymptotic \n",
      "\n",
      "[[2]]\n",
      "[1] 1.268781e-108\n",
      "\n",
      "[1] 1.776294e-107\n"
     ]
    },
    {
     "name": "stderr",
     "output_type": "stream",
     "text": [
      "R[write to console]: Since 'object' is a list, we are using the contrasts already present.\n",
      "\n"
     ]
    },
    {
     "name": "stdout",
     "output_type": "stream",
     "text": [
      "   Language_name rand_effect_size max_voc_effect_size\n",
      "1            deu       -0.2014434          -0.2921636\n",
      "2            eng       -0.2136242          -0.2056120\n",
      "3            est       -0.1484433          -0.2174693\n",
      "4            fas              NaN                 NaN\n",
      "5            fra       -0.1424092          -0.1191522\n",
      "6            hrv       -0.1661630          -0.1725226\n",
      "7            jpn       -0.3211032          -0.3044613\n",
      "8            kor       -0.2469108                  NA\n",
      "9            nor       -0.1823449                  NA\n",
      "10           pol              NaN                  NA\n",
      "11           por       -0.2390893                  NA\n",
      "12           spa       -0.2410338                  NA\n",
      "13           swe       -0.2695666                  NA\n",
      "14           zho              NaN                  NA\n"
     ]
    }
   ],
   "source": [
    "%%R -i jpn\n",
    "\n",
    "lm8 <- lmer(num_tokens ~ contingent + (1|target_child_id) + (1|transcript_id),data=jpn, REML= FALSE)\n",
    "emm8<-emmeans(lm8,pairwise~contingent)\n",
    "pval<-summary(emm8$contrasts)$p.value\n",
    "print(c(emm8$contrasts, pval))\n",
    "print(p.adjust(pval, \"holm\", 14))\n",
    "# summary(emmeans(lm8,\"contingent\",infer=TRUE)) #group means\n",
    "# test(contrast(emmeans(lm8,\"contingent\"), \"trt.vs.ctrl\"), joint = TRUE) #main effect - are any groups different\n",
    "\n",
    "jpn_lname <- jpn$language[1]\n",
    "\n",
    "jpn_eff <- eff_size(emm8,sigma = sigma(lm8), edf = df.residual(lm8))\n",
    "\n",
    "jpn_eff <- summary(jpn_eff)$effect.size\n",
    "\n",
    "effect_sizes[effect_sizes$Language_name==jpn_lname,\"max_voc_effect_size\"] <- jpn_eff\n",
    "effect_sizes"
   ]
  },
  {
   "cell_type": "code",
   "execution_count": 15,
   "id": "d826c63c-0b8c-4638-a265-8244556f10b1",
   "metadata": {},
   "outputs": [
    {
     "name": "stderr",
     "output_type": "stream",
     "text": [
      "R[write to console]: Note: D.f. calculations have been disabled because the number of observations exceeds 3000.\n",
      "To enable adjustments, add the argument 'pbkrtest.limit = 4722' (or larger)\n",
      "[or, globally, 'set emm_options(pbkrtest.limit = 4722)' or larger];\n",
      "but be warned that this may result in large computation time and memory use.\n",
      "\n",
      "R[write to console]: Note: D.f. calculations have been disabled because the number of observations exceeds 3000.\n",
      "To enable adjustments, add the argument 'lmerTest.limit = 4722' (or larger)\n",
      "[or, globally, 'set emm_options(lmerTest.limit = 4722)' or larger];\n",
      "but be warned that this may result in large computation time and memory use.\n",
      "\n"
     ]
    },
    {
     "name": "stdout",
     "output_type": "stream",
     "text": [
      "[[1]]\n",
      " contrast                      estimate     SE  df z.ratio p.value\n",
      " contingent - (non-contingent)   -0.572 0.0649 Inf -8.819  <.0001 \n",
      "\n",
      "Degrees-of-freedom method: asymptotic \n",
      "\n",
      "[[2]]\n",
      "[1] 1.16e-18\n",
      "\n",
      "[1] 1.624e-17\n"
     ]
    },
    {
     "name": "stderr",
     "output_type": "stream",
     "text": [
      "R[write to console]: Since 'object' is a list, we are using the contrasts already present.\n",
      "\n"
     ]
    },
    {
     "name": "stdout",
     "output_type": "stream",
     "text": [
      "   Language_name rand_effect_size max_voc_effect_size\n",
      "1            deu       -0.2014434          -0.2921636\n",
      "2            eng       -0.2136242          -0.2056120\n",
      "3            est       -0.1484433          -0.2174693\n",
      "4            fas              NaN                 NaN\n",
      "5            fra       -0.1424092          -0.1191522\n",
      "6            hrv       -0.1661630          -0.1725226\n",
      "7            jpn       -0.3211032          -0.3044613\n",
      "8            kor       -0.2469108          -0.2712496\n",
      "9            nor       -0.1823449                  NA\n",
      "10           pol              NaN                  NA\n",
      "11           por       -0.2390893                  NA\n",
      "12           spa       -0.2410338                  NA\n",
      "13           swe       -0.2695666                  NA\n",
      "14           zho              NaN                  NA\n"
     ]
    }
   ],
   "source": [
    "%%R -i kor\n",
    "\n",
    "lm9 <- lmer(num_tokens ~ contingent + (1|transcript_id), data=kor, REML= FALSE)\n",
    "emm9<-emmeans(lm9,pairwise~contingent)\n",
    "pval<-summary(emm9$contrasts)$p.value\n",
    "print(c(emm9$contrasts, pval))\n",
    "print(p.adjust(pval, \"holm\", 14))\n",
    "# summary(emmeans(lm9,\"contingent\",infer=TRUE)) #group means\n",
    "# test(contrast(emmeans(lm9,\"contingent\"), \"trt.vs.ctrl\"), joint = TRUE) #main effect - are any groups different\n",
    "\n",
    "kor_lname <- kor$language[1]\n",
    "\n",
    "kor_eff <- eff_size(emm9,sigma = sigma(lm9), edf = df.residual(lm9))\n",
    "\n",
    "kor_eff <- summary(kor_eff)$effect.size\n",
    "\n",
    "effect_sizes[effect_sizes$Language_name==kor_lname,\"max_voc_effect_size\"] <- kor_eff\n",
    "effect_sizes"
   ]
  },
  {
   "cell_type": "code",
   "execution_count": 16,
   "id": "c562621f-1adc-4a21-979c-95f13d86f57e",
   "metadata": {},
   "outputs": [
    {
     "name": "stderr",
     "output_type": "stream",
     "text": [
      "R[write to console]: boundary (singular) fit: see ?isSingular\n",
      "\n"
     ]
    },
    {
     "name": "stdout",
     "output_type": "stream",
     "text": [
      "[[1]]\n",
      " contrast                      estimate    SE   df t.ratio p.value\n",
      " contingent - (non-contingent)   -0.743 0.133 2109 -5.605  <.0001 \n",
      "\n",
      "Degrees-of-freedom method: kenward-roger \n",
      "\n",
      "[[2]]\n",
      "[1] 2.358735e-08\n",
      "\n",
      "[1] 3.302228e-07\n"
     ]
    },
    {
     "name": "stderr",
     "output_type": "stream",
     "text": [
      "R[write to console]: Since 'object' is a list, we are using the contrasts already present.\n",
      "\n"
     ]
    },
    {
     "name": "stdout",
     "output_type": "stream",
     "text": [
      "   Language_name rand_effect_size max_voc_effect_size\n",
      "1            deu       -0.2014434          -0.2921636\n",
      "2            eng       -0.2136242          -0.2056120\n",
      "3            est       -0.1484433          -0.2174693\n",
      "4            fas              NaN                 NaN\n",
      "5            fra       -0.1424092          -0.1191522\n",
      "6            hrv       -0.1661630          -0.1725226\n",
      "7            jpn       -0.3211032          -0.3044613\n",
      "8            kor       -0.2469108          -0.2712496\n",
      "9            nor       -0.1823449          -0.2682480\n",
      "10           pol              NaN                  NA\n",
      "11           por       -0.2390893                  NA\n",
      "12           spa       -0.2410338                  NA\n",
      "13           swe       -0.2695666                  NA\n",
      "14           zho              NaN                  NA\n"
     ]
    }
   ],
   "source": [
    "%%R -i nor\n",
    "\n",
    "lm10 <- lmer(num_tokens ~ contingent + (1|target_child_id) + (1|transcript_id),data=nor, REML= FALSE)\n",
    "emm10<-emmeans(lm10,pairwise~contingent)\n",
    "pval<-summary(emm10$contrasts)$p.value\n",
    "print(c(emm10$contrasts, pval))\n",
    "print(p.adjust(pval, \"holm\", 14))\n",
    "# summary(emmeans(lm10,\"contingent\",infer=TRUE)) #group means\n",
    "# test(contrast(emmeans(lm10,\"contingent\"), \"trt.vs.ctrl\"), joint = TRUE) #main effect - are any groups different\n",
    "\n",
    "nor_lname <- nor$language[1]\n",
    "\n",
    "nor_eff <- eff_size(emm10,sigma = sigma(lm10), edf = df.residual(lm10))\n",
    "\n",
    "nor_eff <- summary(nor_eff)$effect.size\n",
    "\n",
    "effect_sizes[effect_sizes$Language_name==nor_lname,\"max_voc_effect_size\"] <- nor_eff\n",
    "effect_sizes"
   ]
  },
  {
   "cell_type": "code",
   "execution_count": 17,
   "id": "1b95bea5-ba75-4c2c-ac04-1ce110d4301b",
   "metadata": {},
   "outputs": [
    {
     "name": "stdout",
     "output_type": "stream",
     "text": [
      "[[1]]\n",
      " contrast                      estimate    SE  df t.ratio p.value\n",
      " contingent - (non-contingent)   -0.368 0.382 100 -0.963  0.3378 \n",
      "\n",
      "\n",
      "[[2]]\n",
      "[1] 0.3378332\n",
      "\n",
      "[1] 1\n",
      "   Language_name rand_effect_size max_voc_effect_size\n",
      "1            deu       -0.2014434          -0.2921636\n",
      "2            eng       -0.2136242          -0.2056120\n",
      "3            est       -0.1484433          -0.2174693\n",
      "4            fas              NaN                 NaN\n",
      "5            fra       -0.1424092          -0.1191522\n",
      "6            hrv       -0.1661630          -0.1725226\n",
      "7            jpn       -0.3211032          -0.3044613\n",
      "8            kor       -0.2469108          -0.2712496\n",
      "9            nor       -0.1823449          -0.2682480\n",
      "10           pol              NaN                 NaN\n",
      "11           por       -0.2390893                  NA\n",
      "12           spa       -0.2410338                  NA\n",
      "13           swe       -0.2695666                  NA\n",
      "14           zho              NaN                  NA\n"
     ]
    }
   ],
   "source": [
    "%%R -i pol\n",
    "\n",
    "# simple linear model (no random effects, because only 1 transcript from 1 sub)\n",
    "\n",
    "lm11 <- lm(num_tokens ~ contingent ,data=pol, REML= FALSE)\n",
    "emm11<-emmeans(lm11,pairwise~contingent)\n",
    "pval<-summary(emm11$contrasts)$p.value\n",
    "print(c(emm11$contrasts, pval))\n",
    "print(p.adjust(pval, \"holm\", 14))\n",
    "# summary(emmeans(lm11,\"contingent\",infer=TRUE)) #group means\n",
    "# test(contrast(emmeans(lm11,\"contingent\"), \"trt.vs.ctrl\"), joint = TRUE) #main effect - are any groups different\n",
    "\n",
    "pol_lname <- pol$language[1]\n",
    "\n",
    "\n",
    "effect_sizes[effect_sizes$Language_name==pol_lname,\"max_voc_effect_size\"] <- NaN\n",
    "effect_sizes"
   ]
  },
  {
   "cell_type": "code",
   "execution_count": 18,
   "id": "d1fa44af-915f-450e-9d9c-f8a4fe91642a",
   "metadata": {},
   "outputs": [
    {
     "name": "stdout",
     "output_type": "stream",
     "text": [
      "[[1]]\n",
      " contrast                      estimate    SE   df t.ratio p.value\n",
      " contingent - (non-contingent)   -0.831 0.107 2820 -7.758  <.0001 \n",
      "\n",
      "Degrees-of-freedom method: kenward-roger \n",
      "\n",
      "[[2]]\n",
      "[1] 1.200582e-14\n",
      "\n",
      "[1] 1.680815e-13\n"
     ]
    },
    {
     "name": "stderr",
     "output_type": "stream",
     "text": [
      "R[write to console]: Since 'object' is a list, we are using the contrasts already present.\n",
      "\n"
     ]
    },
    {
     "name": "stdout",
     "output_type": "stream",
     "text": [
      "   Language_name rand_effect_size max_voc_effect_size\n",
      "1            deu       -0.2014434          -0.2921636\n",
      "2            eng       -0.2136242          -0.2056120\n",
      "3            est       -0.1484433          -0.2174693\n",
      "4            fas              NaN                 NaN\n",
      "5            fra       -0.1424092          -0.1191522\n",
      "6            hrv       -0.1661630          -0.1725226\n",
      "7            jpn       -0.3211032          -0.3044613\n",
      "8            kor       -0.2469108          -0.2712496\n",
      "9            nor       -0.1823449          -0.2682480\n",
      "10           pol              NaN                 NaN\n",
      "11           por       -0.2390893          -0.2981426\n",
      "12           spa       -0.2410338                  NA\n",
      "13           swe       -0.2695666                  NA\n",
      "14           zho              NaN                  NA\n"
     ]
    }
   ],
   "source": [
    "%%R -i por\n",
    "\n",
    "lm12 <- lmer(num_tokens ~ contingent + (1|target_child_id) + (1|transcript_id),data=por, REML= FALSE)\n",
    "emm12<-emmeans(lm12,pairwise~contingent)\n",
    "pval<-summary(emm12$contrasts)$p.value\n",
    "print(c(emm12$contrasts, pval))\n",
    "print(p.adjust(pval, \"holm\", 14))\n",
    "# summary(emmeans(lm12,\"contingent\",infer=TRUE)) #group means\n",
    "# test(contrast(emmeans(lm12,\"contingent\"), \"trt.vs.ctrl\"), joint = TRUE) #main effect - are any groups different\n",
    "\n",
    "por_lname <- por$language[1]\n",
    "\n",
    "por_eff <- eff_size(emm12,sigma = sigma(lm12), edf = df.residual(lm12))\n",
    "\n",
    "por_eff <- summary(por_eff)$effect.size\n",
    "\n",
    "effect_sizes[effect_sizes$Language_name==por_lname,\"max_voc_effect_size\"] <- por_eff\n",
    "effect_sizes"
   ]
  },
  {
   "cell_type": "code",
   "execution_count": 19,
   "id": "2a1a498b-7d06-4403-b99d-dd5490ad881c",
   "metadata": {},
   "outputs": [
    {
     "name": "stderr",
     "output_type": "stream",
     "text": [
      "R[write to console]: Note: D.f. calculations have been disabled because the number of observations exceeds 3000.\n",
      "To enable adjustments, add the argument 'pbkrtest.limit = 4916' (or larger)\n",
      "[or, globally, 'set emm_options(pbkrtest.limit = 4916)' or larger];\n",
      "but be warned that this may result in large computation time and memory use.\n",
      "\n",
      "R[write to console]: Note: D.f. calculations have been disabled because the number of observations exceeds 3000.\n",
      "To enable adjustments, add the argument 'lmerTest.limit = 4916' (or larger)\n",
      "[or, globally, 'set emm_options(lmerTest.limit = 4916)' or larger];\n",
      "but be warned that this may result in large computation time and memory use.\n",
      "\n"
     ]
    },
    {
     "name": "stdout",
     "output_type": "stream",
     "text": [
      "[[1]]\n",
      " contrast                      estimate     SE  df z.ratio p.value\n",
      " contingent - (non-contingent)   -0.543 0.0679 Inf -7.990  <.0001 \n",
      "\n",
      "Degrees-of-freedom method: asymptotic \n",
      "\n",
      "[[2]]\n",
      "[1] 1.35346e-15\n",
      "\n",
      "[1] 1.894844e-14\n"
     ]
    },
    {
     "name": "stderr",
     "output_type": "stream",
     "text": [
      "R[write to console]: Since 'object' is a list, we are using the contrasts already present.\n",
      "\n"
     ]
    },
    {
     "name": "stdout",
     "output_type": "stream",
     "text": [
      "   Language_name rand_effect_size max_voc_effect_size\n",
      "1            deu       -0.2014434          -0.2921636\n",
      "2            eng       -0.2136242          -0.2056120\n",
      "3            est       -0.1484433          -0.2174693\n",
      "4            fas              NaN                 NaN\n",
      "5            fra       -0.1424092          -0.1191522\n",
      "6            hrv       -0.1661630          -0.1725226\n",
      "7            jpn       -0.3211032          -0.3044613\n",
      "8            kor       -0.2469108          -0.2712496\n",
      "9            nor       -0.1823449          -0.2682480\n",
      "10           pol              NaN                 NaN\n",
      "11           por       -0.2390893          -0.2981426\n",
      "12           spa       -0.2410338          -0.2353482\n",
      "13           swe       -0.2695666                  NA\n",
      "14           zho              NaN                  NA\n"
     ]
    }
   ],
   "source": [
    "%%R -i spa\n",
    "\n",
    "lm13 <- lmer(num_tokens ~ contingent + (1|target_child_id) + (1|transcript_id),data=spa, REML= FALSE)\n",
    "emm13<-emmeans(lm13,pairwise~contingent)\n",
    "pval<-summary(emm13$contrasts)$p.value\n",
    "print(c(emm13$contrasts, pval))\n",
    "print(p.adjust(pval, \"holm\", 14))\n",
    "# summary(emmeans(lm13,\"contingent\",infer=TRUE)) #group means\n",
    "# test(contrast(emmeans(lm13,\"contingent\"), \"trt.vs.ctrl\"), joint = TRUE) #main effect - are any groups different\n",
    "\n",
    "spa_lname <- spa$language[1]\n",
    "\n",
    "spa_eff <- eff_size(emm13,sigma = sigma(lm13), edf = df.residual(lm13))\n",
    "\n",
    "spa_eff <- summary(spa_eff)$effect.size\n",
    "\n",
    "effect_sizes[effect_sizes$Language_name==spa_lname,\"max_voc_effect_size\"] <- spa_eff\n",
    "effect_sizes"
   ]
  },
  {
   "cell_type": "code",
   "execution_count": 20,
   "id": "e4bf1d5b-1698-4d2d-bfcf-15679868a377",
   "metadata": {},
   "outputs": [
    {
     "name": "stdout",
     "output_type": "stream",
     "text": [
      "[[1]]\n",
      " contrast                      estimate     SE   df t.ratio p.value\n",
      " contingent - (non-contingent)   -0.612 0.0925 2758 -6.612  <.0001 \n",
      "\n",
      "Degrees-of-freedom method: kenward-roger \n",
      "\n",
      "[[2]]\n",
      "[1] 4.522597e-11\n",
      "\n",
      "[1] 6.331636e-10\n"
     ]
    },
    {
     "name": "stderr",
     "output_type": "stream",
     "text": [
      "R[write to console]: Since 'object' is a list, we are using the contrasts already present.\n",
      "\n"
     ]
    },
    {
     "name": "stdout",
     "output_type": "stream",
     "text": [
      "   Language_name rand_effect_size max_voc_effect_size\n",
      "1            deu       -0.2014434          -0.2921636\n",
      "2            eng       -0.2136242          -0.2056120\n",
      "3            est       -0.1484433          -0.2174693\n",
      "4            fas              NaN                 NaN\n",
      "5            fra       -0.1424092          -0.1191522\n",
      "6            hrv       -0.1661630          -0.1725226\n",
      "7            jpn       -0.3211032          -0.3044613\n",
      "8            kor       -0.2469108          -0.2712496\n",
      "9            nor       -0.1823449          -0.2682480\n",
      "10           pol              NaN                 NaN\n",
      "11           por       -0.2390893          -0.2981426\n",
      "12           spa       -0.2410338          -0.2353482\n",
      "13           swe       -0.2695666          -0.2685154\n",
      "14           zho              NaN                  NA\n"
     ]
    }
   ],
   "source": [
    "%%R -i swe\n",
    "\n",
    "lm14 <- lmer(num_tokens ~ contingent + (1|target_child_id) + (1|transcript_id),data=swe, REML= FALSE)\n",
    "emm14<-emmeans(lm14,pairwise~contingent)\n",
    "pval<-summary(emm14$contrasts)$p.value\n",
    "print(c(emm14$contrasts, pval))\n",
    "print(p.adjust(pval, \"holm\", 14))\n",
    "# summary(emmeans(lm14,\"contingent\",infer=TRUE)) #group means\n",
    "# test(contrast(emmeans(lm14,\"contingent\"), \"trt.vs.ctrl\"), joint = TRUE) #main effect - are any groups different\n",
    "\n",
    "swe_lname <- swe$language[1]\n",
    "\n",
    "swe_eff <- eff_size(emm14,sigma = sigma(lm14), edf = df.residual(lm14))\n",
    "\n",
    "swe_eff <- summary(swe_eff)$effect.size\n",
    "\n",
    "effect_sizes[effect_sizes$Language_name==swe_lname,\"max_voc_effect_size\"] <- swe_eff\n",
    "effect_sizes"
   ]
  },
  {
   "cell_type": "code",
   "execution_count": 21,
   "id": "13e9fa26-95b4-4bab-ac29-93a2f1bfc083",
   "metadata": {},
   "outputs": [
    {
     "name": "stdout",
     "output_type": "stream",
     "text": [
      "[[1]]\n",
      " contrast                      estimate   SE  df t.ratio p.value\n",
      " contingent - (non-contingent)   -0.665 0.27 333 -2.464  0.0142 \n",
      "\n",
      "Degrees-of-freedom method: kenward-roger \n",
      "\n",
      "[[2]]\n",
      "[1] 0.01423914\n",
      "\n",
      "[1] 0.1993479\n",
      "   Language_name rand_effect_size max_voc_effect_size\n",
      "1            deu       -0.2014434          -0.2921636\n",
      "2            eng       -0.2136242          -0.2056120\n",
      "3            est       -0.1484433          -0.2174693\n",
      "4            fas              NaN                 NaN\n",
      "5            fra       -0.1424092          -0.1191522\n",
      "6            hrv       -0.1661630          -0.1725226\n",
      "7            jpn       -0.3211032          -0.3044613\n",
      "8            kor       -0.2469108          -0.2712496\n",
      "9            nor       -0.1823449          -0.2682480\n",
      "10           pol              NaN                 NaN\n",
      "11           por       -0.2390893          -0.2981426\n",
      "12           spa       -0.2410338          -0.2353482\n",
      "13           swe       -0.2695666          -0.2685154\n",
      "14           zho              NaN                 NaN\n"
     ]
    }
   ],
   "source": [
    "%%R -i zho\n",
    "\n",
    "lm15 <- lmer(num_tokens ~ contingent + (1|transcript_id),data=zho, REML= FALSE)\n",
    "emm15<-emmeans(lm15,pairwise~contingent)\n",
    "pval<-summary(emm15$contrasts)$p.value\n",
    "print(c(emm15$contrasts, pval))\n",
    "print(p.adjust(pval, \"holm\", 14))\n",
    "# summary(emmeans(lm15,\"contingent\",infer=TRUE)) #group means\n",
    "# test(contrast(emmeans(lm15,\"contingent\"), \"trt.vs.ctrl\"), joint = TRUE) #main effect - are any groups different\n",
    "\n",
    "zho_lname <- zho$language[1]\n",
    "\n",
    "effect_sizes[effect_sizes$Language_name==zho_lname,\"max_voc_effect_size\"] <- NaN\n",
    "effect_sizes"
   ]
  },
  {
   "cell_type": "code",
   "execution_count": 22,
   "id": "8328a273-d614-4497-bb30-28b850ed2c97",
   "metadata": {},
   "outputs": [],
   "source": [
    "%%R\n",
    "write.csv(x=effect_sizes,'../data/MLUw_effect_sizes.csv', row.names = FALSE)"
   ]
  },
  {
   "cell_type": "code",
   "execution_count": null,
   "id": "161b78e7-2a1e-423d-b317-f08dcbe1b608",
   "metadata": {},
   "outputs": [],
   "source": []
  }
 ],
 "metadata": {
  "kernelspec": {
   "display_name": "Python 3",
   "language": "python",
   "name": "python3"
  },
  "language_info": {
   "codemirror_mode": {
    "name": "ipython",
    "version": 3
   },
   "file_extension": ".py",
   "mimetype": "text/x-python",
   "name": "python",
   "nbconvert_exporter": "python",
   "pygments_lexer": "ipython3",
   "version": "3.8.10"
  }
 },
 "nbformat": 4,
 "nbformat_minor": 5
}
